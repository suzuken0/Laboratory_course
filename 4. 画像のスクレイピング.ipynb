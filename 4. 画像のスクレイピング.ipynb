{
  "nbformat": 4,
  "nbformat_minor": 0,
  "metadata": {
    "colab": {
      "name": "Untitled17.ipynb",
      "provenance": [],
      "toc_visible": true,
      "include_colab_link": true
    },
    "kernelspec": {
      "name": "python3",
      "display_name": "Python 3"
    }
  },
  "cells": [
    {
      "cell_type": "markdown",
      "metadata": {
        "id": "view-in-github",
        "colab_type": "text"
      },
      "source": [
        "<a href=\"https://colab.research.google.com/github/ykitaguchi77/Laboratory_course/blob/master/4.%20%E7%94%BB%E5%83%8F%E3%81%AE%E3%82%B9%E3%82%AF%E3%83%AC%E3%82%A4%E3%83%94%E3%83%B3%E3%82%B0.ipynb\" target=\"_parent\"><img src=\"https://colab.research.google.com/assets/colab-badge.svg\" alt=\"Open In Colab\"/></a>"
      ]
    },
    {
      "cell_type": "markdown",
      "metadata": {
        "id": "57FBL-0R_hj3"
      },
      "source": [
        "#Google検索から画像をスクレイピングする"
      ]
    },
    {
      "cell_type": "markdown",
      "source": [
        "Chromedriverをインストール"
      ],
      "metadata": {
        "id": "QhvTeU83O7JV"
      }
    },
    {
      "cell_type": "code",
      "source": [
        "!apt-get update\n",
        "!apt install chromium-chromedriver\n",
        "!cp /usr/lib/chromium-browser/chromedriver /usr/bin\n",
        "!pip install selenium==4.1.0 #新しいバージョンだとエラーが出るので旧バージョンにする"
      ],
      "metadata": {
        "id": "2wHV_jLcOb8r"
      },
      "execution_count": null,
      "outputs": []
    },
    {
      "cell_type": "markdown",
      "metadata": {
        "id": "BuN9SQ7QdknF"
      },
      "source": [
        "google_images_dowloadをインストール"
      ]
    },
    {
      "cell_type": "code",
      "metadata": {
        "id": "55aQWcNSc6dU"
      },
      "source": [
        "#今はエラーになるので下記のパッチを用いる\n",
        "#!pip install google_images_download\n",
        "\n",
        "!pip uninstall google_images_download\n",
        "!git clone https://github.com/Joeclinton1/google-images-download.git\n",
        "%cd google-images-download\n",
        "!python setup.py install"
      ],
      "execution_count": null,
      "outputs": []
    },
    {
      "cell_type": "markdown",
      "metadata": {
        "id": "Tc1vHuSFd3us"
      },
      "source": [
        "# **スクレイピングする**"
      ]
    },
    {
      "cell_type": "code",
      "source": [
        "from google.colab import drive\n",
        "drive.mount('/content/drive')"
      ],
      "metadata": {
        "id": "sGOyzNkQTrcD"
      },
      "execution_count": null,
      "outputs": []
    },
    {
      "cell_type": "markdown",
      "source": [
        "## Goodle drive内にダウンロードする場合"
      ],
      "metadata": {
        "id": "y-86gr3ZTyuE"
      }
    },
    {
      "cell_type": "code",
      "metadata": {
        "id": "Nh2XFoQ-cB_V",
        "colab": {
          "base_uri": "https://localhost:8080/",
          "height": 230
        },
        "outputId": "25f642cc-f4e5-4d0b-a6ac-b72a0d76ac0e"
      },
      "source": [
        "from google_images_download import google_images_download\n",
        "response = google_images_download.googleimagesdownload()\n",
        "\n",
        "response.download({\n",
        "    \"keywords\": \"イチゴ\",\n",
        "    \"limit\": 3,\n",
        "    \"no_numbering\": True,\n",
        "    \"output_directory\": \"/content/drive/My Drive/AI_laboratory_course/images\",\n",
        "    \"image_directory\": \"strawberry\",\n",
        "    \"format\": \"jpg\" or \"jpeg\",\n",
        "    \"print_urls\": False,\n",
        "    \"chromedriver\": \"/usr/lib/chromium-browser/chromedriver\"  #chromedriverをダウンロードして指定の場所に置いておく\n",
        "    })\n",
        "\n",
        "\n",
        "response.download({\n",
        "    \"keywords\": \"リンゴ\",\n",
        "    \"limit\": 3,\n",
        "    \"no_numbering\": True,\n",
        "    \"output_directory\": \"/content/drive/My Drive/AI_laboratory_course/images\",\n",
        "    \"image_directory\": \"apple\",\n",
        "    \"print_urls\": False,\n",
        "    \"format\": \"jpg\" or \"jpeg\",\n",
        "     \"chromedriver\": \"/usr/lib/chromium-browser/chromedriver\"\n",
        "    })"
      ],
      "execution_count": null,
      "outputs": [
        {
          "output_type": "stream",
          "text": [
            "\n",
            "Item no.: 1 --> Item name = \\u30a4\\u30c1\\u30b4\n",
            "Evaluating...\n",
            "Starting Download...\n",
            "Completed Image ====> 1.02215_2007_0315_IMG_1544.jpg\n",
            "Completed Image ====> 2.c61aa8590d330141d2d914da5273b9cf_m-1400x933.jpg\n",
            "Completed Image ====> 3.53S.jpg\n",
            "\n",
            "Errors: 0\n",
            "\n"
          ],
          "name": "stdout"
        },
        {
          "output_type": "execute_result",
          "data": {
            "text/plain": [
              "'\\nresponse.download({\\n    \"keywords\": \"リンゴ\",\\n    \"limit\": 500,\\n    \"no_numbering\": True,\\n    \"output_directory\": \"images\",\\n    \"image_directory\": \"apple\",\\n    \"print_urls\": False,\\n    \"format\": \"jpg\" or \"jpeg\",\\n    \"chromedriver\": r\"C:\\\\Users\\\\ykita\\\\python\\\\chromedriver.exe\"\\n    })\\n'"
            ]
          },
          "metadata": {
            "tags": []
          },
          "execution_count": 5
        }
      ]
    },
    {
      "cell_type": "markdown",
      "source": [
        "## Contentフォルダにダウンロードする場合"
      ],
      "metadata": {
        "id": "RM1PMAFpUFP1"
      }
    },
    {
      "cell_type": "code",
      "source": [
        "from google_images_download import google_images_download\n",
        "response = google_images_download.googleimagesdownload()\n",
        "\n",
        "response.download({\n",
        "    \"keywords\": \"イチゴ\",\n",
        "    \"limit\": 3,\n",
        "    \"no_numbering\": True,\n",
        "    \"output_directory\": \"/content\",\n",
        "    \"image_directory\": \"strawberry\",\n",
        "    \"format\": \"jpg\" or \"jpeg\",\n",
        "    \"print_urls\": False,\n",
        "    \"chromedriver\": \"/usr/lib/chromium-browser/chromedriver  #chromedriverをダウンロードして指定の場所に置いておく\n",
        "    })\n",
        "\n",
        "\n",
        "response.download({\n",
        "    \"keywords\": \"リンゴ\",\n",
        "    \"limit\": 3,\n",
        "    \"no_numbering\": True,\n",
        "    \"output_directory\": \"/content\",\n",
        "    \"image_directory\": \"apple\",\n",
        "    \"print_urls\": False,\n",
        "    \"format\": \"jpg\" or \"jpeg\",\n",
        "     \"chromedriver\": \"/usr/lib/chromium-browser/chromedriver\"\n",
        "    })"
      ],
      "metadata": {
        "id": "kmeVwx9NT68O"
      },
      "execution_count": null,
      "outputs": []
    },
    {
      "cell_type": "markdown",
      "metadata": {
        "id": "7q8kcVy9eGjl"
      },
      "source": [
        "#宿題：\n",
        "\n",
        "次回、実際にdeep learningを用いた画像の分類を行います。\n",
        "1. 2つのカテゴリーの画像をダウンロードしましょう\n",
        "2. 実際に1枚ずつ確認し、不適切なものを除きましょう\n"
      ]
    }
  ]
}