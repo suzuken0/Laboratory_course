{
  "nbformat": 4,
  "nbformat_minor": 0,
  "metadata": {
    "colab": {
      "name": "Untitled17.ipynb",
      "provenance": [],
      "include_colab_link": true
    },
    "kernelspec": {
      "name": "python3",
      "display_name": "Python 3"
    }
  },
  "cells": [
    {
      "cell_type": "markdown",
      "metadata": {
        "id": "view-in-github",
        "colab_type": "text"
      },
      "source": [
        "<a href=\"https://colab.research.google.com/github/ykitaguchi77/Laboratory_course/blob/master/4.%20%E7%94%BB%E5%83%8F%E3%81%AE%E3%82%B9%E3%82%AF%E3%83%AC%E3%82%A4%E3%83%94%E3%83%B3%E3%82%B0.ipynb\" target=\"_parent\"><img src=\"https://colab.research.google.com/assets/colab-badge.svg\" alt=\"Open In Colab\"/></a>"
      ]
    },
    {
      "cell_type": "markdown",
      "metadata": {
        "id": "57FBL-0R_hj3"
      },
      "source": [
        "#Google検索から画像をスクレイピングする"
      ]
    },
    {
      "cell_type": "markdown",
      "source": [
        "Chromedriverをインストール"
      ],
      "metadata": {
        "id": "QhvTeU83O7JV"
      }
    },
    {
      "cell_type": "code",
      "source": [
        "!apt-get update\n",
        "!apt install chromium-chromedriver\n",
        "!cp /usr/lib/chromium-browser/chromedriver /usr/bin\n",
        "!pip install selenium==4.1.0 #新しいバージョンだとエラーが出るので旧バージョンにする"
      ],
      "metadata": {
        "id": "2wHV_jLcOb8r"
      },
      "execution_count": null,
      "outputs": []
    },
    {
      "cell_type": "markdown",
      "metadata": {
        "id": "BuN9SQ7QdknF"
      },
      "source": [
        "google_images_dowloadをインストール"
      ]
    },
    {
      "cell_type": "code",
      "metadata": {
        "id": "55aQWcNSc6dU"
      },
      "source": [
        "# #今はエラーになるので下記のパッチを用いる\n",
        "# #!pip install google_images_download\n",
        "\n",
        "# !pip uninstall google_images_download\n",
        "# !git clone https://github.com/Joeclinton1/google-images-download.git\n",
        "# %cd google-images-download\n",
        "# !python setup.py install"
      ],
      "execution_count": null,
      "outputs": []
    },
    {
      "cell_type": "markdown",
      "metadata": {
        "id": "Tc1vHuSFd3us"
      },
      "source": [
        "# **スクレイピングする**"
      ]
    },
    {
      "cell_type": "code",
      "source": [
        "from google.colab import drive\n",
        "drive.mount('/content/drive')"
      ],
      "metadata": {
        "id": "sGOyzNkQTrcD",
        "colab": {
          "base_uri": "https://localhost:8080/"
        },
        "outputId": "18579769-aca9-4cf6-af50-6b3f41a0c27a"
      },
      "execution_count": 18,
      "outputs": [
        {
          "output_type": "stream",
          "name": "stdout",
          "text": [
            "Drive already mounted at /content/drive; to attempt to forcibly remount, call drive.mount(\"/content/drive\", force_remount=True).\n"
          ]
        }
      ]
    },
    {
      "cell_type": "markdown",
      "source": [
        "## Goodle drive内にダウンロードする場合"
      ],
      "metadata": {
        "id": "y-86gr3ZTyuE"
      }
    },
    {
      "cell_type": "code",
      "metadata": {
        "id": "Nh2XFoQ-cB_V"
      },
      "source": [
        "# from google_images_download import google_images_download\n",
        "# response = google_images_download.googleimagesdownload()\n",
        "\n",
        "# response.download({\n",
        "#     \"keywords\": \"イチゴ\",\n",
        "#     \"limit\": 3,\n",
        "#     \"no_numbering\": True,\n",
        "#     \"output_directory\": \"/content/drive/My Drive/AI_laboratory_course/images\",\n",
        "#     \"image_directory\": \"strawberry\",\n",
        "#     \"format\": \"jpg\" or \"jpeg\",\n",
        "#     \"print_urls\": False,\n",
        "#     \"chromedriver\": \"/usr/lib/chromium-browser/chromedriver\"  #chromedriverをダウンロードして指定の場所に置いておく\n",
        "#     })\n",
        "\n",
        "\n",
        "# response.download({\n",
        "#     \"keywords\": \"リンゴ\",\n",
        "#     \"limit\": 3,\n",
        "#     \"no_numbering\": True,\n",
        "#     \"output_directory\": \"/content/drive/My Drive/AI_laboratory_course/images\",\n",
        "#     \"image_directory\": \"apple\",\n",
        "#     \"print_urls\": False,\n",
        "#     \"format\": \"jpg\" or \"jpeg\",\n",
        "#      \"chromedriver\": \"/usr/lib/chromium-browser/chromedriver\"\n",
        "#     })"
      ],
      "execution_count": null,
      "outputs": []
    },
    {
      "cell_type": "markdown",
      "source": [
        "## Contentフォルダにダウンロードする場合"
      ],
      "metadata": {
        "id": "RM1PMAFpUFP1"
      }
    },
    {
      "cell_type": "code",
      "source": [
        "# from google_images_download import google_images_download\n",
        "# response = google_images_download.googleimagesdownload()\n",
        "\n",
        "# response.download({\n",
        "#     \"keywords\": \"イチゴ\",\n",
        "#     \"limit\": 3,\n",
        "#     \"no_numbering\": True,\n",
        "#     \"output_directory\": \"/content\",\n",
        "#     \"image_directory\": \"strawberry\",\n",
        "#     \"format\": \"jpg\" or \"jpeg\",\n",
        "#     \"print_urls\": False,\n",
        "#     \"chromedriver\": \"/usr/lib/chromium-browser/chromedriver\"  #chromedriverをダウンロードして指定の場所に置いておく\n",
        "#     })\n",
        "\n",
        "\n",
        "# response.download({\n",
        "#     \"keywords\": \"リンゴ\",\n",
        "#     \"limit\": 3,\n",
        "#     \"no_numbering\": True,\n",
        "#     \"output_directory\": \"/content\",\n",
        "#     \"image_directory\": \"apple\",\n",
        "#     \"print_urls\": False,\n",
        "#     \"format\": \"jpg\" or \"jpeg\",\n",
        "#      \"chromedriver\": \"/usr/lib/chromium-browser/chromedriver\"\n",
        "#     })"
      ],
      "metadata": {
        "id": "kmeVwx9NT68O"
      },
      "execution_count": null,
      "outputs": []
    },
    {
      "cell_type": "code",
      "source": [
        "QUERY = 'パイナップル　フリー'                        # 検索ワード\n",
        "SAVE_DIR = '/content/pine'                        # 出力フォルダへのパス（フォルダがない場合は自動生成する）\n",
        "FILE_NAME = 'pine_'                          # ファイル名（ファイル名の後ろに０からの連番と拡張子が付く）\n",
        "\n",
        "\n",
        "import requests\n",
        "from selenium import webdriver\n",
        "from selenium.webdriver.chrome.options import Options\n",
        "import os\n",
        "import time\n",
        "import datetime\n",
        "from selenium.common.exceptions import NoSuchElementException\n",
        "from selenium.common.exceptions import ElementClickInterceptedException\n",
        " \n",
        "tm_start = time.time()            #処理時間計測用\n",
        "dt_now = datetime.datetime.now()  # 現在日時\n",
        "dt_date_str = dt_now.strftime('%Y/%m/%d %H:%M')\n",
        "print(dt_date_str)\n",
        " \n",
        "# QUERY = 'りんご　フリー'                        # 検索ワード\n",
        "LIMIT_DL_NUM = 10                          # ダウンロード数の上限\n",
        "# SAVE_DIR = '/content/apple'                        # 出力フォルダへのパス（フォルダがない場合は自動生成する）\n",
        "# FILE_NAME = 'strawberry_'                          # ファイル名（ファイル名の後ろに０からの連番と拡張子が付く）\n",
        "TIMEOUT = 60                                # 要素検索のタイムアウト（秒）\n",
        "ACCESS_WAIT = 1                             # アクセスする間隔（秒）\n",
        "RETRY_NUM = 3                               # リトライ回数（クリック、requests）\n",
        "DRIVER_PATH = '/usr/lib/chromium-browser/chromedriver'       # chromedriver.exeへのパス\n",
        " \n",
        "# Chromeをヘッドレスモードで起動\n",
        "options = Options()\n",
        "options.add_argument('--headless')\n",
        "options.add_argument('--no-sandbox')\n",
        "options.add_argument('--disable-dev-shm-usage')\n",
        "options.add_argument('--start-fullscreen')\n",
        "options.add_argument('--disable-plugins')\n",
        "options.add_argument('--disable-extensions')\n",
        "driver = webdriver.Chrome(DRIVER_PATH, options=options)\n",
        " \n",
        "# タイムアウト設定\n",
        "driver.implicitly_wait(TIMEOUT)\n",
        " \n",
        "tm_driver = time.time()\n",
        "print('WebDriver起動完了', f'{tm_driver - tm_start:.1f}s')\n",
        " \n",
        "# Google画像検索ページを取得\n",
        "url = f'https://www.google.com/search?q={QUERY}&tbm=isch'\n",
        "driver.get(url)\n",
        " \n",
        "tm_geturl = time.time()\n",
        "print('Google画像検索ページ取得', f'{tm_geturl - tm_driver:.1f}s')\n",
        " \n",
        "tmb_elems = driver.find_elements_by_css_selector('#islmp img')\n",
        "tmb_alts = [tmb.get_attribute('alt') for tmb in tmb_elems]\n",
        " \n",
        "count = len(tmb_alts) - tmb_alts.count('')\n",
        "print(count)\n",
        " \n",
        "while count < LIMIT_DL_NUM:\n",
        "    # ページの一番下へスクロールして新しいサムネイル画像を表示させる\n",
        "    driver.execute_script('window.scrollTo(0, document.body.scrollHeight);')\n",
        "    time.sleep(1)\n",
        " \n",
        "    # サムネイル画像取得\n",
        "    tmb_elems = driver.find_elements_by_css_selector('#islmp img')\n",
        "    tmb_alts = [tmb.get_attribute('alt') for tmb in tmb_elems]\n",
        " \n",
        "    count = len(tmb_alts) - tmb_alts.count('')\n",
        "    print(count)  \n",
        " \n",
        "# サムネイル画像をクリックすると表示される領域を取得\n",
        "imgframe_elem = driver.find_element_by_id('islsp')\n",
        " \n",
        "# 出力フォルダ作成\n",
        "os.makedirs(SAVE_DIR, exist_ok=True)\n",
        " \n",
        "# HTTPヘッダ作成\n",
        "HTTP_HEADERS = {'User-Agent': driver.execute_script('return navigator.userAgent;')}\n",
        "print(HTTP_HEADERS)           \n",
        "            \n",
        "# ダウンロード対象のファイル拡張子\n",
        "IMG_EXTS = ('.jpg', '.jpeg', '.png', '.gif')\n",
        " \n",
        "# 拡張子を取得\n",
        "def get_extension(url):\n",
        "    url_lower = url.lower()\n",
        "    for img_ext in IMG_EXTS:\n",
        "        if img_ext in url_lower:\n",
        "            extension = '.jpg' if img_ext == '.jpeg' else img_ext\n",
        "            break\n",
        "    else:\n",
        "        extension = ''\n",
        "    return extension\n",
        " \n",
        "# urlの画像を取得しファイルへ書き込む\n",
        "def download_image(url, path, loop):\n",
        "    result = False\n",
        "    for i in range(loop):\n",
        "        try:\n",
        "            r = requests.get(url, headers=HTTP_HEADERS, stream=True, timeout=10)\n",
        "            r.raise_for_status()\n",
        "            with open(path, 'wb') as f:\n",
        "                f.write(r.content)\n",
        "\n",
        "        except requests.exceptions.SSLError:\n",
        "            print('***** SSL エラー')\n",
        "            break  # リトライしない\n",
        "        except requests.exceptions.RequestException as e:\n",
        "            print(f'***** requests エラー({e}): {i + 1}/{RETRY_NUM}')\n",
        "            time.sleep(1)\n",
        "        else:\n",
        "            result = True\n",
        "            break  # try成功\n",
        "    return result\n",
        " \n",
        "tm_thumbnails = time.time()\n",
        "print('サムネイル画像取得', f'{tm_thumbnails - tm_geturl:.1f}s')\n",
        " \n",
        "# ダウンロード\n",
        "EXCLUSION_URL = 'https://lh3.googleusercontent.com/'  # 除外対象url\n",
        "count = 0\n",
        "url_list = []\n",
        "for tmb_elem, tmb_alt in zip(tmb_elems, tmb_alts):\n",
        "     \n",
        "    if tmb_alt == '':\n",
        "        continue\n",
        " \n",
        "    print(f'{count}: {tmb_alt}')\n",
        " \n",
        "    for i in range(RETRY_NUM):\n",
        "        try:\n",
        "            # サムネイル画像をクリック\n",
        "            tmb_elem.click()\n",
        "        except ElementClickInterceptedException:\n",
        "            print(f'***** click エラー: {i + 1}/{RETRY_NUM}')\n",
        "            driver.execute_script('arguments[0].scrollIntoView(true);', tmb_elem)\n",
        "            time.sleep(1)\n",
        "        else:\n",
        "            break  # try成功\n",
        "    else:\n",
        "        print('***** キャンセル')\n",
        "        continue  # リトライ失敗\n",
        "         \n",
        "    # アクセス負荷軽減用のウェイト\n",
        "    time.sleep(ACCESS_WAIT)\n",
        "     \n",
        "    alt = tmb_alt.replace(\"'\", \"\\\\'\")\n",
        "    try:\n",
        "        img_elem = imgframe_elem.find_element_by_css_selector(f'img[alt=\\'{alt}\\']')\n",
        "    except NoSuchElementException:\n",
        "        print('***** img要素検索エラー')\n",
        "        print('***** キャンセル')\n",
        "        continue\n",
        " \n",
        "    # url取得\n",
        "    tmb_url = tmb_elem.get_attribute('src')  # サムネイル画像のsrc属性値\n",
        " \n",
        "    for i in range(RETRY_NUM):\n",
        "        url = img_elem.get_attribute('src')\n",
        "        if EXCLUSION_URL in url:\n",
        "            print('***** 除外対象url')\n",
        "            url = ''\n",
        "            break\n",
        "        elif url == tmb_url:  # src属性値が遷移するまでリトライ\n",
        "            print(f'***** urlチェック: {i + 1}/{RETRY_NUM}')\n",
        "            time.sleep(1)\n",
        "            url = ''\n",
        "        else:\n",
        "            break\n",
        " \n",
        "    if url == '':\n",
        "        print('***** キャンセル')\n",
        "        continue\n",
        " \n",
        "    # 画像を取得しファイルへ保存\n",
        "    ext = get_extension(url)\n",
        "    if ext == '':\n",
        "        print(f'***** urlに拡張子が含まれていないのでキャンセル')\n",
        "        print(f'{url}')\n",
        "        continue\n",
        " \n",
        "    filename = f'{FILE_NAME}{count}{ext}'\n",
        "    path = SAVE_DIR + '/' + filename\n",
        "    result = download_image(url, path, RETRY_NUM)\n",
        "    if result == False:\n",
        "        print('***** キャンセル')\n",
        "        continue\n",
        "    url_list.append(f'{filename}: {url}')\n",
        " \n",
        "    # ダウンロード数の更新と終了判定\n",
        "    count += 1\n",
        "    if count >= LIMIT_DL_NUM:\n",
        "        break\n",
        " \n",
        "tm_end = time.time()\n",
        "print('ダウンロード', f'{tm_end - tm_thumbnails:.1f}s')\n",
        "print('------------------------------------')\n",
        "total = tm_end - tm_start\n",
        "total_str = f'トータル時間: {total:.1f}s({total/60:.2f}min)'\n",
        "count_str = f'ダウンロード数: {count}'\n",
        "print(total_str)\n",
        "print(count_str)\n",
        " \n",
        "# # urlをファイルへ保存\n",
        "# path = SAVE_DIR + '/url/' + '_url.txt'\n",
        "# with open(path, 'w', encoding='utf-8') as f:\n",
        "#     f.write(dt_date_str + '\\n')\n",
        "#     f.write(total_str + '\\n')\n",
        "#     f.write(count_str + '\\n')\n",
        "#     f.write('\\n'.join(url_list))\n",
        " \n",
        "driver.quit()"
      ],
      "metadata": {
        "id": "MpsuKlDssI_-",
        "outputId": "99804fa8-44f3-487a-a73f-83a3f03e19f3",
        "colab": {
          "base_uri": "https://localhost:8080/"
        }
      },
      "execution_count": 25,
      "outputs": [
        {
          "output_type": "stream",
          "name": "stdout",
          "text": [
            "2023/01/17 03:12\n"
          ]
        },
        {
          "output_type": "stream",
          "name": "stderr",
          "text": [
            "<ipython-input-25-3b1166cee4cc>:37: DeprecationWarning: executable_path has been deprecated, please pass in a Service object\n",
            "  driver = webdriver.Chrome(DRIVER_PATH, options=options)\n"
          ]
        },
        {
          "output_type": "stream",
          "name": "stdout",
          "text": [
            "WebDriver起動完了 1.0s\n",
            "Google画像検索ページ取得 2.7s\n"
          ]
        },
        {
          "output_type": "stream",
          "name": "stderr",
          "text": [
            "<ipython-input-25-3b1166cee4cc>:52: DeprecationWarning: find_elements_by_* commands are deprecated. Please use find_elements() instead\n",
            "  tmb_elems = driver.find_elements_by_css_selector('#islmp img')\n"
          ]
        },
        {
          "output_type": "stream",
          "name": "stdout",
          "text": [
            "48\n",
            "{'User-Agent': 'Mozilla/5.0 (X11; Linux x86_64) AppleWebKit/537.36 (KHTML, like Gecko) HeadlessChrome/108.0.5359.71 Safari/537.36'}\n",
            "サムネイル画像取得 1.3s\n",
            "0: パイナップル 写真素材 [ 2642245 ] 無料 - フォトライブラリー photolibrary\n"
          ]
        },
        {
          "output_type": "stream",
          "name": "stderr",
          "text": [
            "<ipython-input-25-3b1166cee4cc>:71: DeprecationWarning: find_element_by_* commands are deprecated. Please use find_element() instead\n",
            "  imgframe_elem = driver.find_element_by_id('islsp')\n",
            "/usr/local/lib/python3.8/dist-packages/selenium/webdriver/remote/webelement.py:484: UserWarning: find_element_by_* commands are deprecated. Please use find_element() instead\n",
            "  warnings.warn(\"find_element_by_* commands are deprecated. Please use find_element() instead\")\n"
          ]
        },
        {
          "output_type": "stream",
          "name": "stdout",
          "text": [
            "***** urlチェック: 1/3\n",
            "1: パイナップル02 | フリー素材ドットコム\n",
            "2: パイナップルのイラスト | 商用OKの無料イラスト素材サイト ツカッテ\n",
            "3: パイナップル フリー素材のイラスト・画像集めてみた！\n",
            "4: シンプルなパイナップル 写真素材 [ 2635235 ] 無料 - フォトライブラリー photolibrary\n",
            "5: パイナップルAの無料素材 - イラスト沖縄（おきなわ）\n",
            "6: パイナップル | フリー素材ドットコム\n",
            "7: パイナップル（パイン）のイラスト素材 | 商用可能な無料(フリー)のイラスト素材ならストックマテリアル\n",
            "8: フリー写真] カットしたパイナップル - パブリックドメインQ：著作権フリー画像素材集\n",
            "***** requests エラー(403 Client Error: Forbidden for url: https://sun.publicdomainq.net/202002/08o/publicdomainq-0042631suxbus.jpg): 1/3\n",
            "***** requests エラー(403 Client Error: Forbidden for url: https://sun.publicdomainq.net/202002/08o/publicdomainq-0042631suxbus.jpg): 2/3\n",
            "***** requests エラー(403 Client Error: Forbidden for url: https://sun.publicdomainq.net/202002/08o/publicdomainq-0042631suxbus.jpg): 3/3\n",
            "***** キャンセル\n",
            "8: パイナップル 白背景の写真素材｜写真素材なら「写真AC」無料（フリー）ダウンロードOK\n",
            "9: かわいいパイナップルのキャラクターのイラスト | 無料のフリー素材 イラストエイト\n",
            "ダウンロード 27.0s\n",
            "------------------------------------\n",
            "トータル時間: 32.1s(0.53min)\n",
            "ダウンロード数: 10\n"
          ]
        }
      ]
    },
    {
      "cell_type": "markdown",
      "metadata": {
        "id": "7q8kcVy9eGjl"
      },
      "source": [
        "#宿題：\n",
        "\n",
        "次回、実際にdeep learningを用いた画像の分類を行います。\n",
        "1. 2つのカテゴリーの画像をダウンロードしましょう\n",
        "2. 実際に1枚ずつ確認し、不適切なものを除きましょう\n"
      ]
    }
  ]
}