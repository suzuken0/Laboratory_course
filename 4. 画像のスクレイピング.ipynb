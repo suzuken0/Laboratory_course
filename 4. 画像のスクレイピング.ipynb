{
  "nbformat": 4,
  "nbformat_minor": 0,
  "metadata": {
    "colab": {
      "name": "Untitled17.ipynb",
      "provenance": [],
      "include_colab_link": true
    },
    "kernelspec": {
      "name": "python3",
      "display_name": "Python 3"
    }
  },
  "cells": [
    {
      "cell_type": "markdown",
      "metadata": {
        "id": "view-in-github",
        "colab_type": "text"
      },
      "source": [
        "<a href=\"https://colab.research.google.com/github/ykitaguchi77/Laboratory_course/blob/master/4.%20%E7%94%BB%E5%83%8F%E3%81%AE%E3%82%B9%E3%82%AF%E3%83%AC%E3%82%A4%E3%83%94%E3%83%B3%E3%82%B0.ipynb\" target=\"_parent\"><img src=\"https://colab.research.google.com/assets/colab-badge.svg\" alt=\"Open In Colab\"/></a>"
      ]
    },
    {
      "cell_type": "markdown",
      "metadata": {
        "id": "57FBL-0R_hj3"
      },
      "source": [
        "#Google検索から画像をスクレイピングする"
      ]
    },
    {
      "cell_type": "markdown",
      "source": [
        "Chromedriverをインストール"
      ],
      "metadata": {
        "id": "QhvTeU83O7JV"
      }
    },
    {
      "cell_type": "code",
      "source": [
        "!apt-get update\n",
        "!apt install chromium-chromedriver\n",
        "!cp /usr/lib/chromium-browser/chromedriver /usr/bin\n",
        "!pip install selenium==4.1.0 #新しいバージョンだとエラーが出るので旧バージョンにする"
      ],
      "metadata": {
        "id": "2wHV_jLcOb8r",
        "outputId": "345b09c3-c9e8-4047-bb4b-50317b558794",
        "colab": {
          "base_uri": "https://localhost:8080/"
        }
      },
      "execution_count": 1,
      "outputs": [
        {
          "output_type": "stream",
          "name": "stdout",
          "text": [
            "\r0% [Working]\r            \rGet:1 http://ppa.launchpad.net/c2d4u.team/c2d4u4.0+/ubuntu bionic InRelease [15.9 kB]\n",
            "\r0% [Waiting for headers] [Connecting to security.ubuntu.com (91.189.91.39)] [Co\r                                                                               \rHit:2 http://archive.ubuntu.com/ubuntu bionic InRelease\n",
            "\r0% [Waiting for headers] [Connecting to security.ubuntu.com (91.189.91.39)] [Co\r                                                                               \rGet:3 http://archive.ubuntu.com/ubuntu bionic-updates InRelease [88.7 kB]\n",
            "\r                                                                               \rGet:4 http://archive.ubuntu.com/ubuntu bionic-backports InRelease [83.3 kB]\n",
            "\r                                                                               \rGet:5 https://cloud.r-project.org/bin/linux/ubuntu bionic-cran40/ InRelease [3,626 B]\n",
            "\r                                                                               \rHit:6 http://ppa.launchpad.net/cran/libgit2/ubuntu bionic InRelease\n",
            "\r                                                                               \rHit:7 http://ppa.launchpad.net/deadsnakes/ppa/ubuntu bionic InRelease\n",
            "\r                                                                               \rHit:8 http://ppa.launchpad.net/graphics-drivers/ppa/ubuntu bionic InRelease\n",
            "Get:9 http://security.ubuntu.com/ubuntu bionic-security InRelease [88.7 kB]\n",
            "Ign:10 https://developer.download.nvidia.com/compute/machine-learning/repos/ubuntu1804/x86_64  InRelease\n",
            "Hit:11 https://developer.download.nvidia.com/compute/cuda/repos/ubuntu1804/x86_64  InRelease\n",
            "Hit:12 https://developer.download.nvidia.com/compute/machine-learning/repos/ubuntu1804/x86_64  Release\n",
            "Get:13 http://archive.ubuntu.com/ubuntu bionic-updates/restricted amd64 Packages [1,412 kB]\n",
            "Get:14 http://archive.ubuntu.com/ubuntu bionic-updates/universe amd64 Packages [2,351 kB]\n",
            "Get:15 http://archive.ubuntu.com/ubuntu bionic-updates/main amd64 Packages [3,568 kB]\n",
            "Get:16 http://ppa.launchpad.net/c2d4u.team/c2d4u4.0+/ubuntu bionic/main Sources [2,240 kB]\n",
            "Get:17 http://ppa.launchpad.net/c2d4u.team/c2d4u4.0+/ubuntu bionic/main amd64 Packages [1,145 kB]\n",
            "Get:19 http://security.ubuntu.com/ubuntu bionic-security/restricted amd64 Packages [1,371 kB]\n",
            "Get:20 http://security.ubuntu.com/ubuntu bionic-security/universe amd64 Packages [1,573 kB]\n",
            "Get:21 http://security.ubuntu.com/ubuntu bionic-security/main amd64 Packages [3,145 kB]\n",
            "Fetched 17.1 MB in 8s (2,052 kB/s)\n",
            "Reading package lists... Done\n",
            "Reading package lists... Done\n",
            "Building dependency tree       \n",
            "Reading state information... Done\n",
            "The following package was automatically installed and is no longer required:\n",
            "  libnvidia-common-460\n",
            "Use 'apt autoremove' to remove it.\n",
            "The following additional packages will be installed:\n",
            "  chromium-browser chromium-browser-l10n chromium-codecs-ffmpeg-extra\n",
            "Suggested packages:\n",
            "  webaccounts-chromium-extension unity-chromium-extension\n",
            "The following NEW packages will be installed:\n",
            "  chromium-browser chromium-browser-l10n chromium-chromedriver\n",
            "  chromium-codecs-ffmpeg-extra\n",
            "0 upgraded, 4 newly installed, 0 to remove and 31 not upgraded.\n",
            "Need to get 95.6 MB of archives.\n",
            "After this operation, 321 MB of additional disk space will be used.\n",
            "Get:1 http://archive.ubuntu.com/ubuntu bionic-updates/universe amd64 chromium-codecs-ffmpeg-extra amd64 108.0.5359.71-0ubuntu0.18.04.5 [1,159 kB]\n",
            "Get:2 http://archive.ubuntu.com/ubuntu bionic-updates/universe amd64 chromium-browser amd64 108.0.5359.71-0ubuntu0.18.04.5 [83.6 MB]\n",
            "Get:3 http://archive.ubuntu.com/ubuntu bionic-updates/universe amd64 chromium-browser-l10n all 108.0.5359.71-0ubuntu0.18.04.5 [5,230 kB]\n",
            "Get:4 http://archive.ubuntu.com/ubuntu bionic-updates/universe amd64 chromium-chromedriver amd64 108.0.5359.71-0ubuntu0.18.04.5 [5,594 kB]\n",
            "Fetched 95.6 MB in 3s (34.8 MB/s)\n",
            "Selecting previously unselected package chromium-codecs-ffmpeg-extra.\n",
            "(Reading database ... 124016 files and directories currently installed.)\n",
            "Preparing to unpack .../chromium-codecs-ffmpeg-extra_108.0.5359.71-0ubuntu0.18.04.5_amd64.deb ...\n",
            "Unpacking chromium-codecs-ffmpeg-extra (108.0.5359.71-0ubuntu0.18.04.5) ...\n",
            "Selecting previously unselected package chromium-browser.\n",
            "Preparing to unpack .../chromium-browser_108.0.5359.71-0ubuntu0.18.04.5_amd64.deb ...\n",
            "Unpacking chromium-browser (108.0.5359.71-0ubuntu0.18.04.5) ...\n",
            "Selecting previously unselected package chromium-browser-l10n.\n",
            "Preparing to unpack .../chromium-browser-l10n_108.0.5359.71-0ubuntu0.18.04.5_all.deb ...\n",
            "Unpacking chromium-browser-l10n (108.0.5359.71-0ubuntu0.18.04.5) ...\n",
            "Selecting previously unselected package chromium-chromedriver.\n",
            "Preparing to unpack .../chromium-chromedriver_108.0.5359.71-0ubuntu0.18.04.5_amd64.deb ...\n",
            "Unpacking chromium-chromedriver (108.0.5359.71-0ubuntu0.18.04.5) ...\n",
            "Setting up chromium-codecs-ffmpeg-extra (108.0.5359.71-0ubuntu0.18.04.5) ...\n",
            "Setting up chromium-browser (108.0.5359.71-0ubuntu0.18.04.5) ...\n",
            "update-alternatives: using /usr/bin/chromium-browser to provide /usr/bin/x-www-browser (x-www-browser) in auto mode\n",
            "update-alternatives: using /usr/bin/chromium-browser to provide /usr/bin/gnome-www-browser (gnome-www-browser) in auto mode\n",
            "Setting up chromium-chromedriver (108.0.5359.71-0ubuntu0.18.04.5) ...\n",
            "Setting up chromium-browser-l10n (108.0.5359.71-0ubuntu0.18.04.5) ...\n",
            "Processing triggers for man-db (2.8.3-2ubuntu0.1) ...\n",
            "Processing triggers for hicolor-icon-theme (0.17-2) ...\n",
            "Processing triggers for mime-support (3.60ubuntu1) ...\n",
            "Processing triggers for libc-bin (2.27-3ubuntu1.6) ...\n",
            "cp: '/usr/lib/chromium-browser/chromedriver' and '/usr/bin/chromedriver' are the same file\n",
            "Looking in indexes: https://pypi.org/simple, https://us-python.pkg.dev/colab-wheels/public/simple/\n",
            "Collecting selenium==4.1.0\n",
            "  Downloading selenium-4.1.0-py3-none-any.whl (958 kB)\n",
            "\u001b[2K     \u001b[90m━━━━━━━━━━━━━━━━━━━━━━━━━━━━━━━━━━━━━━\u001b[0m \u001b[32m958.8/958.8 KB\u001b[0m \u001b[31m31.0 MB/s\u001b[0m eta \u001b[36m0:00:00\u001b[0m\n",
            "\u001b[?25hCollecting trio~=0.17\n",
            "  Downloading trio-0.22.0-py3-none-any.whl (384 kB)\n",
            "\u001b[2K     \u001b[90m━━━━━━━━━━━━━━━━━━━━━━━━━━━━━━━━━━━━━━\u001b[0m \u001b[32m384.9/384.9 KB\u001b[0m \u001b[31m35.4 MB/s\u001b[0m eta \u001b[36m0:00:00\u001b[0m\n",
            "\u001b[?25hCollecting trio-websocket~=0.9\n",
            "  Downloading trio_websocket-0.9.2-py3-none-any.whl (16 kB)\n",
            "Collecting urllib3[secure]~=1.26\n",
            "  Downloading urllib3-1.26.14-py2.py3-none-any.whl (140 kB)\n",
            "\u001b[2K     \u001b[90m━━━━━━━━━━━━━━━━━━━━━━━━━━━━━━━━━━━━━━\u001b[0m \u001b[32m140.6/140.6 KB\u001b[0m \u001b[31m17.2 MB/s\u001b[0m eta \u001b[36m0:00:00\u001b[0m\n",
            "\u001b[?25hCollecting outcome\n",
            "  Downloading outcome-1.2.0-py2.py3-none-any.whl (9.7 kB)\n",
            "Requirement already satisfied: idna in /usr/local/lib/python3.8/dist-packages (from trio~=0.17->selenium==4.1.0) (2.10)\n",
            "Collecting async-generator>=1.9\n",
            "  Downloading async_generator-1.10-py3-none-any.whl (18 kB)\n",
            "Collecting sniffio\n",
            "  Downloading sniffio-1.3.0-py3-none-any.whl (10 kB)\n",
            "Collecting exceptiongroup>=1.0.0rc9\n",
            "  Downloading exceptiongroup-1.1.0-py3-none-any.whl (14 kB)\n",
            "Requirement already satisfied: attrs>=19.2.0 in /usr/local/lib/python3.8/dist-packages (from trio~=0.17->selenium==4.1.0) (22.2.0)\n",
            "Requirement already satisfied: sortedcontainers in /usr/local/lib/python3.8/dist-packages (from trio~=0.17->selenium==4.1.0) (2.4.0)\n",
            "Collecting wsproto>=0.14\n",
            "  Downloading wsproto-1.2.0-py3-none-any.whl (24 kB)\n",
            "Requirement already satisfied: certifi in /usr/local/lib/python3.8/dist-packages (from urllib3[secure]~=1.26->selenium==4.1.0) (2022.12.7)\n",
            "Collecting pyOpenSSL>=0.14\n",
            "  Downloading pyOpenSSL-23.0.0-py3-none-any.whl (57 kB)\n",
            "\u001b[2K     \u001b[90m━━━━━━━━━━━━━━━━━━━━━━━━━━━━━━━━━━━━━━━━\u001b[0m \u001b[32m57.3/57.3 KB\u001b[0m \u001b[31m6.7 MB/s\u001b[0m eta \u001b[36m0:00:00\u001b[0m\n",
            "\u001b[?25hCollecting urllib3-secure-extra\n",
            "  Downloading urllib3_secure_extra-0.1.0-py2.py3-none-any.whl (1.4 kB)\n",
            "Collecting cryptography>=1.3.4\n",
            "  Downloading cryptography-39.0.0-cp36-abi3-manylinux_2_24_x86_64.whl (4.1 MB)\n",
            "\u001b[2K     \u001b[90m━━━━━━━━━━━━━━━━━━━━━━━━━━━━━━━━━━━━━━━━\u001b[0m \u001b[32m4.1/4.1 MB\u001b[0m \u001b[31m93.2 MB/s\u001b[0m eta \u001b[36m0:00:00\u001b[0m\n",
            "\u001b[?25hRequirement already satisfied: cffi>=1.12 in /usr/local/lib/python3.8/dist-packages (from cryptography>=1.3.4->urllib3[secure]~=1.26->selenium==4.1.0) (1.15.1)\n",
            "Collecting h11<1,>=0.9.0\n",
            "  Downloading h11-0.14.0-py3-none-any.whl (58 kB)\n",
            "\u001b[2K     \u001b[90m━━━━━━━━━━━━━━━━━━━━━━━━━━━━━━━━━━━━━━━━\u001b[0m \u001b[32m58.3/58.3 KB\u001b[0m \u001b[31m7.5 MB/s\u001b[0m eta \u001b[36m0:00:00\u001b[0m\n",
            "\u001b[?25hRequirement already satisfied: pycparser in /usr/local/lib/python3.8/dist-packages (from cffi>=1.12->cryptography>=1.3.4->urllib3[secure]~=1.26->selenium==4.1.0) (2.21)\n",
            "Installing collected packages: urllib3-secure-extra, urllib3, sniffio, outcome, h11, exceptiongroup, async-generator, wsproto, trio, cryptography, trio-websocket, pyOpenSSL, selenium\n",
            "  Attempting uninstall: urllib3\n",
            "    Found existing installation: urllib3 1.24.3\n",
            "    Uninstalling urllib3-1.24.3:\n",
            "      Successfully uninstalled urllib3-1.24.3\n",
            "Successfully installed async-generator-1.10 cryptography-39.0.0 exceptiongroup-1.1.0 h11-0.14.0 outcome-1.2.0 pyOpenSSL-23.0.0 selenium-4.1.0 sniffio-1.3.0 trio-0.22.0 trio-websocket-0.9.2 urllib3-1.26.14 urllib3-secure-extra-0.1.0 wsproto-1.2.0\n"
          ]
        }
      ]
    },
    {
      "cell_type": "markdown",
      "metadata": {
        "id": "BuN9SQ7QdknF"
      },
      "source": [
        "google_images_dowloadをインストール"
      ]
    },
    {
      "cell_type": "code",
      "metadata": {
        "id": "55aQWcNSc6dU"
      },
      "source": [
        "# #今はエラーになるので下記のパッチを用いる\n",
        "# #!pip install google_images_download\n",
        "\n",
        "# !pip uninstall google_images_download\n",
        "# !git clone https://github.com/Joeclinton1/google-images-download.git\n",
        "# %cd google-images-download\n",
        "# !python setup.py install"
      ],
      "execution_count": null,
      "outputs": []
    },
    {
      "cell_type": "markdown",
      "metadata": {
        "id": "Tc1vHuSFd3us"
      },
      "source": [
        "# **スクレイピングする**"
      ]
    },
    {
      "cell_type": "code",
      "source": [
        "from google.colab import drive\n",
        "drive.mount('/content/drive')"
      ],
      "metadata": {
        "id": "sGOyzNkQTrcD",
        "colab": {
          "base_uri": "https://localhost:8080/"
        },
        "outputId": "201c9933-c804-4b82-ddfd-52764e2a42dd"
      },
      "execution_count": 27,
      "outputs": [
        {
          "output_type": "stream",
          "name": "stdout",
          "text": [
            "Drive already mounted at /content/drive; to attempt to forcibly remount, call drive.mount(\"/content/drive\", force_remount=True).\n"
          ]
        }
      ]
    },
    {
      "cell_type": "markdown",
      "source": [
        "## Goodle drive内にダウンロードする場合"
      ],
      "metadata": {
        "id": "y-86gr3ZTyuE"
      }
    },
    {
      "cell_type": "code",
      "metadata": {
        "id": "Nh2XFoQ-cB_V"
      },
      "source": [
        "# from google_images_download import google_images_download\n",
        "# response = google_images_download.googleimagesdownload()\n",
        "\n",
        "# response.download({\n",
        "#     \"keywords\": \"イチゴ\",\n",
        "#     \"limit\": 3,\n",
        "#     \"no_numbering\": True,\n",
        "#     \"output_directory\": \"/content/drive/My Drive/AI_laboratory_course/images\",\n",
        "#     \"image_directory\": \"strawberry\",\n",
        "#     \"format\": \"jpg\" or \"jpeg\",\n",
        "#     \"print_urls\": False,\n",
        "#     \"chromedriver\": \"/usr/lib/chromium-browser/chromedriver\"  #chromedriverをダウンロードして指定の場所に置いておく\n",
        "#     })\n",
        "\n",
        "\n",
        "# response.download({\n",
        "#     \"keywords\": \"リンゴ\",\n",
        "#     \"limit\": 3,\n",
        "#     \"no_numbering\": True,\n",
        "#     \"output_directory\": \"/content/drive/My Drive/AI_laboratory_course/images\",\n",
        "#     \"image_directory\": \"apple\",\n",
        "#     \"print_urls\": False,\n",
        "#     \"format\": \"jpg\" or \"jpeg\",\n",
        "#      \"chromedriver\": \"/usr/lib/chromium-browser/chromedriver\"\n",
        "#     })"
      ],
      "execution_count": null,
      "outputs": []
    },
    {
      "cell_type": "markdown",
      "source": [
        "## Contentフォルダにダウンロードする場合"
      ],
      "metadata": {
        "id": "RM1PMAFpUFP1"
      }
    },
    {
      "cell_type": "code",
      "source": [
        "# from google_images_download import google_images_download\n",
        "# response = google_images_download.googleimagesdownload()\n",
        "\n",
        "# response.download({\n",
        "#     \"keywords\": \"イチゴ\",\n",
        "#     \"limit\": 3,\n",
        "#     \"no_numbering\": True,\n",
        "#     \"output_directory\": \"/content\",\n",
        "#     \"image_directory\": \"strawberry\",\n",
        "#     \"format\": \"jpg\" or \"jpeg\",\n",
        "#     \"print_urls\": False,\n",
        "#     \"chromedriver\": \"/usr/lib/chromium-browser/chromedriver\"  #chromedriverをダウンロードして指定の場所に置いておく\n",
        "#     })\n",
        "\n",
        "\n",
        "# response.download({\n",
        "#     \"keywords\": \"リンゴ\",\n",
        "#     \"limit\": 3,\n",
        "#     \"no_numbering\": True,\n",
        "#     \"output_directory\": \"/content\",\n",
        "#     \"image_directory\": \"apple\",\n",
        "#     \"print_urls\": False,\n",
        "#     \"format\": \"jpg\" or \"jpeg\",\n",
        "#      \"chromedriver\": \"/usr/lib/chromium-browser/chromedriver\"\n",
        "#     })"
      ],
      "metadata": {
        "id": "kmeVwx9NT68O"
      },
      "execution_count": null,
      "outputs": []
    },
    {
      "cell_type": "code",
      "source": [
        "QUERY = 'パイナップル　フリー'                        # 検索ワード\n",
        "SAVE_DIR = '/content/pine'                        # 出力フォルダへのパス（フォルダがない場合は自動生成する）\n",
        "FILE_NAME = 'pine_'                          # ファイル名（ファイル名の後ろに０からの連番と拡張子が付く）\n",
        "\n",
        "\n",
        "import requests\n",
        "from selenium import webdriver\n",
        "from selenium.webdriver.chrome.options import Options\n",
        "import os\n",
        "import time\n",
        "import datetime\n",
        "from selenium.common.exceptions import NoSuchElementException\n",
        "from selenium.common.exceptions import ElementClickInterceptedException\n",
        " \n",
        "tm_start = time.time()            #処理時間計測用\n",
        "dt_now = datetime.datetime.now()  # 現在日時\n",
        "dt_date_str = dt_now.strftime('%Y/%m/%d %H:%M')\n",
        "print(dt_date_str)\n",
        " \n",
        "# QUERY = 'りんご　フリー'                        # 検索ワード\n",
        "LIMIT_DL_NUM = 10                          # ダウンロード数の上限\n",
        "# SAVE_DIR = '/content/apple'                        # 出力フォルダへのパス（フォルダがない場合は自動生成する）\n",
        "# FILE_NAME = 'strawberry_'                          # ファイル名（ファイル名の後ろに０からの連番と拡張子が付く）\n",
        "TIMEOUT = 60                                # 要素検索のタイムアウト（秒）\n",
        "ACCESS_WAIT = 1                             # アクセスする間隔（秒）\n",
        "RETRY_NUM = 3                               # リトライ回数（クリック、requests）\n",
        "DRIVER_PATH = '/usr/lib/chromium-browser/chromedriver'       # chromedriver.exeへのパス\n",
        " \n",
        "# Chromeをヘッドレスモードで起動\n",
        "options = Options()\n",
        "options.add_argument('--headless')\n",
        "options.add_argument('--no-sandbox')\n",
        "options.add_argument('--disable-dev-shm-usage')\n",
        "options.add_argument('--start-fullscreen')\n",
        "options.add_argument('--disable-plugins')\n",
        "options.add_argument('--disable-extensions')\n",
        "driver = webdriver.Chrome(DRIVER_PATH, options=options)\n",
        " \n",
        "# タイムアウト設定\n",
        "driver.implicitly_wait(TIMEOUT)\n",
        " \n",
        "tm_driver = time.time()\n",
        "print('WebDriver起動完了', f'{tm_driver - tm_start:.1f}s')\n",
        " \n",
        "# Google画像検索ページを取得\n",
        "url = f'https://www.google.com/search?q={QUERY}&tbm=isch'\n",
        "driver.get(url)\n",
        " \n",
        "tm_geturl = time.time()\n",
        "print('Google画像検索ページ取得', f'{tm_geturl - tm_driver:.1f}s')\n",
        " \n",
        "tmb_elems = driver.find_elements_by_css_selector('#islmp img')\n",
        "tmb_alts = [tmb.get_attribute('alt') for tmb in tmb_elems]\n",
        " \n",
        "count = len(tmb_alts) - tmb_alts.count('')\n",
        "print(count)\n",
        " \n",
        "while count < LIMIT_DL_NUM:\n",
        "    # ページの一番下へスクロールして新しいサムネイル画像を表示させる\n",
        "    driver.execute_script('window.scrollTo(0, document.body.scrollHeight);')\n",
        "    time.sleep(1)\n",
        " \n",
        "    # サムネイル画像取得\n",
        "    tmb_elems = driver.find_elements_by_css_selector('#islmp img')\n",
        "    tmb_alts = [tmb.get_attribute('alt') for tmb in tmb_elems]\n",
        " \n",
        "    count = len(tmb_alts) - tmb_alts.count('')\n",
        "    print(count)  \n",
        " \n",
        "# サムネイル画像をクリックすると表示される領域を取得\n",
        "imgframe_elem = driver.find_element_by_id('islsp')\n",
        " \n",
        "# 出力フォルダ作成\n",
        "os.makedirs(SAVE_DIR, exist_ok=True)\n",
        " \n",
        "# HTTPヘッダ作成\n",
        "HTTP_HEADERS = {'User-Agent': driver.execute_script('return navigator.userAgent;')}\n",
        "print(HTTP_HEADERS)           \n",
        "            \n",
        "# ダウンロード対象のファイル拡張子\n",
        "IMG_EXTS = ('.jpg', '.jpeg', '.png', '.gif')\n",
        " \n",
        "# 拡張子を取得\n",
        "def get_extension(url):\n",
        "    url_lower = url.lower()\n",
        "    for img_ext in IMG_EXTS:\n",
        "        if img_ext in url_lower:\n",
        "            extension = '.jpg' if img_ext == '.jpeg' else img_ext\n",
        "            break\n",
        "    else:\n",
        "        extension = ''\n",
        "    return extension\n",
        " \n",
        "# urlの画像を取得しファイルへ書き込む\n",
        "def download_image(url, path, loop):\n",
        "    result = False\n",
        "    for i in range(loop):\n",
        "        try:\n",
        "            r = requests.get(url, headers=HTTP_HEADERS, stream=True, timeout=10)\n",
        "            r.raise_for_status()\n",
        "            with open(path, 'wb') as f:\n",
        "                f.write(r.content)\n",
        "\n",
        "        except requests.exceptions.SSLError:\n",
        "            print('***** SSL エラー')\n",
        "            break  # リトライしない\n",
        "        except requests.exceptions.RequestException as e:\n",
        "            print(f'***** requests エラー({e}): {i + 1}/{RETRY_NUM}')\n",
        "            time.sleep(1)\n",
        "        else:\n",
        "            result = True\n",
        "            break  # try成功\n",
        "    return result\n",
        " \n",
        "tm_thumbnails = time.time()\n",
        "print('サムネイル画像取得', f'{tm_thumbnails - tm_geturl:.1f}s')\n",
        " \n",
        "# ダウンロード\n",
        "EXCLUSION_URL = 'https://lh3.googleusercontent.com/'  # 除外対象url\n",
        "count = 0\n",
        "url_list = []\n",
        "for tmb_elem, tmb_alt in zip(tmb_elems, tmb_alts):\n",
        "     \n",
        "    if tmb_alt == '':\n",
        "        continue\n",
        " \n",
        "    print(f'{count}: {tmb_alt}')\n",
        " \n",
        "    for i in range(RETRY_NUM):\n",
        "        try:\n",
        "            # サムネイル画像をクリック\n",
        "            tmb_elem.click()\n",
        "        except ElementClickInterceptedException:\n",
        "            print(f'***** click エラー: {i + 1}/{RETRY_NUM}')\n",
        "            driver.execute_script('arguments[0].scrollIntoView(true);', tmb_elem)\n",
        "            time.sleep(1)\n",
        "        else:\n",
        "            break  # try成功\n",
        "    else:\n",
        "        print('***** キャンセル')\n",
        "        continue  # リトライ失敗\n",
        "         \n",
        "    # アクセス負荷軽減用のウェイト\n",
        "    time.sleep(ACCESS_WAIT)\n",
        "     \n",
        "    alt = tmb_alt.replace(\"'\", \"\\\\'\")\n",
        "    try:\n",
        "        img_elem = imgframe_elem.find_element_by_css_selector(f'img[alt=\\'{alt}\\']')\n",
        "    except NoSuchElementException:\n",
        "        print('***** img要素検索エラー')\n",
        "        print('***** キャンセル')\n",
        "        continue\n",
        " \n",
        "    # url取得\n",
        "    tmb_url = tmb_elem.get_attribute('src')  # サムネイル画像のsrc属性値\n",
        " \n",
        "    for i in range(RETRY_NUM):\n",
        "        url = img_elem.get_attribute('src')\n",
        "        if EXCLUSION_URL in url:\n",
        "            print('***** 除外対象url')\n",
        "            url = ''\n",
        "            break\n",
        "        elif url == tmb_url:  # src属性値が遷移するまでリトライ\n",
        "            print(f'***** urlチェック: {i + 1}/{RETRY_NUM}')\n",
        "            time.sleep(1)\n",
        "            url = ''\n",
        "        else:\n",
        "            break\n",
        " \n",
        "    if url == '':\n",
        "        print('***** キャンセル')\n",
        "        continue\n",
        " \n",
        "    # 画像を取得しファイルへ保存\n",
        "    ext = get_extension(url)\n",
        "    if ext == '':\n",
        "        print(f'***** urlに拡張子が含まれていないのでキャンセル')\n",
        "        print(f'{url}')\n",
        "        continue\n",
        " \n",
        "    filename = f'{FILE_NAME}{count}{ext}'\n",
        "    path = SAVE_DIR + '/' + filename\n",
        "    result = download_image(url, path, RETRY_NUM)\n",
        "    if result == False:\n",
        "        print('***** キャンセル')\n",
        "        continue\n",
        "    url_list.append(f'{filename}: {url}')\n",
        " \n",
        "    # ダウンロード数の更新と終了判定\n",
        "    count += 1\n",
        "    if count >= LIMIT_DL_NUM:\n",
        "        break\n",
        " \n",
        "tm_end = time.time()\n",
        "print('ダウンロード', f'{tm_end - tm_thumbnails:.1f}s')\n",
        "print('------------------------------------')\n",
        "total = tm_end - tm_start\n",
        "total_str = f'トータル時間: {total:.1f}s({total/60:.2f}min)'\n",
        "count_str = f'ダウンロード数: {count}'\n",
        "print(total_str)\n",
        "print(count_str)\n",
        " \n",
        "# # urlをファイルへ保存\n",
        "# path = SAVE_DIR + '/url/' + '_url.txt'\n",
        "# with open(path, 'w', encoding='utf-8') as f:\n",
        "#     f.write(dt_date_str + '\\n')\n",
        "#     f.write(total_str + '\\n')\n",
        "#     f.write(count_str + '\\n')\n",
        "#     f.write('\\n'.join(url_list))\n",
        " \n",
        "driver.quit()"
      ],
      "metadata": {
        "id": "MpsuKlDssI_-",
        "outputId": "99804fa8-44f3-487a-a73f-83a3f03e19f3",
        "colab": {
          "base_uri": "https://localhost:8080/"
        }
      },
      "execution_count": null,
      "outputs": [
        {
          "output_type": "stream",
          "name": "stdout",
          "text": [
            "2023/01/17 03:12\n"
          ]
        },
        {
          "output_type": "stream",
          "name": "stderr",
          "text": [
            "<ipython-input-25-3b1166cee4cc>:37: DeprecationWarning: executable_path has been deprecated, please pass in a Service object\n",
            "  driver = webdriver.Chrome(DRIVER_PATH, options=options)\n"
          ]
        },
        {
          "output_type": "stream",
          "name": "stdout",
          "text": [
            "WebDriver起動完了 1.0s\n",
            "Google画像検索ページ取得 2.7s\n"
          ]
        },
        {
          "output_type": "stream",
          "name": "stderr",
          "text": [
            "<ipython-input-25-3b1166cee4cc>:52: DeprecationWarning: find_elements_by_* commands are deprecated. Please use find_elements() instead\n",
            "  tmb_elems = driver.find_elements_by_css_selector('#islmp img')\n"
          ]
        },
        {
          "output_type": "stream",
          "name": "stdout",
          "text": [
            "48\n",
            "{'User-Agent': 'Mozilla/5.0 (X11; Linux x86_64) AppleWebKit/537.36 (KHTML, like Gecko) HeadlessChrome/108.0.5359.71 Safari/537.36'}\n",
            "サムネイル画像取得 1.3s\n",
            "0: パイナップル 写真素材 [ 2642245 ] 無料 - フォトライブラリー photolibrary\n"
          ]
        },
        {
          "output_type": "stream",
          "name": "stderr",
          "text": [
            "<ipython-input-25-3b1166cee4cc>:71: DeprecationWarning: find_element_by_* commands are deprecated. Please use find_element() instead\n",
            "  imgframe_elem = driver.find_element_by_id('islsp')\n",
            "/usr/local/lib/python3.8/dist-packages/selenium/webdriver/remote/webelement.py:484: UserWarning: find_element_by_* commands are deprecated. Please use find_element() instead\n",
            "  warnings.warn(\"find_element_by_* commands are deprecated. Please use find_element() instead\")\n"
          ]
        },
        {
          "output_type": "stream",
          "name": "stdout",
          "text": [
            "***** urlチェック: 1/3\n",
            "1: パイナップル02 | フリー素材ドットコム\n",
            "2: パイナップルのイラスト | 商用OKの無料イラスト素材サイト ツカッテ\n",
            "3: パイナップル フリー素材のイラスト・画像集めてみた！\n",
            "4: シンプルなパイナップル 写真素材 [ 2635235 ] 無料 - フォトライブラリー photolibrary\n",
            "5: パイナップルAの無料素材 - イラスト沖縄（おきなわ）\n",
            "6: パイナップル | フリー素材ドットコム\n",
            "7: パイナップル（パイン）のイラスト素材 | 商用可能な無料(フリー)のイラスト素材ならストックマテリアル\n",
            "8: フリー写真] カットしたパイナップル - パブリックドメインQ：著作権フリー画像素材集\n",
            "***** requests エラー(403 Client Error: Forbidden for url: https://sun.publicdomainq.net/202002/08o/publicdomainq-0042631suxbus.jpg): 1/3\n",
            "***** requests エラー(403 Client Error: Forbidden for url: https://sun.publicdomainq.net/202002/08o/publicdomainq-0042631suxbus.jpg): 2/3\n",
            "***** requests エラー(403 Client Error: Forbidden for url: https://sun.publicdomainq.net/202002/08o/publicdomainq-0042631suxbus.jpg): 3/3\n",
            "***** キャンセル\n",
            "8: パイナップル 白背景の写真素材｜写真素材なら「写真AC」無料（フリー）ダウンロードOK\n",
            "9: かわいいパイナップルのキャラクターのイラスト | 無料のフリー素材 イラストエイト\n",
            "ダウンロード 27.0s\n",
            "------------------------------------\n",
            "トータル時間: 32.1s(0.53min)\n",
            "ダウンロード数: 10\n"
          ]
        }
      ]
    },
    {
      "cell_type": "code",
      "source": [
        "import requests\n",
        "from bs4 import BeautifulSoup\n",
        "import os\n",
        "\n",
        "# Search query\n",
        "search_query = \"flowers\"\n",
        "\n",
        "# Create a new folder for the images\n",
        "if not os.path.exists(search_query):\n",
        "    os.makedirs(search_query)\n",
        "\n",
        "# URL to search Google Images\n",
        "url = f\"https://www.google.com/search?q={search_query}&tbm=isch\"\n",
        "\n",
        "# Send GET request\n",
        "response = requests.get(url)\n",
        "\n",
        "# Parse the HTML using Beautiful Soup\n",
        "soup = BeautifulSoup(response.text, 'html.parser')\n",
        "\n",
        "# Find all image tags\n",
        "images = soup.find_all('img')\n",
        "\n",
        "# Iterate through the images and download them\n",
        "for i, img in enumerate(images):\n",
        "    url = img['src']\n",
        "    response = requests.get(url)\n",
        "    open(f\"{search_query}/{search_query}_{i}.jpg\", \"wb\").write(response.content)"
      ],
      "metadata": {
        "id": "scFKFOZqzXAM"
      },
      "execution_count": null,
      "outputs": []
    },
    {
      "cell_type": "markdown",
      "metadata": {
        "id": "7q8kcVy9eGjl"
      },
      "source": [
        "#宿題：\n",
        "\n",
        "次回、実際にdeep learningを用いた画像の分類を行います。\n",
        "1. 2つのカテゴリーの画像をダウンロードしましょう\n",
        "2. 実際に1枚ずつ確認し、不適切なものを除きましょう\n"
      ]
    }
  ]
}