{
  "nbformat": 4,
  "nbformat_minor": 0,
  "metadata": {
    "colab": {
      "name": "Untitled19.ipynb",
      "provenance": [],
      "include_colab_link": true
    },
    "kernelspec": {
      "name": "python3",
      "display_name": "Python 3"
    }
  },
  "cells": [
    {
      "cell_type": "markdown",
      "metadata": {
        "id": "view-in-github",
        "colab_type": "text"
      },
      "source": [
        "<a href=\"https://colab.research.google.com/github/suzuken0/Laboratory_course/blob/master/1.%20Google%20colab%E3%81%A7%E7%94%BB%E5%83%8F%E3%82%92%E8%A1%A8%E7%A4%BA%E3%81%99%E3%82%8B.ipynb\" target=\"_parent\"><img src=\"https://colab.research.google.com/assets/colab-badge.svg\" alt=\"Open In Colab\"/></a>"
      ]
    },
    {
      "cell_type": "markdown",
      "metadata": {
        "id": "vvrW_UeW1zVE"
      },
      "source": [
        "#Colaboratoryで画像を表示する\n",
        "Google driveをマウントする。\n",
        "左のタブ → ファイル → ドライブをマウントをクリックするとスクリプトが表示される"
      ]
    },
    {
      "cell_type": "code",
      "metadata": {
        "id": "rcDrxgTh1os0",
        "colab": {
          "base_uri": "https://localhost:8080/"
        },
        "outputId": "b3ebef47-17b5-4aa8-8062-368ab7939ef8"
      },
      "source": [
        "from google.colab import drive\n",
        "drive.mount('/content/drive')"
      ],
      "execution_count": 1,
      "outputs": [
        {
          "output_type": "stream",
          "name": "stdout",
          "text": [
            "Mounted at /content/drive\n"
          ]
        }
      ]
    },
    {
      "cell_type": "markdown",
      "metadata": {
        "id": "kqC1u5cU2CmS"
      },
      "source": [
        "#Open CVを用いる方法\n",
        "※画像のパスは、左のタブでファイルを右クリックするとコピーできる（便利！）"
      ]
    },
    {
      "cell_type": "code",
      "metadata": {
        "id": "AIJ5IZ3W2BoL"
      },
      "source": [
        "#サポートパッチのインポート\n",
        "from google.colab.patches import cv2_imshow\n",
        "import cv2\n",
        "\n",
        "#画像のインポート\n",
        "\n",
        "img = cv2.imread('/content/drive/MyDrive/AI_laboratory_course/face.jpg', cv2.IMREAD_UNCHANGED)\n",
        "cv2_imshow(img)"
      ],
      "execution_count": null,
      "outputs": []
    },
    {
      "cell_type": "markdown",
      "metadata": {
        "id": "ZMNK8z3D2Sta"
      },
      "source": [
        "#PILLOWを用いる方法\n",
        "画像の演算を行うときにはこれを使う<br>\n",
        "Matplotlibはグラフを作成するモジュール"
      ]
    },
    {
      "cell_type": "code",
      "metadata": {
        "id": "PoFRubpj2JWz"
      },
      "source": [
        "import numpy as np\n",
        "from PIL import Image\n",
        "from matplotlib import pyplot as plt\n",
        "\n",
        "img = Image.open(\"/content/drive/My Drive/AI_laboratory_course/goldenretriever-3724972_640.jpg\")\n",
        "plt.imshow(np.array(img))\n",
        "\n",
        "# 軸を消す\n",
        "plt.axis('off')\n",
        "\n",
        "plt.show()"
      ],
      "execution_count": null,
      "outputs": []
    },
    {
      "cell_type": "markdown",
      "metadata": {
        "id": "zBoE5rM22iY7"
      },
      "source": [
        "イメージのサイズ確認\n",
        "RGBを一つの単位として、960×640個並んでいる（ピクセル数に対応）"
      ]
    },
    {
      "cell_type": "code",
      "metadata": {
        "id": "0mFLZndp2hNT"
      },
      "source": [
        "print(img.size)\n",
        "print(np.array(img))"
      ],
      "execution_count": null,
      "outputs": []
    },
    {
      "cell_type": "markdown",
      "metadata": {
        "id": "2FROF_QR2pIL"
      },
      "source": [
        "IPythonをインポートする方法もある"
      ]
    },
    {
      "cell_type": "code",
      "metadata": {
        "id": "IjIPmVd12rs7"
      },
      "source": [
        "from IPython.display import display\n",
        "from PIL import Image\n",
        "\n",
        "img = Image.open(\"/content/drive/My Drive/AI_laboratory_course/goldenretriever-3724972_640.jpg\")\n",
        "display(img)"
      ],
      "execution_count": null,
      "outputs": []
    }
  ]
}