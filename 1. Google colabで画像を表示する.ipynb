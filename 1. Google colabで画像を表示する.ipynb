{
  "nbformat": 4,
  "nbformat_minor": 0,
  "metadata": {
    "colab": {
      "name": "Untitled19.ipynb",
      "provenance": [],
      "include_colab_link": true
    },
    "kernelspec": {
      "name": "python3",
      "display_name": "Python 3"
    }
  },
  "cells": [
    {
      "cell_type": "markdown",
      "metadata": {
        "id": "view-in-github",
        "colab_type": "text"
      },
      "source": [
        "<a href=\"https://colab.research.google.com/github/ykitaguchi77/Laboratory_course/blob/master/1.%20Google%20colab%E3%81%A7%E7%94%BB%E5%83%8F%E3%82%92%E8%A1%A8%E7%A4%BA%E3%81%99%E3%82%8B.ipynb\" target=\"_parent\"><img src=\"https://colab.research.google.com/assets/colab-badge.svg\" alt=\"Open In Colab\"/></a>"
      ]
    },
    {
      "cell_type": "markdown",
      "metadata": {
        "id": "vvrW_UeW1zVE"
      },
      "source": [
        "#Colaboratoryで画像を表示する\n",
        "Google driveをマウントする。\n",
        "左のタブ → ファイル → ドライブをマウントをクリックするとスクリプトが表示される"
      ]
    },
    {
      "cell_type": "code",
      "metadata": {
        "id": "rcDrxgTh1os0",
        "colab": {
          "base_uri": "https://localhost:8080/"
        },
        "outputId": "3ef6a88d-79ba-45c2-8d5b-0d8044f7d756"
      },
      "source": [
        "from google.colab import drive\n",
        "drive.mount('/content/drive')"
      ],
      "execution_count": 2,
      "outputs": [
        {
          "output_type": "stream",
          "name": "stdout",
          "text": [
            "Mounted at /content/drive\n"
          ]
        }
      ]
    },
    {
      "cell_type": "markdown",
      "metadata": {
        "id": "kqC1u5cU2CmS"
      },
      "source": [
        "#Open CVを用いる方法\n",
        "※画像のパスは、左のタブでファイルを右クリックするとコピーできる（便利！）"
      ]
    },
    {
      "cell_type": "code",
      "metadata": {
        "id": "AIJ5IZ3W2BoL"
      },
      "source": [
        "#サポートパッチのインポート\n",
        "from google.colab.patches import cv2_imshow\n",
        "import cv2\n",
        "\n",
        "#画像のインポート\n",
        "\n",
        "img = cv2.imread('/content/drive/My Drive/AI_laboratory_course/goldenretriever-3724972_640.jpg', cv2.IMREAD_UNCHANGED)\n",
        "cv2_imshow(img)"
      ],
      "execution_count": null,
      "outputs": []
    },
    {
      "cell_type": "markdown",
      "metadata": {
        "id": "ZMNK8z3D2Sta"
      },
      "source": [
        "#PILLOWを用いる方法\n",
        "画像の演算を行うときにはこれを使う<br>\n",
        "Matplotlibはグラフを作成するモジュール"
      ]
    },
    {
      "cell_type": "code",
      "metadata": {
        "id": "PoFRubpj2JWz"
      },
      "source": [
        "import numpy as np\n",
        "from PIL import Image\n",
        "from matplotlib import pyplot as plt\n",
        "\n",
        "img = Image.open(\"/content/drive/My Drive/AI_laboratory_course/goldenretriever-3724972_640.jpg\")\n",
        "plt.imshow(np.array(img))\n",
        "plt.show()"
      ],
      "execution_count": null,
      "outputs": []
    },
    {
      "cell_type": "markdown",
      "metadata": {
        "id": "zBoE5rM22iY7"
      },
      "source": [
        "イメージのサイズ確認\n",
        "RGBを一つの単位として、960×640個並んでいる（ピクセル数に対応）"
      ]
    },
    {
      "cell_type": "code",
      "metadata": {
        "id": "0mFLZndp2hNT",
        "colab": {
          "base_uri": "https://localhost:8080/",
          "height": 897
        },
        "outputId": "14eee3da-0fd1-410f-e92a-97507d94ab65"
      },
      "source": [
        "print(img.size)\n",
        "print(np.array(img))"
      ],
      "execution_count": null,
      "outputs": [
        {
          "output_type": "stream",
          "text": [
            "(960, 640)\n",
            "[[[  3  91 115]\n",
            "  [  2  89 116]\n",
            "  [  1  88 115]\n",
            "  ...\n",
            "  [ 63 137 150]\n",
            "  [ 55 129 142]\n",
            "  [ 50 124 137]]\n",
            "\n",
            " [[  2  89 116]\n",
            "  [  0  87 114]\n",
            "  [  0  87 114]\n",
            "  ...\n",
            "  [ 66 140 153]\n",
            "  [ 63 137 150]\n",
            "  [ 58 132 145]]\n",
            "\n",
            " [[  3  90 117]\n",
            "  [  1  88 115]\n",
            "  [  1  88 115]\n",
            "  ...\n",
            "  [ 66 140 153]\n",
            "  [ 61 135 148]\n",
            "  [ 53 127 140]]\n",
            "\n",
            " ...\n",
            "\n",
            " [[ 29  47  51]\n",
            "  [ 25  43  47]\n",
            "  [ 26  44  48]\n",
            "  ...\n",
            "  [110 111 103]\n",
            "  [113 114 106]\n",
            "  [113 114 106]]\n",
            "\n",
            " [[ 27  45  49]\n",
            "  [ 24  42  46]\n",
            "  [ 27  42  47]\n",
            "  ...\n",
            "  [108 109 101]\n",
            "  [110 111 103]\n",
            "  [105 106  98]]\n",
            "\n",
            " [[ 26  41  46]\n",
            "  [ 25  40  45]\n",
            "  [ 28  43  48]\n",
            "  ...\n",
            "  [ 99 100  92]\n",
            "  [104 105  97]\n",
            "  [103 104  96]]]\n"
          ],
          "name": "stdout"
        }
      ]
    },
    {
      "cell_type": "markdown",
      "metadata": {
        "id": "2FROF_QR2pIL"
      },
      "source": [
        "IPythonをインポートする方法もある"
      ]
    },
    {
      "cell_type": "code",
      "metadata": {
        "id": "IjIPmVd12rs7"
      },
      "source": [
        "from IPython.display import display\n",
        "from PIL import Image\n",
        "\n",
        "img = Image.open(\"/content/drive/My Drive/AI_laboratory_course/goldenretriever-3724972_640.jpg\")\n",
        "display(img)"
      ],
      "execution_count": null,
      "outputs": []
    }
  ]
}