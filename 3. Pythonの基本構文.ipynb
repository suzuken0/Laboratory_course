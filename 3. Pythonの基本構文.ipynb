{
  "nbformat": 4,
  "nbformat_minor": 0,
  "metadata": {
    "colab": {
      "name": "Untitled16.ipynb",
      "provenance": [],
      "toc_visible": true,
      "authorship_tag": "ABX9TyMMCpYMdh+HSOAGbAF7ylxA",
      "include_colab_link": true
    },
    "kernelspec": {
      "name": "python3",
      "display_name": "Python 3"
    }
  },
  "cells": [
    {
      "cell_type": "markdown",
      "metadata": {
        "id": "view-in-github",
        "colab_type": "text"
      },
      "source": [
        "<a href=\"https://colab.research.google.com/github/ykitaguchi77/Laboratory_course/blob/master/3.%20Python%E3%81%AE%E5%9F%BA%E6%9C%AC%E6%A7%8B%E6%96%87.ipynb\" target=\"_parent\"><img src=\"https://colab.research.google.com/assets/colab-badge.svg\" alt=\"Open In Colab\"/></a>"
      ]
    },
    {
      "cell_type": "markdown",
      "metadata": {
        "id": "NJhUlYqlODNU",
        "colab_type": "text"
      },
      "source": [
        "#Pythonの基本<br>\n",
        "\n",
        "おすすめ自習サイト\n",
        "1. Progate　有名\n",
        "2. CODEPREP スマホでやりやすい\n",
        "3. Udemy　高額だがキャンペーン中に購入すると1000円とちょっとで買える\n",
        "\n",
        "ある程度進んだら、あとはwebで検索しながらで十分！"
      ]
    },
    {
      "cell_type": "markdown",
      "metadata": {
        "id": "rNkHwtLsOIEa",
        "colab_type": "text"
      },
      "source": [
        ""
      ]
    },
    {
      "cell_type": "markdown",
      "metadata": {
        "id": "NB5ESz0HRXVh",
        "colab_type": "text"
      },
      "source": [
        "#Listについて\n",
        "https://www.sejuku.net/blog/23633\n",
        "\n"
      ]
    },
    {
      "cell_type": "code",
      "metadata": {
        "colab_type": "code",
        "id": "Ggg35BdQjY6U",
        "colab": {}
      },
      "source": [
        "#Listの初期化\n",
        "mylist = []\n",
        "\n",
        "mylist = [1,2,3,4]\n",
        "print(mylist)\n"
      ],
      "execution_count": 0,
      "outputs": []
    },
    {
      "cell_type": "code",
      "metadata": {
        "id": "_DpucBVaSEjT",
        "colab_type": "code",
        "colab": {}
      },
      "source": [
        "#リストの後ろに追加\n",
        "mylist.append(5)\n",
        "print(mylist)"
      ],
      "execution_count": 0,
      "outputs": []
    },
    {
      "cell_type": "code",
      "metadata": {
        "id": "mW_B62kpSuZg",
        "colab_type": "code",
        "colab": {}
      },
      "source": [
        "#リストの結合\n",
        "mylist.extend([3,5,8])\n",
        "print(mylist)"
      ],
      "execution_count": 0,
      "outputs": []
    },
    {
      "cell_type": "code",
      "metadata": {
        "id": "TMUEEz4BTLfK",
        "colab_type": "code",
        "colab": {}
      },
      "source": [
        "#要素の数\n",
        "length = len(mylist)\n",
        "print(length)"
      ],
      "execution_count": 0,
      "outputs": []
    },
    {
      "cell_type": "code",
      "metadata": {
        "id": "TsMlXJiET1bL",
        "colab_type": "code",
        "colab": {}
      },
      "source": [
        "#リストのスライス\n",
        "mylist2 = mylist[1:5] #0からスタートであることに注意\n",
        "print(mylist2)"
      ],
      "execution_count": 0,
      "outputs": []
    },
    {
      "cell_type": "code",
      "metadata": {
        "id": "bdw9K6FTjt0W",
        "colab_type": "code",
        "colab": {}
      },
      "source": [
        "#演習：上記のmylistから[8 ,3 ,5 ,8 ,3 ,5]をスライスしてみましょう\n",
        "\n",
        "\n"
      ],
      "execution_count": 0,
      "outputs": []
    },
    {
      "cell_type": "code",
      "metadata": {
        "id": "hsaX1us1XCL3",
        "colab_type": "code",
        "colab": {}
      },
      "source": [
        "mylist = ['Japanese', 'English', 'French']\n",
        "print('私が話せる言語は、'+ mylist[0]+ 'と'+ mylist[1]+ 'です')"
      ],
      "execution_count": 0,
      "outputs": []
    },
    {
      "cell_type": "markdown",
      "metadata": {
        "id": "CcKPrJipz7hX",
        "colab_type": "text"
      },
      "source": [
        "#Function"
      ]
    },
    {
      "cell_type": "code",
      "metadata": {
        "id": "apSQBqCwz-kt",
        "colab_type": "code",
        "colab": {}
      },
      "source": [
        "def add(x, y):\n",
        "    ans = x + y\n",
        "    return ans\n",
        "\n",
        "\n",
        "n = add(3, 5)\n",
        "print(n)"
      ],
      "execution_count": 0,
      "outputs": []
    },
    {
      "cell_type": "code",
      "metadata": {
        "id": "04hGl76C0lBO",
        "colab_type": "code",
        "colab": {}
      },
      "source": [
        "#複数の値を返すことができる\n",
        "def add_integrate(x, y):\n",
        "    add = x + y\n",
        "    integrate = x * y\n",
        "    return add, integrate\n",
        "\n",
        "a, b = add_integrate(3, 5)\n",
        "print(a)\n",
        "print(b)"
      ],
      "execution_count": 0,
      "outputs": []
    },
    {
      "cell_type": "markdown",
      "metadata": {
        "id": "UjwD9yTloCUD",
        "colab_type": "text"
      },
      "source": [
        "#If構文"
      ]
    },
    {
      "cell_type": "code",
      "metadata": {
        "id": "5r9agRoaoBte",
        "colab_type": "code",
        "colab": {}
      },
      "source": [
        "mylist = ['Japanese', 'English', 'French']\n",
        "language = 'Germany'\n",
        "\n",
        "if language in mylist:\n",
        "    print('私は'+language+'を話せます')\n",
        "elif language not in mylist:\n",
        "    print('私は'+language+'を話せません')\n"
      ],
      "execution_count": 0,
      "outputs": []
    },
    {
      "cell_type": "code",
      "metadata": {
        "id": "nx5tbg0RozCF",
        "colab_type": "code",
        "colab": {}
      },
      "source": [
        "a = 100\n",
        "\n",
        "if a%3 == 0:\n",
        "    print(str(a)+'は3の倍数です')\n",
        "elif a%4 == 0:\n",
        "    print(str(a)+'は4の倍数です')\n",
        "elif a%5 == 0:\n",
        "    print(str(a)+'は5の倍数です')\n",
        "else:\n",
        "    print(str(a)+'は3の倍数でも4の倍数でも5の倍数でもありません')\n",
        "\n",
        "#数字を変えて実行してみましょう。\n",
        "#どれかが実行されるとその後は実行されないことに注意\n"
      ],
      "execution_count": 0,
      "outputs": []
    },
    {
      "cell_type": "markdown",
      "metadata": {
        "id": "j9u-8XTiUXMZ",
        "colab_type": "text"
      },
      "source": [
        "#FOR構文"
      ]
    },
    {
      "cell_type": "code",
      "metadata": {
        "id": "HLOv-gybUZ8g",
        "colab_type": "code",
        "colab": {}
      },
      "source": [
        "mylist = [1, 2, 3, 4, 5, 3, 5, 8]\n",
        "\n",
        "for i in mylist:\n",
        "  print(i)"
      ],
      "execution_count": 0,
      "outputs": []
    },
    {
      "cell_type": "code",
      "metadata": {
        "id": "GlYLh0wVWWLp",
        "colab_type": "code",
        "colab": {}
      },
      "source": [
        "mylist = ['Japanese', 'English', 'French']\n",
        "\n",
        "for i in mylist:\n",
        "  print(i)"
      ],
      "execution_count": 0,
      "outputs": []
    },
    {
      "cell_type": "code",
      "metadata": {
        "id": "nMnprSnYVe_2",
        "colab_type": "code",
        "colab": {}
      },
      "source": [
        "for i in range(10):\n",
        "  print(i)\n"
      ],
      "execution_count": 0,
      "outputs": []
    },
    {
      "cell_type": "code",
      "metadata": {
        "id": "cVP6JgAkWFfv",
        "colab_type": "code",
        "colab": {}
      },
      "source": [
        "k=0\n",
        "for i in range(10):\n",
        "  k+=i\n",
        "  print(k)"
      ],
      "execution_count": 0,
      "outputs": []
    },
    {
      "cell_type": "code",
      "metadata": {
        "id": "UxFJ8w7GVyaX",
        "colab_type": "code",
        "colab": {}
      },
      "source": [
        "for i in range(5,10):\n",
        "  print(i)"
      ],
      "execution_count": 0,
      "outputs": []
    },
    {
      "cell_type": "code",
      "metadata": {
        "id": "_syIKUgLWj-J",
        "colab_type": "code",
        "colab": {}
      },
      "source": [
        "for i in range(100):\n",
        "  print(i)\n",
        "\n",
        "  if i == 25:\n",
        "    print('ここまで')\n",
        "    break"
      ],
      "execution_count": 0,
      "outputs": []
    },
    {
      "cell_type": "code",
      "metadata": {
        "id": "k-Q_5xgnnVkk",
        "colab_type": "code",
        "colab": {}
      },
      "source": [
        "#演習：0から25までの3の倍数以外を、小さい順に表示するスクリプトを作ってみよう\n",
        "#ヒント： ifを使う\n",
        "#ヒント： not equall → !="
      ],
      "execution_count": 0,
      "outputs": []
    },
    {
      "cell_type": "code",
      "metadata": {
        "id": "gc5cB22RrTmL",
        "colab_type": "code",
        "colab": {}
      },
      "source": [
        "#演習：入力した数字の最小公倍数を表示するスクリプトを作ってみよう\n",
        "def is_int(s):\n",
        "    try:\n",
        "        int(s)\n",
        "    except ValueError:\n",
        "        print('\"'+s+'\"は数字ではありません')\n",
        "\n",
        "num_1 = input('数字1を入力して下さい')\n",
        "is_int(num_1)\n",
        "num_2 = input('数字2を入力して下さい')\n",
        "is_int(num_2)\n",
        "\n",
        "#ここから。forとifを使って書いてみましょう\n",
        "\n",
        "\n",
        "\n"
      ],
      "execution_count": 0,
      "outputs": []
    },
    {
      "cell_type": "markdown",
      "metadata": {
        "id": "VHfrA87TX9Uv",
        "colab_type": "text"
      },
      "source": [
        "#CSVファイルの操作"
      ]
    },
    {
      "cell_type": "code",
      "metadata": {
        "id": "dEck89SJYNNY",
        "colab_type": "code",
        "colab": {}
      },
      "source": [
        "from google.colab import drive\n",
        "drive.mount('/content/drive')"
      ],
      "execution_count": 0,
      "outputs": []
    },
    {
      "cell_type": "code",
      "metadata": {
        "id": "yiTMSgiQX86J",
        "colab_type": "code",
        "colab": {}
      },
      "source": [
        "import csv\n",
        "\n",
        "#ファイルがなければ勝手に作成してくれる\n",
        "with open('/content/drive/My Drive/AI_laboratory_course/test.csv','w') as f:\n",
        "    writer = csv.writer(f)\n",
        "    writer.writerow(['Menu','stock', 'Price'])\n",
        "    writer.writerow(['スパム',10,500])\n",
        "    writer.writerow(['卵',20,168])\n",
        "    writer.writerow(['ベーコン',15,250])\n",
        "    writer.writerow(['レタス',5,200])\n",
        "    #writer.writerow(['total','',''])\n"
      ],
      "execution_count": 0,
      "outputs": []
    },
    {
      "cell_type": "markdown",
      "metadata": {
        "id": "uQl39ZCCtIMn",
        "colab_type": "text"
      },
      "source": [
        "csvモジュールを用いた読み込み"
      ]
    },
    {
      "cell_type": "code",
      "metadata": {
        "id": "gnvtbnSVbDsJ",
        "colab_type": "code",
        "colab": {}
      },
      "source": [
        "with open('/content/drive/My Drive/AI_laboratory_course/test.csv','r') as f:\n",
        "    reader = csv.reader(f)\n",
        "    for row in reader:\n",
        "        print(row)"
      ],
      "execution_count": 0,
      "outputs": []
    },
    {
      "cell_type": "markdown",
      "metadata": {
        "id": "9s8mSgvLtD9g",
        "colab_type": "text"
      },
      "source": [
        "PANDASモジュールを使った読み書き（一括変換ができる）"
      ]
    },
    {
      "cell_type": "code",
      "metadata": {
        "id": "Qzun2Dn5biZG",
        "colab_type": "code",
        "colab": {}
      },
      "source": [
        "import pandas as pd\n",
        "\n",
        "df = pd.read_csv('/content/drive/My Drive/AI_laboratory_course/test.csv', index_col=None, header =0,\n",
        "                     delimiter=r\",\\s*\", engine=\"python\")\n",
        "print(df)"
      ],
      "execution_count": 0,
      "outputs": []
    },
    {
      "cell_type": "code",
      "metadata": {
        "id": "GlIRRJp8vKvN",
        "colab_type": "code",
        "colab": {}
      },
      "source": [
        "print(df.index.values) #列のindex\n",
        "print(df.columns.values) #行のindex"
      ],
      "execution_count": 0,
      "outputs": []
    },
    {
      "cell_type": "code",
      "metadata": {
        "id": "-GJPv7r4nSHq",
        "colab_type": "code",
        "colab": {}
      },
      "source": [
        "print(df.iloc[1:3]) #2行目から3行目まで（0から始まるので注意）"
      ],
      "execution_count": 0,
      "outputs": []
    },
    {
      "cell_type": "code",
      "metadata": {
        "id": "ymM-S-30nZWr",
        "colab_type": "code",
        "colab": {}
      },
      "source": [
        "print(df.iloc[:, 1:3]) #2列目から3列目（0から始まるので注意）"
      ],
      "execution_count": 0,
      "outputs": []
    },
    {
      "cell_type": "code",
      "metadata": {
        "id": "s3FaDtk2wt7h",
        "colab_type": "code",
        "colab": {}
      },
      "source": [
        "#演習：df.ilocを用いてスパム、ベーコン、レタスのメニューと対応する価格を表示しましょう\n"
      ],
      "execution_count": 0,
      "outputs": []
    },
    {
      "cell_type": "code",
      "metadata": {
        "id": "FYLMvfZhpgSC",
        "colab_type": "code",
        "colab": {}
      },
      "source": [
        "total_stock = sum(df.iloc[0:4, 1])\n",
        "total_price = sum(df.iloc[0:4, 2])\n",
        "\n",
        "#新しいセルを追加する\n",
        "df.loc[4] = ['total', total_stock, 0] \n",
        "\n",
        "print(df)\n",
        "df.to_csv('/content/drive/My Drive/test.csv',index=0)\n"
      ],
      "execution_count": 0,
      "outputs": []
    },
    {
      "cell_type": "code",
      "metadata": {
        "id": "EXmJos85sfvQ",
        "colab_type": "code",
        "colab": {}
      },
      "source": [
        "df = pd.read_csv('/content/drive/My Drive/AI_laboratory_course/test.csv',\n",
        "                     delimiter=r\",\\s*\", header =0,  engine=\"python\")\n",
        "print(df)"
      ],
      "execution_count": 0,
      "outputs": []
    }
  ]
}