{
  "nbformat": 4,
  "nbformat_minor": 0,
  "metadata": {
    "colab": {
      "name": "Untitled16.ipynb",
      "provenance": [],
      "toc_visible": true,
      "authorship_tag": "ABX9TyNwUMnEzjHzAluM90KfBmQ7",
      "include_colab_link": true
    },
    "kernelspec": {
      "name": "python3",
      "display_name": "Python 3"
    }
  },
  "cells": [
    {
      "cell_type": "markdown",
      "metadata": {
        "id": "view-in-github",
        "colab_type": "text"
      },
      "source": [
        "<a href=\"https://colab.research.google.com/github/ykitaguchi77/Laboratory_course/blob/master/3.%20Python%E3%81%AE%E5%9F%BA%E6%9C%AC.ipynb\" target=\"_parent\"><img src=\"https://colab.research.google.com/assets/colab-badge.svg\" alt=\"Open In Colab\"/></a>"
      ]
    },
    {
      "cell_type": "markdown",
      "metadata": {
        "id": "NJhUlYqlODNU",
        "colab_type": "text"
      },
      "source": [
        "#Pythonの基本<br>\n",
        "\n",
        "おすすめ自習サイト\n",
        "1. Progate　有名\n",
        "2. CODEPREP スマホでやりやすい\n",
        "3. Udemy　優良だがキャンペーン中に購入すると1000円とちょっとで買える\n",
        "\n",
        "ある程度進んだら、あとはwebで検索しながらで十分！"
      ]
    },
    {
      "cell_type": "markdown",
      "metadata": {
        "id": "rNkHwtLsOIEa",
        "colab_type": "text"
      },
      "source": [
        ""
      ]
    },
    {
      "cell_type": "markdown",
      "metadata": {
        "id": "NB5ESz0HRXVh",
        "colab_type": "text"
      },
      "source": [
        "#Listについて\n",
        "https://www.sejuku.net/blog/23633\n",
        "\n"
      ]
    },
    {
      "cell_type": "code",
      "metadata": {
        "id": "w2g2WH9EN6kN",
        "colab_type": "code",
        "colab": {
          "base_uri": "https://localhost:8080/",
          "height": 34
        },
        "outputId": "d80d9e14-9436-4954-9acf-3671bb0ec2ca"
      },
      "source": [
        "#Listの初期化\n",
        "mylist = []\n",
        "\n",
        "mylist = [1,2,3,4]\n",
        "print(mylist)\n"
      ],
      "execution_count": 1,
      "outputs": [
        {
          "output_type": "stream",
          "text": [
            "[1, 2, 3, 4]\n"
          ],
          "name": "stdout"
        }
      ]
    },
    {
      "cell_type": "code",
      "metadata": {
        "id": "_DpucBVaSEjT",
        "colab_type": "code",
        "colab": {
          "base_uri": "https://localhost:8080/",
          "height": 34
        },
        "outputId": "48dabba7-4395-4b9f-9d68-e8510c3a446e"
      },
      "source": [
        "#リストの後ろに追加\n",
        "mylist.append(5)\n",
        "print(mylist)"
      ],
      "execution_count": 2,
      "outputs": [
        {
          "output_type": "stream",
          "text": [
            "[1, 2, 3, 4, 5]\n"
          ],
          "name": "stdout"
        }
      ]
    },
    {
      "cell_type": "code",
      "metadata": {
        "id": "mW_B62kpSuZg",
        "colab_type": "code",
        "colab": {
          "base_uri": "https://localhost:8080/",
          "height": 34
        },
        "outputId": "2a904705-a82a-4ab1-88bb-930700540e3d"
      },
      "source": [
        "#リストの結合\n",
        "mylist.extend([3,5,8])\n",
        "print(mylist)"
      ],
      "execution_count": 3,
      "outputs": [
        {
          "output_type": "stream",
          "text": [
            "[1, 2, 3, 4, 5, 3, 5, 8]\n"
          ],
          "name": "stdout"
        }
      ]
    },
    {
      "cell_type": "code",
      "metadata": {
        "id": "TMUEEz4BTLfK",
        "colab_type": "code",
        "colab": {
          "base_uri": "https://localhost:8080/",
          "height": 34
        },
        "outputId": "5f812951-ffe9-4750-843d-15b86540b1eb"
      },
      "source": [
        "#要素の数\n",
        "length = len(mylist)\n",
        "print(length)"
      ],
      "execution_count": 4,
      "outputs": [
        {
          "output_type": "stream",
          "text": [
            "8\n"
          ],
          "name": "stdout"
        }
      ]
    },
    {
      "cell_type": "code",
      "metadata": {
        "id": "TsMlXJiET1bL",
        "colab_type": "code",
        "colab": {
          "base_uri": "https://localhost:8080/",
          "height": 34
        },
        "outputId": "ade0536c-b9e9-4830-f9e8-f3bcc15811a7"
      },
      "source": [
        "#リストのスライス\n",
        "mylist2 = mylist[1:5] #0からスタートであることに注意\n",
        "print(mylist2)"
      ],
      "execution_count": 9,
      "outputs": [
        {
          "output_type": "stream",
          "text": [
            "[2, 3, 4, 5]\n"
          ],
          "name": "stdout"
        }
      ]
    },
    {
      "cell_type": "code",
      "metadata": {
        "id": "hsaX1us1XCL3",
        "colab_type": "code",
        "colab": {
          "base_uri": "https://localhost:8080/",
          "height": 34
        },
        "outputId": "42972d65-8a54-4a80-e0a4-6846ef99f37a"
      },
      "source": [
        "mylist = ['Japanese', 'English', 'French']\n",
        "print('私が話せる言語は、'+ mylist[0]+ 'と'+ mylist[1]+ 'です')"
      ],
      "execution_count": 27,
      "outputs": [
        {
          "output_type": "stream",
          "text": [
            "私が話せる言語は、JapaneseとEnglishです\n"
          ],
          "name": "stdout"
        }
      ]
    },
    {
      "cell_type": "markdown",
      "metadata": {
        "id": "j9u-8XTiUXMZ",
        "colab_type": "text"
      },
      "source": [
        "#FOR構文"
      ]
    },
    {
      "cell_type": "code",
      "metadata": {
        "id": "HLOv-gybUZ8g",
        "colab_type": "code",
        "colab": {
          "base_uri": "https://localhost:8080/",
          "height": 158
        },
        "outputId": "98cceb6c-f875-442e-a88f-29f45269759c"
      },
      "source": [
        "mylist = [1, 2, 3, 4, 5, 3, 5, 8]\n",
        "\n",
        "for i in mylist:\n",
        "  print(i)"
      ],
      "execution_count": 19,
      "outputs": [
        {
          "output_type": "stream",
          "text": [
            "1\n",
            "2\n",
            "3\n",
            "4\n",
            "5\n",
            "3\n",
            "5\n",
            "8\n"
          ],
          "name": "stdout"
        }
      ]
    },
    {
      "cell_type": "code",
      "metadata": {
        "id": "GlYLh0wVWWLp",
        "colab_type": "code",
        "colab": {
          "base_uri": "https://localhost:8080/",
          "height": 70
        },
        "outputId": "98a92217-a76b-437f-ddcf-f1bb9314d3fd"
      },
      "source": [
        "mylist = ['Japanese', 'English', 'French']\n",
        "\n",
        "for i in mylist:\n",
        "  print(i)"
      ],
      "execution_count": 20,
      "outputs": [
        {
          "output_type": "stream",
          "text": [
            "Japanese\n",
            "English\n",
            "French\n"
          ],
          "name": "stdout"
        }
      ]
    },
    {
      "cell_type": "code",
      "metadata": {
        "id": "nMnprSnYVe_2",
        "colab_type": "code",
        "colab": {
          "base_uri": "https://localhost:8080/",
          "height": 193
        },
        "outputId": "179d17f8-eaac-4884-8627-50f411719c0b"
      },
      "source": [
        "for i in range(10):\n",
        "  print(i)\n"
      ],
      "execution_count": 15,
      "outputs": [
        {
          "output_type": "stream",
          "text": [
            "0\n",
            "1\n",
            "2\n",
            "3\n",
            "4\n",
            "5\n",
            "6\n",
            "7\n",
            "8\n",
            "9\n"
          ],
          "name": "stdout"
        }
      ]
    },
    {
      "cell_type": "code",
      "metadata": {
        "id": "cVP6JgAkWFfv",
        "colab_type": "code",
        "colab": {
          "base_uri": "https://localhost:8080/",
          "height": 193
        },
        "outputId": "e862cf75-c84e-4c6f-cb6d-adcbce910d64"
      },
      "source": [
        "k=0\n",
        "for i in range(10):\n",
        "  k+=i\n",
        "  print(k)"
      ],
      "execution_count": 18,
      "outputs": [
        {
          "output_type": "stream",
          "text": [
            "0\n",
            "1\n",
            "3\n",
            "6\n",
            "10\n",
            "15\n",
            "21\n",
            "28\n",
            "36\n",
            "45\n"
          ],
          "name": "stdout"
        }
      ]
    },
    {
      "cell_type": "code",
      "metadata": {
        "id": "UxFJ8w7GVyaX",
        "colab_type": "code",
        "colab": {
          "base_uri": "https://localhost:8080/",
          "height": 105
        },
        "outputId": "b0899146-c3ab-404f-eae4-c7706c285843"
      },
      "source": [
        "for i in range(5,10):\n",
        "  print(i)"
      ],
      "execution_count": 22,
      "outputs": [
        {
          "output_type": "stream",
          "text": [
            "5\n",
            "6\n",
            "7\n",
            "8\n",
            "9\n"
          ],
          "name": "stdout"
        }
      ]
    },
    {
      "cell_type": "code",
      "metadata": {
        "id": "_syIKUgLWj-J",
        "colab_type": "code",
        "colab": {
          "base_uri": "https://localhost:8080/",
          "height": 492
        },
        "outputId": "07024e76-1b2d-44c9-ef5a-536fcf9edcb7"
      },
      "source": [
        "for i in range(100):\n",
        "  print(i)\n",
        "\n",
        "  if i == 25:\n",
        "    print('ここまで')\n",
        "    break"
      ],
      "execution_count": 24,
      "outputs": [
        {
          "output_type": "stream",
          "text": [
            "0\n",
            "1\n",
            "2\n",
            "3\n",
            "4\n",
            "5\n",
            "6\n",
            "7\n",
            "8\n",
            "9\n",
            "10\n",
            "11\n",
            "12\n",
            "13\n",
            "14\n",
            "15\n",
            "16\n",
            "17\n",
            "18\n",
            "19\n",
            "20\n",
            "21\n",
            "22\n",
            "23\n",
            "24\n",
            "25\n",
            "ここまで\n"
          ],
          "name": "stdout"
        }
      ]
    },
    {
      "cell_type": "markdown",
      "metadata": {
        "id": "VHfrA87TX9Uv",
        "colab_type": "text"
      },
      "source": [
        "#CSVファイルの操作"
      ]
    },
    {
      "cell_type": "code",
      "metadata": {
        "id": "dEck89SJYNNY",
        "colab_type": "code",
        "colab": {
          "base_uri": "https://localhost:8080/",
          "height": 54
        },
        "outputId": "8af5f3d8-8462-4550-9652-1b809a454498"
      },
      "source": [
        "from google.colab import drive\n",
        "drive.mount('/content/drive')"
      ],
      "execution_count": 251,
      "outputs": [
        {
          "output_type": "stream",
          "text": [
            "Drive already mounted at /content/drive; to attempt to forcibly remount, call drive.mount(\"/content/drive\", force_remount=True).\n"
          ],
          "name": "stdout"
        }
      ]
    },
    {
      "cell_type": "code",
      "metadata": {
        "id": "yiTMSgiQX86J",
        "colab_type": "code",
        "colab": {}
      },
      "source": [
        "import csv\n",
        "\n",
        "#ファイルがなければ勝手に作成してくれる\n",
        "with open('/content/drive/My Drive/test.csv','w') as f:\n",
        "    writer = csv.writer(f)\n",
        "    writer.writerow(['Menu','stock', 'Price'])\n",
        "    writer.writerow(['スパム',10,500])\n",
        "    writer.writerow(['卵',20,168])\n",
        "    writer.writerow(['ベーコン',15,250])\n",
        "    writer.writerow(['レタス',5,200])\n",
        "    writer.writerow(['total','',''])\n"
      ],
      "execution_count": 0,
      "outputs": []
    },
    {
      "cell_type": "markdown",
      "metadata": {
        "id": "uQl39ZCCtIMn",
        "colab_type": "text"
      },
      "source": [
        "csvモジュールを用いた読み込み"
      ]
    },
    {
      "cell_type": "code",
      "metadata": {
        "id": "gnvtbnSVbDsJ",
        "colab_type": "code",
        "colab": {
          "base_uri": "https://localhost:8080/",
          "height": 122
        },
        "outputId": "18e8a520-a448-443f-dfbe-c86bb14d73b4"
      },
      "source": [
        "with open('/content/drive/My Drive/test.csv','r') as f:\n",
        "    reader = csv.reader(f)\n",
        "    for row in reader:\n",
        "        print(row)"
      ],
      "execution_count": 253,
      "outputs": [
        {
          "output_type": "stream",
          "text": [
            "['Menu', 'stock', 'Price']\n",
            "['スパム', '10', '500']\n",
            "['卵', '20', '168']\n",
            "['ベーコン', '15', '250']\n",
            "['レタス', '5', '200']\n",
            "['total', '', '']\n"
          ],
          "name": "stdout"
        }
      ]
    },
    {
      "cell_type": "markdown",
      "metadata": {
        "id": "9s8mSgvLtD9g",
        "colab_type": "text"
      },
      "source": [
        "PANDASモジュールを使った読み書き（一括変換ができる）"
      ]
    },
    {
      "cell_type": "code",
      "metadata": {
        "id": "Qzun2Dn5biZG",
        "colab_type": "code",
        "colab": {
          "base_uri": "https://localhost:8080/",
          "height": 122
        },
        "outputId": "30c0bd8a-c14e-44f8-b27f-3b3234a0b651"
      },
      "source": [
        "import pandas as pd\n",
        "\n",
        "df = pd.read_csv('/content/drive/My Drive/test.csv', index_col=None, header =0,\n",
        "                     delimiter=r\",\\s*\", engine=\"python\")\n",
        "print(df)"
      ],
      "execution_count": 254,
      "outputs": [
        {
          "output_type": "stream",
          "text": [
            "    Menu  stock  Price\n",
            "0    スパム   10.0  500.0\n",
            "1      卵   20.0  168.0\n",
            "2   ベーコン   15.0  250.0\n",
            "3    レタス    5.0  200.0\n",
            "4  total    NaN    NaN\n"
          ],
          "name": "stdout"
        }
      ]
    },
    {
      "cell_type": "code",
      "metadata": {
        "id": "GlIRRJp8vKvN",
        "colab_type": "code",
        "colab": {
          "base_uri": "https://localhost:8080/",
          "height": 52
        },
        "outputId": "78736f01-0bdf-48cb-9813-d8e1d1ebb652"
      },
      "source": [
        "print(df.index.values)\n",
        "print(df.columns.values)"
      ],
      "execution_count": 256,
      "outputs": [
        {
          "output_type": "stream",
          "text": [
            "[0 1 2 3 4]\n",
            "['Menu' 'stock' 'Price']\n"
          ],
          "name": "stdout"
        }
      ]
    },
    {
      "cell_type": "code",
      "metadata": {
        "id": "-GJPv7r4nSHq",
        "colab_type": "code",
        "colab": {
          "base_uri": "https://localhost:8080/",
          "height": 70
        },
        "outputId": "723cf548-e081-444d-ae3f-d9a451f211ba"
      },
      "source": [
        "print(df.iloc[1:3]) #2行目から3行目まで（0から始まるので注意）"
      ],
      "execution_count": 255,
      "outputs": [
        {
          "output_type": "stream",
          "text": [
            "   Menu  stock  Price\n",
            "1     卵   20.0  168.0\n",
            "2  ベーコン   15.0  250.0\n"
          ],
          "name": "stdout"
        }
      ]
    },
    {
      "cell_type": "code",
      "metadata": {
        "id": "ymM-S-30nZWr",
        "colab_type": "code",
        "colab": {
          "base_uri": "https://localhost:8080/",
          "height": 122
        },
        "outputId": "5757df3f-29a8-4e58-ed77-6bcafbf05ee9"
      },
      "source": [
        "print(df.iloc[:, 1:3]) #2列目から3列目（0から始まるので注意）"
      ],
      "execution_count": 257,
      "outputs": [
        {
          "output_type": "stream",
          "text": [
            "   stock  Price\n",
            "0   10.0  500.0\n",
            "1   20.0  168.0\n",
            "2   15.0  250.0\n",
            "3    5.0  200.0\n",
            "4    NaN    NaN\n"
          ],
          "name": "stdout"
        }
      ]
    },
    {
      "cell_type": "code",
      "metadata": {
        "id": "FYLMvfZhpgSC",
        "colab_type": "code",
        "colab": {
          "base_uri": "https://localhost:8080/",
          "height": 122
        },
        "outputId": "87f51d9d-74d1-4f3b-dd5d-e0e44909bd24"
      },
      "source": [
        "total_stock = sum(df.iloc[0:3, 1])\n",
        "total_price = sum(df.iloc[0:3, 2])\n",
        "\n",
        "df.iloc[4,1] = total_stock\n",
        "df.iloc[4,2] = total_price\n",
        "\n",
        "print(df)\n",
        "df.to_csv('/content/drive/My Drive/test.csv',index=0)\n"
      ],
      "execution_count": 258,
      "outputs": [
        {
          "output_type": "stream",
          "text": [
            "    Menu  stock  Price\n",
            "0    スパム   10.0  500.0\n",
            "1      卵   20.0  168.0\n",
            "2   ベーコン   15.0  250.0\n",
            "3    レタス    5.0  200.0\n",
            "4  total   45.0  918.0\n"
          ],
          "name": "stdout"
        }
      ]
    },
    {
      "cell_type": "code",
      "metadata": {
        "id": "EXmJos85sfvQ",
        "colab_type": "code",
        "colab": {
          "base_uri": "https://localhost:8080/",
          "height": 122
        },
        "outputId": "96e64449-cc91-4829-b2e2-dd40980b7a98"
      },
      "source": [
        "df = pd.read_csv('/content/drive/My Drive/test.csv',\n",
        "                     delimiter=r\",\\s*\", header =0,  engine=\"python\")\n",
        "print(df)"
      ],
      "execution_count": 259,
      "outputs": [
        {
          "output_type": "stream",
          "text": [
            "    Menu  stock  Price\n",
            "0    スパム   10.0  500.0\n",
            "1      卵   20.0  168.0\n",
            "2   ベーコン   15.0  250.0\n",
            "3    レタス    5.0  200.0\n",
            "4  total   45.0  918.0\n"
          ],
          "name": "stdout"
        }
      ]
    }
  ]
}
