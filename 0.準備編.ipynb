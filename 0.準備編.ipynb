{
  "nbformat": 4,
  "nbformat_minor": 0,
  "metadata": {
    "colab": {
      "provenance": [],
      "authorship_tag": "ABX9TyPuIY4kxsLADWt9DEF2/oN+",
      "include_colab_link": true
    },
    "kernelspec": {
      "name": "python3",
      "display_name": "Python 3"
    },
    "language_info": {
      "name": "python"
    }
  },
  "cells": [
    {
      "cell_type": "markdown",
      "metadata": {
        "id": "view-in-github",
        "colab_type": "text"
      },
      "source": [
        "<a href=\"https://colab.research.google.com/github/ykitaguchi77/Laboratory_course/blob/master/0.%E6%BA%96%E5%82%99%E7%B7%A8.ipynb\" target=\"_parent\"><img src=\"https://colab.research.google.com/assets/colab-badge.svg\" alt=\"Open In Colab\"/></a>"
      ]
    },
    {
      "cell_type": "markdown",
      "source": [
        "#**0. 準備**\n",
        "\n",
        "###準備###\n",
        "\n",
        "1. Google driveの作成\n",
        "2. drive内に\"AI_laboratory_course\"フォルダを作成\n",
        "3. 下記アドレスのZIPファイルをダウンロードして解凍して、中身のファイルを先ほど作成したdrive内の\"AI_laboratory_course\"フォルダに移動\n",
        "https://drive.google.com/u/4/uc?id=1dg_E_0w4C8jRsGKKVowmsmuVixIG5uI5&export=download\n",
        "\n",
        "###教材###\n",
        "\n",
        "こちらから見ることができます。Githubは便利なツールなので、自分でも使えるようにしておくことをお勧めします。\n",
        " （Backupがしやすい、複数人で共同開発しやすい、など）\n",
        " https://github.com/ykitaguchi77/Laboratory_course"
      ],
      "metadata": {
        "id": "Psgf-rA8jlfN"
      }
    }
  ]
}