{
  "nbformat": 4,
  "nbformat_minor": 0,
  "metadata": {
    "colab": {
      "provenance": [],
      "gpuType": "T4",
      "include_colab_link": true
    },
    "kernelspec": {
      "name": "python3",
      "display_name": "Python 3"
    },
    "language_info": {
      "name": "python"
    },
    "accelerator": "GPU"
  },
  "cells": [
    {
      "cell_type": "markdown",
      "metadata": {
        "id": "view-in-github",
        "colab_type": "text"
      },
      "source": [
        "<a href=\"https://colab.research.google.com/github/suzuken0/Laboratory_course/blob/master/%E6%96%9C%E8%A6%96%E5%88%A4%E5%AE%9A_3.ipynb\" target=\"_parent\"><img src=\"https://colab.research.google.com/assets/colab-badge.svg\" alt=\"Open In Colab\"/></a>"
      ]
    },
    {
      "cell_type": "code",
      "source": [
        "import cv2\n",
        "from google.colab import drive\n",
        "import shutil\n",
        "drive.mount('/content/drive')\n",
        "#driveのマウント\n",
        "!git clone https://github.com/ultralytics/ultralytics\n",
        "%cd ultralytics\n",
        "#yolov8\n",
        "!pip install -r requirements.\n",
        "\n",
        "from ultralytics import YOLO\n",
        "model = YOLO(\"yolov8x.pt\")"
      ],
      "metadata": {
        "colab": {
          "base_uri": "https://localhost:8080/"
        },
        "id": "VuNkk3_Og-eI",
        "outputId": "afa92a80-e4c4-43be-8209-2c36020aea06"
      },
      "execution_count": null,
      "outputs": [
        {
          "output_type": "stream",
          "name": "stdout",
          "text": [
            "Mounted at /content/drive\n",
            "Cloning into 'ultralytics'...\n",
            "remote: Enumerating objects: 21655, done.\u001b[K\n",
            "remote: Counting objects: 100% (106/106), done.\u001b[K\n",
            "remote: Compressing objects: 100% (73/73), done.\u001b[K\n",
            "remote: Total 21655 (delta 46), reused 75 (delta 33), pack-reused 21549\u001b[K\n",
            "Receiving objects: 100% (21655/21655), 13.07 MiB | 19.65 MiB/s, done.\n",
            "Resolving deltas: 100% (15055/15055), done.\n",
            "/content/ultralytics\n",
            "\u001b[31mERROR: Could not open requirements file: [Errno 2] No such file or directory: 'requirements.'\u001b[0m\u001b[31m\n",
            "\u001b[0mDownloading https://github.com/ultralytics/assets/releases/download/v8.1.0/yolov8x.pt to 'yolov8x.pt'...\n"
          ]
        },
        {
          "output_type": "stream",
          "name": "stderr",
          "text": [
            "100%|██████████| 131M/131M [00:00<00:00, 218MB/s]\n"
          ]
        }
      ]
    },
    {
      "cell_type": "code",
      "source": [
        "\n",
        "# model = YOLO(\"yolov8n-seg.pt\")\n",
        "# results = model('bus.jpg',save=True,task='segment')#/content/ultralytics/bus.jpgを利用\n",
        "# #Results saved to /content/ultralytics/runs/segment/predictの下に保存される\n",
        "\n",
        "\n",
        "# Load a model\n",
        "model = YOLO('yolov8n-seg.yaml').load('yolov8n.pt')  # build from YAML and transfer weights\n",
        "\n",
        "#学習用\n",
        "# results = model.train(data='coco128-seg.yaml', epochs=5, imgsz=640)\n",
        "\n",
        "\n",
        "\n",
        "\n",
        "# コピー元ファイルのパス\n",
        "source_file_path = '/content/drive/MyDrive/AI_laboratory_course/武市/eyeditect-1.yaml'\n",
        "\n",
        "# コピー先フォルダのパス\n",
        "destination_folder = '/content/ultralytics/ultralytics/cfg/datasets'\n",
        "\n",
        "# shutilモジュールのcopy関数を使用してファイルをコピー\n",
        "shutil.copy(source_file_path, destination_folder)\n",
        "\n",
        "\n",
        "#nc = 3に変更\n",
        "# Load a model\n",
        "model = YOLO('yolov8n-seg.yaml').load('yolov8n.pt')  # build from YAML and transfer weights\n",
        "\n",
        "\n",
        "#学習用\n",
        "# result =  model.train(data='eyeditect-1.yaml', epochs=30, imgsz=640)\n",
        "\n",
        "\n",
        "# コンフィグは学習時と同じコンフィグでよい\n",
        "#model = YOLO(\"/Users/ryuka/workspace/Python/Image_AI/yolov8/ultralytics-main/ultralytics/cfg/models/v8/myyolov8.yaml\")  # build a new model from scratch\n",
        "\n",
        "# bestのモデルを使う,trainのウェイトのベストのパスを指定\n",
        "model = YOLO(\"/content/drive/MyDrive/AI_laboratory_course/武市/3foldersbest.pt\")  # load a pretrained model (recommended for training)\n",
        "\n",
        "\n",
        "#画像のパスを入力\n",
        "img_path = \"/content/自分_横.jpg\"\n",
        "results = model(img_path, save=True)  # predict on an image\n"
      ],
      "metadata": {
        "id": "XcO7FcXSaxZc",
        "colab": {
          "base_uri": "https://localhost:8080/"
        },
        "outputId": "705ccabd-04a7-449e-a45b-c7845b593acd"
      },
      "execution_count": null,
      "outputs": [
        {
          "output_type": "stream",
          "name": "stdout",
          "text": [
            "Transferred 355/417 items from pretrained weights\n",
            "Transferred 355/417 items from pretrained weights\n",
            "\n",
            "image 1/1 /content/自分_横.jpg: 640x480 (no detections), 337.4ms\n",
            "Speed: 5.1ms preprocess, 337.4ms inference, 0.5ms postprocess per image at shape (1, 3, 640, 480)\n",
            "Results saved to \u001b[1m/content/ultralytics/runs/segment/predict3\u001b[0m\n"
          ]
        }
      ]
    },
    {
      "cell_type": "code",
      "source": [
        "import numpy as np\n",
        "\n",
        "eyelid_boxes = []  # eyelidの座標を格納するためのリスト\n",
        "irys_boxes = []    # irysの座標を格納するためのリスト\n",
        "\n",
        "result = results[0]  # 検出結果を取得\n",
        "\n",
        "# 検出されたオブジェクトを一度に処理\n",
        "for box in result.boxes:\n",
        "    class_id = result.names[box.cls[0].item()]  # オブジェクトのクラスIDを取得\n",
        "    cords = box.xyxy[0].tolist()  # バウンディングボックスの座標をリストとして取得\n",
        "    cords = [round(x) for x in cords]  # 座標を四捨五入\n",
        "\n",
        "    # クラスIDに応じて対応するリストに座標を追加\n",
        "    if class_id == 'eyelid':\n",
        "        eyelid_boxes.append(np.array([[cords[0], cords[1]], [cords[2], cords[3]]]))\n",
        "    elif class_id == 'irys':\n",
        "        irys_boxes.append(np.array([[cords[0], cords[1]], [cords[2], cords[3]]]))\n",
        "\n",
        "# 取得したeyelidのバウンディングボックスの座標を表示\n",
        "for i, box in enumerate(eyelid_boxes):\n",
        "    print(f\"Eyelid {i}: Coordinates: \\n{box}\")\n",
        "\n",
        "# 取得したirysのバウンディングボックスの座標を表示\n",
        "for i, box in enumerate(irys_boxes):\n",
        "    print(f\"Irys {i}: Coordinates: \\n{box}\")\n",
        "\n",
        "\n",
        "# prompt: 同様にして、pupil_boxesを作って\n",
        "\n",
        "import numpy as np\n",
        "pupil_boxes = []  # pupilの座標を格納するためのリスト\n",
        "\n",
        "# 検出されたオブジェクトを一度に処理\n",
        "for box in result.boxes:\n",
        "    class_id = result.names[box.cls[0].item()]  # オブジェクトのクラスIDを取得\n",
        "    cords = box.xyxy[0].tolist()  # バウンディングボックスの座標をリストとして取得\n",
        "    cords = [round(x) for x in cords]  # 座標を四捨五入\n",
        "\n",
        "    # クラスIDに応じて対応するリストに座標を追加\n",
        "    if class_id == 'pupil':\n",
        "        pupil_boxes.append(np.array([[cords[0], cords[1]], [cords[2], cords[3]]]))\n",
        "\n",
        "# 取得したpupilのバウンディングボックスの座標を表示\n",
        "for i, box in enumerate(pupil_boxes):\n",
        "    print(f\"Pupil {i}: Coordinates: \\n{box}\")\n",
        "\n",
        "\n",
        "# prompt: eyelid_boxes[0]の二つの座標から重心を出して\n",
        "\n",
        "\n",
        "eyelid_center = np.mean(eyelid_boxes[0], axis=0)\n",
        "# print(\"Eyelid center coordinates:\", eyelid_center)\n",
        "irys_center = np.mean(irys_boxes[0], axis=0)\n",
        "# print(\"Irys center coordinates:\", irys_center)\n",
        "\n",
        "\n",
        "pupil_center = np.mean(pupil_boxes[0], axis=0)\n",
        "print(\"Pupil center coordinates:\", pupil_center)\n",
        "\n",
        "\n",
        "# prompt: pupil_centerからirys_boxesによって構成される長方形の各辺の長さを調べ、絶対値が一番大きい値をdiameterに代入して\n",
        "\n",
        "# irys_boxes[0]の左上の座標を取得\n",
        "irys_top_left = irys_boxes[0][0]\n",
        "\n",
        "# irys_boxes[0]の右下の座標を取得\n",
        "irys_bottom_right = irys_boxes[0][1]\n",
        "\n",
        "# irys_boxes[0]の長方形の幅を計算\n",
        "irys_width = abs(irys_top_left[0] - irys_bottom_right[0])\n",
        "\n",
        "# irys_boxes[0]の長方形の高さを計算\n",
        "irys_height = abs(irys_top_left[1] - irys_bottom_right[1])\n",
        "\n",
        "# pupil_centerからirys_boxes[0]の長方形の左辺までの距離を計算\n",
        "left_distance = abs(pupil_center[0] - irys_top_left[0])\n",
        "\n",
        "# pupil_centerからirys_boxes[0]の長方形の右辺までの距離を計算\n",
        "right_distance = abs(pupil_center[0] - irys_bottom_right[0])\n",
        "\n",
        "# pupil_centerからirys_boxes[0]の長方形の上辺までの距離を計算\n",
        "top_distance = abs(pupil_center[1] - irys_top_left[1])\n",
        "\n",
        "# pupil_centerからirys_boxes[0]の長方形の下辺までの距離を計算\n",
        "bottom_distance = abs(pupil_center[1] - irys_bottom_right[1])\n",
        "\n",
        "# 4辺の長さのうち、絶対値が一番大きい値をdiameterに代入\n",
        "diameter = max(irys_width, irys_height, left_distance * 2, right_distance * 2, top_distance * 2, bottom_distance * 2)\n",
        "\n",
        "print(\"Diameter:\", diameter)\n",
        "\n",
        "\n",
        "\n",
        "\n",
        "\n",
        "#眼球中心からのベクトル\n",
        "eyelid_vec = np.array([eyelid_center[0], eyelid_center[1], diameter])\n",
        "iris_vec = np.array([irys_center[0], irys_center[1], diameter])\n",
        "\n",
        "iris_vec = np.array([irys_center[0], irys_center[1], diameter])\n",
        "eyelid_vec = np.array([eyelid_center[0], eyelid_center[1], diameter])\n",
        "\n",
        "# 内積を求める\n",
        "dot_product = np.dot(iris_vec, eyelid_vec)\n",
        "\n",
        "# ノルムを求める\n",
        "iris_norm = np.linalg.norm(iris_vec)\n",
        "eyelid_norm = np.linalg.norm(eyelid_vec)\n",
        "\n",
        "# コサインを求める\n",
        "cos_theta = dot_product / (iris_norm * eyelid_norm)\n",
        "\n",
        "# ラジアンから度に変換\n",
        "theta = round(np.arccos(cos_theta) * 180 / np.pi, 2)\n",
        "\n",
        "# 結果を出力\n",
        "print(\"斜視角\", theta, \"度です。\")\n",
        "\n",
        "\n",
        "from google.colab.patches import cv2_imshow\n",
        "import cv2\n",
        "\n",
        "# 画像を読み込む\n",
        "img = cv2.imread(img_path)\n",
        "\n",
        "# 矢印の始点と終点を指定\n",
        "p1 = tuple(int(i) for i in eyelid_center)\n",
        "p2 = tuple(int(i) for i in pupil_center)  # irys_centerをそのまま使用\n",
        "\n",
        "# 矢印を描画\n",
        "cv2.arrowedLine(img, p1, p2, (0, 255, 0), 2)\n",
        "\n",
        "# 画像を表示\n",
        "cv2_imshow(img)"
      ],
      "metadata": {
        "colab": {
          "base_uri": "https://localhost:8080/",
          "height": 219
        },
        "id": "RYt3Znf02RMc",
        "outputId": "b94178bb-a25d-4742-ca2a-8e7a91310039"
      },
      "execution_count": null,
      "outputs": [
        {
          "output_type": "error",
          "ename": "IndexError",
          "evalue": "list index out of range",
          "traceback": [
            "\u001b[0;31m---------------------------------------------------------------------------\u001b[0m",
            "\u001b[0;31mIndexError\u001b[0m                                Traceback (most recent call last)",
            "\u001b[0;32m<ipython-input-17-362489cedbaf>\u001b[0m in \u001b[0;36m<cell line: 52>\u001b[0;34m()\u001b[0m\n\u001b[1;32m     50\u001b[0m \u001b[0;34m\u001b[0m\u001b[0m\n\u001b[1;32m     51\u001b[0m \u001b[0;34m\u001b[0m\u001b[0m\n\u001b[0;32m---> 52\u001b[0;31m \u001b[0meyelid_center\u001b[0m \u001b[0;34m=\u001b[0m \u001b[0mnp\u001b[0m\u001b[0;34m.\u001b[0m\u001b[0mmean\u001b[0m\u001b[0;34m(\u001b[0m\u001b[0meyelid_boxes\u001b[0m\u001b[0;34m[\u001b[0m\u001b[0;36m0\u001b[0m\u001b[0;34m]\u001b[0m\u001b[0;34m,\u001b[0m \u001b[0maxis\u001b[0m\u001b[0;34m=\u001b[0m\u001b[0;36m0\u001b[0m\u001b[0;34m)\u001b[0m\u001b[0;34m\u001b[0m\u001b[0;34m\u001b[0m\u001b[0m\n\u001b[0m\u001b[1;32m     53\u001b[0m \u001b[0;31m# print(\"Eyelid center coordinates:\", eyelid_center)\u001b[0m\u001b[0;34m\u001b[0m\u001b[0;34m\u001b[0m\u001b[0m\n\u001b[1;32m     54\u001b[0m \u001b[0mirys_center\u001b[0m \u001b[0;34m=\u001b[0m \u001b[0mnp\u001b[0m\u001b[0;34m.\u001b[0m\u001b[0mmean\u001b[0m\u001b[0;34m(\u001b[0m\u001b[0mirys_boxes\u001b[0m\u001b[0;34m[\u001b[0m\u001b[0;36m0\u001b[0m\u001b[0;34m]\u001b[0m\u001b[0;34m,\u001b[0m \u001b[0maxis\u001b[0m\u001b[0;34m=\u001b[0m\u001b[0;36m0\u001b[0m\u001b[0;34m)\u001b[0m\u001b[0;34m\u001b[0m\u001b[0;34m\u001b[0m\u001b[0m\n",
            "\u001b[0;31mIndexError\u001b[0m: list index out of range"
          ]
        }
      ]
    },
    {
      "cell_type": "code",
      "source": [
        "# prompt: pupil_centerとeyelid_centerの距離を求めて、projectionに代入して\n",
        "\n",
        "import math\n",
        "\n",
        "# pupil_centerとeyelid_centerの距離を求める\n",
        "projection = math.sqrt(((eyelid_center[0] - pupil_center[0]) ** 2) + ((eyelid_center[1] - pupil_center[1]) ** 2))\n",
        "\n",
        "\n"
      ],
      "metadata": {
        "id": "66VOzeq7UDpu"
      },
      "execution_count": null,
      "outputs": []
    },
    {
      "cell_type": "code",
      "source": [
        "# prompt: projection/diameterの値をarcsinに代入して、角度を少数第二位まで求めて\n",
        "\n",
        "import math\n",
        "\n",
        "# projection/diameterの値をarcsinに代入\n",
        "arcsin_value = math.asin(projection / diameter)\n",
        "\n",
        "# 角度を少数第二位まで求める\n",
        "angle = round(arcsin_value * 180 / math.pi, 2)\n",
        "\n",
        "# 結果を出力\n",
        "print(\"斜視角:\", angle, \"度\")\n",
        "cv2_imshow(img)"
      ],
      "metadata": {
        "id": "V7wI7VPxV4eH"
      },
      "execution_count": null,
      "outputs": []
    },
    {
      "cell_type": "code",
      "source": [],
      "metadata": {
        "id": "KPfW8ro4setZ"
      },
      "execution_count": null,
      "outputs": []
    },
    {
      "cell_type": "markdown",
      "source": [
        "以下は、眼球を球、瞳孔を球面上の円と仮定して、瞳孔の楕円の形から斜視角を判定しようとしました。もともとの瞳孔が正円とは限らないせいか、いい結果は得られませんでした。\n"
      ],
      "metadata": {
        "id": "-s8k5RT-sgBs"
      }
    },
    {
      "cell_type": "code",
      "source": [],
      "metadata": {
        "id": "8RiyAjl4selc"
      },
      "execution_count": null,
      "outputs": []
    },
    {
      "cell_type": "code",
      "source": [
        "# prompt: pupilの縦幅と横幅を求めてください\n",
        "\n",
        "# irys_boxes[0]の左上の座標を取得\n",
        "irys_top_left = irys_boxes[0][0]\n",
        "\n",
        "# irys_boxes[0]の右下の座標を取得\n",
        "irys_bottom_right = irys_boxes[0][1]\n",
        "\n",
        "# irys_boxes[0]の長方形の幅を計算\n",
        "irys_width = abs(irys_top_left[0] - irys_bottom_right[0])\n",
        "\n",
        "# irys_boxes[0]の長方形の高さを計算\n",
        "irys_height = abs(irys_top_left[1] - irys_bottom_right[1])\n",
        "\n",
        "print(\"Pupil width:\", irys_width)\n",
        "print(\"Pupil height:\", irys_height)\n"
      ],
      "metadata": {
        "colab": {
          "base_uri": "https://localhost:8080/"
        },
        "id": "blb_qN-HqVm5",
        "outputId": "aa9b3bdd-a327-469d-8da7-daf3a5b1bcbb"
      },
      "execution_count": null,
      "outputs": [
        {
          "output_type": "stream",
          "name": "stdout",
          "text": [
            "Pupil width: 437\n",
            "Pupil height: 383\n"
          ]
        }
      ]
    },
    {
      "cell_type": "code",
      "source": [
        "# prompt: pupil_width/pupil_heightとpupil_height/pupil_widthの内、小さい方をarccosに入れて、角度を小数点第二位まで求めてください\n",
        "\n",
        "pupil_aspect_ratio = min(irys_width / irys_height, irys_height / irys_width)\n",
        "pupil_angle = round(math.acos(pupil_aspect_ratio) * 180 / math.pi, 2)\n",
        "print(\"斜視角:\", pupil_angle, \"degrees\")\n",
        "cv2_imshow(img)"
      ],
      "metadata": {
        "id": "yBP0kshVqgs4"
      },
      "execution_count": null,
      "outputs": []
    },
    {
      "cell_type": "code",
      "source": [
        "pupil_width / pupil_height"
      ],
      "metadata": {
        "colab": {
          "base_uri": "https://localhost:8080/"
        },
        "id": "ODVWLAJzrSrG",
        "outputId": "bb447c82-511e-4b8a-8678-0acc26a39f81"
      },
      "execution_count": null,
      "outputs": [
        {
          "output_type": "execute_result",
          "data": {
            "text/plain": [
              "1.162962962962963"
            ]
          },
          "metadata": {},
          "execution_count": 120
        }
      ]
    },
    {
      "cell_type": "markdown",
      "source": [],
      "metadata": {
        "id": "2m0nCrusrMkK"
      }
    }
  ]
}