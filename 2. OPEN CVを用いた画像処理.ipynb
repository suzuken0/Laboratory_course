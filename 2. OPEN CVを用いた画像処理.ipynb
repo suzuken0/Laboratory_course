{
  "nbformat": 4,
  "nbformat_minor": 0,
  "metadata": {
    "colab": {
      "name": "Untitled17.ipynb",
      "provenance": [],
      "include_colab_link": true
    },
    "kernelspec": {
      "name": "python3",
      "display_name": "Python 3"
    }
  },
  "cells": [
    {
      "cell_type": "markdown",
      "metadata": {
        "id": "view-in-github",
        "colab_type": "text"
      },
      "source": [
        "<a href=\"https://colab.research.google.com/github/ykitaguchi77/Laboratory_course/blob/master/2.%20OPEN%20CV%E3%82%92%E7%94%A8%E3%81%84%E3%81%9F%E7%94%BB%E5%83%8F%E5%87%A6%E7%90%86.ipynb\" target=\"_parent\"><img src=\"https://colab.research.google.com/assets/colab-badge.svg\" alt=\"Open In Colab\"/></a>"
      ]
    },
    {
      "cell_type": "markdown",
      "metadata": {
        "id": "57FBL-0R_hj3"
      },
      "source": [
        "#OPEN CVを用いて画像処理をしてみよう"
      ]
    },
    {
      "cell_type": "markdown",
      "metadata": {
        "id": "cESqyg9E_qNw"
      },
      "source": [
        "Google driveをマウントする"
      ]
    },
    {
      "cell_type": "code",
      "metadata": {
        "id": "9aq5TdBT6SKc",
        "colab": {
          "base_uri": "https://localhost:8080/"
        },
        "outputId": "23fcc6b5-255c-49f0-ab52-a0ffe4325312"
      },
      "source": [
        "from google.colab import drive\n",
        "drive.mount('/content/drive')"
      ],
      "execution_count": 2,
      "outputs": [
        {
          "output_type": "stream",
          "name": "stdout",
          "text": [
            "Drive already mounted at /content/drive; to attempt to forcibly remount, call drive.mount(\"/content/drive\", force_remount=True).\n"
          ]
        }
      ]
    },
    {
      "cell_type": "markdown",
      "metadata": {
        "id": "VtUrUW9Z_wgn"
      },
      "source": [
        "OPEN CVを用いて画像を表示"
      ]
    },
    {
      "cell_type": "code",
      "metadata": {
        "id": "uzOkfpsv6eib"
      },
      "source": [
        "#サポートパッチのインポート\n",
        "from google.colab.patches import cv2_imshow\n",
        "import cv2\n",
        "\n",
        "#画像のインポート\n",
        "\n",
        "img = cv2.imread('/content/drive/My Drive/AI_laboratory_course/goldenretriever-3724972_640.jpg', cv2.IMREAD_UNCHANGED)\n",
        "cv2_imshow(img)"
      ],
      "execution_count": null,
      "outputs": []
    },
    {
      "cell_type": "code",
      "metadata": {
        "id": "IxVdgf6L6pNx",
        "colab": {
          "base_uri": "https://localhost:8080/"
        },
        "outputId": "0df7f5db-a677-47a1-bd7c-0dacbe3e8974"
      },
      "source": [
        "print(img.shape)\n",
        "print(img.shape[0])\n",
        "print(img.shape[1])\n",
        "print(img.shape[2])"
      ],
      "execution_count": 6,
      "outputs": [
        {
          "output_type": "stream",
          "name": "stdout",
          "text": [
            "(640, 960, 3)\n",
            "640\n",
            "960\n",
            "3\n"
          ]
        }
      ]
    },
    {
      "cell_type": "markdown",
      "metadata": {
        "id": "sT9riVsCifWz"
      },
      "source": [
        "#画像処理：切り抜き\n",
        "参考：https://qiita.com/ikanamazu/items/d752225a0a9834ce0d41"
      ]
    },
    {
      "cell_type": "code",
      "metadata": {
        "id": "9LGGOeCKifgq"
      },
      "source": [
        "# サンプル1の切り出し\n",
        "img1 = img[200 : 500, 100: 700]\n",
        "\n",
        "#画像を表示\n",
        "cv2_imshow(img1)\n"
      ],
      "execution_count": null,
      "outputs": []
    },
    {
      "cell_type": "code",
      "metadata": {
        "id": "bIn6T-GHkU-p"
      },
      "source": [
        "#画像の保存\n",
        "cv2.imwrite('/content/drive/My Drive/AI_laboratory_course/result.jpg',img1)\n"
      ],
      "execution_count": null,
      "outputs": []
    },
    {
      "cell_type": "markdown",
      "metadata": {
        "id": "WmzTRN7I87jD"
      },
      "source": [
        "#画像処理：並進、回転\n",
        "参考： http://labs.eecs.tottori-u.ac.jp/sd/Member/oyamada/OpenCV/html/py_tutorials/py_imgproc/py_geometric_transformations/py_geometric_transformations.html"
      ]
    },
    {
      "cell_type": "code",
      "metadata": {
        "id": "U3cjGigE6lxQ"
      },
      "source": [
        "#高さを定義\n",
        "height = img.shape[0]                         \n",
        "#幅を定義\n",
        "width = img.shape[1]  \n",
        "#回転の中心を指定                          \n",
        "center = (int(width/2), int(height/2))"
      ],
      "execution_count": null,
      "outputs": []
    },
    {
      "cell_type": "code",
      "metadata": {
        "id": "ewBFbtKW69cK"
      },
      "source": [
        "import numpy as np\n",
        "\n",
        "#移動量を指定\n",
        "horizontal_move = 200\n",
        "vertical_move = 0\n",
        "#回転角を指定\n",
        "angle = 30\n",
        "#スケールを指定\n",
        "scale = 0.5\n",
        "\n",
        "#getRotationMatrix2D関数を使用\n",
        "move = np.float32([[1,0,horizontal_move],[0,1,vertical_move]])\n",
        "rotate = cv2.getRotationMatrix2D(center, angle , scale)\n",
        "\n",
        "#アフィン変換(cv2.warpaffine(img,処理,キャンパスの大きさ))\n",
        "img2 = cv2.warpAffine(img, rotate, (width,height))\n",
        "img3 = cv2.warpAffine(img2, move, (width,height))\n",
        "\n",
        "#画像を表示\n",
        "cv2_imshow(img3)\n"
      ],
      "execution_count": null,
      "outputs": []
    },
    {
      "cell_type": "markdown",
      "metadata": {
        "id": "McGz2HUz_94f"
      },
      "source": [
        "# 画像を保存\n",
        "\n"
      ]
    },
    {
      "cell_type": "code",
      "metadata": {
        "id": "-DGctSVe-tlA"
      },
      "source": [
        "cv2.imwrite('/content/drive/My Drive/AI_laboratory_course/result.jpg',img3)\n"
      ],
      "execution_count": null,
      "outputs": []
    }
  ]
}