{
  "nbformat": 4,
  "nbformat_minor": 0,
  "metadata": {
    "colab": {
      "provenance": [],
      "include_colab_link": true
    },
    "kernelspec": {
      "name": "python3",
      "display_name": "Python 3"
    },
    "language_info": {
      "name": "python"
    }
  },
  "cells": [
    {
      "cell_type": "markdown",
      "metadata": {
        "id": "view-in-github",
        "colab_type": "text"
      },
      "source": [
        "<a href=\"https://colab.research.google.com/github/suzuken0/Laboratory_course/blob/master/concat_coco_format_json.ipynb\" target=\"_parent\"><img src=\"https://colab.research.google.com/assets/colab-badge.svg\" alt=\"Open In Colab\"/></a>"
      ]
    },
    {
      "cell_type": "markdown",
      "source": [
        "MobiusデータセットからCOCO-jsonへ変換"
      ],
      "metadata": {
        "id": "uTWF5uB8AGES"
      }
    },
    {
      "cell_type": "code",
      "source": [
        "import cv2\n",
        "import numpy as np\n",
        "import json\n",
        "from skimage import measure\n",
        "import os\n",
        "from google.colab import drive\n",
        "import matplotlib\n",
        "from matplotlib import pyplot as plt\n",
        "\n",
        "%pip install tqdm\n",
        "from tqdm import tqdm"
      ],
      "metadata": {
        "colab": {
          "base_uri": "https://localhost:8080/"
        },
        "id": "xPRoPIXmq9cA",
        "outputId": "59d1c78f-f46b-4f36-a7b7-154dc89cb16f"
      },
      "execution_count": null,
      "outputs": [
        {
          "output_type": "stream",
          "name": "stdout",
          "text": [
            "Requirement already satisfied: tqdm in /usr/local/lib/python3.10/dist-packages (4.66.1)\n"
          ]
        }
      ]
    },
    {
      "cell_type": "code",
      "source": [
        "!pip install labelme2coco\n",
        "import labelme2coco"
      ],
      "metadata": {
        "colab": {
          "base_uri": "https://localhost:8080/",
          "height": 899
        },
        "id": "jiwIN-SSiIed",
        "outputId": "cc4bd9e1-4df9-4a41-db7a-d40d2b762764"
      },
      "execution_count": null,
      "outputs": [
        {
          "output_type": "stream",
          "name": "stdout",
          "text": [
            "Collecting labelme2coco\n",
            "  Downloading labelme2coco-0.2.4-py3-none-any.whl (19 kB)\n",
            "Collecting sahi>=0.8.19 (from labelme2coco)\n",
            "  Downloading sahi-0.11.15-py3-none-any.whl (105 kB)\n",
            "\u001b[?25l     \u001b[90m━━━━━━━━━━━━━━━━━━━━━━━━━━━━━━━━━━━━━━━━\u001b[0m \u001b[32m0.0/105.4 kB\u001b[0m \u001b[31m?\u001b[0m eta \u001b[36m-:--:--\u001b[0m\r\u001b[2K     \u001b[90m━━━━━━━━━━━━━━━━━━━━━━━━━━━━━━━━━━━━━━━━\u001b[0m \u001b[32m105.4/105.4 kB\u001b[0m \u001b[31m3.8 MB/s\u001b[0m eta \u001b[36m0:00:00\u001b[0m\n",
            "\u001b[?25hRequirement already satisfied: jsonschema>=2.6.0 in /usr/local/lib/python3.10/dist-packages (from labelme2coco) (4.19.2)\n",
            "Requirement already satisfied: attrs>=22.2.0 in /usr/local/lib/python3.10/dist-packages (from jsonschema>=2.6.0->labelme2coco) (23.2.0)\n",
            "Requirement already satisfied: jsonschema-specifications>=2023.03.6 in /usr/local/lib/python3.10/dist-packages (from jsonschema>=2.6.0->labelme2coco) (2023.12.1)\n",
            "Requirement already satisfied: referencing>=0.28.4 in /usr/local/lib/python3.10/dist-packages (from jsonschema>=2.6.0->labelme2coco) (0.32.1)\n",
            "Requirement already satisfied: rpds-py>=0.7.1 in /usr/local/lib/python3.10/dist-packages (from jsonschema>=2.6.0->labelme2coco) (0.17.1)\n",
            "Collecting opencv-python<=4.8 (from sahi>=0.8.19->labelme2coco)\n",
            "  Downloading opencv_python-4.7.0.72-cp37-abi3-manylinux_2_17_x86_64.manylinux2014_x86_64.whl (61.8 MB)\n",
            "\u001b[2K     \u001b[90m━━━━━━━━━━━━━━━━━━━━━━━━━━━━━━━━━━━━━━━━\u001b[0m \u001b[32m61.8/61.8 MB\u001b[0m \u001b[31m11.3 MB/s\u001b[0m eta \u001b[36m0:00:00\u001b[0m\n",
            "\u001b[?25hRequirement already satisfied: shapely>=1.8.0 in /usr/local/lib/python3.10/dist-packages (from sahi>=0.8.19->labelme2coco) (2.0.2)\n",
            "Requirement already satisfied: tqdm>=4.48.2 in /usr/local/lib/python3.10/dist-packages (from sahi>=0.8.19->labelme2coco) (4.66.1)\n",
            "Requirement already satisfied: pillow>=8.2.0 in /usr/local/lib/python3.10/dist-packages (from sahi>=0.8.19->labelme2coco) (9.4.0)\n",
            "Collecting pybboxes==0.1.6 (from sahi>=0.8.19->labelme2coco)\n",
            "  Downloading pybboxes-0.1.6-py3-none-any.whl (24 kB)\n",
            "Requirement already satisfied: pyyaml in /usr/local/lib/python3.10/dist-packages (from sahi>=0.8.19->labelme2coco) (6.0.1)\n",
            "Collecting fire (from sahi>=0.8.19->labelme2coco)\n",
            "  Downloading fire-0.5.0.tar.gz (88 kB)\n",
            "\u001b[2K     \u001b[90m━━━━━━━━━━━━━━━━━━━━━━━━━━━━━━━━━━━━━━━━\u001b[0m \u001b[32m88.3/88.3 kB\u001b[0m \u001b[31m7.9 MB/s\u001b[0m eta \u001b[36m0:00:00\u001b[0m\n",
            "\u001b[?25h  Preparing metadata (setup.py) ... \u001b[?25l\u001b[?25hdone\n",
            "Collecting terminaltables (from sahi>=0.8.19->labelme2coco)\n",
            "  Downloading terminaltables-3.1.10-py2.py3-none-any.whl (15 kB)\n",
            "Requirement already satisfied: requests in /usr/local/lib/python3.10/dist-packages (from sahi>=0.8.19->labelme2coco) (2.31.0)\n",
            "Requirement already satisfied: click in /usr/local/lib/python3.10/dist-packages (from sahi>=0.8.19->labelme2coco) (8.1.7)\n",
            "Requirement already satisfied: numpy in /usr/local/lib/python3.10/dist-packages (from pybboxes==0.1.6->sahi>=0.8.19->labelme2coco) (1.23.5)\n",
            "Requirement already satisfied: six in /usr/local/lib/python3.10/dist-packages (from fire->sahi>=0.8.19->labelme2coco) (1.16.0)\n",
            "Requirement already satisfied: termcolor in /usr/local/lib/python3.10/dist-packages (from fire->sahi>=0.8.19->labelme2coco) (2.4.0)\n",
            "Requirement already satisfied: charset-normalizer<4,>=2 in /usr/local/lib/python3.10/dist-packages (from requests->sahi>=0.8.19->labelme2coco) (3.3.2)\n",
            "Requirement already satisfied: idna<4,>=2.5 in /usr/local/lib/python3.10/dist-packages (from requests->sahi>=0.8.19->labelme2coco) (3.6)\n",
            "Requirement already satisfied: urllib3<3,>=1.21.1 in /usr/local/lib/python3.10/dist-packages (from requests->sahi>=0.8.19->labelme2coco) (2.0.7)\n",
            "Requirement already satisfied: certifi>=2017.4.17 in /usr/local/lib/python3.10/dist-packages (from requests->sahi>=0.8.19->labelme2coco) (2023.11.17)\n",
            "Building wheels for collected packages: fire\n",
            "  Building wheel for fire (setup.py) ... \u001b[?25l\u001b[?25hdone\n",
            "  Created wheel for fire: filename=fire-0.5.0-py2.py3-none-any.whl size=116934 sha256=0dcf13085b68c264333c85d99e2ca31e104c15995615bd5633c547d8a1ed25c0\n",
            "  Stored in directory: /root/.cache/pip/wheels/90/d4/f7/9404e5db0116bd4d43e5666eaa3e70ab53723e1e3ea40c9a95\n",
            "Successfully built fire\n",
            "Installing collected packages: terminaltables, pybboxes, opencv-python, fire, sahi, labelme2coco\n",
            "  Attempting uninstall: opencv-python\n",
            "    Found existing installation: opencv-python 4.8.0.76\n",
            "    Uninstalling opencv-python-4.8.0.76:\n",
            "      Successfully uninstalled opencv-python-4.8.0.76\n",
            "Successfully installed fire-0.5.0 labelme2coco-0.2.4 opencv-python-4.7.0.72 pybboxes-0.1.6 sahi-0.11.15 terminaltables-3.1.10\n"
          ]
        },
        {
          "output_type": "display_data",
          "data": {
            "application/vnd.colab-display-data+json": {
              "pip_warning": {
                "packages": [
                  "cv2"
                ]
              }
            }
          },
          "metadata": {}
        }
      ]
    },
    {
      "cell_type": "code",
      "source": [
        "drive.mount('/content/drive')"
      ],
      "metadata": {
        "colab": {
          "base_uri": "https://localhost:8080/"
        },
        "id": "NqTy1qK1rf5K",
        "outputId": "6e20de61-01dc-4832-8e42-6839776aa101"
      },
      "execution_count": null,
      "outputs": [
        {
          "output_type": "stream",
          "name": "stdout",
          "text": [
            "Mounted at /content/drive\n"
          ]
        }
      ]
    },
    {
      "cell_type": "code",
      "source": [
        "def create_mask(image, color):\n",
        "    return np.all(image == color, axis=-1)\n",
        "\n",
        "\n",
        "def apply_mask(image, mask):\n",
        "    return np.where(mask, 255, 0)\n",
        "\n",
        "\n",
        "def extract_contours(img, _num_points):\n",
        "    contours = measure.find_contours(img, 0.5)\n",
        "    points_list = []\n",
        "\n",
        "    for contour in contours:\n",
        "        contour_length = len(contour)\n",
        "\n",
        "        if contour_length > _num_points:\n",
        "            step = contour_length // _num_points\n",
        "            selected_points = [contour[i * step] for i in range(_num_points)]\n",
        "        else:\n",
        "            selected_points = contour\n",
        "\n",
        "        points = [[float(point[1]), float(point[0])] for point in selected_points]\n",
        "        points_list.append(points)\n",
        "\n",
        "    return points_list\n",
        "\n",
        "\n",
        "def create_json(points_list_blue, points_list_blue_green, points_list_all_colors, json_name, img_path, img_data, img_height, img_width):\n",
        "    data = {\n",
        "        \"version\": \"5.4.1\",\n",
        "        \"flags\": {},\n",
        "        \"shapes\": [],\n",
        "        \"imagePath\": img_path,\n",
        "        \"imageData\": img_data,\n",
        "        \"imageHeight\": img_height,\n",
        "        \"imageWidth\": img_width\n",
        "    }\n",
        "\n",
        "    data[\"shapes\"].append({\n",
        "        \"label\": \"eyelid\",\n",
        "        \"points\": points_list_all_colors,\n",
        "        \"group_id\": None,\n",
        "        \"description\": \"\",\n",
        "        \"shape_type\": \"polygon\",\n",
        "        \"flags\": {},\n",
        "        \"mask\": None\n",
        "    })\n",
        "\n",
        "    data[\"shapes\"].append({\n",
        "        \"label\": \"iris\",\n",
        "        \"points\": points_list_blue_green,\n",
        "        \"group_id\": None,\n",
        "        \"description\": \"\",\n",
        "        \"shape_type\": \"polygon\",\n",
        "        \"flags\": {},\n",
        "        \"mask\": None\n",
        "    })\n",
        "\n",
        "    data[\"shapes\"].append({\n",
        "        \"label\": \"pupil\",\n",
        "        \"points\": points_list_blue,\n",
        "        \"group_id\": None,\n",
        "        \"description\": \"\",\n",
        "        \"shape_type\": \"polygon\",\n",
        "        \"flags\": {},\n",
        "        \"mask\": None\n",
        "    })\n",
        "\n",
        "    with open(json_name, 'w') as fw:\n",
        "        json.dump(data, fw, indent=2)\n",
        "\n",
        "\n",
        "def main(mask_file, json_name):\n",
        "    img = cv2.imread(mask_file, cv2.IMREAD_COLOR)\n",
        "    img_height, img_width = img.shape[:2]\n",
        "\n",
        "    mask_blue = create_mask(img, [255, 0, 0])\n",
        "    mask_green = create_mask(img, [0, 255, 0])\n",
        "    mask_red = create_mask(img, [0, 0, 255])\n",
        "\n",
        "    mask_blue_green = np.logical_or(mask_blue, mask_green)\n",
        "    mask_all_colors = np.logical_or(mask_blue_green, mask_red)\n",
        "\n",
        "    img_blue = apply_mask(img, mask_blue)\n",
        "    img_blue_green = apply_mask(img, mask_blue_green)\n",
        "    img_all_colors = apply_mask(img, mask_all_colors)\n",
        "\n",
        "    points_list_blue = extract_contours(img_blue, num_points)\n",
        "    points_list_blue_green = extract_contours(img_blue_green, num_points)\n",
        "    points_list_all_colors = extract_contours(img_all_colors, num_points)\n",
        "\n",
        "    create_json(points_list_blue, points_list_blue_green, points_list_all_colors, json_name, mask_file, \"/9\", img_height, img_width)\n",
        "\n",
        "\n",
        "\n",
        "\n",
        "\n",
        "\n",
        "def process_images(base_dir, output_dir, num_images=10):\n",
        "    mask_dir = os.path.join(base_dir, \"Masks\")\n",
        "    json_dir = os.path.join(base_dir, \"json\")\n",
        "\n",
        "    # 画像ファイルの総数を取得（進捗バーの最大値として使用）\n",
        "    total_images = sum([len(files) for r, d, files in os.walk(mask_dir) if files])\n",
        "\n",
        "    # tqdmを使って進捗バーを初期化\n",
        "    with tqdm(total=min(total_images, num_images)) as pbar:\n",
        "        for folder in os.listdir(mask_dir):\n",
        "            folder_path = os.path.join(mask_dir, folder)\n",
        "            if not os.path.isdir(folder_path):\n",
        "                continue\n",
        "\n",
        "            output_folder = os.path.join(json_dir, folder)\n",
        "            os.makedirs(output_folder, exist_ok=True)\n",
        "\n",
        "            for filename in os.listdir(folder_path):\n",
        "                if filename.endswith(\".png\"):\n",
        "                    mask_file = os.path.join(folder_path, filename)\n",
        "                    json_name = os.path.join(output_folder, filename.replace(\".png\", \".json\"))\n",
        "                    main(mask_file, json_name)\n",
        "\n",
        "                    pbar.update(1)  # 進捗バーを更新\n",
        "                    if pbar.n >= num_images:\n",
        "                        return  # 指定された数の画像を処理したら終了\n"
      ],
      "metadata": {
        "id": "2HTyh9p_rEw7"
      },
      "execution_count": null,
      "outputs": []
    },
    {
      "cell_type": "code",
      "source": [
        "\n",
        "\n",
        "\n",
        "#マスクされた画像のパスを指定してください。\n",
        "mask_file = \"/content/drive/MyDrive/AI_laboratory_course/YOLACT_Mobius_ocular_dataset/Masks/1/1_3n_Rl_1.png\"\n",
        "json_name = \"output.json\"\n",
        "\n",
        "#輪郭点の個数を指定してください。\n",
        "num_points = 24\n",
        "\n",
        "if __name__ == '__main__':\n",
        "    main(mask_file, json_name)\n",
        "\n",
        "\n"
      ],
      "metadata": {
        "colab": {
          "base_uri": "https://localhost:8080/",
          "height": 452
        },
        "id": "Gw-EMMQTEQk8",
        "outputId": "23348699-4995-4138-88f6-7f7c421b1e05"
      },
      "execution_count": null,
      "outputs": [
        {
          "output_type": "display_data",
          "data": {
            "text/plain": [
              "<Figure size 640x480 with 2 Axes>"
            ],
            "image/png": "[encoded data removed]"
          },
          "metadata": {}
        }
      ]
    },
    {
      "cell_type": "code",
      "source": [
        "# 最初の10枚の画像を処理\n",
        "#process_images(\"/content/drive/MyDrive/AI_laboratory_course/MOBIUS\", \"/content/drive/MyDrive/AI_laboratory_course/MOBIUS/json\", num_images=10)\n",
        "\n",
        "# 確認後、すべての画像を処理する場合は以下のように呼び出す\n",
        "process_images(\"/content/drive/MyDrive/AI_laboratory_course/MOBIUS\", \"/content/drive/MyDrive/AI_laboratory_course/MOBIUS/json\", num_images=float('inf'))\n"
      ],
      "metadata": {
        "colab": {
          "base_uri": "https://localhost:8080/"
        },
        "id": "zTBtzfEVxxvN",
        "outputId": "7c3bfcde-6a5b-48a0-9525-77b6391f58e3"
      },
      "execution_count": null,
      "outputs": [
        {
          "output_type": "stream",
          "name": "stderr",
          "text": [
            "100%|██████████| 3559/3559 [1:02:06<00:00,  1.05s/it]\n"
          ]
        }
      ]
    },
    {
      "cell_type": "code",
      "source": [
        "#保存する場合\n",
        "#os.makedirs('/content/drive/MyDrive/AI_laboratory_course/YOLACT_Mobius_ocular_dataset/json/ex', exist_ok=True)\n",
        "!cp output.json /content/drive/MyDrive/AI_laboratory_course/YOLACT_Mobius_ocular_dataset/json/ex/"
      ],
      "metadata": {
        "id": "CZkpPODIqPY4"
      },
      "execution_count": null,
      "outputs": []
    },
    {
      "cell_type": "code",
      "source": [
        "\n",
        "\n",
        "# JSONファイルのパス\n",
        "json_file_path = \"/content/drive/MyDrive/AI_laboratory_course/MOBIUS/json/1/1_1i_Ll_1.json\"\n",
        "\n",
        "with open(json_file_path, \"r\") as json_file:\n",
        "    data = json.load(json_file)\n",
        "\n",
        "# imagePathの値をファイル名のみに更新\n",
        "data[\"imagePath\"] = os.path.basename(data[\"imagePath\"])\n",
        "\n",
        "# JSONファイルに変更を保存\n",
        "with open(json_file_path, \"w\") as json_file:\n",
        "    json.dump(data, json_file, indent=4)\n"
      ],
      "metadata": {
        "id": "9LPJFKiAH35e"
      },
      "execution_count": null,
      "outputs": []
    },
    {
      "cell_type": "code",
      "source": [
        "import os\n",
        "from tqdm import tqdm\n",
        "\n",
        "def process_images(base_dir, output_dir, num_images=10):\n",
        "    mask_dir = os.path.join(base_dir, \"Masks\")\n",
        "    json_dir = os.path.join(base_dir, \"json\")\n",
        "\n",
        "    # 画像ファイルの総数を取得\n",
        "    total_images = sum([len(files) for r, d, files in os.walk(mask_dir) if files])\n",
        "\n",
        "    # tqdmを使って進捗バーを初期化\n",
        "    with tqdm(total=min(total_images, num_images)) as pbar:\n",
        "        for folder in os.listdir(mask_dir):\n",
        "            folder_path = os.path.join(mask_dir, folder)\n",
        "            if not os.path.isdir(folder_path):\n",
        "                continue\n",
        "\n",
        "            output_folder = os.path.join(output_dir, folder)\n",
        "            os.makedirs(output_folder, exist_ok=True)\n",
        "\n",
        "            for filename in os.listdir(folder_path):\n",
        "                if filename.endswith(\".png\"):\n",
        "                    mask_file = os.path.join(folder_path, filename)\n",
        "                    json_name = os.path.join(output_folder, filename.replace(\".png\", \".json\"))\n",
        "\n",
        "                    # ここで各画像に対する処理を行う\n",
        "                    main(mask_file, json_name)\n",
        "\n",
        "                    pbar.update(1)  # 進捗バーを更新\n",
        "                    if pbar.n >= num_images:\n",
        "                        return  # 指定された数の画像を処理したら終了\n",
        "\n",
        "# 基本ディレクトリと出力ディレクトリの設定\n",
        "base_dir = \"/content/drive/MyDrive/AI_laboratory_course/MOBIUS\"\n",
        "output_dir = \"/content/drive/MyDrive/AI_laboratory_course/MOBIUS/json\"\n",
        "\n",
        "\n"
      ],
      "metadata": {
        "id": "EaxFrKRrJepG"
      },
      "execution_count": null,
      "outputs": []
    },
    {
      "cell_type": "code",
      "source": [
        "# 最初は10枚の画像でテスト\n",
        "process_images(base_dir, output_dir, num_images=10)\n",
        "\n",
        "# 問題がなければ全画像に適用\n",
        "# process_images(base_dir, output_dir, num_images=float('inf'))\n"
      ],
      "metadata": {
        "colab": {
          "base_uri": "https://localhost:8080/"
        },
        "id": "ZS095n2uJit-",
        "outputId": "6f78719f-0b64-4c48-8e74-1f8055e45ba6"
      },
      "execution_count": null,
      "outputs": [
        {
          "output_type": "stream",
          "name": "stderr",
          "text": [
            "100%|██████████| 10/10 [00:10<00:00,  1.07s/it]\n"
          ]
        }
      ]
    },
    {
      "cell_type": "code",
      "source": [
        "%ls"
      ],
      "metadata": {
        "colab": {
          "base_uri": "https://localhost:8080/"
        },
        "id": "9DXoHKCkLQX3",
        "outputId": "9490b8d3-1970-47ed-eafb-8db0f8639917"
      },
      "execution_count": null,
      "outputs": [
        {
          "output_type": "stream",
          "name": "stdout",
          "text": [
            "\u001b[0m\u001b[01;34m1\u001b[0m/   \u001b[01;34m11\u001b[0m/  \u001b[01;34m13\u001b[0m/  \u001b[01;34m15\u001b[0m/  \u001b[01;34m17\u001b[0m/  \u001b[01;34m19\u001b[0m/  \u001b[01;34m20\u001b[0m/  \u001b[01;34m22\u001b[0m/  \u001b[01;34m24\u001b[0m/  \u001b[01;34m26\u001b[0m/  \u001b[01;34m28\u001b[0m/  \u001b[01;34m3\u001b[0m/   \u001b[01;34m31\u001b[0m/  \u001b[01;34m33\u001b[0m/  \u001b[01;34m35\u001b[0m/  \u001b[01;34m5\u001b[0m/  \u001b[01;34m7\u001b[0m/  \u001b[01;34m9\u001b[0m/\n",
            "\u001b[01;34m10\u001b[0m/  \u001b[01;34m12\u001b[0m/  \u001b[01;34m14\u001b[0m/  \u001b[01;34m16\u001b[0m/  \u001b[01;34m18\u001b[0m/  \u001b[01;34m2\u001b[0m/   \u001b[01;34m21\u001b[0m/  \u001b[01;34m23\u001b[0m/  \u001b[01;34m25\u001b[0m/  \u001b[01;34m27\u001b[0m/  \u001b[01;34m29\u001b[0m/  \u001b[01;34m30\u001b[0m/  \u001b[01;34m32\u001b[0m/  \u001b[01;34m34\u001b[0m/  \u001b[01;34m4\u001b[0m/   \u001b[01;34m6\u001b[0m/  \u001b[01;34m8\u001b[0m/\n"
          ]
        }
      ]
    },
    {
      "cell_type": "code",
      "source": [
        "%cd 1"
      ],
      "metadata": {
        "colab": {
          "base_uri": "https://localhost:8080/"
        },
        "id": "-HLykVJaLTxF",
        "outputId": "481e93f1-609c-406b-e34b-2892712b9c3a"
      },
      "execution_count": null,
      "outputs": [
        {
          "output_type": "stream",
          "name": "stdout",
          "text": [
            "/content/drive/MyDrive/AI_laboratory_course/MOBIUS/Masks/1\n"
          ]
        }
      ]
    },
    {
      "cell_type": "code",
      "source": [
        "%cd ../\n"
      ],
      "metadata": {
        "colab": {
          "base_uri": "https://localhost:8080/"
        },
        "id": "21B0KcrrLgpo",
        "outputId": "81fac85d-8680-4548-ca92-e1da8ee0eb7f"
      },
      "execution_count": null,
      "outputs": [
        {
          "output_type": "stream",
          "name": "stdout",
          "text": [
            "/content/drive/MyDrive/AI_laboratory_course/MOBIUS\n"
          ]
        }
      ]
    },
    {
      "cell_type": "code",
      "source": [
        "%cd json"
      ],
      "metadata": {
        "colab": {
          "base_uri": "https://localhost:8080/"
        },
        "id": "4FDEnnG_Lhq3",
        "outputId": "51c41f30-825e-41e9-a941-640c9f00da9f"
      },
      "execution_count": null,
      "outputs": [
        {
          "output_type": "stream",
          "name": "stdout",
          "text": [
            "/content/drive/MyDrive/AI_laboratory_course/MOBIUS/json\n"
          ]
        }
      ]
    },
    {
      "cell_type": "code",
      "source": [
        "%cd 1"
      ],
      "metadata": {
        "colab": {
          "base_uri": "https://localhost:8080/"
        },
        "id": "AQWn38QNL7qq",
        "outputId": "b357243b-1d28-4553-89bb-b6e82c23c712"
      },
      "execution_count": null,
      "outputs": [
        {
          "output_type": "stream",
          "name": "stdout",
          "text": [
            "/content/drive/MyDrive/AI_laboratory_course/MOBIUS/json/1\n"
          ]
        }
      ]
    },
    {
      "cell_type": "code",
      "source": [
        "%ls"
      ],
      "metadata": {
        "colab": {
          "base_uri": "https://localhost:8080/"
        },
        "id": "vZ983E5qL-XX",
        "outputId": "352a0483-a6cc-4871-f78a-bdb581c6827f"
      },
      "execution_count": null,
      "outputs": [
        {
          "output_type": "stream",
          "name": "stdout",
          "text": [
            "1_1i_Ll_1.json  1_1n_Rl_1.json  1_2i_Ll_1.json  1_2n_Rl_1.json  1_3i_Ll_1.json  1_3n_Rl_1.json\n",
            "1_1i_Ll_2.json  1_1n_Rl_2.json  1_2i_Ll_2.json  1_2n_Rl_2.json  1_3i_Ll_2.json  1_3n_Rl_2.json\n",
            "1_1i_Lr_1.json  1_1n_Rr_1.json  1_2i_Lr_1.json  1_2n_Rr_1.json  1_3i_Lr_1.json  1_3n_Rr_1.json\n",
            "1_1i_Lr_2.json  1_1n_Rr_2.json  1_2i_Lr_2.json  1_2n_Rr_2.json  1_3i_Lr_2.json  1_3n_Rr_2.json\n",
            "1_1i_Ls_1.json  1_1n_Rs_1.json  1_2i_Ls_1.json  1_2n_Rs_1.json  1_3i_Ls_1.json  1_3n_Rs_1.json\n",
            "1_1i_Ls_2.json  1_1n_Rs_2.json  1_2i_Ls_2.json  1_2n_Rs_2.json  1_3i_Ls_2.json  1_3n_Rs_2.json\n",
            "1_1i_Lu_1.json  1_1n_Ru_1.json  1_2i_Lu_1.json  1_2n_Ru_1.json  1_3i_Lu_1.json  1_3n_Ru_1.json\n",
            "1_1i_Lu_2.json  1_1n_Ru_2.json  1_2i_Lu_2.json  1_2n_Ru_2.json  1_3i_Lu_2.json  1_3n_Ru_2.json\n",
            "1_1i_Rl_1.json  1_1p_Ll_1.json  1_2i_Rl_1.json  1_2p_Ll_1.json  1_3i_Rl_1.json  1_3p_Ll_1.json\n",
            "1_1i_Rl_2.json  1_1p_Ll_2.json  1_2i_Rl_2.json  1_2p_Ll_2.json  1_3i_Rl_2.json  1_3p_Ll_2.json\n",
            "1_1i_Rr_1.json  1_1p_Lr_1.json  1_2i_Rr_1.json  1_2p_Lr_1.json  1_3i_Rr_1.json  1_3p_Lr_1.json\n",
            "1_1i_Rr_2.json  1_1p_Lr_2.json  1_2i_Rr_2.json  1_2p_Lr_2.json  1_3i_Rr_2.json  1_3p_Lr_2.json\n",
            "1_1i_Rs_1.json  1_1p_Ls_1.json  1_2i_Rs_1.json  1_2p_Ls_1.json  1_3i_Rs_1.json  1_3p_Ls_1.json\n",
            "1_1i_Rs_2.json  1_1p_Ls_2.json  1_2i_Rs_2.json  1_2p_Ls_2.json  1_3i_Rs_2.json  1_3p_Ls_2.json\n",
            "1_1i_Ru_1.json  1_1p_Lu_1.json  1_2i_Ru_1.json  1_2p_Lu_1.json  1_3i_Ru_1.json  1_3p_Lu_1.json\n",
            "1_1i_Ru_2.json  1_1p_Lu_2.json  1_2i_Ru_2.json  1_2p_Lu_2.json  1_3i_Ru_2.json  1_3p_Lu_2.json\n",
            "1_1n_Ll_1.json  1_1p_Rl_1.json  1_2n_Ll_1.json  1_2p_Rl_1.json  1_3n_Ll_1.json  1_3p_Rl_1.json\n",
            "1_1n_Ll_2.json  1_1p_Rl_2.json  1_2n_Ll_2.json  1_2p_Rl_2.json  1_3n_Ll_2.json  1_3p_Rl_2.json\n",
            "1_1n_Lr_1.json  1_1p_Rr_1.json  1_2n_Lr_1.json  1_2p_Rr_1.json  1_3n_Lr_1.json  1_3p_Rr_1.json\n",
            "1_1n_Lr_2.json  1_1p_Rr_2.json  1_2n_Lr_2.json  1_2p_Rr_2.json  1_3n_Lr_2.json  1_3p_Rr_2.json\n",
            "1_1n_Ls_1.json  1_1p_Rs_1.json  1_2n_Ls_1.json  1_2p_Rs_1.json  1_3n_Ls_1.json  1_3p_Rs_1.json\n",
            "1_1n_Ls_2.json  1_1p_Rs_2.json  1_2n_Ls_2.json  1_2p_Rs_2.json  1_3n_Ls_2.json  1_3p_Rs_2.json\n",
            "1_1n_Lu_1.json  1_1p_Ru_1.json  1_2n_Lu_1.json  1_2p_Ru_1.json  1_3n_Lu_1.json  1_3p_Ru_1.json\n",
            "1_1n_Lu_2.json  1_1p_Ru_2.json  1_2n_Lu_2.json  1_2p_Ru_2.json  1_3n_Lu_2.json  1_3p_Ru_2.json\n"
          ]
        }
      ]
    },
    {
      "cell_type": "code",
      "source": [
        "import os\n",
        "from tqdm import tqdm\n",
        "\n",
        "def process_all_json_files(json_dir, num_images=10):\n",
        "    # JSONファイルの総数を取得\n",
        "    total_files = sum([len(files) for r, d, files in os.walk(json_dir) if files])\n",
        "\n",
        "    # tqdmを使って進捗バーを初期化\n",
        "    with tqdm(total=min(total_files, num_images)) as pbar:\n",
        "        for root, dirs, files in os.walk(json_dir):\n",
        "            for file in files:\n",
        "                if file.endswith(\".json\"):\n",
        "                    json_file_path = os.path.join(root, file)\n",
        "\n",
        "                    # ここでJSONファイルに対する処理を行う\n",
        "                    # 例: JSONファイルを読み込み、内容を変更し、上書き保存\n",
        "                    with open(json_file_path, 'r') as json_file:\n",
        "                        data = json.load(json_file)\n",
        "\n",
        "                    # ここにJSONデータを変更するコードを追加\n",
        "\n",
        "                    with open(json_file_path, 'w') as json_file:\n",
        "                        json.dump(data, json_file, indent=4)\n",
        "\n",
        "                    pbar.update(1)  # 進捗バーを更新\n",
        "                    if pbar.n >= num_images:\n",
        "                        return  # 指定された数のファイルを処理したら終了\n",
        "\n",
        "# JSONディレクトリのパス\n",
        "json_dir = \"/content/drive/MyDrive/AI_laboratory_course/MOBIUS/json\"\n",
        "\n",
        "# 最初は10個のファイルでテスト\n",
        "process_all_json_files(json_dir, num_images=10)\n",
        "\n",
        "# 問題がなければ、全ファイルに適用\n",
        "# process_all_json_files(json_dir, num_images=float('inf'))\n"
      ],
      "metadata": {
        "colab": {
          "base_uri": "https://localhost:8080/"
        },
        "id": "CkaNHIP5MAAk",
        "outputId": "ed87872b-881d-40a2-a4bb-2a0f53ff81ba"
      },
      "execution_count": null,
      "outputs": [
        {
          "output_type": "stream",
          "name": "stderr",
          "text": [
            "100%|██████████| 10/10 [00:00<00:00, 64.70it/s]\n"
          ]
        }
      ]
    },
    {
      "cell_type": "code",
      "source": [
        "# prompt: 上記のコードで書き換えたを実行したファイル10個を教えてください\n",
        "\n",
        "1_1i_Ll_1.json\n",
        "1_1i_Rl_1.json\n",
        "1_1n_Ll_1.json\n",
        "1_1n_Rl_1.json\n",
        "1_3i_Ll_1.json\n",
        "1_3i_Rl_1.json\n",
        "1_3n_Ll_1.json\n",
        "1_3n_Rl_1.json\n",
        "1_4i_Ll_1.json\n",
        "1_4i_Rl_1.json\n"
      ],
      "metadata": {
        "id": "14ZODAr0Mvv5"
      },
      "execution_count": null,
      "outputs": []
    },
    {
      "cell_type": "code",
      "source": [
        "import os\n",
        "import json\n",
        "from tqdm import tqdm\n",
        "\n",
        "def process_all_json_files(json_dir, num_images=10):\n",
        "    # JSONファイルの総数を取得\n",
        "    total_files = sum([len(files) for r, d, files in os.walk(json_dir) if files])\n",
        "\n",
        "    # tqdmを使って進捗バーを初期化\n",
        "    with tqdm(total=min(total_files, num_images)) as pbar:\n",
        "        for root, dirs, files in os.walk(json_dir):\n",
        "            for file in files:\n",
        "                if file.endswith(\".json\"):\n",
        "                    json_file_path = os.path.join(root, file)\n",
        "\n",
        "                    # JSONファイルを読み込み\n",
        "                    with open(json_file_path, 'r') as json_file:\n",
        "                        data = json.load(json_file)\n",
        "\n",
        "                    # imagePathの値をファイル名のみに更新\n",
        "                    data[\"imagePath\"] = os.path.basename(data[\"imagePath\"])\n",
        "\n",
        "                    # JSONファイルに変更を保存\n",
        "                    with open(json_file_path, 'w') as json_file:\n",
        "                        json.dump(data, json_file, indent=4)\n",
        "\n",
        "                    pbar.update(1)  # 進捗バーを更新\n",
        "                    if pbar.n >= num_images:\n",
        "                        return  # 指定された数のファイルを処理したら終了\n",
        "\n",
        "# JSONディレクトリのパス\n",
        "json_dir = \"/content/drive/MyDrive/AI_laboratory_course/MOBIUS/json\"\n",
        "\n",
        "# 最初は10個のファイルでテスト\n",
        "#process_all_json_files(json_dir, num_images=10)\n",
        "\n",
        "# 問題がなければ、全ファイルに適用\n",
        "process_all_json_files(json_dir, num_images=float('inf'))\n"
      ],
      "metadata": {
        "colab": {
          "base_uri": "https://localhost:8080/"
        },
        "id": "I7QpnojKNlR-",
        "outputId": "14a1f56d-0ec0-493f-be49-af4c4f05eab1"
      },
      "execution_count": null,
      "outputs": [
        {
          "output_type": "stream",
          "name": "stderr",
          "text": [
            "100%|██████████| 3559/3559 [00:57<00:00, 61.76it/s]\n"
          ]
        }
      ]
    },
    {
      "cell_type": "code",
      "source": [
        "# prompt: 上記のコードは、\"imagePath\": \"/content/drive/MyDrive/AI_laboratory_course/MOBIUS/Masks/1/1_1i_Ll_2.png\"から1_1i_Ll_2.pngを抜き出すコードに変わっていますか？\n",
        "\n",
        "Yes, the code has been changed to extract \"1_1i_Ll_2.png\" from the \"imagePath\": \"/content/drive/MyDrive/AI_laboratory_course/MOBIUS/Masks/1/1_1i_Ll_2.png\" string.\n",
        "\n",
        "Here's the modified code:\n",
        "\n"
      ],
      "metadata": {
        "id": "HcX8n2nwOdab"
      },
      "execution_count": null,
      "outputs": []
    },
    {
      "cell_type": "code",
      "source": [
        "!pip install labelme2coco\n",
        "import labelme2coco"
      ],
      "metadata": {
        "colab": {
          "base_uri": "https://localhost:8080/",
          "height": 950
        },
        "id": "eHJs4UF-PZ7z",
        "outputId": "576ebae5-6d41-4e71-b758-556f00d8d6da"
      },
      "execution_count": null,
      "outputs": [
        {
          "output_type": "stream",
          "name": "stdout",
          "text": [
            "Collecting labelme2coco\n",
            "  Downloading labelme2coco-0.2.4-py3-none-any.whl (19 kB)\n",
            "Collecting sahi>=0.8.19 (from labelme2coco)\n",
            "  Downloading sahi-0.11.15-py3-none-any.whl (105 kB)\n",
            "\u001b[2K     \u001b[90m━━━━━━━━━━━━━━━━━━━━━━━━━━━━━━━━━━━━━━━━\u001b[0m \u001b[32m105.4/105.4 kB\u001b[0m \u001b[31m1.6 MB/s\u001b[0m eta \u001b[36m0:00:00\u001b[0m\n",
            "\u001b[?25hRequirement already satisfied: jsonschema>=2.6.0 in /usr/local/lib/python3.10/dist-packages (from labelme2coco) (4.19.2)\n",
            "Requirement already satisfied: attrs>=22.2.0 in /usr/local/lib/python3.10/dist-packages (from jsonschema>=2.6.0->labelme2coco) (23.2.0)\n",
            "Requirement already satisfied: jsonschema-specifications>=2023.03.6 in /usr/local/lib/python3.10/dist-packages (from jsonschema>=2.6.0->labelme2coco) (2023.12.1)\n",
            "Requirement already satisfied: referencing>=0.28.4 in /usr/local/lib/python3.10/dist-packages (from jsonschema>=2.6.0->labelme2coco) (0.32.1)\n",
            "Requirement already satisfied: rpds-py>=0.7.1 in /usr/local/lib/python3.10/dist-packages (from jsonschema>=2.6.0->labelme2coco) (0.17.1)\n",
            "Collecting opencv-python<=4.8 (from sahi>=0.8.19->labelme2coco)\n",
            "  Downloading opencv_python-4.7.0.72-cp37-abi3-manylinux_2_17_x86_64.manylinux2014_x86_64.whl (61.8 MB)\n",
            "\u001b[2K     \u001b[90m━━━━━━━━━━━━━━━━━━━━━━━━━━━━━━━━━━━━━━━━\u001b[0m \u001b[32m61.8/61.8 MB\u001b[0m \u001b[31m8.8 MB/s\u001b[0m eta \u001b[36m0:00:00\u001b[0m\n",
            "\u001b[?25hRequirement already satisfied: shapely>=1.8.0 in /usr/local/lib/python3.10/dist-packages (from sahi>=0.8.19->labelme2coco) (2.0.2)\n",
            "Requirement already satisfied: tqdm>=4.48.2 in /usr/local/lib/python3.10/dist-packages (from sahi>=0.8.19->labelme2coco) (4.66.1)\n",
            "Requirement already satisfied: pillow>=8.2.0 in /usr/local/lib/python3.10/dist-packages (from sahi>=0.8.19->labelme2coco) (9.4.0)\n",
            "Collecting pybboxes==0.1.6 (from sahi>=0.8.19->labelme2coco)\n",
            "  Downloading pybboxes-0.1.6-py3-none-any.whl (24 kB)\n",
            "Requirement already satisfied: pyyaml in /usr/local/lib/python3.10/dist-packages (from sahi>=0.8.19->labelme2coco) (6.0.1)\n",
            "Collecting fire (from sahi>=0.8.19->labelme2coco)\n",
            "  Downloading fire-0.5.0.tar.gz (88 kB)\n",
            "\u001b[2K     \u001b[90m━━━━━━━━━━━━━━━━━━━━━━━━━━━━━━━━━━━━━━━━\u001b[0m \u001b[32m88.3/88.3 kB\u001b[0m \u001b[31m10.5 MB/s\u001b[0m eta \u001b[36m0:00:00\u001b[0m\n",
            "\u001b[?25h  Preparing metadata (setup.py) ... \u001b[?25l\u001b[?25hdone\n",
            "Collecting terminaltables (from sahi>=0.8.19->labelme2coco)\n",
            "  Downloading terminaltables-3.1.10-py2.py3-none-any.whl (15 kB)\n",
            "Requirement already satisfied: requests in /usr/local/lib/python3.10/dist-packages (from sahi>=0.8.19->labelme2coco) (2.31.0)\n",
            "Requirement already satisfied: click in /usr/local/lib/python3.10/dist-packages (from sahi>=0.8.19->labelme2coco) (8.1.7)\n",
            "Requirement already satisfied: numpy in /usr/local/lib/python3.10/dist-packages (from pybboxes==0.1.6->sahi>=0.8.19->labelme2coco) (1.23.5)\n",
            "Requirement already satisfied: six in /usr/local/lib/python3.10/dist-packages (from fire->sahi>=0.8.19->labelme2coco) (1.16.0)\n",
            "Requirement already satisfied: termcolor in /usr/local/lib/python3.10/dist-packages (from fire->sahi>=0.8.19->labelme2coco) (2.4.0)\n",
            "Requirement already satisfied: charset-normalizer<4,>=2 in /usr/local/lib/python3.10/dist-packages (from requests->sahi>=0.8.19->labelme2coco) (3.3.2)\n",
            "Requirement already satisfied: idna<4,>=2.5 in /usr/local/lib/python3.10/dist-packages (from requests->sahi>=0.8.19->labelme2coco) (3.6)\n",
            "Requirement already satisfied: urllib3<3,>=1.21.1 in /usr/local/lib/python3.10/dist-packages (from requests->sahi>=0.8.19->labelme2coco) (2.0.7)\n",
            "Requirement already satisfied: certifi>=2017.4.17 in /usr/local/lib/python3.10/dist-packages (from requests->sahi>=0.8.19->labelme2coco) (2023.11.17)\n",
            "Building wheels for collected packages: fire\n",
            "  Building wheel for fire (setup.py) ... \u001b[?25l\u001b[?25hdone\n",
            "  Created wheel for fire: filename=fire-0.5.0-py2.py3-none-any.whl size=116934 sha256=8c6975494d0d305625204b9be79436d23d94aa3979550f9b1605afeb630d7fe8\n",
            "  Stored in directory: /root/.cache/pip/wheels/90/d4/f7/9404e5db0116bd4d43e5666eaa3e70ab53723e1e3ea40c9a95\n",
            "Successfully built fire\n",
            "Installing collected packages: terminaltables, pybboxes, opencv-python, fire, sahi, labelme2coco\n",
            "  Attempting uninstall: opencv-python\n",
            "    Found existing installation: opencv-python 4.8.0.76\n",
            "    Uninstalling opencv-python-4.8.0.76:\n",
            "      Successfully uninstalled opencv-python-4.8.0.76\n",
            "Successfully installed fire-0.5.0 labelme2coco-0.2.4 opencv-python-4.7.0.72 pybboxes-0.1.6 sahi-0.11.15 terminaltables-3.1.10\n"
          ]
        },
        {
          "output_type": "display_data",
          "data": {
            "application/vnd.colab-display-data+json": {
              "pip_warning": {
                "packages": [
                  "cv2"
                ]
              }
            }
          },
          "metadata": {}
        }
      ]
    },
    {
      "cell_type": "code",
      "source": [
        "\n",
        "\n",
        "\n",
        "# set directory that contains labelme annotations and image files\n",
        "labelme_folder = \"/content/drive/MyDrive/Deep_learning/YOLACT_Mobius_ocular_dataset/labelme/labelme\" #変換ファイルの保存元\n",
        "\n",
        "# set export dir\n",
        "export_dir = \"/content/drive/MyDrive/Deep_learning/YOLACT_Mobius_ocular_dataset/labelme/coco_format\" #保存先\n",
        "\n",
        "# set train split rate\n",
        "train_split_rate = 0.85 #これを設定することにより、train.jsonとval.jsonに自動的に仕分けてくれる\n",
        "\n",
        "# convert labelme annotations to coco\n",
        "labelme2coco.convert(labelme_folder, export_dir, train_split_rate)"
      ],
      "metadata": {
        "id": "TNFcLLtkPVuI"
      },
      "execution_count": null,
      "outputs": []
    },
    {
      "cell_type": "code",
      "source": [
        "# prompt: jsonフォルダ内のフォルダに入っている全てのファイルをバラバラの状態で一つ一つ、/content/drive/MyDrive/AI_laboratory_course/MOBIUS/json_concatにコピーを作成してください\n",
        "\n",
        "import os\n",
        "import shutil\n",
        "\n",
        "source_dir = \"/content/drive/MyDrive/AI_laboratory_course/MOBIUS/json\"\n",
        "target_dir = \"/content/drive/MyDrive/AI_laboratory_course/MOBIUS/concat_json\"\n",
        "\n",
        "for folder in os.listdir(source_dir):\n",
        "    folder_path = os.path.join(source_dir, folder)\n",
        "    if os.path.isdir(folder_path):\n",
        "        for file in os.listdir(folder_path):\n",
        "            file_path = os.path.join(folder_path, file)\n",
        "            shutil.copy(file_path, target_dir)\n"
      ],
      "metadata": {
        "id": "2YrVQvuAP0Jf"
      },
      "execution_count": null,
      "outputs": []
    },
    {
      "cell_type": "code",
      "source": [
        "# prompt: 上記のコードで処理を行った、jsonフォルダ内のフォルダを教えて\n",
        "\n",
        "folders = os.listdir(\"/content/drive/MyDrive/AI_laboratory_course/MOBIUS/json_concat\")\n",
        "print(folders)\n"
      ],
      "metadata": {
        "colab": {
          "base_uri": "https://localhost:8080/"
        },
        "id": "Zfq3sPYERZRw",
        "outputId": "f575d56c-7445-4c82-cdd7-9a4d0bdac156"
      },
      "execution_count": null,
      "outputs": [
        {
          "output_type": "stream",
          "name": "stdout",
          "text": [
            "['10_1i_Ru_2.json', '10_1i_Ru_1.json', '10_1i_Lu_1.json', '10_1n_Ll_2.json', '10_1i_Rl_1.json', '10_1i_Rr_1.json', '10_1n_Rl_2.json', '10_1i_Lr_2.json', '10_1n_Rl_1.json', '10_1i_Rs_2.json', '10_1n_Lu_1.json', '10_1i_Rr_2.json', '10_1i_Ll_1.json', '10_1n_Lr_1.json', '10_1n_Ll_1.json', '10_1i_Rl_2.json', '10_1i_Ls_1.json', '10_1i_Lr_1.json', '10_1n_Lu_2.json', '10_1i_Ls_2.json', '10_1i_Lu_2.json', '10_1i_Rs_1.json', '10_1n_Lr_2.json', '10_1i_Ll_2.json', '10_1n_Ls_2.json', '10_1n_Ls_1.json', '10_1n_Rs_1.json', '10_1p_Ls_1.json', '10_1p_Rl_1.json', '10_1p_Rr_2.json', '10_1p_Ls_2.json', '10_1n_Rs_2.json', '10_1p_Rr_1.json', '10_1p_Ll_2.json', '10_1n_Rr_2.json', '10_1n_Ru_1.json', '10_1p_Lu_1.json', '10_1p_Ru_2.json', '10_1p_Ru_1.json', '10_1p_Lr_1.json', '10_1p_Rs_2.json', '10_1p_Lr_2.json', '10_1p_Rl_2.json', '10_1n_Ru_2.json', '10_1n_Rr_1.json', '10_1p_Lu_2.json', '10_1p_Rs_1.json', '10_1p_Ll_1.json', '1_1i_Rl_1.json', '1_1i_Lr_2.json', '1_1n_Ll_1.json', '1_1i_Lu_2.json', '1_1i_Lu_1.json', '1_1i_Ru_1.json', '1_1i_Rl_2.json', '1_1i_Rr_2.json', '1_1i_Rr_1.json', '1_1i_Ls_2.json', '1_1n_Ll_2.json', '1_1i_Rs_2.json', '1_1i_Rs_1.json', '1_1i_Lr_1.json', '1_1i_Ll_2.json', '1_1i_Ru_2.json', '1_1i_Ls_1.json', '1_1i_Ll_1.json', '1_1p_Lu_2.json', '1_1n_Ru_1.json', '1_1n_Rs_2.json', '1_2i_Rr_2.json', '1_2n_Ll_2.json', '1_2i_Lu_2.json', '1_1p_Ls_2.json', '1_1p_Rl_1.json', '1_1p_Lr_2.json', '1_1p_Ll_2.json', '1_2i_Rs_2.json', '1_1n_Ls_2.json', '1_1p_Ls_1.json', '1_1p_Ll_1.json', '1_1p_Ru_2.json', '1_1p_Rr_2.json', '1_2i_Ll_1.json', '1_2n_Lr_1.json', '1_1p_Lr_1.json', '1_2i_Ru_1.json', '1_1p_Rr_1.json', '1_2i_Ls_2.json', '1_1p_Rs_1.json', '1_2i_Rl_1.json', '1_2i_Lu_1.json', '1_1n_Rs_1.json', '1_2i_Rr_1.json', '1_1n_Lu_1.json', '1_1p_Rs_2.json', '1_2n_Ls_1.json', '1_2n_Ll_1.json', '1_2i_Ll_2.json', '1_2i_Ru_2.json', '1_1n_Lr_1.json', '1_2i_Rl_2.json', '1_1p_Lu_1.json', '1_1n_Lu_2.json', '1_2i_Rs_1.json', '1_2i_Lr_2.json', '1_2n_Lr_2.json', '1_2i_Lr_1.json', '1_1n_Rr_2.json', '1_1n_Ru_2.json', '1_1p_Ru_1.json', '1_2i_Ls_1.json', '1_1n_Rl_1.json', '1_1p_Rl_2.json', '1_1n_Lr_2.json', '1_1n_Ls_1.json', '1_1n_Rl_2.json', '1_1n_Rr_1.json', '1_3i_Rl_2.json', '1_3i_Ru_2.json', '1_2p_Lu_2.json', '1_3i_Ll_1.json', '1_2n_Lu_1.json', '1_2n_Ls_2.json', '1_2n_Ru_1.json', '1_2p_Lr_2.json', '1_3i_Lr_1.json', '1_3i_Ls_2.json', '1_3n_Lr_2.json', '1_3i_Lr_2.json', '1_2p_Lu_1.json', '1_2p_Rl_2.json', '1_2p_Ru_2.json', '1_2p_Rs_1.json', '1_3n_Ll_1.json', '1_2n_Rl_1.json', '1_2p_Ll_2.json', '1_3i_Ls_1.json', '1_2p_Ru_1.json', '1_3i_Rs_1.json', '1_2n_Rl_2.json', '1_2p_Rr_2.json', '1_2p_Ll_1.json', '1_2p_Rs_2.json', '1_3n_Ls_2.json', '1_3n_Lu_2.json', '1_3n_Ls_1.json', '1_2n_Lu_2.json', '1_2n_Ru_2.json', '1_3i_Rr_2.json', '1_2n_Rr_2.json', '1_3n_Lr_1.json', '1_3n_Lu_1.json', '1_2p_Rl_1.json', '1_3i_Lu_2.json', '1_2p_Ls_2.json', '1_3i_Rs_2.json', '1_3i_Ru_1.json', '1_2n_Rs_1.json', '1_3i_Ll_2.json', '1_3n_Ll_2.json', '1_3i_Lu_1.json', '1_2p_Rr_1.json', '1_3i_Rl_1.json', '1_2p_Ls_1.json', '1_3i_Rr_1.json', '1_2n_Rs_2.json', '1_2n_Rr_1.json', '1_2p_Lr_1.json', '1_3p_Rl_1.json', '1_3n_Rr_2.json', '1_3n_Ru_2.json', '1_3p_Lr_2.json', '1_3p_Ll_1.json', '1_3p_Lu_1.json', '1_3n_Rr_1.json', '1_3p_Ls_2.json', '1_3p_Rr_1.json', '1_3p_Lu_2.json', '1_3p_Ls_1.json', '1_3p_Rl_2.json', '1_3n_Rl_2.json', '1_3p_Rs_2.json', '1_3p_Lr_1.json', '1_3n_Ru_1.json', '1_3p_Ru_2.json', '1_3p_Ll_2.json', '1_3n_Rl_1.json', '1_3p_Rs_1.json', '1_3p_Ru_1.json', '1_3n_Rs_1.json', '1_3p_Rr_2.json', '1_3n_Rs_2.json', '19_1n_Rs_2.json', '19_1i_Rl_2.json', '19_1i_Rs_1.json', '19_1i_Rl_1.json', '19_1n_Lu_1.json', '19_1i_Ls_2.json', '19_1n_Ru_1.json', '19_1i_Lu_1.json', '19_1n_Rs_1.json', '19_1n_Rl_2.json', '19_1n_Ru_2.json', '19_1i_Rs_2.json', '19_1n_Ls_1.json', '19_1i_Rr_2.json', '19_1i_Lu_2.json', '19_1n_Lr_1.json', '19_1i_Lr_2.json', '19_1i_Ll_2.json', '19_1n_Rl_1.json', '19_1i_Ls_1.json', '19_1i_Ru_1.json', '19_1i_Lr_1.json', '19_1i_Ru_2.json', '19_1n_Ll_1.json', '19_1n_Rr_1.json', '19_1i_Rr_1.json', '19_1i_Ll_1.json', '19_1n_Rr_2.json', '19_2i_Rr_2.json', '19_2n_Ll_2.json', '19_2i_Rl_2.json', '19_2i_Rr_1.json', '19_2i_Ll_1.json', '19_2n_Rl_1.json', '19_1p_Rl_1.json', '19_1p_Rr_2.json', '19_2n_Ls_1.json', '19_1p_Rs_1.json', '19_2n_Lr_2.json', '19_2i_Rs_1.json', '19_1p_Ll_1.json', '19_2i_Rs_2.json', '19_2n_Lr_1.json', '19_1p_Lr_1.json', '19_2n_Ll_1.json', '19_2p_Ll_1.json', '19_2p_Ll_2.json', '19_2i_Ls_1.json', '19_2i_Ll_2.json', '19_2i_Ru_2.json', '19_1p_Lr_2.json', '19_2n_Ru_1.json', '19_2n_Rs_1.json', '19_1p_Ls_1.json', '19_2n_Lu_2.json', '19_1p_Lu_2.json', '19_1p_Ll_2.json', '19_1p_Lu_1.json', '19_1p_Ru_2.json', '19_2i_Rl_1.json', '19_2n_Rr_1.json', '19_2n_Rl_2.json', '19_2i_Lu_2.json', '19_2n_Rr_2.json', '19_2i_Lr_1.json', '19_1p_Ls_2.json', '19_1p_Rr_1.json', '19_2n_Ru_2.json', '19_2n_Lu_1.json', '19_2p_Lr_2.json', '19_2i_Ru_1.json', '19_1p_Ru_1.json', '19_2n_Rs_2.json', '19_2n_Ls_2.json', '19_2i_Lr_2.json', '19_2p_Lr_1.json', '19_2i_Lu_1.json', '19_1p_Rs_2.json', '19_1p_Rl_2.json', '19_2i_Ls_2.json', '19_3i_Rr_1.json', '19_2p_Lu_2.json', '19_3i_Rl_1.json', '19_3i_Ls_2.json', '19_2p_Rr_1.json', '19_3n_Lu_2.json', '19_2p_Ru_1.json', '19_3n_Ru_2.json', '19_2p_Rl_2.json', '19_3i_Ru_2.json', '19_3i_Rr_2.json', '19_3n_Ru_1.json', '19_2p_Lu_1.json', '19_2p_Ru_2.json', '19_3n_Rs_1.json', '19_3n_Lr_2.json', '19_3i_Rl_2.json', '19_2p_Ls_2.json', '19_3p_Ls_2.json', '19_3p_Lu_1.json', '19_3i_Ru_1.json', '19_3n_Rl_2.json', '19_2p_Rs_2.json', '19_3i_Ll_1.json', '19_2p_Rl_1.json', '19_3p_Rl_1.json', '19_3p_Ll_1.json', '19_3i_Lr_1.json', '19_3i_Ls_1.json', '19_3n_Lr_1.json', '19_3n_Ls_1.json', '19_3i_Lr_2.json', '19_3n_Rr_2.json', '19_2p_Rs_1.json', '19_3i_Rs_2.json', '19_3n_Ll_1.json', '19_3p_Lu_2.json', '19_3n_Ll_2.json', '19_3n_Lu_1.json', '19_3i_Rs_1.json', '19_3n_Ls_2.json', '19_3i_Ll_2.json', '19_3n_Rl_1.json', '19_3p_Ll_2.json', '19_3p_Ls_1.json', '19_3n_Rr_1.json', '19_2p_Rr_2.json', '19_3i_Lu_1.json', '19_3i_Lu_2.json', '19_3p_Lr_2.json', '19_2p_Ls_1.json', '19_3n_Rs_2.json', '19_3p_Rs_1.json', '19_3p_Ru_1.json', '19_3p_Rl_2.json', '19_3p_Rr_1.json', '19_3p_Rs_2.json', '19_3p_Ru_2.json', '19_3p_Rr_2.json', '2_1n_Ru_1.json', '2_1i_Rs_2.json', '2_1n_Lu_2.json', '2_1i_Ls_2.json', '2_1i_Ru_2.json', '2_1n_Ls_1.json', '2_1n_Lr_1.json', '2_1n_Ll_2.json', '2_1i_Ll_2.json', '2_1i_Rl_2.json', '2_1i_Lu_2.json', '2_1i_Rl_1.json', '2_1i_Lr_2.json', '2_1i_Lu_1.json', '2_1p_Lr_1.json', '2_1n_Rl_2.json', '2_1n_Ll_1.json', '2_1p_Rr_1.json', '2_1i_Ll_1.json', '2_1i_Rr_1.json', '2_1p_Rr_2.json', '2_1n_Rs_2.json', '2_1p_Lu_1.json', '2_1n_Rs_1.json', '2_1n_Ls_2.json', '2_1p_Ll_2.json', '2_1p_Ls_1.json', '2_1i_Ls_1.json', '2_1i_Rs_1.json', '2_1p_Lr_2.json', '2_1n_Lr_2.json', '2_1p_Rl_2.json', '2_1p_Rs_1.json', '2_1p_Rl_1.json', '2_1n_Rr_2.json', '2_1n_Lu_1.json', '2_1n_Rr_1.json', '2_1p_Ll_1.json', '2_1i_Ru_1.json', '2_1n_Rl_1.json', '2_1i_Rr_2.json', '2_1i_Lr_1.json', '2_1p_Ls_2.json', '2_1n_Ru_2.json', '2_1p_Lu_2.json', '2_2i_Lr_1.json', '2_3i_Ll_1.json', '2_2n_Lu_2.json', '2_1p_Ru_2.json', '2_2n_Rr_1.json', '2_2i_Lu_1.json', '2_2p_Lu_2.json', '2_2i_Rl_2.json', '2_2p_Lu_1.json', '2_1p_Rs_2.json', '2_2i_Rl_1.json', '2_2i_Rs_2.json', '2_2p_Ll_2.json', '2_2p_Ls_1.json', '2_2i_Rr_2.json', '2_2i_Ru_1.json', '2_2n_Ll_2.json', '2_2n_Rl_1.json', '2_2i_Lr_2.json', '2_2p_Rs_1.json', '2_2n_Rr_2.json', '2_2n_Rs_1.json', '2_2p_Ll_1.json', '2_2p_Rl_2.json', '2_2p_Ru_2.json', '2_2p_Ru_1.json', '2_2n_Lr_1.json', '2_2p_Lr_2.json', '2_2i_Ll_1.json', '2_1p_Ru_1.json', '2_2n_Ll_1.json', '2_2n_Ls_1.json', '2_2n_Ru_1.json', '2_2p_Rr_1.json', '2_2i_Ls_2.json', '2_2i_Ls_1.json', '2_2p_Ls_2.json', '2_2i_Ru_2.json', '2_2p_Lr_1.json', '2_3i_Ll_2.json', '2_2n_Rl_2.json', '2_2i_Ll_2.json', '2_2n_Rs_2.json', '2_2n_Ru_2.json', '2_2i_Rs_1.json', '2_2p_Rs_2.json', '2_2i_Lu_2.json', '2_2n_Ls_2.json', '2_2n_Lu_1.json', '2_2p_Rr_2.json', '2_2p_Rl_1.json', '2_2n_Lr_2.json', '2_2i_Rr_1.json', '2_3i_Lr_2.json', '2_3n_Lu_1.json', '2_3n_Lr_2.json', '2_3n_Lr_1.json', '2_3p_Rs_1.json', '2_3n_Rs_2.json', '2_3p_Rs_2.json', '2_3p_Ll_2.json', '2_3n_Ll_2.json', '2_3i_Lu_1.json', '2_3n_Rr_2.json', '2_3p_Lr_1.json', '2_3n_Rr_1.json', '2_3i_Ls_2.json', '2_3i_Ru_2.json', '2_3p_Ru_2.json', '2_3n_Rl_1.json', '2_3n_Ru_2.json', '2_3p_Ls_2.json', '2_3i_Rr_2.json', '2_3p_Lu_1.json', '2_3p_Rl_1.json', '2_3i_Rl_1.json', '2_3n_Ls_2.json', '2_3i_Ls_1.json', '2_3p_Rl_2.json', '2_3n_Ru_1.json', '2_3p_Lr_2.json', '2_3i_Lr_1.json', '2_3n_Ll_1.json', '2_3n_Rs_1.json', '2_3i_Rs_1.json', '2_3i_Rr_1.json', '2_3p_Lu_2.json', '2_3n_Rl_2.json', '2_3i_Ru_1.json', '2_3i_Rs_2.json', '2_3i_Lu_2.json', '2_3p_Ls_1.json', '2_3n_Lu_2.json', '2_3p_Ll_1.json', '2_3p_Rr_2.json', '2_3p_Rr_1.json', '2_3i_Rl_2.json', '2_3p_Ru_1.json', '2_3n_Ls_1.json', '16_1i_Lr_1.json', '16_1i_Ll_2.json', '16_1i_Ls_1.json', '16_1i_Lr_2.json', '16_1i_Ls_2.json', '16_1i_Ll_1.json', '16_1i_Ru_1.json', '16_1n_Rs_2.json', '16_1p_Lu_1.json', '16_1n_Ru_2.json', '16_1p_Rs_2.json', '16_2i_Rl_2.json', '16_2i_Ls_1.json', '16_1n_Ll_1.json', '16_1i_Rl_2.json', '16_1p_Rr_1.json', '16_1p_Rr_2.json', '16_2i_Ll_2.json', '16_1n_Rl_1.json', '16_1i_Lu_2.json', '16_1p_Ls_2.json', '16_1p_Lr_2.json', '16_1n_Ls_1.json', '16_1i_Rl_1.json', '16_1p_Lu_2.json', '16_1n_Ru_1.json', '16_1i_Rs_1.json', '16_1n_Rr_1.json', '16_2i_Lr_1.json', '16_2i_Lu_1.json', '16_1n_Lu_1.json', '16_1p_Ls_1.json', '16_2i_Rl_1.json', '16_1n_Ll_2.json', '16_2i_Lr_2.json', '16_2i_Rr_1.json', '16_1n_Rr_2.json', '16_1p_Lr_1.json', '16_1n_Rs_1.json', '16_1i_Ru_2.json', '16_1n_Lr_1.json', '16_1i_Rr_2.json', '16_2i_Rr_2.json', '16_1p_Rs_1.json', '16_1i_Rr_1.json', '16_1n_Lr_2.json', '16_1p_Ru_2.json', '16_1n_Lu_2.json', '16_2i_Lu_2.json', '16_1p_Ll_2.json', '16_1n_Ls_2.json', '16_1p_Rl_2.json', '16_1p_Ll_1.json', '16_2i_Ll_1.json', '16_1p_Ru_1.json', '16_1n_Rl_2.json', '16_1p_Rl_1.json', '16_1i_Rs_2.json', '16_1i_Lu_1.json', '16_2i_Ls_2.json', '16_2i_Ru_2.json', '16_2n_Lr_2.json', '16_2p_Lu_1.json', '16_2p_Ru_2.json', '16_2p_Lr_2.json', '16_2p_Ls_1.json', '16_2n_Lu_1.json', '16_2i_Ru_1.json', '16_2p_Ll_2.json', '16_2i_Rs_1.json', '16_2p_Rl_1.json', '16_2p_Rs_2.json', '16_2n_Lr_1.json', '16_2n_Ls_1.json', '16_2p_Rr_1.json', '16_2p_Rs_1.json', '16_2p_Ls_2.json', '16_2n_Rr_2.json', '16_2n_Lu_2.json', '16_2p_Ll_1.json', '16_2n_Rs_1.json', '16_2i_Rs_2.json', '16_2n_Ll_2.json', '16_2p_Ru_1.json', '16_2p_Lu_2.json', '16_2n_Rl_2.json', '16_2p_Rr_2.json', '16_2n_Rs_2.json', '16_2n_Ls_2.json', '16_2n_Ru_1.json', '16_2n_Ru_2.json', '16_2p_Lr_1.json', '16_2n_Rl_1.json', '16_2n_Rr_1.json', '16_2n_Ll_1.json', '16_2p_Rl_2.json', '14_1i_Rs_1.json', '14_1p_Ll_2.json', '14_1n_Ll_1.json', '14_1p_Rl_2.json', '14_1n_Ls_1.json', '14_1i_Rs_2.json', '14_1n_Rr_1.json', '14_1n_Ru_2.json', '14_1p_Ls_1.json', '14_1n_Lu_1.json', '14_1p_Rl_1.json', '14_1p_Ll_1.json', '14_1n_Rl_1.json', '14_1p_Lu_2.json', '14_1p_Ls_2.json', '14_1n_Ls_2.json', '14_1i_Rl_1.json', '14_1n_Rs_2.json', '14_1i_Ru_2.json', '14_1n_Rl_2.json', '14_1i_Ll_2.json', '14_1n_Lu_2.json', '14_1p_Lu_1.json', '14_1i_Rl_2.json', '14_1i_Ll_1.json', '14_1i_Lr_2.json', '14_1i_Ls_1.json', '14_1p_Lr_2.json', '14_1i_Lr_1.json', '14_1i_Rr_2.json', '14_1p_Lr_1.json', '14_1i_Rr_1.json', '14_1i_Lu_1.json', '14_1n_Rs_1.json', '14_1i_Lu_2.json', '14_1n_Ru_1.json', '14_1i_Ls_2.json', '14_1i_Ru_1.json', '14_1n_Rr_2.json', '14_1n_Ll_2.json', '14_1n_Lr_2.json', '14_1n_Lr_1.json', '14_1p_Ru_1.json', '14_2i_Ll_1.json', '14_2n_Ll_1.json', '14_2n_Lu_2.json', '14_2n_Lr_2.json', '14_2n_Rr_2.json', '14_2i_Rs_1.json', '14_1p_Rr_2.json', '14_2n_Ru_1.json', '14_2n_Rr_1.json', '14_2n_Lr_1.json', '14_2i_Lu_1.json', '14_2p_Ll_1.json', '14_2i_Lr_1.json', '14_2i_Rr_2.json', '14_1p_Rr_1.json', '14_2i_Ls_2.json', '14_1p_Ru_2.json', '14_1p_Rs_2.json', '14_2i_Lr_2.json', '14_2i_Rl_2.json', '14_2p_Lr_2.json', '14_2i_Rr_1.json', '14_2p_Lu_2.json', '14_2p_Rr_2.json', '14_2p_Ls_2.json', '14_2p_Rl_2.json', '14_2n_Rl_2.json', '14_2p_Rs_1.json', '14_2n_Rl_1.json', '14_2i_Ru_1.json', '14_2n_Ru_2.json', '14_2i_Ls_1.json', '14_2i_Rs_2.json', '14_2n_Ll_2.json', '14_1p_Rs_1.json', '14_2p_Ll_2.json', '14_2p_Rs_2.json', '14_2n_Lu_1.json', '14_2p_Rl_1.json', '14_2p_Lr_1.json', '14_2i_Ru_2.json', '14_2n_Ls_1.json', '14_2i_Rl_1.json', '14_2n_Rs_1.json', '14_2p_Ls_1.json', '14_2p_Lu_1.json', '14_2i_Ll_2.json', '14_2p_Rr_1.json', '14_2n_Rs_2.json', '14_2i_Lu_2.json', '14_2n_Ls_2.json', '14_3i_Rr_1.json', '14_3i_Rl_1.json', '14_3n_Rr_1.json', '14_3p_Lu_2.json', '14_3i_Rs_1.json', '14_3i_Lr_1.json', '14_3i_Ll_1.json', '14_3i_Rr_2.json', '14_3p_Rs_2.json', '14_3n_Ll_2.json', '14_3i_Ls_1.json', '14_3i_Ru_1.json', '14_3n_Rr_2.json', '14_3n_Ls_1.json', '14_3i_Lr_2.json', '14_3n_Ru_2.json', '14_3p_Ru_1.json', '14_3n_Rs_2.json', '14_3n_Ls_2.json', '14_3p_Rr_1.json', '14_3p_Rs_1.json', '14_3p_Lr_1.json', '14_3i_Rl_2.json', '14_3n_Lu_2.json', '14_3p_Ll_2.json', '14_3p_Lu_1.json', '14_2p_Ru_2.json', '14_3n_Lu_1.json', '14_3i_Lu_2.json', '14_3i_Ll_2.json', '14_3p_Rl_2.json', '14_3n_Rl_1.json', '14_3n_Ru_1.json', '14_3n_Rl_2.json', '14_3i_Rs_2.json', '14_3n_Lr_1.json', '14_3n_Lr_2.json', '14_3i_Ls_2.json', '14_3i_Ru_2.json', '14_3i_Lu_1.json', '14_3p_Ls_1.json', '14_3p_Ru_2.json', '14_3n_Rs_1.json', '14_3p_Ls_2.json', '14_3p_Rr_2.json', '14_3p_Lr_2.json', '14_3n_Ll_1.json', '14_3p_Ll_1.json', '14_3p_Rl_1.json', '14_2p_Ru_1.json', '13_1i_Ru_1.json', '13_1i_Ll_1.json', '13_1n_Rr_1.json', '13_1p_Rl_1.json', '13_1n_Rs_2.json', '13_1p_Ls_1.json', '13_1i_Lr_2.json', '13_1n_Rl_2.json', '13_1n_Ls_1.json', '13_1n_Lr_1.json', '13_1n_Lu_2.json', '13_1i_Rr_1.json', '13_1p_Lr_1.json', '13_1p_Lu_2.json', '13_1i_Ls_2.json', '13_1n_Lr_2.json', '13_1p_Lr_2.json', '13_1p_Ll_2.json', '13_2i_Ll_1.json', '13_1p_Rs_2.json', '13_1i_Ls_1.json', '13_2i_Ll_2.json', '13_1i_Lu_2.json', '13_1n_Ls_2.json', '13_1p_Ru_2.json', '13_1i_Rs_2.json', '13_1n_Ru_2.json', '13_1n_Lu_1.json', '13_1p_Rr_2.json', '13_1p_Ll_1.json', '13_1n_Ll_2.json', '13_1n_Rs_1.json', '13_1p_Lu_1.json', '13_1p_Ru_1.json', '13_1n_Ll_1.json', '13_1i_Lr_1.json', '13_1i_Ru_2.json', '13_1i_Rl_1.json', '13_1p_Rs_1.json', '13_1n_Ru_1.json', '13_1n_Rr_2.json', '13_1n_Rl_1.json', '13_1i_Rr_2.json', '13_1i_Lu_1.json', '13_1i_Rl_2.json', '13_1p_Ls_2.json', '13_1i_Ll_2.json', '13_1i_Rs_1.json', '13_1p_Rr_1.json', '13_2p_Rr_bad.json', '13_2n_Ls_2.json', '13_2i_Lr_2.json', '13_2i_Rl_1.json', '13_2p_Ls_2.json', '13_2p_Rs_2.json', '13_2p_Rl_1.json', '13_2p_Lr_2.json', '13_2p_Ll_1.json', '13_2p_Lr_bad.json', '13_2p_Ll_2.json', '13_2i_Lr_1.json', '13_2p_Lu_2.json', '13_2i_Rs_2.json', '13_2n_Ls_1.json', '13_2p_Ls_bad.json', '13_2n_Lu_1.json', '13_2p_Lu_1.json', '13_2i_Rr_1.json', '13_2p_Rl_2.json', '13_2i_Rs_1.json', '13_2p_Ll_bad.json', '13_2n_Ru_2.json', '13_2n_Rs_1.json', '13_2n_Rr_1.json', '13_2n_Rs_2.json', '13_2i_Rr_2.json', '13_2i_Ls_1.json', '13_2i_Lu_1.json', '13_2p_Ls_1.json', '13_2n_Lr_2.json', '13_2i_Rl_2.json', '13_2p_Rr_1.json', '13_2n_Rl_1.json', '13_2i_Ls_2.json', '13_2n_Ll_2.json', '13_2p_Rl_bad.json', '13_2p_Rs_1.json', '13_2n_Ru_1.json', '13_2p_Rr_2.json', '13_2n_Lu_2.json', '13_2i_Lu_2.json', '13_2i_Ru_1.json', '13_2n_Lr_1.json', '13_2n_Rr_2.json', '13_2i_Ru_2.json', '13_2n_Rl_2.json', '13_2n_Ll_1.json', '13_2p_Lr_1.json', '13_2p_Lu_bad.json', '13_3n_Rr_1.json', '13_3p_Lr_1.json', '13_3i_Rs_1.json', '13_3p_Rl_2.json', '13_3i_Ll_2.json', '13_3i_Lu_1.json', '13_3i_Ru_2.json', '13_3i_Lr_2.json', '13_3p_Lu_bad.json', '13_3p_Lr_2.json', '13_3i_Ll_1.json', '13_3n_Lr_2.json', '13_3p_Ll_1.json', '13_3i_Rl_2.json', '13_3i_Ls_2.json', '13_3n_Ru_1.json', '13_2p_Ru_2.json', '13_3n_Rl_1.json', '13_3i_Lu_2.json', '13_3i_Rr_1.json', '13_2p_Rs_bad.json', '13_3n_Rs_2.json', '13_3n_Ru_2.json', '13_3p_Ls_2.json', '13_3p_Lu_1.json', '13_3n_Lu_2.json', '13_3n_Lr_1.json', '13_3i_Rs_2.json', '13_3n_Ls_1.json', '13_3p_Ll_2.json', '13_3i_Rl_1.json', '13_3n_Rl_2.json', '13_3p_Ll_bad.json', '13_3p_Ls_1.json', '13_3i_Lr_1.json', '13_2p_Ru_bad.json', '13_3i_Ls_1.json', '13_3n_Rr_2.json', '13_3p_Lu_2.json', '13_3i_Rr_2.json', '13_3n_Ll_1.json', '13_3n_Lu_1.json', '13_3p_Rl_1.json', '13_3n_Ll_2.json', '13_3i_Ru_1.json', '13_3n_Rs_1.json', '13_2p_Ru_1.json', '13_3n_Ls_2.json', '13_3p_Lr_bad.json', '13_3p_Rl_bad.json', '13_3p_Ls_bad.json', '13_3p_Ru_1.json', '13_3p_Rr_1.json', '13_3p_Rr_2.json', '13_3p_Rs_2.json', '13_3p_Ru_2.json', '13_3p_Ru_bad.json', '13_3p_Rr_bad.json', '13_3p_Rs_bad.json', '13_3p_Rs_1.json', '11_1i_Ru_2.json', '11_1i_Rl_1.json', '11_1i_Rr_1.json', '11_1i_Lu_2.json', '11_1i_Rs_2.json', '11_1n_Ll_1.json', '11_1n_Lu_1.json', '11_1i_Ru_1.json', '11_1i_Rr_2.json', '11_1n_Rs_1.json', '11_1n_Lr_1.json', '11_1i_Lr_1.json', '11_1i_Lu_1.json', '11_1n_Rl_1.json', '11_1n_Rs_2.json', '11_1i_Ll_2.json', '11_1i_Ls_1.json', '11_1n_Ls_2.json', '11_1n_Ls_1.json', '11_1i_Rs_1.json', '11_1i_Ll_1.json', '11_1i_Rl_2.json', '11_1n_Lr_2.json', '11_1i_Ls_2.json', '11_1n_Lu_2.json', '11_1i_Lr_2.json', '11_1n_Ru_1.json', '11_1n_Rl_2.json', '11_1n_Rr_2.json', '11_1n_Ll_2.json', '11_1n_Rr_1.json', '11_2n_Ls_2.json', '11_1p_Lr_2.json', '11_2i_Rl_2.json', '11_2i_Rr_1.json', '11_1n_Ru_2.json', '11_2i_Rr_2.json', '11_1p_Ll_2.json', '11_1p_Rr_2.json', '11_2n_Ll_2.json', '11_2n_Ru_1.json', '11_2n_Lr_1.json', '11_1p_Ru_2.json', '11_2i_Rs_1.json', '11_2p_Ll_2.json', '11_2n_Rs_1.json', '11_2n_Ru_2.json', '11_1p_Ls_1.json', '11_1p_Rl_2.json', '11_2n_Rr_1.json', '11_1p_Ls_2.json', '11_1p_Ru_1.json', '11_2n_Lu_2.json', '11_1p_Lr_1.json', '11_2i_Ll_2.json', '11_2p_Ll_1.json', '11_1p_Rs_2.json', '11_2i_Ru_2.json', '11_2n_Lr_2.json', '11_2i_Lr_1.json', '11_1p_Rs_1.json', '11_2i_Ru_1.json', '11_2i_Lu_1.json', '11_2i_Ls_1.json', '11_1p_Lu_2.json', '11_2i_Rs_2.json', '11_2n_Rl_1.json', '11_2n_Rr_2.json', '11_1p_Lu_1.json', '11_2i_Lu_2.json', '11_2i_Ls_2.json', '11_1p_Ll_1.json', '11_2i_Ll_1.json', '11_2i_Lr_2.json', '11_2p_Lr_1.json', '11_1p_Rr_1.json', '11_2i_Rl_1.json', '11_2n_Lu_1.json', '11_2n_Rl_2.json', '11_2n_Rs_2.json', '11_2n_Ll_1.json', '11_2n_Ls_1.json', '11_1p_Rl_1.json', '11_2p_Rs_1.json', '11_3n_Lr_1.json', '11_3n_Ll_2.json', '11_3p_Lr_2.json', '11_3n_Rr_1.json', '11_2p_Rl_1.json', '11_3i_Ru_1.json', '11_3i_Rl_1.json', '11_3i_Lu_2.json', '11_3n_Ru_2.json', '11_3p_Lr_1.json', '11_3i_Rr_1.json', '11_3n_Lu_2.json', '11_2p_Ls_1.json', '11_3n_Ls_1.json', '11_3p_Ll_1.json', '11_3n_Rl_2.json', '11_2p_Ls_2.json', '11_3i_Ll_1.json', '11_3n_Rs_2.json', '11_3i_Lr_2.json', '11_2p_Ru_2.json', '11_3n_Lr_2.json', '11_3i_Lu_1.json', '11_2p_Lu_2.json', '11_3i_Rs_1.json', '11_3i_Ll_2.json', '11_2p_Lr_2.json', '11_3n_Ls_2.json', '11_3n_Lu_1.json', '11_3i_Rl_2.json', '11_3n_Rl_1.json', '11_3p_Ls_2.json', '11_3p_Ll_2.json', '11_3i_Ls_1.json', '11_3i_Rr_2.json', '11_2p_Rr_1.json', '11_3n_Ll_1.json', '11_3n_Ru_1.json', '11_3i_Lr_1.json', '11_2p_Ru_1.json', '11_2p_Rr_2.json', '11_2p_Rs_2.json', '11_3p_Lu_1.json', '11_3n_Rs_1.json', '11_3n_Rr_2.json', '11_3p_Ls_1.json', '11_3i_Ls_2.json', '11_2p_Lu_1.json', '11_2p_Rl_2.json', '11_3i_Rs_2.json', '11_3i_Ru_2.json', '11_3p_Lu_2.json', '11_3p_Ru_1.json', '11_3p_Ru_2.json', '11_3p_Rs_2.json', '11_3p_Rl_2.json', '11_3p_Rr_1.json', '11_3p_Rs_1.json', '11_3p_Rl_1.json', '11_3p_Rr_2.json', '18_1n_Lr_2.json', '18_1p_Ls_1.json', '18_1i_Ls_2.json', '18_1i_Rs_2.json', '18_1n_Lu_1.json', '18_1n_Ls_1.json', '18_1i_Rs_1.json', '18_1n_Lr_1.json', '18_1p_Lu_1.json', '18_1p_Ls_2.json', '18_1n_Rs_2.json', '18_1n_Rr_1.json', '18_1n_Rl_1.json', '18_1n_Rl_2.json', '18_1i_Rl_1.json', '18_1i_Lu_1.json', '18_1n_Ll_1.json', '18_1p_Ll_2.json', '18_1i_Lr_2.json', '18_1p_Lr_2.json', '18_1i_Ll_2.json', '18_1n_Lu_2.json', '18_1n_Ll_2.json', '18_1p_Lr_1.json', '18_1p_Rr_1.json', '18_1i_Ru_2.json', '18_1i_Lu_2.json', '18_1i_Lr_1.json', '18_1p_Lu_2.json', '18_1p_Rr_2.json', '18_1n_Ls_2.json', '18_1p_Rl_1.json', '18_1p_Ll_1.json', '18_1n_Ru_1.json', '18_1i_Ls_1.json', '18_1i_Rr_2.json', '18_1i_Ru_1.json', '18_1i_Rr_1.json', '18_1i_Rl_2.json', '18_1n_Rr_2.json', '18_1i_Ll_1.json', '18_1p_Rl_2.json', '18_1n_Ru_2.json', '18_1n_Rs_1.json', '18_2i_Ll_2.json', '18_3n_Ll_2.json', '18_1p_Rs_1.json', '18_3i_Lu_2.json', '18_3i_Rs_1.json', '18_3i_Lr_1.json', '18_3i_Rl_1.json', '18_3i_Rl_2.json', '18_2i_Ls_2.json', '18_3i_Rr_1.json', '18_2i_Rr_1.json', '18_2n_Ls_2.json', '18_2i_Ll_1.json', '18_3n_Ls_1.json', '18_3n_Ls_2.json', '18_2n_Lr_2.json', '18_3n_Lr_1.json', '18_2i_Lu_1.json', '18_3n_Ll_1.json', '18_2n_Lu_2.json', '18_2i_Lr_2.json', '18_1p_Ru_1.json', '18_2n_Ll_2.json', '18_3i_Lr_3.json', '18_3i_Lr_2.json', '18_3n_Lu_1.json', '18_2i_Rs_1.json', '18_3n_Lr_2.json', '18_2i_Rl_1.json', '18_2i_Rl_2.json', '18_3i_Ru_1.json', '18_3i_Rr_2.json', '18_3i_Rs_2.json', '18_3n_Rl_1.json', '18_3n_Lu_2.json', '18_3i_Ls_1.json', '18_2i_Ls_1.json', '18_3i_Ll_1.json', '18_2i_Rr_2.json', '18_2n_Lr_1.json', '18_3i_Ru_2.json', '18_1p_Rs_2.json', '18_2i_Lr_1.json', '18_2i_Rs_2.json', '18_1p_Ru_2.json', '18_3i_Lu_1.json', '18_2n_Ls_1.json', '18_2i_Ru_1.json', '18_2n_Ll_1.json', '18_2n_Lu_1.json', '18_2i_Lu_2.json', '18_2i_Ru_2.json', '18_3n_Rl_2.json', '18_3n_Ru_1.json', '18_3p_Ls_1.json', '18_3p_Ll_2.json', '18_3p_Ls_2.json', '18_3p_Rs_2.json', '18_3n_Rs_2.json', '18_3n_Rs_1.json', '18_3p_Rs_1.json', '18_3p_Rl_1.json', '18_3p_Ll_1.json', '18_3p_Lr_1.json', '18_3p_Lu_1.json', '18_3p_Lr_2.json', '18_3n_Rr_2.json', '18_3n_Rr_1.json', '18_3p_Rl_2.json', '18_3p_Ru_2.json', '18_3p_Rr_2.json', '18_3p_Lu_2.json', '18_3p_Rr_1.json', '18_3p_Ru_1.json', '18_3n_Ru_2.json', '12_1n_Ru_1.json', '12_1n_Ru_2.json', '12_1i_Ls_2.json', '12_1n_Ll_2.json', '12_1i_Lr_2.json', '12_1p_Lu_1.json', '12_1p_Ls_1.json', '12_1i_Ru_2.json', '12_1n_Rl_1.json', '12_1n_Rr_2.json', '12_1p_Ll_2.json', '12_1p_Ls_2.json', '12_1i_Rr_1.json', '12_1n_Rl_2.json', '12_1i_Lu_1.json', '12_1n_Rs_1.json', '12_1n_Rs_2.json', '12_1p_Rl_2.json', '12_1p_Lr_2.json', '12_1i_Ll_2.json', '12_1n_Lu_2.json', '12_1i_Lu_2.json', '12_1i_Ru_1.json', '12_1i_Rs_2.json', '12_1p_Lr_1.json', '12_1n_Ll_1.json', '12_1i_Lr_1.json', '12_1p_Rr_1.json', '12_1n_Lr_2.json', '12_1p_Ll_1.json', '12_1n_Ls_2.json', '12_1p_Lu_2.json', '12_1i_Rr_2.json', '12_1n_Ls_1.json', '12_1i_Rs_1.json', '12_1i_Rl_1.json', '12_1n_Rr_1.json', '12_1i_Ls_1.json', '12_1i_Ll_1.json', '12_1i_Rl_2.json', '12_1n_Lu_1.json', '12_1p_Rl_1.json', '12_1n_Lr_1.json', '12_3i_Rs_1.json', '12_3n_Rr_1.json', '12_3i_Rl_1.json', '12_3i_Lr_1.json', '12_3i_Ru_2.json', '12_3n_Ru_2.json', '12_3n_Lu_1.json', '12_3i_Rl_2.json', '12_3p_Ll_1.json', '12_3i_Rs_2.json', '12_1p_Rs_1.json', '12_3n_Lu_2.json', '12_3p_Ls_1.json', '12_3i_Ru_1.json', '12_3i_Lr_2.json', '12_1p_Ru_2.json', '12_3n_Ru_1.json', '12_3n_Ll_2.json', '12_1p_Rs_2.json', '12_3i_Ll_2.json', '12_3p_Ll_2.json', '12_3p_Lr_2.json', '12_3i_Lu_2.json', '12_3p_Lu_1.json', '12_3n_Rs_1.json', '12_3n_Rs_2.json', '12_3n_Lr_2.json', '12_3i_Rr_1.json', '12_3p_Rl_1.json', '12_3p_Rs_1.json', '12_3p_Lu_2.json', '12_1p_Ru_1.json', '12_3n_Rl_1.json', '12_3p_Lr_1.json', '12_3p_Rs_2.json', '12_3n_Lr_1.json', '12_3p_Ls_2.json', '12_1p_Rr_2.json', '12_3n_Ls_1.json', '12_3p_Rl_2.json', '12_3i_Ls_2.json', '12_3p_Rr_2.json', '12_3i_Ll_1.json', '12_3n_Ls_2.json', '12_3i_Lu_1.json', '12_3i_Ls_1.json', '12_3n_Ll_1.json', '12_3p_Rr_1.json', '12_3n_Rr_2.json', '12_3n_Rl_2.json', '12_3i_Rr_2.json', '12_3p_Ru_2.json', '12_3p_Ru_1.json', '17_1i_Rr_1.json', '17_1i_Ls_1.json', '17_1i_Rr_2.json', '17_1i_Lu_1.json', '17_1i_Rs_2.json', '17_1i_Ru_2.json', '17_1i_Ll_2.json', '17_1i_Lr_1.json', '17_1i_Rl_2.json', '17_1i_Lr_2.json', '17_1i_Ll_1.json', '17_1i_Ru_1.json', '17_1i_Rs_1.json', '17_1i_Rl_1.json', '17_1i_Lu_2.json', '17_1i_Ls_2.json', '17_1n_Rs_1.json', '17_2i_Lu_1.json', '17_1n_Ls_2.json', '17_2i_Ru_2.json', '17_1n_Rr_2.json', '17_2i_Lu_2.json', '17_1n_Ll_1.json', '17_2i_Ru_1.json', '17_2i_Rs_1.json', '17_2i_Ll_2.json', '17_2i_Rr_2.json', '17_2n_Ll_1.json', '17_1p_Lr_2.json', '17_1p_Ll_2.json', '17_1p_Lr_1.json', '17_1n_Ls_1.json', '17_1p_Ls_1.json', '17_1n_Lr_1.json', '17_1p_Ru_1.json', '17_1n_Rl_2.json', '17_1p_Rl_2.json', '17_1n_Rl_1.json', '17_1n_Ru_1.json', '17_1n_Ru_2.json', '17_2i_Rs_2.json', '17_1p_Ll_1.json', '17_1n_Rr_1.json', '17_1n_Lu_1.json', '17_1p_Rs_1.json', '17_1p_Lu_1.json', '17_2i_Ls_2.json', '17_1p_Rr_1.json', '17_1p_Ls_2.json', '17_1p_Rs_2.json', '17_1n_Lr_2.json', '17_2i_Ls_1.json', '17_2i_Lr_1.json', '17_2i_Lr_2.json', '17_2i_Ll_1.json', '17_2i_Rl_1.json', '17_1n_Lu_2.json', '17_2i_Rl_2.json', '17_1p_Rr_2.json', '17_1n_Ll_2.json', '17_1p_Ru_2.json', '17_2i_Rr_1.json', '17_1p_Lu_2.json', '17_1n_Rs_2.json', '17_1p_Rl_1.json', '17_2n_Ll_2.json', '17_2n_Rr_2.json', '17_3i_Rr_1.json', '17_2n_Rs_2.json', '17_3p_Rl_1.json', '17_3i_Rl_1.json', '17_3i_Rs_1.json', '17_3i_Lu_1.json', '17_3n_Ru_2.json', '17_3p_Ls_1.json', '17_3i_Rs_2.json', '17_2n_Ls_2.json', '17_2n_Rr_1.json', '17_2n_Lu_1.json', '17_3i_Ru_1.json', '17_3n_Ru_1.json', '17_3n_Rl_2.json', '17_2n_Lu_2.json', '17_3n_Ll_1.json', '17_3i_Ls_1.json', '17_3p_Lu_1.json', '17_3n_Ll_2.json', '17_3n_Rl_1.json', '17_2n_Ls_1.json', '17_2n_Ru_2.json', '17_3i_Lr_1.json', '17_3n_Rr_1.json', '17_3i_Rr_2.json', '17_3n_Rs_1.json', '17_3n_Rs_2.json', '17_3n_Rr_2.json', '17_2n_Rl_2.json', '17_2n_Lr_1.json', '17_3i_Lu_2.json', '17_3i_Ll_2.json', '17_3i_Ll_1.json', '17_2n_Rs_1.json', '17_2n_Ru_1.json', '17_3i_Ls_2.json', '17_2n_Lr_2.json', '17_3p_Ls_2.json', '17_3p_Lr_2.json', '17_3p_Lu_2.json', '17_3i_Rl_2.json', '17_3p_Ll_2.json', '17_3p_Lr_1.json', '17_3i_Lr_2.json', '17_3n_Lr_1.json', '17_3i_Ru_2.json', '17_3p_Ll_1.json', '17_3p_Rl_2.json', '17_3n_Lr_2.json', '17_2n_Rl_1.json', '17_3n_Ls_1.json', '17_3n_Ls_2.json', '17_3p_Rr_2.json', '17_3p_Rs_2.json', '17_3p_Rs_1.json', '17_3p_Rr_1.json', '17_3p_Ru_1.json', '17_3p_Ru_2.json', '15_1i_Ll_2.json', '15_1i_Lr_1.json', '15_1i_Ll_1.json', '15_1p_Ls_1.json', '15_1n_Lr_2.json', '15_1n_Rl_2.json', '15_1n_Rs_1.json', '15_1n_Ls_1.json', '15_1n_Rr_1.json', '15_1p_Rr_2.json', '15_1n_Rr_2.json', '15_1i_Rs_1.json', '15_1i_Ru_1.json', '15_1n_Lu_2.json', '15_1i_Ru_2.json', '15_1p_Rs_2.json', '15_1i_Rr_1.json', '15_1p_Rl_1.json', '15_1p_Lr_1.json', '15_1p_Lr_2.json', '15_1i_Ls_1.json', '15_1n_Lr_1.json', '15_1p_Rs_1.json', '15_1n_Lu_1.json', '15_1i_Rs_2.json', '15_1i_Rl_1.json', '15_1i_Rl_2.json', '15_1p_Lu_1.json', '15_1i_Lu_2.json', '15_1p_Rl_2.json', '15_1n_Ru_1.json', '15_1i_Lu_1.json', '15_1p_Rr_1.json', '15_1i_Lr_2.json', '15_1p_Ls_2.json', '15_1i_Ls_2.json', '15_1p_Ll_2.json', '15_1p_Lu_2.json', '15_1i_Rr_2.json', '15_1n_Ru_2.json', '15_1p_Ru_2.json', '15_1n_Rl_1.json', '15_1p_Ru_1.json', '15_1n_Ll_2.json', '15_1p_Ll_1.json', '15_1n_Rs_2.json', '15_1n_Ls_2.json', '15_1n_Ll_1.json', '20_1i_Ls_1.json', '20_1i_Ll_1.json', '20_1i_Lr_1.json', '20_1i_Lr_2.json', '20_1i_Ll_2.json', '20_1i_Ls_2.json', '20_1n_Ls_2.json', '20_1p_Lu_2.json', '20_1i_Rs_2.json', '20_1p_Rs_2.json', '20_1i_Lu_2.json', '20_1i_Rr_1.json', '20_1n_Ll_1.json', '20_1p_Lu_1.json', '20_1n_Ru_1.json', '20_1i_Rl_2.json', '20_1i_Ru_1.json', '20_1p_Ls_2.json', '20_1n_Lr_2.json', '20_1n_Ru_2.json', '20_1p_Lr_2.json', '20_1p_Ls_3.json', '20_1i_Rr_2.json', '20_1n_Lu_2.json', '20_1i_Lu_1.json', '20_1n_Rr_2.json', '20_1p_Lr_1.json', '20_1p_Ll_1.json', '20_1n_Lu_1.json', '20_1n_Rl_1.json', '20_1i_Rl_1.json', '20_1p_Rl_2.json', '20_1n_Ll_2.json', '20_1i_Ru_2.json', '20_1n_Rr_1.json', '20_1n_Rs_2.json', '20_1p_Rs_1.json', '20_1p_Ru_1.json', '20_1i_Rs_1.json', '20_1n_Rl_2.json', '20_1p_Rr_1.json', '20_1p_Rr_2.json', '20_1p_Rl_1.json', '20_1n_Ls_1.json', '20_1n_Lr_1.json', '20_1p_Ru_2.json', '20_1p_Ls_1.json', '20_1n_Rs_1.json', '21_1i_Ll_2.json', '21_1i_Lr_1.json', '21_1i_Ll_1.json', '21_1i_Lu_2.json', '21_1i_Lr_2.json', '21_1i_Rl_2.json', '21_1i_Ls_1.json', '21_1i_Rl_1.json', '21_1i_Lu_1.json', '21_1i_Ls_2.json', '21_1p_Rr_1.json', '21_2i_Rr_1.json', '21_1p_Ru_1.json', '21_1n_Lr_1.json', '21_1p_Rl_1.json', '21_2i_Ll_2.json', '21_1p_Rs_2.json', '21_1i_Rs_1.json', '21_1p_Ll_2.json', '21_2i_Rr_2.json', '21_1n_Lu_1.json', '21_1n_Ls_1.json', '21_1p_Lr_2.json', '21_1n_Lu_2.json', '21_1n_Ll_2.json', '21_2i_Rl_1.json', '21_1n_Rl_2.json', '21_2i_Lu_1.json', '21_1p_Lu_1.json', '21_1n_Ll_1.json', '21_1p_Rl_2.json', '21_1n_Rr_2.json', '21_1p_Ru_2.json', '21_2i_Ls_1.json', '21_1p_Rr_2.json', '21_1n_Rs_2.json', '21_1p_Rs_1.json', '21_1p_Ls_1.json', '21_2i_Lr_2.json', '21_2i_Rl_2.json', '21_1n_Ls_2.json', '21_2i_Lu_2.json', '21_2i_Lr_1.json', '21_2i_Ll_1.json', '21_1n_Rl_1.json', '21_1p_Ll_1.json', '21_1p_Lu_2.json', '21_2i_Ls_2.json', '21_1p_Lr_1.json', '21_1n_Lr_2.json', '21_1n_Rr_1.json', '21_1i_Rr_2.json', '21_1i_Ru_2.json', '21_1i_Rr_1.json', '21_1n_Ru_2.json', '21_1i_Ru_1.json', '21_1i_Rs_2.json', '21_1n_Ru_1.json', '21_1p_Ls_2.json', '21_1n_Rs_1.json', '21_2p_Ru_2.json', '21_2p_Rs_1.json', '21_2n_Lu_1.json', '21_3i_Rr_2.json', '21_2p_Ll_2.json', '21_3i_Lu_1.json', '21_3i_Rl_1.json', '21_2p_Ls_2.json', '21_2p_Ls_1.json', '21_3i_Rr_1.json', '21_2p_Ru_1.json', '21_2p_Lr_1.json', '21_2i_Ru_1.json', '21_3i_Ls_2.json', '21_2i_Rs_1.json', '21_2n_Ls_2.json', '21_2p_Ll_1.json', '21_3i_Lu_2.json', '21_2n_Rr_1.json', '21_2n_Rs_2.json', '21_3i_Ls_1.json', '21_2i_Ru_2.json', '21_2p_Lu_1.json', '21_2n_Lu_2.json', '21_3i_Ll_2.json', '21_3i_Rs_1.json', '21_2n_Ru_2.json', '21_3n_Ll_1.json', '21_2p_Rl_1.json', '21_2n_Lr_2.json', '21_2i_Rs_2.json', '21_2p_Rl_2.json', '21_3i_Rl_2.json', '21_3i_Ru_2.json', '21_2p_Rr_2.json', '21_3i_Lr_2.json', '21_2p_Rs_2.json', '21_2n_Rr_2.json', '21_2p_Lr_2.json', '21_2n_Ll_1.json', '21_3i_Lr_1.json', '21_2p_Lu_2.json', '21_3i_Ll_1.json', '21_2n_Ru_1.json', '21_2n_Rl_1.json', '21_3i_Rs_2.json', '21_3i_Ru_1.json', '21_2n_Rs_1.json', '21_2n_Ls_1.json', '21_2n_Rl_2.json', '21_2p_Rr_1.json', '21_2n_Lr_1.json', '21_2n_Ll_2.json', '21_3p_Ru_1.json', '21_3p_Ll_2.json', '21_3n_Rs_2.json', '21_3n_Rl_1.json', '21_3n_Lu_2.json', '21_3n_Rl_2.json', '21_3p_Ll_1.json', '21_3n_Lr_1.json', '21_3p_Rs_2.json', '21_3p_Lr_1.json', '21_3n_Lu_1.json', '21_3n_Ll_2.json', '21_3p_Lr_2.json', '21_3n_Rr_2.json', '21_3p_Rr_1.json', '21_3n_Rr_1.json', '21_3p_Rr_2.json', '21_3n_Ls_2.json', '21_3p_Ls_2.json', '21_3n_Ls_1.json', '21_3p_Rs_1.json', '21_3p_Ru_2.json', '21_3n_Lr_2.json', '21_3n_Ru_2.json', '21_3p_Lu_2.json', '21_3p_Ls_1.json', '21_3p_Lu_1.json', '21_3p_Rl_1.json', '21_3n_Rs_1.json', '21_3p_Rl_2.json', '21_3n_Ru_1.json', '22_1i_Ll_1.json', '22_1n_Ll_2.json', '22_1i_Rs_1.json', '22_1i_Lr_2.json', '22_1i_Rl_2.json', '22_1i_Rr_2.json', '22_1i_Rr_1.json', '22_1i_Rl_1.json', '22_1i_Lu_1.json', '22_1i_Ls_1.json', '22_1i_Ru_2.json', '22_1i_Lr_1.json', '22_1i_Lu_2.json', '22_1n_Ll_1.json', '22_1i_Rs_2.json', '22_1i_Ll_2.json', '22_1i_Ru_1.json', '22_1n_Lr_1.json', '22_1i_Ls_2.json', '22_1n_Lr_2.json', '22_1n_Rs_1.json', '22_1p_Ll_1.json', '22_1p_Rs_1.json', '22_1p_Ru_2.json', '22_1p_Rl_2.json', '22_1n_Rl_1.json', '22_1n_Rr_2.json', '22_1p_Rr_1.json', '22_1p_Lu_1.json', '22_1p_Ls_1.json', '22_1p_Lr_2.json', '22_1n_Ls_2.json', '22_1n_Ru_1.json', '22_1p_Ll_2.json', '22_1p_Rs_2.json', '22_1p_Lu_2.json', '22_1n_Rr_1.json', '22_1p_Rr_2.json', '22_1p_Lr_1.json', '22_1p_Rl_1.json', '22_1n_Lu_2.json', '22_1n_Ls_1.json', '22_1n_Ru_2.json', '22_1p_Ls_2.json', '22_1n_Rl_2.json', '22_1p_Ru_1.json', '22_1n_Rs_2.json', '22_1n_Lu_1.json', '23_1i_Rl_2.json', '23_1i_Rs_1.json', '23_1n_Lr_1.json', '23_1i_Rr_2.json', '23_1i_Ru_1.json', '23_1n_Ll_2.json', '23_1i_Ll_2.json', '23_1i_Ls_1.json', '23_1n_Ll_1.json', '23_1i_Rl_1.json', '23_1i_Lr_2.json', '23_1i_Lu_1.json', '23_1i_Rr_1.json', '23_1n_Ls_2.json', '23_1i_Ls_2.json', '23_1i_Ll_1.json', '23_1n_Lr_2.json', '23_1i_Lr_1.json', '23_1i_Ru_2.json', '23_1i_Lu_2.json', '23_1n_Ls_1.json', '23_1i_Rs_2.json', '23_1p_Ru_2.json', '23_1n_Ru_1.json', '23_1n_Rs_1.json', '23_1p_Ll_2.json', '23_1p_Lu_2.json', '23_1p_Rs_1.json', '23_1n_Ru_2.json', '23_1n_Rl_1.json', '23_1p_Rl_1.json', '23_1n_Rr_1.json', '23_1n_Lu_2.json', '23_1n_Rr_2.json', '23_1p_Ru_1.json', '23_1p_Rl_2.json', '23_1p_Lr_1.json', '23_1p_Ls_1.json', '23_1p_Lu_1.json', '23_1p_Ls_2.json', '23_1p_Ll_1.json', '23_1n_Rl_2.json', '23_1p_Lr_2.json', '23_1p_Rr_1.json', '23_1n_Rs_2.json', '23_1n_Lu_1.json', '23_1p_Rs_2.json', '23_1p_Rr_2.json', '3_1n_Ll_2.json', '3_1i_Rl_1.json', '3_1i_Ru_1.json', '3_1i_Ru_2.json', '3_1n_Lr_2.json', '3_1i_Rr_1.json', '3_1i_Ll_2.json', '3_1i_Ls_2.json', '3_1i_Lu_1.json', '3_1i_Lu_2.json', '3_1i_Lr_2.json', '3_1n_Lr_1.json', '3_1i_Rs_2.json', '3_1i_Rs_1.json', '3_1i_Ll_1.json', '3_1i_Lr_1.json', '3_1i_Ls_1.json', '3_1i_Rr_2.json', '3_1n_Ll_1.json', '3_1i_Rl_2.json', '3_2n_Ll_1.json', '3_2n_Lr_2.json', '3_1p_Ll_2.json', '3_1n_Rr_1.json', '3_1p_Lr_1.json', '3_2i_Rl_3.json', '3_1p_Ls_1.json', '3_1p_Ru_2.json', '3_1p_Lu_2.json', '3_1p_Rs_1.json', '3_1n_Ru_1.json', '3_1p_Ru_1.json', '3_2i_Lu_1.json', '3_2i_Ls_1.json', '3_1n_Rs_2.json', '3_1n_Rr_2.json', '3_2n_Ls_2.json', '3_1p_Rr_1.json', '3_1p_Rl_2.json', '3_1n_Rs_1.json', '3_1n_Ru_2.json', '3_2i_Rl_1.json', '3_1p_Lu_1.json', '3_2i_Ru_1.json', '3_1n_Ls_2.json', '3_2i_Lu_2.json', '3_2i_Lr_1.json', '3_2n_Ll_2.json', '3_2i_Lr_3.json', '3_2i_Rl_2.json', '3_2n_Ls_1.json', '3_1p_Rr_2.json', '3_2i_Ll_2.json', '3_1n_Ls_1.json', '3_2i_Lr_2.json', '3_1n_Lu_1.json', '3_1n_Rl_1.json', '3_2n_Lu_1.json', '3_1p_Ll_1.json', '3_2i_Rr_2.json', '3_1n_Rl_2.json', '3_1p_Lr_2.json', '3_2n_Lr_1.json', '3_1p_Rl_1.json', '3_2i_Rs_2.json', '3_1p_Rs_2.json', '3_2i_Ls_2.json', '3_2i_Rr_1.json', '3_1n_Lu_2.json', '3_1p_Ls_2.json', '3_2i_Rs_1.json', '3_3i_Ru_1.json', '3_2n_Rr_1.json', '3_3n_Rs_2.json', '3_3i_Lu_1.json', '3_2p_Rs_2.json', '3_3i_Rs_1.json', '3_3n_Lr_1.json', '3_3n_Rl_2.json', '3_2p_Lr_1.json', '3_3n_Ls_2.json', '3_2p_Ru_2.json', '3_3i_Ls_1.json', '3_2n_Ru_2.json', '3_2p_Ls_2.json', '3_2p_Rs_1.json', '3_3n_Lr_2.json', '3_2p_Lr_2.json', '3_3i_Ll_1.json', '3_3n_Ru_1.json', '3_3n_Rr_2.json', '3_3n_Lu_1.json', '3_3n_Ls_1.json', '3_3i_Ls_2.json', '3_2p_Ll_2.json', '3_2n_Ru_1.json', '3_3i_Ru_2.json', '3_3n_Lu_2.json', '3_2n_Lu_2.json', '3_2p_Ls_3.json', '3_2p_Rr_2.json', '3_3i_Rl_2.json', '3_3n_Rs_1.json', '3_2p_Ls_1.json', '3_3i_Lr_1.json', '3_2p_Ru_1.json', '3_2n_Rl_2.json', '3_2n_Rl_1.json', '3_2p_Ll_1.json', '3_3n_Ll_1.json', '3_3i_Rr_1.json', '3_2n_Rs_1.json', '3_3n_Rr_1.json', '3_3i_Rr_2.json', '3_2n_Rs_2.json', '3_2p_Rl_1.json', '3_2p_Rl_2.json', '3_3i_Rl_1.json', '3_2p_Rs_3.json', '3_3i_Rs_2.json', '3_2n_Rr_2.json', '3_3n_Rl_1.json', '3_3n_Ll_2.json', '3_3n_Ru_2.json', '3_3p_Rl_1.json', '3_3p_Rl_2.json', '3_3p_Rr_2.json', '3_3p_Ru_2.json', '3_3p_Rr_1.json', '3_3p_Ls_1.json', '3_3p_Lu_2.json', '3_3p_Rs_2.json', '3_3p_Ll_1.json', '3_3p_Lr_2.json', '3_3p_Lu_1.json', '3_3p_Lr_1.json', '3_3p_Rs_1.json', '3_3p_Ru_1.json', '3_3p_Ll_2.json', '3_3p_Ls_2.json', '28_1i_Ll_1.json', '28_1i_Ll_2.json', '28_1i_Rl_1.json', '28_1i_Rr_1.json', '28_1i_Lu_1.json', '28_1i_Lr_1.json', '28_1i_Rl_2.json', '28_1i_Lu_2.json', '28_1i_Ls_1.json', '28_1i_Lr_2.json', '28_1i_Ls_2.json', '28_1n_Rs_1.json', '28_1n_Ls_2.json', '28_1n_Rl_2.json', '28_1p_Rl_2.json', '28_1i_Ru_1.json', '28_1n_Ll_2.json', '28_1p_Rr_1.json', '28_1n_Lu_1.json', '28_1p_Rl_1.json', '28_1n_Ru_1.json', '28_1p_Rr_2.json', '28_1p_Lr_1.json', '28_1p_Ll_2.json', '28_1p_Rs_1.json', '28_1n_Ru_2.json', '28_1i_Rs_1.json', '28_1n_Ls_1.json', '28_1n_Ll_1.json', '28_1p_Ls_1.json', '28_1p_Rs_2.json', '28_1p_Ru_1.json', '28_1p_Ll_1.json', '28_1n_Lr_2.json', '28_1n_Lr_1.json', '28_1n_Lu_2.json', '28_1i_Rr_2.json', '28_1n_Rr_2.json', '28_1p_Lr_2.json', '28_1p_Ru_2.json', '28_1p_Lu_1.json', '28_1n_Rr_1.json', '28_1p_Ls_2.json', '28_1n_Rl_1.json', '28_1n_Rs_2.json', '28_1i_Rs_2.json', '28_1p_Lu_2.json', '28_1i_Ru_2.json', '25_1n_Rs_1.json', '25_1n_Rs_2.json', '25_1i_Lu_2.json', '25_1i_Rr_2.json', '25_1n_Ls_1.json', '25_1n_Lr_2.json', '25_1i_Ru_1.json', '25_1p_Lu_1.json', '25_1n_Lu_1.json', '25_1i_Ll_1.json', '25_1i_Ls_1.json', '25_1p_Ls_2.json', '25_1p_Lr_2.json', '25_1p_Lu_2.json', '25_1n_Rl_2.json', '25_1i_Ll_2.json', '25_1n_Ru_1.json', '25_1i_Ru_2.json', '25_1n_Rr_1.json', '25_1n_Ll_2.json', '25_1n_Lu_2.json', '25_1i_Rl_1.json', '25_1i_Rl_2.json', '25_1i_Lr_2.json', '25_1p_Ll_1.json', '25_1n_Ru_2.json', '25_1i_Lr_1.json', '25_1n_Rl_1.json', '25_1i_Rr_1.json', '25_1i_Rs_1.json', '25_1i_Rs_2.json', '25_1i_Ls_2.json', '25_1n_Lr_1.json', '25_1n_Ll_1.json', '25_1i_Lu_1.json', '25_1p_Ll_2.json', '25_1n_Ls_2.json', '25_1p_Ls_1.json', '25_1n_Rr_2.json', '25_1p_Lr_1.json', '25_2p_Lr_1.json', '25_1p_Rr_2.json', '25_2i_Lu_2.json', '25_2n_Rl_2.json', '25_1p_Rl_1.json', '25_1p_Ru_1.json', '25_2n_Lu_1.json', '25_2i_Lu_1.json', '25_1p_Ru_2.json', '25_2p_Lu_2.json', '25_2p_Rl_1.json', '25_2i_Lr_1.json', '25_2i_Ru_1.json', '25_2n_Rs_2.json', '25_2i_Rl_2.json', '25_2i_Rr_2.json', '25_2i_Ls_2.json', '25_1p_Rr_1.json', '25_2n_Lu_2.json', '25_2n_Ll_2.json', '25_2i_Ll_1.json', '25_2i_Ls_1.json', '25_2i_Rr_1.json', '25_2n_Ru_2.json', '25_2i_Rs_2.json', '25_2n_Ll_1.json', '25_2n_Rs_1.json', '25_2n_Rr_2.json', '25_1p_Rs_2.json', '25_2p_Lu_1.json', '25_2p_Ls_1.json', '25_2p_Ll_1.json', '25_2n_Ls_1.json', '25_2n_Ru_1.json', '25_2i_Ll_2.json', '25_1p_Rl_2.json', '25_2i_Rl_1.json', '25_2n_Lr_2.json', '25_2i_Rs_1.json', '25_2n_Rl_1.json', '25_2p_Ll_2.json', '25_2n_Ls_2.json', '25_2p_Ls_2.json', '25_2i_Lr_2.json', '25_2i_Ru_2.json', '25_2p_Lr_2.json', '25_1p_Rs_1.json', '25_2n_Rr_1.json', '25_2n_Lr_1.json', '25_3n_Rs_2.json', '25_3i_Lr_2.json', '25_3n_Rr_1.json', '25_3p_Ll_2.json', '25_2p_Rl_2.json', '25_2p_Rr_2.json', '25_3n_Ru_1.json', '25_3n_Ru_2.json', '25_3i_Lr_1.json', '25_2p_Rs_1.json', '25_3n_Ls_2.json', '25_3p_Lr_1.json', '25_3n_Lr_2.json', '25_2p_Ru_1.json', '25_3i_Lu_1.json', '25_3n_Lu_1.json', '25_3n_Rl_2.json', '25_3n_Rl_1.json', '25_3i_Rs_1.json', '25_3i_Rs_2.json', '25_3n_Lr_1.json', '25_3i_Ru_2.json', '25_3p_Rl_2.json', '25_3i_Ll_1.json', '25_3i_Rl_2.json', '25_3p_Rl_1.json', '25_3i_Ru_1.json', '25_3i_Ls_2.json', '25_3i_Rr_1.json', '25_3p_Ll_1.json', '25_3p_Ls_2.json', '25_3n_Rs_1.json', '25_3p_Ls_1.json', '25_3n_Lu_2.json', '25_3i_Ls_1.json', '25_2p_Rr_1.json', '25_3i_Rl_1.json', '25_3p_Lu_2.json', '25_3i_Rr_2.json', '25_3p_Lr_2.json', '25_3n_Rr_2.json', '25_2p_Rs_2.json', '25_2p_Ru_2.json', '25_3n_Ll_1.json', '25_3p_Rr_1.json', '25_3n_Ls_1.json', '25_3i_Lu_2.json', '25_3p_Rr_2.json', '25_3n_Ll_2.json', '25_3p_Lu_1.json', '25_3i_Ll_2.json', '25_3p_Rs_1.json', '25_3p_Rs_2.json', '25_3p_Ru_2.json', '25_3p_Ru_1.json', '30_1p_Lr_1.json', '30_1i_Lu_1.json', '30_1n_Ll_2.json', '30_1i_Ll_2.json', '30_1n_Rr_1.json', '30_1i_Lr_1.json', '30_1i_Ls_2.json', '30_1n_Lu_2.json', '30_1n_Rl_2.json', '30_1n_Ls_1.json', '30_1n_Lr_1.json', '30_1i_Ls_1.json', '30_1n_Ll_1.json', '30_1i_Rl_2.json', '30_1n_Ru_2.json', '30_1n_Rs_1.json', '30_1n_Rr_2.json', '30_1i_Rr_1.json', '30_1i_Rl_1.json', '30_1i_Rs_1.json', '30_1i_Rr_2.json', '30_1p_Ll_1.json', '30_1n_Lu_1.json', '30_1n_Ru_1.json', '30_1n_Rs_2.json', '30_1i_Ru_2.json', '30_1p_Ll_2.json', '30_1i_Ru_1.json', '30_1i_Rs_2.json', '30_1n_Ls_2.json', '30_1n_Lr_2.json', '30_1i_Ll_1.json', '30_1i_Lu_2.json', '30_1n_Rl_1.json', '30_1i_Lr_2.json', '30_1p_Rl_2.json', '30_1p_Ru_2.json', '30_1p_Rl_1.json', '30_1p_Ls_1.json', '30_1p_Lu_1.json', '30_1p_Ls_2.json', '30_1p_Lu_2.json', '30_1p_Lr_2.json', '30_1p_Rs_1.json', '30_1p_Rs_2.json', '30_1p_Rr_1.json', '30_1p_Ru_1.json', '30_1p_Rr_2.json', '27_1i_Ll_2.json', '27_1i_Lr_2.json', '27_1i_Lu_2.json', '27_1i_Rl_1.json', '27_1i_Lr_1.json', '27_1i_Ls_1.json', '27_1i_Ll_1.json', '27_1i_Ls_2.json', '27_1i_Lu_1.json', '27_1n_Lr_1.json', '27_1n_Rs_2.json', '27_1p_Rl_2.json', '27_1n_Ll_2.json', '27_1p_Ru_1.json', '27_1i_Ru_1.json', '27_1p_Lu_1.json', '27_1n_Ls_1.json', '27_1i_Ru_2.json', '27_1n_Rs_1.json', '27_1i_Rl_2.json', '27_1p_Ls_2.json', '27_1p_Lr_1.json', '27_1p_Ll_1.json', '27_1p_Rs_2.json', '27_1n_Rr_1.json', '27_1i_Rs_2.json', '27_1n_Lu_1.json', '27_1p_Ru_2.json', '27_1p_Ls_1.json', '27_1n_Ll_1.json', '27_1p_Ll_2.json', '27_1n_Lr_2.json', '27_1i_Rr_2.json', '27_1p_Rs_1.json', '27_1n_Lu_2.json', '27_1i_Rs_1.json', '27_1n_Ru_2.json', '27_1n_Rl_2.json', '27_1p_Rl_1.json', '27_1n_Rl_1.json', '27_1p_Rr_1.json', '27_1n_Ru_1.json', '27_1p_Lu_2.json', '27_1n_Ls_2.json', '27_1p_Lr_2.json', '27_1n_Rr_2.json', '27_1p_Rr_2.json', '27_1i_Rr_1.json', '29_1i_Ls_1.json', '29_1i_Lu_2.json', '29_1i_Lr_2.json', '29_1i_Rr_2.json', '29_1i_Rs_1.json', '29_1i_Lr_1.json', '29_1i_Ls_2.json', '29_1i_Rl_2.json', '29_1i_Rl_1.json', '29_1i_Rs_2.json', '29_1i_Ll_2.json', '29_1i_Ll_1.json', '29_1i_Lu_1.json', '29_1i_Rr_1.json', '29_1n_Ru_1.json', '29_1p_Ls_1.json', '29_1p_Rr_1.json', '29_1n_Rs_2.json', '29_1n_Ls_1.json', '29_1p_Rs_2.json', '29_1p_Lu_1.json', '29_1n_Rs_1.json', '29_1n_Ru_2.json', '29_1i_Ru_2.json', '29_1p_Lr_2.json', '29_1p_Lu_2.json', '29_1n_Ll_2.json', '29_1p_Ru_1.json', '29_1p_Rs_1.json', '29_1p_Rr_2.json', '29_1n_Lu_2.json', '29_1n_Lu_1.json', '29_1p_Ls_2.json', '29_1p_Ll_2.json', '29_1n_Lr_2.json', '29_1p_Rl_1.json', '29_1p_Lr_1.json', '29_1p_Rl_2.json', '29_1n_Ll_1.json', '29_1p_Ll_1.json', '29_1p_Ru_2.json', '29_1i_Ru_1.json', '29_1n_Rl_1.json', '29_1n_Rr_1.json', '29_1n_Rl_2.json', '29_1n_Rr_2.json', '29_1n_Ls_2.json', '24_1i_Ll_1.json', '24_1n_Lr_1.json', '24_1i_Lu_1.json', '24_1n_Lr_2.json', '24_1n_Lu_2.json', '24_1n_Ll_1.json', '24_1n_Ll_2.json', '24_1i_Lr_2.json', '24_1n_Ls_2.json', '24_1i_Lu_2.json', '24_1n_Ls_1.json', '24_1i_Rr_1.json', '24_1n_Lu_1.json', '24_1i_Rl_2.json', '24_1n_Rl_2.json', '24_1i_Rs_2.json', '24_1n_Rl_1.json', '24_1i_Ru_1.json', '24_1i_Ll_2.json', '24_1i_Ru_2.json', '24_1i_Ls_2.json', '24_1i_Ls_1.json', '24_1i_Rl_1.json', '24_1i_Rs_1.json', '24_1i_Rr_2.json', '24_1i_Lr_1.json', '24_2i_Rl_2.json', '24_1n_Ru_1.json', '24_2i_Ru_2.json', '24_1p_Rl_1.json', '24_1p_Rr_1.json', '24_1p_Ru_1.json', '24_2n_Rr_1.json', '24_1n_Rs_2.json', '24_1n_Rr_2.json', '24_2i_Lu_1.json', '24_2n_Rl_1.json', '24_1p_Lu_1.json', '24_2i_Ls_2.json', '24_2n_Lr_2.json', '24_2i_Ll_1.json', '24_2i_Ru_1.json', '24_2i_Ll_2.json', '24_2n_Ll_2.json', '24_2n_Lu_2.json', '24_2n_Ll_1.json', '24_2n_Ls_2.json', '24_2n_Rl_2.json', '24_2i_Rl_1.json', '24_2i_Lr_1.json', '24_1p_Lr_1.json', '24_2n_Rr_2.json', '24_2n_Lu_1.json', '24_1p_Ls_2.json', '24_2i_Lr_2.json', '24_1p_Ll_1.json', '24_2i_Lu_2.json', '24_1p_Ls_1.json', '24_2n_Ls_1.json', '24_1p_Lr_2.json', '24_2i_Rs_1.json', '24_1p_Ru_2.json', '24_2n_Lr_1.json', '24_1p_Lu_2.json', '24_1p_Rs_1.json', '24_1n_Rr_1.json', '24_1n_Rs_1.json', '24_1p_Rr_2.json', '24_2i_Rr_2.json', '24_2i_Rs_2.json', '24_1p_Rl_2.json', '24_1p_Rs_2.json', '24_2i_Ls_1.json', '24_1p_Ll_2.json', '24_2n_Rs_1.json', '24_1n_Ru_2.json', '24_2i_Rr_1.json', '24_2p_Rs_1.json', '24_2p_Rl_2.json', '24_3n_Ll_1.json', '24_3p_Lr_1.json', '24_2p_Ll_1.json', '24_3i_Ru_1.json', '24_2p_Lr_2.json', '24_3i_Rs_2.json', '24_3i_Rs_1.json', '24_3i_Ll_1.json', '24_3i_Rl_2.json', '24_3n_Lu_2.json', '24_2p_Rr_2.json', '24_3p_Ll_1.json', '24_3i_Lr_1.json', '24_3i_Lu_1.json', '24_2p_Lu_1.json', '24_2p_Rs_2.json', '24_2p_Ls_2.json', '24_3i_Ls_1.json', '24_3p_Ll_2.json', '24_3n_Rs_2.json', '24_2p_Ll_2.json', '24_3n_Ls_2.json', '24_2p_Lr_1.json', '24_3i_Rr_1.json', '24_3n_Rr_1.json', '24_2n_Rs_2.json', '24_2p_Ls_1.json', '24_3n_Lu_1.json', '24_3i_Ru_2.json', '24_3i_Lu_2.json', '24_3n_Ls_1.json', '24_2p_Ru_2.json', '24_3i_Rr_2.json', '24_3n_Ru_1.json', '24_3n_Lr_1.json', '24_2n_Ru_2.json', '24_2n_Ru_1.json', '24_3n_Lr_2.json', '24_3i_Lr_2.json', '24_3i_Rl_1.json', '24_3n_Rs_1.json', '24_3n_Ru_2.json', '24_2p_Ru_1.json', '24_3i_Ls_2.json', '24_3i_Ll_2.json', '24_2p_Rr_1.json', '24_3n_Rl_2.json', '24_3n_Rr_2.json', '24_3n_Rl_1.json', '24_3n_Ll_2.json', '24_2p_Rl_1.json', '24_3p_Rl_1.json', '24_3p_Ls_2.json', '24_3p_Ls_1.json', '24_3p_Rl_2.json', '24_3p_Lr_2.json', '24_3p_Rs_1.json', '24_3p_Ru_2.json', '24_3p_Lu_2.json', '24_3p_Rr_2.json', '24_3p_Rs_2.json', '24_3p_Lu_1.json', '24_3p_Ru_1.json', '24_3p_Rr_1.json', '26_1n_Ls_2.json', '26_1n_Ls_1.json', '26_1i_Ll_2.json', '26_1i_Rr_1.json', '26_1p_Rl_1.json', '26_1n_Ru_1.json', '26_1n_Ru_2.json', '26_1i_Rl_1.json', '26_1p_Ls_2.json', '26_1p_Rl_2.json', '26_1n_Lr_2.json', '26_1i_Ru_2.json', '26_1p_Lu_2.json', '26_1i_Lu_1.json', '26_1i_Ls_2.json', '26_1n_Lu_2.json', '26_1p_Lr_2.json', '26_1i_Rs_2.json', '26_1p_Rr_2.json', '26_1n_Rs_2.json', '26_1n_Ll_2.json', '26_1n_Rs_1.json', '26_1n_Lu_1.json', '26_1i_Rr_2.json', '26_1p_Rs_2.json', '26_1p_Lu_1.json', '26_1p_Ll_2.json', '26_1i_Ll_1.json', '26_1i_Ru_1.json', '26_1n_Rr_2.json', '26_1i_Ls_1.json', '26_1p_Ru_1.json', '26_1p_Ru_2.json', '26_1p_Lr_1.json', '26_1i_Lu_2.json', '26_1p_Ll_1.json', '26_1p_Ls_1.json', '26_1i_Rs_1.json', '26_1p_Rs_1.json', '26_1n_Ll_1.json', '26_1i_Lr_1.json', '26_1p_Rr_1.json', '26_1i_Lr_2.json', '26_1i_Rl_2.json', '26_1n_Rr_1.json', '26_1n_Lr_1.json', '26_1n_Rl_1.json', '26_1n_Rl_2.json', '26_2i_Ll_1.json', '26_2n_Rr_2.json', '26_2p_Rs_2.json', '26_2p_Rr_2.json', '26_2i_Lr_1.json', '26_2n_Lr_1.json', '26_2p_Lu_2.json', '26_2i_Lu_2.json', '26_2n_Rl_2.json', '26_3i_Ll_1.json', '26_2i_Rs_1.json', '26_2p_Ll_2.json', '26_2p_Rl_2.json', '26_2p_Ru_2.json', '26_2n_Ls_1.json', '26_2p_Ru_1.json', '26_2n_Ll_2.json', '26_2n_Lu_1.json', '26_2i_Lu_1.json', '26_2i_Ls_2.json', '26_2n_Ru_1.json', '26_2i_Lr_2.json', '26_2p_Lr_2.json', '26_3i_Ll_2.json', '26_2p_Ll_1.json', '26_2n_Rs_1.json', '26_2i_Ru_2.json', '26_2i_Rl_2.json', '26_2i_Ls_1.json', '26_2i_Rs_2.json', '26_2p_Ls_2.json', '26_2p_Ls_1.json', '26_3i_Lr_1.json', '26_2p_Rr_1.json', '26_2i_Rl_1.json', '26_2i_Rr_2.json', '26_2n_Ru_2.json', '26_2p_Lu_1.json', '26_2n_Rs_2.json', '26_2n_Lu_2.json', '26_2n_Rl_1.json', '26_2n_Ls_2.json', '26_2i_Ll_2.json', '26_2p_Lr_1.json', '26_2p_Rl_1.json', '26_2n_Lr_2.json', '26_2p_Rs_1.json', '26_2i_Ru_1.json', '26_2n_Rr_1.json', '26_2n_Ll_1.json', '26_2i_Rr_1.json', '26_3n_Rl_2.json', '26_3n_Ru_1.json', '26_3i_Rl_2.json', '26_3i_Ru_2.json', '26_3i_Rs_2.json', '26_3p_Rl_2.json', '26_3n_Ls_2.json', '26_3p_Ll_1.json', '26_3p_Ls_2.json', '26_3p_Lu_2.json', '26_3n_Lu_1.json', '26_3i_Rs_1.json', '26_3i_Lr_2.json', '26_3p_Lu_1.json', '26_3n_Lr_1.json', '26_3p_Rr_1.json', '26_3p_Ru_1.json', '26_3p_Ll_2.json', '26_3n_Ru_2.json', '26_3p_Rs_2.json', '26_3n_Ll_2.json', '26_3i_Rr_1.json', '26_3n_Rs_2.json', '26_3p_Lr_2.json', '26_3p_Lr_1.json', '26_3i_Lu_1.json', '26_3p_Rl_1.json', '26_3i_Rl_1.json', '26_3i_Rr_2.json', '26_3n_Ll_1.json', '26_3n_Rl_1.json', '26_3p_Rs_1.json', '26_3n_Rr_2.json', '26_3n_Lr_2.json', '26_3n_Lu_2.json', '26_3n_Rs_1.json', '26_3i_Ru_1.json', '26_3n_Ls_1.json', '26_3i_Lu_2.json', '26_3i_Ls_1.json', '26_3n_Rr_1.json', '26_3i_Ls_2.json', '26_3p_Rr_2.json', '26_3p_Ru_2.json', '26_3p_Ls_1.json', '32_1i_Ru_2.json', '32_1n_Ru_1.json', '32_1n_Rl_2.json', '32_1p_Ll_2.json', '32_1i_Lr_1.json', '32_1i_Ll_1.json', '32_1i_Rl_1.json', '32_1p_Ll_1.json', '32_1n_Ll_2.json', '32_1i_Rr_2.json', '32_1p_Lr_2.json', '32_1p_Lr_1.json', '32_1i_Ru_1.json', '32_1i_Rl_2.json', '32_1n_Lu_2.json', '32_2i_Ls_1.json', '32_1i_Rs_2.json', '32_1p_Ls_2.json', '32_1n_Rs_2.json', '32_1p_Rs_2.json', '32_1i_Rr_1.json', '32_1i_Rs_1.json', '32_1i_Ls_1.json', '32_1i_Lr_2.json', '32_1i_Ls_2.json', '32_1n_Lr_2.json', '32_1n_Ll_1.json', '32_1p_Rr_1.json', '32_1p_Ru_2.json', '32_1i_Lu_1.json', '32_1p_Lu_2.json', '32_1n_Rs_1.json', '32_1p_Rl_1.json', '32_1n_Ls_2.json', '32_2i_Lr_1.json', '32_1p_Ls_1.json', '32_1p_Ru_1.json', '32_1n_Rl_1.json', '32_1p_Rr_2.json', '32_1n_Lr_1.json', '32_1i_Lu_2.json', '32_1p_Rl_2.json', '32_2i_Ls_2.json', '32_1p_Rs_1.json', '32_1n_Lu_1.json', '32_1n_Ru_2.json', '32_1n_Ls_1.json', '32_1i_Ll_2.json', '32_1p_Lu_1.json', '32_1n_Rr_1.json', '32_1n_Rr_2.json', '32_2n_Rl_1.json', '32_2i_Ls_4.json', '32_2n_Rs_4.json', '32_2i_Rr_1.json', '32_2i_Rl_2.json', '32_2p_Ll_2.json', '32_2n_Ls_2.json', '32_2p_Lr_2.json', '32_2n_Rl_2.json', '32_2n_Lu_2.json', '32_2n_Ll_2.json', '32_2i_Lu_2.json', '32_2p_Lr_1.json', '32_2p_Rs_1.json', '32_2p_Rs_2.json', '32_2n_Rr_2.json', '32_2i_Rs_2.json', '32_2n_Ru_1.json', '32_2p_Ls_1.json', '32_2n_Rs_1.json', '32_2n_Rs_2.json', '32_2i_Ru_2.json', '32_2p_Rl_2.json', '32_2i_Rs_1.json', '32_2n_Ls_1.json', '32_2p_Ls_2.json', '32_2n_Lr_2.json', '32_2n_Lr_1.json', '32_2n_Rs_3.json', '32_2p_Lu_2.json', '32_2p_Rr_2.json', '32_2i_Rs_3.json', '32_2n_Lu_1.json', '32_2i_Ls_3.json', '32_2p_Ru_1.json', '32_2i_Ru_1.json', '32_2p_Rr_1.json', '32_2i_Lu_1.json', '32_2p_Rl_1.json', '32_2p_Lu_1.json', '32_2i_Ls_5.json', '32_2n_Ll_1.json', '32_2i_Rl_1.json', '32_2p_Ru_2.json', '32_2p_Ll_1.json', '31_1i_Rs_2.json', '31_1n_Ll_1.json', '31_1n_Lr_1.json', '31_1n_Rl_2.json', '31_1p_Lu_1.json', '31_1i_Lu_2.json', '31_1p_Ls_1.json', '31_1i_Ll_2.json', '31_1i_Ls_1.json', '31_1p_Ll_1.json', '31_1i_Rs_1.json', '31_1n_Rs_1.json', '31_1n_Ru_1.json', '31_1i_Ls_2.json', '31_1n_Ls_1.json', '31_1i_Rl_1.json', '31_1i_Lr_2.json', '31_1n_Rl_1.json', '31_1i_Rr_2.json', '31_1i_Rl_2.json', '31_1i_Lr_1.json', '31_1n_Ru_2.json', '31_1i_Ru_1.json', '31_1p_Lr_2.json', '31_1n_Ll_2.json', '31_1p_Lr_1.json', '31_1n_Lr_2.json', '31_1i_Rr_1.json', '31_1p_Ll_2.json', '31_1n_Rr_2.json', '31_1n_Rr_1.json', '31_1i_Ru_2.json', '31_1n_Lu_2.json', '31_1n_Ls_2.json', '31_1i_Lu_1.json', '31_1p_Ls_2.json', '31_1n_Rs_2.json', '31_1i_Ll_1.json', '31_1n_Lu_1.json', '31_2i_Rl_2.json', '31_2n_Ru_1.json', '31_2i_Lu_2.json', '31_1p_Rr_1.json', '31_1p_Rs_2.json', '31_2i_Lu_3.json', '31_2n_Ls_1.json', '31_2p_Ls_1.json', '31_2n_Rs_2.json', '31_2n_Rr_1.json', '31_2p_Ll_2.json', '31_2n_Ls_2.json', '31_2i_Lr_2.json', '31_2i_Rs_1.json', '31_2p_Ll_1.json', '31_1p_Rl_2.json', '31_2i_Rr_2.json', '31_1p_Ru_1.json', '31_2i_Ls_1.json', '31_2p_Rl_1.json', '31_1p_Ru_2.json', '31_1p_Rs_1.json', '31_2i_Ll_1.json', '31_2i_Rl_1.json', '31_2p_Rr_2.json', '31_2n_Rs_1.json', '31_2n_Rr_2.json', '31_2i_Ru_2.json', '31_2n_Ll_1.json', '31_2i_Rr_1.json', '31_2i_Lu_1.json', '31_2i_Rs_2.json', '31_2n_Lu_2.json', '31_2n_Lu_1.json', '31_1p_Lu_2.json', '31_2p_Rl_2.json', '31_2i_Lr_1.json', '31_2n_Ru_2.json', '31_2n_Rl_1.json', '31_2p_Rr_1.json', '31_1p_Rr_2.json', '31_2p_Lr_2.json', '31_2n_Ll_2.json', '31_2p_Lu_1.json', '31_2p_Lu_2.json', '31_2p_Lr_1.json', '31_2n_Lr_1.json', '31_2n_Rl_2.json', '31_2p_Ls_2.json', '31_2i_Ls_2.json', '31_2n_Lr_2.json', '31_2i_Ru_1.json', '31_3p_Ru_1.json', '31_3n_Rs_1.json', '31_3i_Lr_1.json', '31_3p_Rs_1.json', '31_3n_Ls_1.json', '31_3n_Lu_2.json', '31_3p_Rs_2.json', '31_3n_Ru_2.json', '31_3i_Rr_2.json', '31_3i_Rl_1.json', '31_3n_Lu_1.json', '31_3n_Rl_1.json', '31_3i_Ls_1.json', '31_3i_Lu_2.json', '31_3p_Ll_1.json', '31_3p_Lu_1.json', '31_3n_Ls_2.json', '31_2p_Rs_2.json', '31_3p_Ls_2.json', '31_3n_Ll_1.json', '31_3n_Ll_2.json', '31_3n_Ru_1.json', '31_3i_Rs_2.json', '31_3p_Lr_1.json', '31_3p_Rl_1.json', '31_3i_Ll_2.json', '31_3i_Ll_1.json', '31_2p_Rs_1.json', '31_3i_Ru_2.json', '31_2p_Ru_1.json', '31_2p_Ru_2.json', '31_3p_Rr_2.json', '31_3i_Lr_2.json', '31_3p_Rl_2.json', '31_3n_Lr_1.json', '31_3n_Rr_2.json', '31_3n_Rl_2.json', '31_3i_Lu_1.json', '31_3i_Rs_1.json', '31_3p_Ll_2.json', '31_3p_Ru_2.json', '31_3i_Ru_1.json', '31_3i_Ls_2.json', '31_3n_Rr_1.json', '31_3i_Rr_1.json', '31_3p_Rr_1.json', '31_3p_Ls_1.json', '31_3p_Lu_2.json', '31_3n_Rs_2.json', '31_3p_Lr_2.json', '31_3i_Rl_2.json', '31_3n_Lr_2.json', '8_2i_Lr_1.json', '8_2i_Ll_1.json', '8_1p_Rs_2.json', '8_1i_Lr_2.json', '8_1i_Ru_1.json', '8_1n_Rl_1.json', '8_1n_Ls_1.json', '8_1i_Lu_1.json', '8_1i_Ll_2.json', '8_1i_Ls_1.json', '8_1p_Lu_2.json', '8_1i_Rs_2.json', '8_1i_Rl_1.json', '8_1p_Ls_1.json', '8_1i_Ru_2.json', '8_1n_Rs_1.json', '8_1n_Lu_1.json', '8_1n_Rr_2.json', '8_1p_Rs_1.json', '8_1n_Lu_2.json', '8_1n_Rl_2.json', '8_1i_Rr_1.json', '8_1n_Rs_2.json', '8_1p_Rr_1.json', '8_1n_Lr_2.json', '8_1n_Ll_1.json', '8_1i_Lu_2.json', '8_1n_Rr_1.json', '8_1p_Lr_1.json', '8_1p_Lr_2.json', '8_1i_Rl_2.json', '8_1i_Rr_2.json', '8_2i_Ll_2.json', '8_1n_Lr_1.json', '8_1i_Rs_1.json', '8_1p_Rr_2.json', '8_1n_Ls_2.json', '8_1p_Rl_2.json', '8_1p_Ru_1.json', '8_1n_Ll_2.json', '8_1p_Lu_1.json', '8_1i_Ls_2.json', '8_1p_Ll_2.json', '8_1i_Ll_1.json', '8_1p_Rl_1.json', '8_1p_Ls_2.json', '8_1p_Ru_2.json', '8_1n_Ru_2.json', '8_1p_Ll_1.json', '8_1n_Ru_1.json', '8_1i_Lr_1.json', '8_2p_Ru_2.json', '8_2n_Ls_2.json', '8_2n_Ls_1.json', '8_2p_Ru_1.json', '8_2p_Ls_1.json', '8_2p_Rs_1.json', '8_2i_Rr_1.json', '8_3i_Ll_1.json', '8_3i_Ls_2.json', '8_3i_Ll_2.json', '8_2p_Lr_1.json', '8_2n_Lu_2.json', '8_2n_Ru_1.json', '8_2p_Ll_1.json', '8_2i_Lu_2.json', '8_2n_Lr_1.json', '8_2i_Rl_1.json', '8_2p_Lu_1.json', '8_2p_Lr_2.json', '8_2p_Rl_2.json', '8_2p_Lu_2.json', '8_2n_Rl_2.json', '8_2i_Rs_1.json', '8_2i_Lu_1.json', '8_3i_Ls_1.json', '8_2n_Rr_1.json', '8_2p_Rr_1.json', '8_2p_Ll_2.json', '8_2i_Ls_2.json', '8_2n_Rr_2.json', '8_2p_Ls_2.json', '8_2i_Ls_1.json', '8_2i_Rr_2.json', '8_2i_Rs_2.json', '8_2i_Rl_2.json', '8_3i_Ll_bad.json', '8_3i_Lr_2.json', '8_3i_Lr_1.json', '8_2n_Ll_2.json', '8_3i_Lu_1.json', '8_2n_Lr_2.json', '8_2i_Ru_2.json', '8_2n_Rs_2.json', '8_2i_Ru_1.json', '8_2n_Rl_1.json', '8_2p_Rl_1.json', '8_2p_Rr_2.json', '8_2n_Ll_1.json', '8_2n_Lu_1.json', '8_2n_Ru_2.json', '8_2n_Rs_1.json', '8_3p_Lu_1.json', '8_3n_Ls_1.json', '8_3p_Rs_1.json', '8_3i_Rs_2.json', '8_3p_Rr_1.json', '8_3i_Lu_2.json', '8_3p_Ru_1.json', '8_3n_Lr_2.json', '8_3n_Ru_2.json', '8_3p_Ls_1.json', '8_3i_Rs_1.json', '8_3p_Ru_2.json', '8_3i_Rl_2.json', '8_3n_Lu_2.json', '8_3n_Rl_1.json', '8_3p_Lu_2.json', '8_3p_Rs_2.json', '8_3p_Ll_1.json', '8_3p_Rl_1.json', '8_3p_Lr_1.json', '8_3n_Rl_2.json', '8_3i_Rr_2.json', '8_3n_Rr_1.json', '8_3n_Rs_2.json', '8_3p_Lr_2.json', '8_3n_Ll_1.json', '8_3p_Rr_2.json', '8_3p_Rl_2.json', '8_3n_Ru_1.json', '8_3n_Rs_1.json', '8_3p_Ls_2.json', '8_3n_Ls_2.json', '8_3i_Ru_1.json', '8_3n_Lu_1.json', '8_3n_Lr_1.json', '8_3n_Rr_2.json', '8_3i_Rl_1.json', '8_3i_Ru_2.json', '8_3i_Rr_1.json', '8_3p_Ll_2.json', '8_3n_Ll_2.json', '34_1i_Lr_2.json', '34_1i_Lu_2.json', '34_1i_Lr_1.json', '34_1i_Rl_1.json', '34_1i_Ll_1.json', '34_1i_Ls_2.json', '34_1i_Lu_1.json', '34_1i_Ls_1.json', '34_1i_Rl_2.json', '34_1i_Ll_2.json', '34_1i_Rr_1.json', '34_1i_Ru_2.json', '34_1p_Rl_2.json', '34_1n_Lr_1.json', '34_1i_Ru_1.json', '34_1p_Lu_1.json', '34_1n_Rr_2.json', '34_1p_Ll_2.json', '34_1n_Rs_1.json', '34_1n_Ll_1.json', '34_1p_Rl_1.json', '34_1p_Lr_2.json', '34_1n_Lu_2.json', '34_1p_Ls_1.json', '34_2i_Ll_1.json', '34_1i_Rr_2.json', '34_1p_Rr_1.json', '34_1i_Rs_1.json', '34_1n_Ll_2.json', '34_1p_Ru_2.json', '34_1p_Rs_2.json', '34_1n_Ls_2.json', '34_1p_Ll_1.json', '34_1n_Rl_2.json', '34_1n_Ls_1.json', '34_2i_Ll_2.json', '34_1p_Ls_2.json', '34_1n_Ru_1.json', '34_1p_Rs_1.json', '34_1n_Rl_1.json', '34_1p_Rr_2.json', '34_1n_Ru_2.json', '34_1n_Lu_1.json', '34_1p_Lu_2.json', '34_1i_Rs_2.json', '34_1p_Ru_1.json', '34_1n_Rr_1.json', '34_1p_Lr_1.json', '34_1n_Rs_2.json', '34_1n_Lr_2.json', '6_1n_Ll_2.json', '6_1i_Rs_1.json', '6_1i_Rs_2.json', '6_1n_Rs_2.json', '6_1i_Ru_2.json', '6_1n_Lr_1.json', '6_1i_Lr_1.json', '6_1n_Lu_1.json', '6_1i_Rr_2.json', '6_1n_Rs_1.json', '6_1i_Lu_2.json', '6_1n_Ls_1.json', '6_1n_Ru_2.json', '6_1n_Rl_2.json', '6_1i_Ls_1.json', '6_1i_Lu_1.json', '6_1n_Rr_1.json', '6_1i_Rl_2.json', '6_1n_Ru_1.json', '6_1p_Ll_1.json', '6_1n_Lu_2.json', '6_1i_Ll_1.json', '6_1i_Rr_1.json', '6_1p_Ll_2.json', '6_1p_Lr_1.json', '6_1i_Rl_1.json', '6_1i_Lr_2.json', '6_1n_Ls_2.json', '6_1n_Ll_1.json', '6_1i_Ru_1.json', '6_1i_Ll_2.json', '6_1i_Ls_2.json', '6_1n_Rr_2.json', '6_1n_Rl_1.json', '6_1n_Lr_2.json', '6_1p_Rl_1.json', '6_1p_Ru_2.json', '6_1p_Rl_2.json', '6_1p_Ru_1.json', '6_1p_Rs_2.json', '6_1p_Rr_2.json', '6_1p_Rr_1.json', '6_1p_Rs_1.json', '6_1p_Lu_1.json', '6_1p_Ls_1.json', '6_1p_Lr_2.json', '6_1p_Ls_2.json', '6_1p_Lu_2.json', '4_1i_Rl_2.json', '4_1i_Rr_2.json', '4_1i_Rr_1.json', '4_1n_Ll_1.json', '4_1i_Lr_2.json', '4_1i_Rs_1.json', '4_1i_Lr_1.json', '4_1i_Ls_1.json', '4_1i_Ru_1.json', '4_1i_Lu_2.json', '4_1i_Rl_1.json', '4_1i_Ll_1.json', '4_1i_Lu_1.json', '4_1i_Rs_2.json', '4_1i_Ll_2.json', '4_1i_Ru_2.json', '4_1i_Ls_2.json', '4_1n_Rs_1.json', '4_2i_Lu_1.json', '4_1n_Ru_1.json', '4_1n_Lr_2.json', '4_2i_Ru_1.json', '4_2i_Rr_2.json', '4_1p_Ls_2.json', '4_2i_Rr_1.json', '4_1n_Ls_2.json', '4_2i_Rl_2.json', '4_2n_Ls_1.json', '4_1n_Rs_2.json', '4_1p_Lu_1.json', '4_1p_Ls_1.json', '4_2n_Lr_1.json', '4_1n_Lr_1.json', '4_1n_Rl_2.json', '4_2n_Lr_2.json', '4_2i_Ll_2.json', '4_1p_Rl_2.json', '4_2i_Lr_1.json', '4_1p_Rr_2.json', '4_2i_Lu_2.json', '4_2i_Ru_2.json', '4_1n_Ru_2.json', '4_2i_Rl_1.json', '4_1p_Ru_1.json', '4_1p_Lr_1.json', '4_2i_Rs_1.json', '4_1p_Rs_1.json', '4_1p_Rl_1.json', '4_1n_Rr_1.json', '4_2i_Ll_1.json', '4_1p_Lu_2.json', '4_2i_Ls_2.json', '4_2i_Rs_2.json', '4_1n_Rr_2.json', '4_1n_Lu_1.json', '4_2n_Ll_1.json', '4_1n_Rl_1.json', '4_2i_Ls_1.json', '4_1p_Ru_2.json', '4_1n_Lu_2.json', '4_1p_Rr_1.json', '4_1p_Rs_2.json', '4_1n_Ls_1.json', '4_1p_Ll_1.json', '4_1n_Ll_2.json', '4_1p_Lr_2.json', '4_1p_Ll_2.json', '4_2n_Ll_2.json', '4_2i_Lr_2.json', '4_2p_Ru_1.json', '4_2p_Lu_2.json', '4_2p_Ls_2.json', '4_2p_Rs_2.json', '4_2n_Lu_2.json', '4_2n_Rl_1.json', '4_2p_Lu_1.json', '4_2p_Lr_2.json', '4_2n_Rl_2.json', '4_2n_Ru_2.json', '4_2p_Ru_2.json', '4_2n_Ls_2.json', '4_2p_Rr_1.json', '4_2p_Rs_1.json', '4_2n_Rr_2.json', '4_2p_Ll_1.json', '4_2n_Rs_1.json', '4_2p_Rl_1.json', '4_2p_Lu_3.json', '4_2p_Lr_1.json', '4_2n_Rr_1.json', '4_2n_Ru_1.json', '4_2n_Lu_1.json', '4_2p_Rl_2.json', '4_2p_Ll_2.json', '4_2n_Rs_2.json', '5_1i_Lu_2.json', '5_1n_Rl_2.json', '5_1i_Lr_2.json', '5_1i_Ll_2.json', '5_1i_Lr_1.json', '5_1n_Ls_2.json', '5_1i_Rr_2.json', '5_1i_Rl_2.json', '5_1i_Ru_1.json', '5_1i_Ls_2.json', '5_1n_Lu_2.json', '5_1n_Ls_1.json', '5_1i_Rl_1.json', '5_1i_Rr_1.json', '5_1i_Rs_2.json', '5_1i_Ll_1.json', '5_1n_Ll_1.json', '5_1n_Rl_1.json', '5_1n_Lr_2.json', '5_1n_Lu_1.json', '5_1i_Ls_1.json', '5_1n_Ll_2.json', '5_1n_Lr_1.json', '5_1i_Ru_2.json', '5_1i_Rs_1.json', '5_1i_Lu_1.json', '5_2i_Rr_2.json', '5_2n_Rs_1.json', '5_2i_Ll_1.json', '5_2i_Ll_2.json', '5_2n_Lr_2.json', '5_2i_Ru_1.json', '5_1p_Ru_2.json', '5_1p_Ll_1.json', '5_1p_Lr_1.json', '5_2n_Lu_2.json', '5_2n_Rl_2.json', '5_2i_Rs_2.json', '5_1p_Rs_2.json', '5_1p_Rl_1.json', '5_2i_Rr_1.json', '5_1p_Rr_2.json', '5_1n_Ru_2.json', '5_1n_Rs_2.json', '5_1p_Ls_2.json', '5_1n_Ru_1.json', '5_2n_Ll_2.json', '5_2i_Rl_1.json', '5_1p_Lr_2.json', '5_2n_Lu_1.json', '5_2i_Rs_1.json', '5_2i_Lu_1.json', '5_2i_Ls_2.json', '5_1n_Rr_1.json', '5_2n_Rr_1.json', '5_2n_Ll_1.json', '5_2i_Rl_2.json', '5_2n_Rl_1.json', '5_2i_Ls_1.json', '5_1n_Rr_2.json', '5_1p_Ll_2.json', '5_1p_Rl_2.json', '5_2i_Lu_2.json', '5_1p_Rr_1.json', '5_1p_Ls_1.json', '5_2n_Ls_2.json', '5_2i_Lr_1.json', '5_2n_Ls_1.json', '5_2n_Lr_1.json', '5_1p_Rs_1.json', '5_1n_Rs_1.json', '5_2i_Lr_2.json', '5_1p_Ru_1.json', '5_1p_Lu_2.json', '5_2n_Rr_2.json', '5_1p_Lu_1.json', '5_3p_Ll_1.json', '5_2p_Rl_1.json', '5_3i_Ls_2.json', '5_3i_Rl_1.json', '5_2p_Ls_1.json', '5_3n_Ll_1.json', '5_2p_Ru_1.json', '5_3i_Ls_1.json', '5_2p_Rr_1.json', '5_3i_Ll_2.json', '5_2p_Lr_2.json', '5_2p_Rs_1.json', '5_2n_Ru_1.json', '5_3n_Rl_1.json', '5_3i_Rr_2.json', '5_2p_Ll_1.json', '5_3n_Lu_1.json', '5_3n_Ls_2.json', '5_3i_Rs_2.json', '5_2p_Rr_2.json', '5_2p_Lu_2.json', '5_3i_Lr_1.json', '5_2n_Rs_2.json', '5_2p_Ls_2.json', '5_3i_Rs_1.json', '5_3i_Lu_2.json', '5_3i_Ru_2.json', '5_3n_Ll_2.json', '5_2p_Rl_2.json', '5_3n_Rs_1.json', '5_3n_Ru_2.json', '5_3n_Lr_1.json', '5_3i_Rr_1.json', '5_2p_Ru_2.json', '5_3i_Ru_1.json', '5_3i_Lr_2.json', '5_3n_Rr_2.json', '5_2p_Ll_2.json', '5_2p_Lr_1.json', '5_3i_Ll_1.json', '5_3n_Ru_1.json', '5_3n_Rr_1.json', '5_2p_Lu_1.json', '5_3i_Lu_1.json', '5_2p_Rs_2.json', '5_3n_Ls_1.json', '5_3i_Rl_2.json', '5_3n_Rl_2.json', '5_3n_Rs_2.json', '5_2n_Ru_2.json', '5_3p_Ll_2.json', '5_3n_Lr_2.json', '5_3n_Lu_2.json', '5_3p_Rl_2.json', '5_3p_Rr_2.json', '5_3p_Rs_2.json', '5_3p_Rr_1.json', '5_3p_Ls_1.json', '5_3p_Rl_1.json', '5_3p_Ru_2.json', '5_3p_Ru_1.json', '5_3p_Lr_2.json', '5_3p_Rs_1.json', '5_3p_Lu_1.json', '5_3p_Lr_1.json', '5_3p_Ls_2.json', '5_3p_Lu_2.json', '7_1p_Ls_1.json', '7_1i_Rl_1.json', '7_1p_Ll_2.json', '7_1i_Lu_2.json', '7_1n_Ll_2.json', '7_1i_Rs_2.json', '7_1i_Rl_2.json', '7_1i_Ru_2.json', '7_1n_Lr_1.json', '7_1i_Rr_1.json', '7_1n_Rl_1.json', '7_1i_Lr_2.json', '7_1n_Ls_1.json', '7_1n_Ll_1.json', '7_1i_Rr_2.json', '7_1n_Lu_1.json', '7_1n_Rs_2.json', '7_1n_Rl_2.json', '7_1n_Lu_2.json', '7_1n_Ru_1.json', '7_1i_Ru_1.json', '7_1n_Lr_2.json', '7_1n_Rs_1.json', '7_1i_Rs_1.json', '7_1n_Ru_2.json', '7_1n_Rr_1.json', '7_1p_Ll_1.json', '7_1i_Lr_1.json', '7_1i_Lu_1.json', '7_1n_Rr_2.json', '7_1p_Lr_2.json', '7_1p_Lr_1.json', '7_1i_Ls_1.json', '7_1n_Ls_2.json', '7_1i_Ll_1.json', '7_1i_Ll_2.json', '7_1i_Ls_2.json', '7_2n_Rs_1.json', '7_2p_Lr_2.json', '7_2p_Ls_2.json', '7_2p_Rl_2.json', '7_1p_Rl_2.json', '7_1p_Rs_1.json', '7_2n_Ls_2.json', '7_2p_Ll_1.json', '7_1p_Ru_1.json', '7_2i_Rs_2.json', '7_2n_Ls_1.json', '7_2n_Lu_2.json', '7_1p_Rs_2.json', '7_2n_Rr_1.json', '7_2i_Rl_1.json', '7_2n_Lu_1.json', '7_2p_Lu_1.json', '7_2n_Ll_1.json', '7_2i_Rl_2.json', '7_2i_Lu_1.json', '7_1p_Lu_2.json', '7_2n_Ru_1.json', '7_2i_Ru_2.json', '7_1p_Rr_2.json', '7_1p_Ru_2.json', '7_1p_Rr_1.json', '7_2i_Lr_1.json', '7_2n_Lr_2.json', '7_1p_Lu_1.json', '7_2i_Lu_2.json', '7_2p_Rr_1.json', '7_2i_Ls_1.json', '7_2n_Rs_2.json', '7_2i_Ll_1.json', '7_2i_Lr_2.json', '7_2i_Rs_1.json', '7_2i_Rr_1.json', '7_2n_Rr_2.json', '7_2p_Rl_1.json', '7_2n_Rl_1.json', '7_2i_Ru_1.json', '7_2n_Rl_2.json', '7_2i_Rr_2.json', '7_1p_Ls_2.json', '7_2p_Lr_1.json', '7_2p_Lu_2.json', '7_2i_Ll_2.json', '7_2i_Ls_2.json', '7_2p_Ls_1.json', '7_2n_Ru_2.json', '7_1p_Rl_1.json', '7_2p_Ll_2.json', '7_3n_Rr_1.json', '7_3p_Rr_1.json', '7_3n_Rl_2.json', '7_3n_Rl_1.json', '7_3p_Rr_2.json', '7_3i_Ll_2.json', '7_3i_Ru_2.json', '7_3i_Rr_1.json', '7_3n_Rs_2.json', '7_3i_Ll_1.json', '7_3i_Rr_2.json', '7_3p_Rs_1.json', '7_2p_Ru_1.json', '7_3n_Ll_2.json', '7_3i_Ls_2.json', '7_3i_Ru_1.json', '7_3n_Ru_2.json', '7_3n_Ls_1.json', '7_3p_Ll_1.json', '7_3p_Ru_1.json', '7_3i_Ls_1.json', '7_3p_Rs_2.json', '7_3n_Rr_2.json', '7_3p_Ls_1.json', '7_3i_Lu_2.json', '7_3n_Lu_2.json', '7_3p_Ls_2.json', '7_3p_Rl_2.json', '7_3p_Lr_2.json', '7_3p_Lu_2.json', '7_3i_Lu_1.json', '7_3n_Lu_1.json', '7_3i_Rl_1.json', '7_3i_Rs_1.json', '7_3n_Ru_1.json', '7_2p_Ru_2.json', '7_3i_Lr_1.json', '7_3n_Rs_1.json', '7_3n_Ls_2.json', '7_3p_Rl_1.json', '7_3n_Lr_1.json', '7_3i_Rl_2.json', '7_3p_Lr_1.json', '7_2p_Rs_2.json', '7_3n_Lr_2.json', '7_3i_Lr_2.json', '7_3p_Lu_1.json', '7_3i_Rs_2.json', '7_3p_Ll_2.json', '7_3n_Ll_1.json', '7_2p_Rs_1.json', '7_2p_Rr_2.json', '7_3p_Ru_2.json', '33_1i_Ls_1.json', '33_1i_Lu_1.json', '33_1i_Ll_1.json', '33_1i_Lr_2.json', '33_1i_Ll_2.json', '33_1i_Ls_2.json', '33_1i_Lr_1.json', '33_1p_Lu_2.json', '33_1n_Lr_2.json', '33_1p_Ll_2.json', '33_1n_Lu_1.json', '33_1n_Ll_1.json', '33_1n_Rl_2.json', '33_1n_Ls_2.json', '33_1i_Rs_2.json', '33_1p_Ls_2.json', '33_1p_Rs_2.json', '33_1n_Ru_1.json', '33_1i_Rl_1.json', '33_1i_Lu_2.json', '33_1p_Rl_2.json', '33_1p_Ll_1.json', '33_1i_Rr_2.json', '33_1n_Rr_1.json', '33_1i_Ru_1.json', '33_1n_Ru_2.json', '33_1i_Rr_1.json', '33_1p_Rs_1.json', '33_1p_Rl_1.json', '33_1n_Rs_1.json', '33_1n_Lr_1.json', '33_1i_Ru_2.json', '33_1n_Rl_1.json', '33_1i_Rl_2.json', '33_1p_Ru_2.json', '33_1p_Rr_2.json', '33_1i_Rs_1.json', '33_1p_Ls_1.json', '33_1n_Ls_1.json', '33_1p_Lr_1.json', '33_1p_Lu_1.json', '33_1n_Ll_2.json', '33_1p_Lr_2.json', '33_1n_Rs_2.json', '33_1p_Ru_1.json', '33_1n_Rr_2.json', '33_1p_Rr_1.json', '33_1n_Lu_2.json', '35_1i_Ls_1.json', '35_1i_Rr_1.json', '35_1i_Lr_2.json', '35_1i_Rr_2.json', '35_1i_Ll_1.json', '35_1i_Rl_1.json', '35_1i_Ls_2.json', '35_1i_Rl_2.json', '35_1i_Lu_1.json', '35_1i_Lr_1.json', '35_1i_Lu_2.json', '35_1i_Ll_2.json', '35_1i_Ru_2.json', '35_1n_Rr_2.json', '35_2i_Ls_1.json', '35_1p_Rs_2.json', '35_2i_Lr_2.json', '35_1p_Ll_1.json', '35_1p_Lr_2.json', '35_2i_Rl_2.json', '35_1n_Rs_1.json', '35_2i_Lu_1.json', '35_1n_Ls_1.json', '35_2i_Rr_1.json', '35_1p_Ls_2.json', '35_1p_Ll_2.json', '35_2i_Ll_1.json', '35_1i_Rs_2.json', '35_1n_Lu_2.json', '35_1i_Ru_1.json', '35_1p_Rr_2.json', '35_1p_Ls_1.json', '35_1n_Rl_1.json', '35_1p_Lu_1.json', '35_1n_Rs_2.json', '35_2i_Rs_1.json', '35_2i_Lu_2.json', '35_1n_Rr_1.json', '35_1n_Ls_2.json', '35_1n_Ll_1.json', '35_1p_Rl_2.json', '35_2i_Rl_1.json', '35_2i_Ls_2.json', '35_1n_Ru_2.json', '35_1n_Rl_2.json', '35_2i_Rr_2.json', '35_1n_Ll_2.json', '35_1p_Ru_1.json', '35_1p_Ru_2.json', '35_1n_Lr_2.json', '35_1p_Rs_1.json', '35_1p_Rr_1.json', '35_1p_Rl_1.json', '35_2i_Rs_2.json', '35_1p_Lu_2.json', '35_1n_Ru_1.json', '35_2i_Ll_2.json', '35_1n_Lr_1.json', '35_1n_Lu_1.json', '35_2i_Lr_1.json', '35_1p_Lr_1.json', '35_1i_Rs_1.json', '35_2n_Ll_1.json', '35_2p_Ru_1.json', '35_3p_Ru_2.json', '35_2n_Lu_2.json', '35_2p_Lu_2.json', '35_2p_Lr_1.json', '35_3p_Ru_1.json', '35_2n_Lu_1.json', '35_2n_Rl_1.json', '35_2p_Lr_2.json', '35_2p_Rl_1.json', '35_2n_Ls_2.json', '35_2n_Ll_2.json', '35_2p_Ru_2.json', '35_2p_Ll_2.json', '35_2n_Ls_1.json', '35_2n_Ru_1.json', '35_2n_Rr_2.json', '35_2p_Rl_2.json', '35_2i_Ru_1.json', '35_2n_Rs_2.json', '35_2n_Lr_2.json', '35_2n_Rs_1.json', '35_2p_Ll_1.json', '35_2p_Rr_2.json', '35_2p_Ls_1.json', '35_2n_Rr_1.json', '35_2n_Rl_2.json', '35_2p_Rs_2.json', '35_2p_Lu_1.json', '35_2n_Ru_2.json', '35_2p_Rr_1.json', '35_2n_Lr_1.json', '35_2i_Ru_2.json', '35_2p_Rs_1.json', '35_2p_Ls_2.json', '9_2i_Ls_2.json', '9_2i_Ll_2.json', '9_2i_Ll_1.json', '9_2i_Ls_1.json', '9_2i_Lr_1.json', '9_2i_Lr_2.json', '9_2i_Lu_1.json', '9_2n_Ll_2.json', '9_3i_Rl_2.json', '9_3i_Lu_2.json', '9_2p_Ll_1.json', '9_2i_Rr_1.json', '9_2p_Rl_2.json', '9_2n_Rs_1.json', '9_2i_Rs_1.json', '9_2p_Ru_1.json', '9_2n_Ls_1.json', '9_2n_Rs_2.json', '9_2i_Rr_2.json', '9_2i_Ru_1.json', '9_3i_Lr_2.json', '9_3i_Ls_1.json', '9_2i_Lu_2.json', '9_2n_Lr_2.json', '9_2i_Rl_2.json', '9_2p_Lu_2.json', '9_3i_Rs_1.json', '9_2p_Ls_2.json', '9_3i_Lr_1.json', '9_2p_Ll_2.json', '9_2n_Ls_2.json', '9_2p_Rl_1.json', '9_2p_Lu_1.json', '9_2p_Rs_1.json', '9_2i_Ru_2.json', '9_2n_Ll_1.json', '9_2n_Rl_2.json', '9_2n_Rl_1.json', '9_3i_Rr_1.json', '9_2n_Lu_1.json', '9_2n_Rr_2.json', '9_3i_Rr_2.json', '9_3i_Ll_1.json', '9_2n_Lr_1.json', '9_3i_Ls_2.json', '9_2p_Lr_2.json', '9_3i_Ll_2.json', '9_2i_Rs_2.json', '9_2p_Rr_1.json', '9_2p_Ru_2.json', '9_2p_Ls_1.json', '9_2p_Lr_1.json', '9_2n_Lu_2.json', '9_2n_Rr_1.json', '9_2p_Rs_2.json', '9_3i_Lu_1.json', '9_2n_Ru_1.json', '9_3i_Rl_1.json', '9_2n_Ru_2.json', '9_2i_Rl_1.json', '9_2p_Rr_2.json', '9_3p_Rr_2.json', '9_3n_Ru_2.json', '9_3i_Ru_1.json', '9_3n_Rs_1.json', '9_3p_Lr_1.json', '9_3p_Ls_2.json', '9_3p_Rs_1.json', '9_3p_Rl_1.json', '9_3n_Lu_2.json', '9_3n_Rl_2.json', '9_3i_Rs_2.json', '9_3p_Lr_2.json', '9_3p_Rs_2.json', '9_3n_Ls_2.json', '9_3p_Lu_1.json', '9_3n_Lu_1.json', '9_3p_Ru_1.json', '9_3n_Rr_2.json', '9_3p_Lu_2.json', '9_3p_Ll_2.json', '9_3n_Lr_2.json', '9_3n_Ru_1.json', '9_3p_Ll_1.json', '9_3p_Ls_1.json', '9_3n_Rr_1.json', '9_3n_Ll_1.json', '9_3n_Rs_2.json', '9_3n_Ll_2.json', '9_3n_Ls_1.json', '9_3p_Rr_1.json', '9_3n_Lr_1.json', '9_3n_Rl_1.json', '9_3p_Ru_2.json', '9_3i_Ru_2.json', '9_3p_Rl_2.json']\n"
          ]
        }
      ]
    },
    {
      "cell_type": "code",
      "source": [
        "from google.colab import drive\n",
        "drive.mount('/content/drive')\n",
        "\n",
        "!pip install labelme2coco\n",
        "import labelme2coco\n",
        "\n",
        "# LabelMeアノテーションと画像ファイルが含まれるディレクトリを設定\n",
        "labelme_folder = \"/content/drive/MyDrive/AI_laboratory_course/MOBIUS/concat_json\"\n",
        "\n",
        "# エクスポートするディレクトリを設定\n",
        "export_dir = \"/content/drive/MyDrive/AI_laboratory_course/MOBIUS/coco_format\"\n",
        "\n",
        "# トレーニングデータの分割率を設定\n",
        "train_split_rate = 0.85\n",
        "\n",
        "# LabelMeアノテーションをCOCO形式に変換\n",
        "labelme2coco.convert(labelme_folder, export_dir, train_split_rate)\n"
      ],
      "metadata": {
        "colab": {
          "base_uri": "https://localhost:8080/"
        },
        "id": "t2TvrWV9SeOG",
        "outputId": "851137a1-1ec1-416a-d4df-d6efd0eafe6c"
      },
      "execution_count": null,
      "outputs": [
        {
          "output_type": "stream",
          "name": "stdout",
          "text": [
            "Drive already mounted at /content/drive; to attempt to forcibly remount, call drive.mount(\"/content/drive\", force_remount=True).\n",
            "Requirement already satisfied: labelme2coco in /usr/local/lib/python3.10/dist-packages (0.2.4)\n",
            "Requirement already satisfied: sahi>=0.8.19 in /usr/local/lib/python3.10/dist-packages (from labelme2coco) (0.11.15)\n",
            "Requirement already satisfied: jsonschema>=2.6.0 in /usr/local/lib/python3.10/dist-packages (from labelme2coco) (4.19.2)\n",
            "Requirement already satisfied: attrs>=22.2.0 in /usr/local/lib/python3.10/dist-packages (from jsonschema>=2.6.0->labelme2coco) (23.2.0)\n",
            "Requirement already satisfied: jsonschema-specifications>=2023.03.6 in /usr/local/lib/python3.10/dist-packages (from jsonschema>=2.6.0->labelme2coco) (2023.12.1)\n",
            "Requirement already satisfied: referencing>=0.28.4 in /usr/local/lib/python3.10/dist-packages (from jsonschema>=2.6.0->labelme2coco) (0.32.1)\n",
            "Requirement already satisfied: rpds-py>=0.7.1 in /usr/local/lib/python3.10/dist-packages (from jsonschema>=2.6.0->labelme2coco) (0.17.1)\n",
            "Requirement already satisfied: opencv-python<=4.8 in /usr/local/lib/python3.10/dist-packages (from sahi>=0.8.19->labelme2coco) (4.7.0.72)\n",
            "Requirement already satisfied: shapely>=1.8.0 in /usr/local/lib/python3.10/dist-packages (from sahi>=0.8.19->labelme2coco) (2.0.2)\n",
            "Requirement already satisfied: tqdm>=4.48.2 in /usr/local/lib/python3.10/dist-packages (from sahi>=0.8.19->labelme2coco) (4.66.1)\n",
            "Requirement already satisfied: pillow>=8.2.0 in /usr/local/lib/python3.10/dist-packages (from sahi>=0.8.19->labelme2coco) (9.4.0)\n",
            "Requirement already satisfied: pybboxes==0.1.6 in /usr/local/lib/python3.10/dist-packages (from sahi>=0.8.19->labelme2coco) (0.1.6)\n",
            "Requirement already satisfied: pyyaml in /usr/local/lib/python3.10/dist-packages (from sahi>=0.8.19->labelme2coco) (6.0.1)\n",
            "Requirement already satisfied: fire in /usr/local/lib/python3.10/dist-packages (from sahi>=0.8.19->labelme2coco) (0.5.0)\n",
            "Requirement already satisfied: terminaltables in /usr/local/lib/python3.10/dist-packages (from sahi>=0.8.19->labelme2coco) (3.1.10)\n",
            "Requirement already satisfied: requests in /usr/local/lib/python3.10/dist-packages (from sahi>=0.8.19->labelme2coco) (2.31.0)\n",
            "Requirement already satisfied: click in /usr/local/lib/python3.10/dist-packages (from sahi>=0.8.19->labelme2coco) (8.1.7)\n",
            "Requirement already satisfied: numpy in /usr/local/lib/python3.10/dist-packages (from pybboxes==0.1.6->sahi>=0.8.19->labelme2coco) (1.23.5)\n",
            "Requirement already satisfied: six in /usr/local/lib/python3.10/dist-packages (from fire->sahi>=0.8.19->labelme2coco) (1.16.0)\n",
            "Requirement already satisfied: termcolor in /usr/local/lib/python3.10/dist-packages (from fire->sahi>=0.8.19->labelme2coco) (2.4.0)\n",
            "Requirement already satisfied: charset-normalizer<4,>=2 in /usr/local/lib/python3.10/dist-packages (from requests->sahi>=0.8.19->labelme2coco) (3.3.2)\n",
            "Requirement already satisfied: idna<4,>=2.5 in /usr/local/lib/python3.10/dist-packages (from requests->sahi>=0.8.19->labelme2coco) (3.6)\n",
            "Requirement already satisfied: urllib3<3,>=1.21.1 in /usr/local/lib/python3.10/dist-packages (from requests->sahi>=0.8.19->labelme2coco) (2.0.7)\n",
            "Requirement already satisfied: certifi>=2017.4.17 in /usr/local/lib/python3.10/dist-packages (from requests->sahi>=0.8.19->labelme2coco) (2023.11.17)\n",
            "There are 3559 listed files in folder concat_json.\n"
          ]
        },
        {
          "output_type": "stream",
          "name": "stderr",
          "text": [
            "Converting labelme annotations to COCO format: 100%|██████████| 3559/3559 [01:55<00:00, 30.88it/s] \n"
          ]
        }
      ]
    },
    {
      "cell_type": "code",
      "source": [
        "import json\n",
        "import os\n",
        "\n",
        "def convert_points_format(json_file_path):\n",
        "    with open(json_file_path, 'r') as file:\n",
        "        data = json.load(file)\n",
        "\n",
        "    for shape in data['shapes']:\n",
        "        # ネストを1レベル減らします\n",
        "        shape['points'] = [point[0] for point in shape['points']]\n",
        "\n",
        "    with open(json_file_path, 'w') as file:\n",
        "        json.dump(data, file, indent=4)\n",
        "\n",
        "# JSONファイルが保存されているディレクトリへのパス\n",
        "json_dir = \"/content/drive/MyDrive/AI_laboratory_course/MOBIUS/json_concat\"\n",
        "\n",
        "# ディレクトリ内の全てのJSONファイルに対して上記の関数を適用\n",
        "for root, dirs, files in os.walk(json_dir):\n",
        "    for file in files:\n",
        "        if file.endswith(\".json\"):\n",
        "            json_file_path = os.path.join(root, file)\n",
        "            convert_points_format(json_file_path)\n"
      ],
      "metadata": {
        "id": "c-f0jDINTz2E"
      },
      "execution_count": null,
      "outputs": []
    },
    {
      "cell_type": "code",
      "source": [
        "import json\n",
        "import os\n",
        "from tqdm import tqdm\n",
        "\n",
        "def convert_points_format(json_file_path):\n",
        "    with open(json_file_path, 'r') as file:\n",
        "        data = json.load(file)\n",
        "\n",
        "    for shape in data['shapes']:\n",
        "        # ネストを1レベル減らします\n",
        "        shape['points'] = [point[0] for point in shape['points']]\n",
        "\n",
        "    with open(json_file_path, 'w') as file:\n",
        "        json.dump(data, file, indent=4)\n",
        "\n",
        "# JSONファイルが保存されているディレクトリへのパス\n",
        "json_dir = \"/content/drive/MyDrive/AI_laboratory_course/MOBIUS/json_concat\"\n",
        "\n",
        "# JSONファイルの総数を取得\n",
        "total_files = sum([len(files) for r, d, files in os.walk(json_dir) if files])\n",
        "\n",
        "# ディレクトリ内の全てのJSONファイルに対して上記の関数を適用（tqdmを使用）\n",
        "with tqdm(total=total_files, desc=\"Converting JSON files\") as pbar:\n",
        "    for root, dirs, files in os.walk(json_dir):\n",
        "        for file in files:\n",
        "            if file.endswith(\".json\"):\n",
        "                json_file_path = os.path.join(root, file)\n",
        "                convert_points_format(json_file_path)\n",
        "                pbar.update(1)\n"
      ],
      "metadata": {
        "colab": {
          "base_uri": "https://localhost:8080/"
        },
        "id": "aUw7YjeCUWRn",
        "outputId": "d9a9e0d4-ba3a-467a-ba72-ea3f68879c09"
      },
      "execution_count": null,
      "outputs": [
        {
          "output_type": "stream",
          "name": "stderr",
          "text": [
            "Converting JSON files: 100%|██████████| 3559/3559 [03:36<00:00, 16.45it/s]\n"
          ]
        }
      ]
    },
    {
      "cell_type": "code",
      "source": [],
      "metadata": {
        "id": "VkgUagaAh5eS"
      },
      "execution_count": null,
      "outputs": []
    },
    {
      "cell_type": "markdown",
      "source": [
        "ネストを減らすコード"
      ],
      "metadata": {
        "id": "qoiXo_C3h6dG"
      }
    },
    {
      "cell_type": "code",
      "source": [
        "import json\n",
        "import os\n",
        "from tqdm import tqdm\n",
        "\n",
        "def convert_points_format(json_file_path):\n",
        "    with open(json_file_path, 'r') as file:\n",
        "        data = json.load(file)\n",
        "\n",
        "    for shape in data['shapes']:\n",
        "        # ネストを1レベル減らす\n",
        "        shape['points'] = [p for sublist in shape['points'] for p in sublist]\n",
        "\n",
        "    with open(json_file_path, 'w') as file:\n",
        "        json.dump(data, file, indent=4)\n",
        "\n",
        "# JSONファイルが保存されているディレクトリへのパス\n",
        "json_dir = \"/content/drive/MyDrive/AI_laboratory_course/MOBIUS/concat_json\"\n",
        "\n",
        "# JSONファイルの総数を取得\n",
        "total_files = sum([len(files) for r, d, files in os.walk(json_dir) if files])\n",
        "\n",
        "# ディレクトリ内の全てのJSONファイルに対して上記の関数を適用（tqdmを使用）\n",
        "with tqdm(total=total_files, desc=\"Converting JSON files\") as pbar:\n",
        "    for root, dirs, files in os.walk(json_dir):\n",
        "        for file in files:\n",
        "            if file.endswith(\".json\"):\n",
        "                json_file_path = os.path.join(root, file)\n",
        "                convert_points_format(json_file_path)\n",
        "                pbar.update(1)\n"
      ],
      "metadata": {
        "colab": {
          "base_uri": "https://localhost:8080/"
        },
        "id": "rjyrMGU0eKso",
        "outputId": "b23ef088-86ca-435c-a754-6068ffd2c2ac"
      },
      "execution_count": null,
      "outputs": [
        {
          "output_type": "stream",
          "name": "stderr",
          "text": [
            "Converting JSON files: 100%|██████████| 3559/3559 [01:54<00:00, 31.14it/s]\n"
          ]
        }
      ]
    },
    {
      "cell_type": "code",
      "source": [
        "from google.colab import drive\n",
        "drive.mount('/content/drive')\n",
        "\n",
        "!pip install labelme2coco\n",
        "import labelme2coco\n",
        "\n",
        "# LabelMeアノテーションと画像ファイルが含まれるディレクトリを設定\n",
        "labelme_folder = \"/content/drive/MyDrive/AI_laboratory_course/MOBIUS/ex_json\"\n",
        "\n",
        "# エクスポートするディレクトリを設定\n",
        "export_dir = \"/content/drive/MyDrive/AI_laboratory_course/MOBIUS/coco_format\"\n",
        "\n",
        "# トレーニングデータの分割率を設定\n",
        "train_split_rate = 0.85\n",
        "\n",
        "# LabelMeアノテーションをCOCO形式に変換\n",
        "labelme2coco.convert(labelme_folder, export_dir, train_split_rate)"
      ],
      "metadata": {
        "colab": {
          "base_uri": "https://localhost:8080/"
        },
        "id": "UHBDcMoEiCR7",
        "outputId": "6a937edf-5516-499a-ba0f-8d3a91e336f8"
      },
      "execution_count": null,
      "outputs": [
        {
          "output_type": "stream",
          "name": "stdout",
          "text": [
            "Drive already mounted at /content/drive; to attempt to forcibly remount, call drive.mount(\"/content/drive\", force_remount=True).\n",
            "Requirement already satisfied: labelme2coco in /usr/local/lib/python3.10/dist-packages (0.2.4)\n",
            "Requirement already satisfied: sahi>=0.8.19 in /usr/local/lib/python3.10/dist-packages (from labelme2coco) (0.11.15)\n",
            "Requirement already satisfied: jsonschema>=2.6.0 in /usr/local/lib/python3.10/dist-packages (from labelme2coco) (4.19.2)\n",
            "Requirement already satisfied: attrs>=22.2.0 in /usr/local/lib/python3.10/dist-packages (from jsonschema>=2.6.0->labelme2coco) (23.2.0)\n",
            "Requirement already satisfied: jsonschema-specifications>=2023.03.6 in /usr/local/lib/python3.10/dist-packages (from jsonschema>=2.6.0->labelme2coco) (2023.12.1)\n",
            "Requirement already satisfied: referencing>=0.28.4 in /usr/local/lib/python3.10/dist-packages (from jsonschema>=2.6.0->labelme2coco) (0.32.1)\n",
            "Requirement already satisfied: rpds-py>=0.7.1 in /usr/local/lib/python3.10/dist-packages (from jsonschema>=2.6.0->labelme2coco) (0.17.1)\n",
            "Requirement already satisfied: opencv-python<=4.8 in /usr/local/lib/python3.10/dist-packages (from sahi>=0.8.19->labelme2coco) (4.7.0.72)\n",
            "Requirement already satisfied: shapely>=1.8.0 in /usr/local/lib/python3.10/dist-packages (from sahi>=0.8.19->labelme2coco) (2.0.2)\n",
            "Requirement already satisfied: tqdm>=4.48.2 in /usr/local/lib/python3.10/dist-packages (from sahi>=0.8.19->labelme2coco) (4.66.1)\n",
            "Requirement already satisfied: pillow>=8.2.0 in /usr/local/lib/python3.10/dist-packages (from sahi>=0.8.19->labelme2coco) (9.4.0)\n",
            "Requirement already satisfied: pybboxes==0.1.6 in /usr/local/lib/python3.10/dist-packages (from sahi>=0.8.19->labelme2coco) (0.1.6)\n",
            "Requirement already satisfied: pyyaml in /usr/local/lib/python3.10/dist-packages (from sahi>=0.8.19->labelme2coco) (6.0.1)\n",
            "Requirement already satisfied: fire in /usr/local/lib/python3.10/dist-packages (from sahi>=0.8.19->labelme2coco) (0.5.0)\n",
            "Requirement already satisfied: terminaltables in /usr/local/lib/python3.10/dist-packages (from sahi>=0.8.19->labelme2coco) (3.1.10)\n",
            "Requirement already satisfied: requests in /usr/local/lib/python3.10/dist-packages (from sahi>=0.8.19->labelme2coco) (2.31.0)\n",
            "Requirement already satisfied: click in /usr/local/lib/python3.10/dist-packages (from sahi>=0.8.19->labelme2coco) (8.1.7)\n",
            "Requirement already satisfied: numpy in /usr/local/lib/python3.10/dist-packages (from pybboxes==0.1.6->sahi>=0.8.19->labelme2coco) (1.23.5)\n",
            "Requirement already satisfied: six in /usr/local/lib/python3.10/dist-packages (from fire->sahi>=0.8.19->labelme2coco) (1.16.0)\n",
            "Requirement already satisfied: termcolor in /usr/local/lib/python3.10/dist-packages (from fire->sahi>=0.8.19->labelme2coco) (2.4.0)\n",
            "Requirement already satisfied: charset-normalizer<4,>=2 in /usr/local/lib/python3.10/dist-packages (from requests->sahi>=0.8.19->labelme2coco) (3.3.2)\n",
            "Requirement already satisfied: idna<4,>=2.5 in /usr/local/lib/python3.10/dist-packages (from requests->sahi>=0.8.19->labelme2coco) (3.6)\n",
            "Requirement already satisfied: urllib3<3,>=1.21.1 in /usr/local/lib/python3.10/dist-packages (from requests->sahi>=0.8.19->labelme2coco) (2.0.7)\n",
            "Requirement already satisfied: certifi>=2017.4.17 in /usr/local/lib/python3.10/dist-packages (from requests->sahi>=0.8.19->labelme2coco) (2023.11.17)\n",
            "There are 10 listed files in folder ex_json.\n"
          ]
        },
        {
          "output_type": "stream",
          "name": "stderr",
          "text": [
            "Converting labelme annotations to COCO format: 100%|██████████| 10/10 [00:05<00:00,  1.90it/s]\n"
          ]
        }
      ]
    },
    {
      "cell_type": "code",
      "source": [
        "\n",
        "\n",
        "# LabelMeアノテーションと画像ファイルが含まれるディレクトリを設定\n",
        "labelme_folder = \"/content/drive/MyDrive/AI_laboratory_course/MOBIUS/concat_json\"\n",
        "\n",
        "# エクスポートするディレクトリを設定\n",
        "export_dir = \"/content/drive/MyDrive/AI_laboratory_course/MOBIUS/coco_format\"\n",
        "\n",
        "# トレーニングデータの分割率を設定\n",
        "train_split_rate = 0.85\n",
        "\n",
        "# フォルダ内のファイルリストを取得\n",
        "file_list = os.listdir(labelme_folder)\n",
        "\n",
        "# 進捗バーを表示してLabelMeアノテーションをCOCO形式に変換\n",
        "for file_name in tqdm(file_list, desc=\"Converting to COCO\"):\n",
        "    if file_name.endswith('.json'):\n",
        "        json_file_path = os.path.join(labelme_folder, file_name)\n",
        "        labelme2coco.convert(json_file_path, export_dir, train_split_rate)\n",
        "\n",
        "print(\"Conversion complete.\")\n"
      ],
      "metadata": {
        "id": "3AbOt7vivpLh"
      },
      "execution_count": null,
      "outputs": []
    }
  ]
}
