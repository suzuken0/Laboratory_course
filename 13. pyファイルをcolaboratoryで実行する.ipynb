{
  "nbformat": 4,
  "nbformat_minor": 0,
  "metadata": {
    "colab": {
      "name": "Untitled46.ipynb",
      "provenance": [],
      "authorship_tag": "ABX9TyO/q6ZkuEDNt37ahv1kjgv1",
      "include_colab_link": true
    },
    "kernelspec": {
      "name": "python3",
      "display_name": "Python 3"
    },
    "accelerator": "GPU"
  },
  "cells": [
    {
      "cell_type": "markdown",
      "metadata": {
        "id": "view-in-github",
        "colab_type": "text"
      },
      "source": [
        "<a href=\"https://colab.research.google.com/github/ykitaguchi77/Laboratory_course/blob/master/13.%20py%E3%83%95%E3%82%A1%E3%82%A4%E3%83%AB%E3%82%92colaboratory%E3%81%A7%E5%AE%9F%E8%A1%8C%E3%81%99%E3%82%8B.ipynb\" target=\"_parent\"><img src=\"https://colab.research.google.com/assets/colab-badge.svg\" alt=\"Open In Colab\"/></a>"
      ]
    },
    {
      "cell_type": "markdown",
      "metadata": {
        "id": "TSuxN82gsKVz"
      },
      "source": [
        "#13. pyファイルをcolaboratoryで実行する"
      ]
    },
    {
      "cell_type": "code",
      "source": [
        "!ls"
      ],
      "metadata": {
        "colab": {
          "base_uri": "https://localhost:8080/"
        },
        "id": "FJ3EoHKaz4xe",
        "outputId": "708cb461-737e-4b69-c648-659d14ee8577"
      },
      "execution_count": 2,
      "outputs": [
        {
          "output_type": "stream",
          "name": "stdout",
          "text": [
            "sample_data\n"
          ]
        }
      ]
    },
    {
      "cell_type": "code",
      "source": [
        "%%writefile test.py\n",
        "print(\"Hello, world\")"
      ],
      "metadata": {
        "colab": {
          "base_uri": "https://localhost:8080/"
        },
        "id": "iPo3pEuMzVgj",
        "outputId": "3e3825f6-09ca-4c4e-99b6-1a03c81b4273"
      },
      "execution_count": 3,
      "outputs": [
        {
          "output_type": "stream",
          "name": "stdout",
          "text": [
            "Writing test.py\n"
          ]
        }
      ]
    },
    {
      "cell_type": "code",
      "metadata": {
        "id": "xjbNs54xewf4",
        "colab": {
          "base_uri": "https://localhost:8080/"
        },
        "outputId": "f0d5ff49-44b6-4e4b-f818-a0b3f0ed0070"
      },
      "source": [
        "!python3 test.py"
      ],
      "execution_count": 4,
      "outputs": [
        {
          "output_type": "stream",
          "name": "stdout",
          "text": [
            "Hello, world\n"
          ]
        }
      ]
    },
    {
      "cell_type": "code",
      "metadata": {
        "id": "0kx7lvKzdBR4",
        "colab": {
          "base_uri": "https://localhost:8080/"
        },
        "outputId": "d8e8674b-0617-4aaa-82df-c8a95c230c24"
      },
      "source": [
        "import os\n",
        "path = '/content/sample_data'\n",
        "\n",
        "#作業ディレクトリをpathに移動する\n",
        "os.chdir(path)\n",
        "\n",
        "#作業ディレクトリ直下のファイルを確認\n",
        "!ls"
      ],
      "execution_count": 3,
      "outputs": [
        {
          "output_type": "stream",
          "name": "stdout",
          "text": [
            "sample_data  test.py\n"
          ]
        }
      ]
    }
  ]
}