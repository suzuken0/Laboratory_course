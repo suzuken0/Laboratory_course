{
  "nbformat": 4,
  "nbformat_minor": 0,
  "metadata": {
    "colab": {
      "name": "Untitled26.ipynb",
      "provenance": [],
      "authorship_tag": "ABX9TyPTEWMUGZ5i9Z3Ke66d2W4p",
      "include_colab_link": true
    },
    "kernelspec": {
      "name": "python3",
      "display_name": "Python 3"
    },
    "accelerator": "GPU"
  },
  "cells": [
    {
      "cell_type": "markdown",
      "metadata": {
        "id": "view-in-github",
        "colab_type": "text"
      },
      "source": [
        "<a href=\"https://colab.research.google.com/github/ykitaguchi77/Laboratory_course/blob/master/8.%E3%80%90%E6%BC%94%E7%BF%92%E5%95%8F%E9%A1%8C%E3%80%91Fashion%20MNIST%20using%20Tensorflow.ipynb\" target=\"_parent\"><img src=\"https://colab.research.google.com/assets/colab-badge.svg\" alt=\"Open In Colab\"/></a>"
      ]
    },
    {
      "cell_type": "markdown",
      "metadata": {
        "id": "81PcmcH6JmsR",
        "colab_type": "text"
      },
      "source": [
        "#【演習】Fashion MNIST using Tensorflow 2.0"
      ]
    },
    {
      "cell_type": "markdown",
      "metadata": {
        "id": "mrtyn5mDpc1s",
        "colab_type": "text"
      },
      "source": [
        "Fashion MNIST:\n",
        "10種類のファッションの絵柄\n",
        "\n",
        "Class_name\n",
        "0. T-shirt/top\n",
        "1. Trouser\n",
        "2. Pullover\n",
        "3. Dress\n",
        "4. Coat\n",
        "5. Sandal\n",
        "6. Shirt\n",
        "7. Sneaker\n",
        "8. Bag\n",
        "9. Ankle boot\n",
        "\n",
        "MNISTのスクリプトを参考にして分類してみましょう。"
      ]
    },
    {
      "cell_type": "markdown",
      "metadata": {
        "id": "Vd3V2ma_JXfC",
        "colab_type": "text"
      },
      "source": [
        "#Tensorflow 2.0のセットアップ"
      ]
    },
    {
      "cell_type": "code",
      "metadata": {
        "id": "CXPxTlqUazD8",
        "colab_type": "code",
        "colab": {
          "base_uri": "https://localhost:8080/",
          "height": 34
        },
        "outputId": "4fe9ed54-49cc-4927-b0f7-4060b56e03c5"
      },
      "source": [
        "!pip install -q tensorflow==2.0.0-alpha0\n",
        "import tensorflow as tf\n",
        "tf.__version__ # '2.0.0'"
      ],
      "execution_count": 3,
      "outputs": [
        {
          "output_type": "execute_result",
          "data": {
            "text/plain": [
              "'2.0.0-alpha0'"
            ]
          },
          "metadata": {
            "tags": []
          },
          "execution_count": 3
        }
      ]
    },
    {
      "cell_type": "markdown",
      "metadata": {
        "id": "S7STBs56jFJi",
        "colab_type": "text"
      },
      "source": [
        "#データのダウンロード"
      ]
    },
    {
      "cell_type": "code",
      "metadata": {
        "id": "0EnrBG2Oit3e",
        "colab_type": "code",
        "colab": {
          "base_uri": "https://localhost:8080/",
          "height": 189
        },
        "outputId": "9cbfcaff-37dc-4d3a-8784-3c8cb4d23303"
      },
      "source": [
        "import keras\n",
        "\n",
        "fashion_mnist = keras.datasets.fashion_mnist\n",
        "\n",
        "(x_train, y_train), (x_test, y_test) = fashion_mnist.load_data()\n",
        "x_train, x_test = x_train / 255.0, x_test / 255.0"
      ],
      "execution_count": 5,
      "outputs": [
        {
          "output_type": "stream",
          "text": [
            "Using TensorFlow backend.\n"
          ],
          "name": "stderr"
        },
        {
          "output_type": "stream",
          "text": [
            "Downloading data from http://fashion-mnist.s3-website.eu-central-1.amazonaws.com/train-labels-idx1-ubyte.gz\n",
            "32768/29515 [=================================] - 0s 3us/step\n",
            "Downloading data from http://fashion-mnist.s3-website.eu-central-1.amazonaws.com/train-images-idx3-ubyte.gz\n",
            "26427392/26421880 [==============================] - 2s 0us/step\n",
            "Downloading data from http://fashion-mnist.s3-website.eu-central-1.amazonaws.com/t10k-labels-idx1-ubyte.gz\n",
            "8192/5148 [===============================================] - 0s 0us/step\n",
            "Downloading data from http://fashion-mnist.s3-website.eu-central-1.amazonaws.com/t10k-images-idx3-ubyte.gz\n",
            "4423680/4422102 [==============================] - 1s 0us/step\n"
          ],
          "name": "stdout"
        }
      ]
    },
    {
      "cell_type": "markdown",
      "metadata": {
        "id": "apRRpWh8lDkX",
        "colab_type": "text"
      },
      "source": [
        "#画像を表示してみる"
      ]
    },
    {
      "cell_type": "code",
      "metadata": {
        "id": "R-vmZgoukm7E",
        "colab_type": "code",
        "colab": {}
      },
      "source": [
        ""
      ],
      "execution_count": 0,
      "outputs": []
    },
    {
      "cell_type": "markdown",
      "metadata": {
        "id": "N-4jOzHtjAi0",
        "colab_type": "text"
      },
      "source": [
        "#Modelの作成"
      ]
    },
    {
      "cell_type": "code",
      "metadata": {
        "id": "2RB0zH7Uj-eM",
        "colab_type": "code",
        "colab": {}
      },
      "source": [
        ""
      ],
      "execution_count": 0,
      "outputs": []
    },
    {
      "cell_type": "markdown",
      "metadata": {
        "id": "_aEe2HfhkEfu",
        "colab_type": "text"
      },
      "source": [
        "#モデルの訓練と評価"
      ]
    },
    {
      "cell_type": "code",
      "metadata": {
        "id": "-6jjFO8ukHWh",
        "colab_type": "code",
        "colab": {}
      },
      "source": [
        ""
      ],
      "execution_count": 0,
      "outputs": []
    },
    {
      "cell_type": "markdown",
      "metadata": {
        "id": "XBxRadu7ZFjC",
        "colab_type": "text"
      },
      "source": [
        "#推測結果の表示①"
      ]
    },
    {
      "cell_type": "code",
      "metadata": {
        "id": "H2dlVjuzmkMR",
        "colab_type": "code",
        "colab": {}
      },
      "source": [
        ""
      ],
      "execution_count": 0,
      "outputs": []
    },
    {
      "cell_type": "markdown",
      "metadata": {
        "id": "CnGp_OV7Tq0h",
        "colab_type": "text"
      },
      "source": [
        "#推測結果の表示②"
      ]
    }
  ]
}