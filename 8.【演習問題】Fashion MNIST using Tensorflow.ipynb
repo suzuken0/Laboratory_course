{
  "nbformat": 4,
  "nbformat_minor": 0,
  "metadata": {
    "colab": {
      "name": "Untitled26.ipynb",
      "provenance": [],
      "include_colab_link": true
    },
    "kernelspec": {
      "name": "python3",
      "display_name": "Python 3"
    },
    "accelerator": "GPU"
  },
  "cells": [
    {
      "cell_type": "markdown",
      "metadata": {
        "id": "view-in-github",
        "colab_type": "text"
      },
      "source": [
        "<a href=\"https://colab.research.google.com/github/ykitaguchi77/Laboratory_course/blob/master/8.%E3%80%90%E6%BC%94%E7%BF%92%E5%95%8F%E9%A1%8C%E3%80%91Fashion%20MNIST%20using%20Tensorflow.ipynb\" target=\"_parent\"><img src=\"https://colab.research.google.com/assets/colab-badge.svg\" alt=\"Open In Colab\"/></a>"
      ]
    },
    {
      "cell_type": "markdown",
      "metadata": {
        "id": "81PcmcH6JmsR"
      },
      "source": [
        "#【演習】Fashion MNIST using Tensorflow 2.0"
      ]
    },
    {
      "cell_type": "markdown",
      "metadata": {
        "id": "mrtyn5mDpc1s"
      },
      "source": [
        "Fashion MNIST:\n",
        "10種類のファッションの絵柄\n",
        "\n",
        "Class_name\n",
        "0. T-shirt/top\n",
        "1. Trouser\n",
        "2. Pullover\n",
        "3. Dress\n",
        "4. Coat\n",
        "5. Sandal\n",
        "6. Shirt\n",
        "7. Sneaker\n",
        "8. Bag\n",
        "9. Ankle boot\n",
        "\n",
        "MNISTのスクリプトを参考にして分類してみましょう。"
      ]
    },
    {
      "cell_type": "markdown",
      "metadata": {
        "id": "Vd3V2ma_JXfC"
      },
      "source": [
        "#Tensorflow 2.0のセットアップ"
      ]
    },
    {
      "cell_type": "code",
      "metadata": {
        "id": "CXPxTlqUazD8",
        "colab": {
          "base_uri": "https://localhost:8080/",
          "height": 35
        },
        "outputId": "7377e762-0a81-401b-9def-fe44cf3509e0"
      },
      "source": [
        "!pip install -q tensorflow>=2.9\n",
        "import tensorflow as tf\n",
        "tf.__version__ # '2.9.2'"
      ],
      "execution_count": 4,
      "outputs": [
        {
          "output_type": "execute_result",
          "data": {
            "text/plain": [
              "'2.9.2'"
            ],
            "application/vnd.google.colaboratory.intrinsic+json": {
              "type": "string"
            }
          },
          "metadata": {},
          "execution_count": 4
        }
      ]
    },
    {
      "cell_type": "markdown",
      "metadata": {
        "id": "S7STBs56jFJi"
      },
      "source": [
        "#データのダウンロード"
      ]
    },
    {
      "cell_type": "code",
      "metadata": {
        "id": "0EnrBG2Oit3e",
        "colab": {
          "base_uri": "https://localhost:8080/"
        },
        "outputId": "07d971d6-3d51-4470-c814-cdb1c5f8b2fd"
      },
      "source": [
        "import keras\n",
        "\n",
        "fashion_mnist = keras.datasets.fashion_mnist\n",
        "\n",
        "(x_train, y_train), (x_test, y_test) = fashion_mnist.load_data()\n",
        "x_train, x_test = x_train / 255.0, x_test / 255.0"
      ],
      "execution_count": 2,
      "outputs": [
        {
          "output_type": "stream",
          "name": "stdout",
          "text": [
            "Downloading data from https://storage.googleapis.com/tensorflow/tf-keras-datasets/train-labels-idx1-ubyte.gz\n",
            "29515/29515 [==============================] - 0s 0us/step\n",
            "Downloading data from https://storage.googleapis.com/tensorflow/tf-keras-datasets/train-images-idx3-ubyte.gz\n",
            "26421880/26421880 [==============================] - 0s 0us/step\n",
            "Downloading data from https://storage.googleapis.com/tensorflow/tf-keras-datasets/t10k-labels-idx1-ubyte.gz\n",
            "5148/5148 [==============================] - 0s 0us/step\n",
            "Downloading data from https://storage.googleapis.com/tensorflow/tf-keras-datasets/t10k-images-idx3-ubyte.gz\n",
            "4422102/4422102 [==============================] - 0s 0us/step\n"
          ]
        }
      ]
    },
    {
      "cell_type": "markdown",
      "metadata": {
        "id": "apRRpWh8lDkX"
      },
      "source": [
        "#画像を表示してみる"
      ]
    },
    {
      "cell_type": "code",
      "metadata": {
        "id": "R-vmZgoukm7E"
      },
      "source": [],
      "execution_count": null,
      "outputs": []
    },
    {
      "cell_type": "markdown",
      "metadata": {
        "id": "N-4jOzHtjAi0"
      },
      "source": [
        "#Modelの作成"
      ]
    },
    {
      "cell_type": "code",
      "metadata": {
        "id": "2RB0zH7Uj-eM"
      },
      "source": [],
      "execution_count": null,
      "outputs": []
    },
    {
      "cell_type": "markdown",
      "metadata": {
        "id": "_aEe2HfhkEfu"
      },
      "source": [
        "#モデルの訓練と評価"
      ]
    },
    {
      "cell_type": "code",
      "metadata": {
        "id": "-6jjFO8ukHWh"
      },
      "source": [],
      "execution_count": null,
      "outputs": []
    },
    {
      "cell_type": "markdown",
      "metadata": {
        "id": "XBxRadu7ZFjC"
      },
      "source": [
        "#推測結果の表示①"
      ]
    },
    {
      "cell_type": "code",
      "metadata": {
        "id": "H2dlVjuzmkMR"
      },
      "source": [],
      "execution_count": null,
      "outputs": []
    },
    {
      "cell_type": "markdown",
      "metadata": {
        "id": "CnGp_OV7Tq0h"
      },
      "source": [
        "#推測結果の表示②"
      ]
    }
  ]
}