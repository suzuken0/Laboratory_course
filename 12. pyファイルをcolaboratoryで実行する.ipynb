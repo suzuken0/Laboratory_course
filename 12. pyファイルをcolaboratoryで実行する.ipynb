{
  "nbformat": 4,
  "nbformat_minor": 0,
  "metadata": {
    "colab": {
      "name": "Untitled46.ipynb",
      "provenance": [],
      "authorship_tag": "ABX9TyNJyGeozHEipw55DHRh+zsy",
      "include_colab_link": true
    },
    "kernelspec": {
      "name": "python3",
      "display_name": "Python 3"
    },
    "accelerator": "GPU"
  },
  "cells": [
    {
      "cell_type": "markdown",
      "metadata": {
        "id": "view-in-github",
        "colab_type": "text"
      },
      "source": [
        "<a href=\"https://colab.research.google.com/github/ykitaguchi77/Laboratory_course/blob/master/12.%20py%E3%83%95%E3%82%A1%E3%82%A4%E3%83%AB%E3%82%92colaboratory%E3%81%A7%E5%AE%9F%E8%A1%8C%E3%81%99%E3%82%8B.ipynb\" target=\"_parent\"><img src=\"https://colab.research.google.com/assets/colab-badge.svg\" alt=\"Open In Colab\"/></a>"
      ]
    },
    {
      "cell_type": "markdown",
      "metadata": {
        "id": "TSuxN82gsKVz",
        "colab_type": "text"
      },
      "source": [
        "#12. pyファイルをcolaboratoryで実行する"
      ]
    },
    {
      "cell_type": "code",
      "metadata": {
        "id": "E0y8T8rIbGH7",
        "colab_type": "code",
        "colab": {
          "base_uri": "https://localhost:8080/",
          "height": 54
        },
        "outputId": "28d9538c-e74f-4458-e142-a1c1268e104f"
      },
      "source": [
        "from google.colab import drive\n",
        "drive.mount('/content/drive')\n"
      ],
      "execution_count": 4,
      "outputs": [
        {
          "output_type": "stream",
          "text": [
            "Drive already mounted at /content/drive; to attempt to forcibly remount, call drive.mount(\"/content/drive\", force_remount=True).\n"
          ],
          "name": "stdout"
        }
      ]
    },
    {
      "cell_type": "code",
      "metadata": {
        "id": "0kx7lvKzdBR4",
        "colab_type": "code",
        "colab": {
          "base_uri": "https://localhost:8080/",
          "height": 87
        },
        "outputId": "ca4a53cc-1a01-4f78-b280-246a431f30da"
      },
      "source": [
        "import os\n",
        "path = '/content/drive/My Drive/AI_laboratory_course/共有フォルダ'\n",
        "\n",
        "#作業ディレクトリをpathに移動する\n",
        "os.chdir(path)\n",
        "\n",
        "#作業ディレクトリ直下のファイルを確認\n",
        "!ls"
      ],
      "execution_count": 7,
      "outputs": [
        {
          "output_type": "stream",
          "text": [
            "chromedriver.exe\t\t haarcascade_eye.xml\n",
            "dataset.zip\t\t\t haarcascade_frontalface_alt.xml\n",
            "face.jpg\t\t\t shape_predictor_68_face_landmarks.dat\n",
            "goldenretriever-3724972_640.jpg  shuugou.jpg\n"
          ],
          "name": "stdout"
        }
      ]
    },
    {
      "cell_type": "code",
      "metadata": {
        "id": "xjbNs54xewf4",
        "colab_type": "code",
        "colab": {
          "base_uri": "https://localhost:8080/",
          "height": 34
        },
        "outputId": "ff663e50-2195-41bd-967d-f13cc288b09e"
      },
      "source": [
        "!python3 test.py"
      ],
      "execution_count": 3,
      "outputs": [
        {
          "output_type": "stream",
          "text": [
            "Hello, world!\n"
          ],
          "name": "stdout"
        }
      ]
    }
  ]
}