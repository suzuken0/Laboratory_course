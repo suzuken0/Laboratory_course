{
  "nbformat": 4,
  "nbformat_minor": 0,
  "metadata": {
    "colab": {
      "name": "Untitled17.ipynb",
      "provenance": [],
      "authorship_tag": "ABX9TyPhW9KLHzlsrcz1nQ32Osxv",
      "include_colab_link": true
    },
    "kernelspec": {
      "name": "python3",
      "display_name": "Python 3"
    }
  },
  "cells": [
    {
      "cell_type": "markdown",
      "metadata": {
        "id": "view-in-github",
        "colab_type": "text"
      },
      "source": [
        "<a href=\"https://colab.research.google.com/github/ykitaguchi77/Laboratory_course/blob/master/5.%20OPEN%20CV%E3%82%92%E7%94%A8%E3%81%84%E3%81%9F%E9%A1%94%E8%AA%8D%E8%AD%98.ipynb\" target=\"_parent\"><img src=\"https://colab.research.google.com/assets/colab-badge.svg\" alt=\"Open In Colab\"/></a>"
      ]
    },
    {
      "cell_type": "markdown",
      "metadata": {
        "id": "57FBL-0R_hj3",
        "colab_type": "text"
      },
      "source": [
        "#OPEN CVを用いた顔認識"
      ]
    },
    {
      "cell_type": "markdown",
      "metadata": {
        "id": "cESqyg9E_qNw",
        "colab_type": "text"
      },
      "source": [
        "Google driveをマウントする"
      ]
    },
    {
      "cell_type": "code",
      "metadata": {
        "id": "9aq5TdBT6SKc",
        "colab_type": "code",
        "colab": {}
      },
      "source": [
        "from google.colab import drive\n",
        "drive.mount('/content/drive')"
      ],
      "execution_count": 0,
      "outputs": []
    },
    {
      "cell_type": "markdown",
      "metadata": {
        "id": "VtUrUW9Z_wgn",
        "colab_type": "text"
      },
      "source": [
        "#OPEN CVを用いて画像を表示"
      ]
    },
    {
      "cell_type": "code",
      "metadata": {
        "id": "uzOkfpsv6eib",
        "colab_type": "code",
        "colab": {}
      },
      "source": [
        "#サポートパッチのインポート\n",
        "from google.colab.patches import cv2_imshow\n",
        "import cv2"
      ],
      "execution_count": 0,
      "outputs": []
    },
    {
      "cell_type": "code",
      "metadata": {
        "id": "vxdQ_gZ5j612",
        "colab_type": "code",
        "colab": {}
      },
      "source": [
        "#画像のインポート\n",
        "\n",
        "img = cv2.imread('/content/drive/My Drive/AI_laboratory_course/shuugou.jpg', cv2.IMREAD_UNCHANGED)\n",
        "img_gray = cv2.cvtColor(img, cv2.COLOR_BGR2GRAY)\n",
        "\n",
        "cv2_imshow(img)"
      ],
      "execution_count": 0,
      "outputs": []
    },
    {
      "cell_type": "markdown",
      "metadata": {
        "id": "xXzHZyoJkHE4",
        "colab_type": "text"
      },
      "source": [
        "#カスケード型分類器のインポート"
      ]
    },
    {
      "cell_type": "code",
      "metadata": {
        "id": "Bo3xMrc6j6zQ",
        "colab_type": "code",
        "colab": {}
      },
      "source": [
        "face_cascade_path = '/content/drive/My Drive/AI_laboratory_course/haarcascade_frontalface_alt.xml'\n",
        "eye_cascade_path = '/content/drive/My Drive/AI_laboratory_course/haarcascade_eye.xml'\n",
        "\n",
        "face_cascade = cv2.CascadeClassifier(face_cascade_path)\n",
        "eye_cascade = cv2.CascadeClassifier(eye_cascade_path)\n",
        "\n",
        "faces = face_cascade.detectMultiScale(img_gray)"
      ],
      "execution_count": 0,
      "outputs": []
    },
    {
      "cell_type": "markdown",
      "metadata": {
        "id": "2RbMS2RCmmH3",
        "colab_type": "text"
      },
      "source": [
        "#顔と目をマーク"
      ]
    },
    {
      "cell_type": "code",
      "metadata": {
        "id": "fTsctih4lXmp",
        "colab_type": "code",
        "colab": {}
      },
      "source": [
        "for x, y, w, h in faces:\n",
        "    cv2.rectangle(img, (x, y), (x + w, y + h), (255, 0, 0), 2)\n",
        "    face = img[y: y + h, x: x + w]\n",
        "    face_gray = img_gray[y: y + h, x: x + w]\n",
        "    eyes = eye_cascade.detectMultiScale(face_gray)\n",
        "    for (ex, ey, ew, eh) in eyes:\n",
        "        cv2.rectangle(face, (ex, ey), (ex + ew, ey + eh), (0, 255, 0), 2)\n",
        "\n",
        "cv2_imshow(img)\n"
      ],
      "execution_count": 0,
      "outputs": []
    },
    {
      "cell_type": "markdown",
      "metadata": {
        "id": "McGz2HUz_94f",
        "colab_type": "text"
      },
      "source": [
        "画像を保存"
      ]
    },
    {
      "cell_type": "code",
      "metadata": {
        "id": "-DGctSVe-tlA",
        "colab_type": "code",
        "colab": {}
      },
      "source": [
        "cv2.imwrite('/content/drive/My Drive/AI_laboratory_course/opencv_face_detect_rectangle.jpg', img)"
      ],
      "execution_count": 0,
      "outputs": []
    },
    {
      "cell_type": "markdown",
      "metadata": {
        "id": "nZZXO7xrBTbA",
        "colab_type": "text"
      },
      "source": [
        "#Dlibを用いた顔認識"
      ]
    },
    {
      "cell_type": "code",
      "metadata": {
        "id": "xYXlCTfODeUP",
        "colab_type": "code",
        "colab": {}
      },
      "source": [
        "from google.colab.patches import cv2_imshow\n",
        "import cv2\n",
        "import matplotlib.pyplot as plt\n",
        "import math\n",
        "from PIL import Image\n",
        "import numpy as np\n",
        "import dlib\n",
        "from imutils import face_utils\n",
        "\n",
        "predictor_path = '/content/drive/My Drive/AI_laboratory_course/shape_predictor_68_face_landmarks.dat'\n",
        "predictor = dlib.shape_predictor(predictor_path)\n",
        "detector = dlib.get_frontal_face_detector()\n",
        "\n",
        "# 画像読込み\n",
        "img = cv2.imread('/content/drive/My Drive/AI_laboratory_course/face.jpg', cv2.IMREAD_UNCHANGED)\n",
        "\n",
        "if img is None:\n",
        "    print('画像が見つかりません')\n",
        "    exit()\n",
        "\n",
        "rects = detector(img, 1)\n",
        "if len(rects) == 0:\n",
        "    print('顔が抽出されませんでした')\n",
        "    exit()\n",
        "\n",
        "for rect in rects:\n",
        "    for idx,p in enumerate(predictor(img,rect).parts()): \n",
        "        x = p.x\n",
        "        y = p.y\n",
        "        cv2.circle(img, (x,y),2, (0,255,0), thickness= -1)\n",
        "        cv2.putText(img,str(idx) , (x + 3, y+3), cv2.FONT_HERSHEY_SIMPLEX, 0.5, (255, 255, 255), thickness=1)\n",
        "\n",
        "cv2_imshow(img)"
      ],
      "execution_count": 0,
      "outputs": []
    },
    {
      "cell_type": "code",
      "metadata": {
        "id": "1Td6indKfbYP",
        "colab_type": "code",
        "colab": {}
      },
      "source": [
        "#parts[33]の座標を表示する\n",
        "print(parts[33].x)\n",
        "print(parts[33].y)\n",
        "print(parts[33])"
      ],
      "execution_count": 0,
      "outputs": []
    },
    {
      "cell_type": "code",
      "metadata": {
        "id": "QYoD89ybfujN",
        "colab_type": "code",
        "colab": {}
      },
      "source": [
        "#全partsの座標を表示\n",
        "for i, coordinate in enumerate (parts, 1):\n",
        "    print (i, coordinate)"
      ],
      "execution_count": 0,
      "outputs": []
    },
    {
      "cell_type": "markdown",
      "metadata": {
        "id": "QMm-NOPpgZ2b",
        "colab_type": "text"
      },
      "source": [
        "#演習問題　\n",
        "右眼の周囲を切り抜いて表示するスクリプトを作ってみよう\n",
        "\n",
        "例： <br>\n",
        "X座標　parts[17] ～ parts[27]  <br>\n",
        "Y座標　parts[19] ～ parts[28]  <br>"
      ]
    },
    {
      "cell_type": "code",
      "metadata": {
        "id": "uA95f0VggX9z",
        "colab_type": "code",
        "colab": {}
      },
      "source": [
        ""
      ],
      "execution_count": 0,
      "outputs": []
    }
  ]
}