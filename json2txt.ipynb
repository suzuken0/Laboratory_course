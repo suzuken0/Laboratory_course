{
  "nbformat": 4,
  "nbformat_minor": 0,
  "metadata": {
    "colab": {
      "provenance": [],
      "include_colab_link": true
    },
    "kernelspec": {
      "name": "python3",
      "display_name": "Python 3"
    },
    "language_info": {
      "name": "python"
    }
  },
  "cells": [
    {
      "cell_type": "markdown",
      "metadata": {
        "id": "view-in-github",
        "colab_type": "text"
      },
      "source": [
        "<a href=\"https://colab.research.google.com/github/suzuken0/Laboratory_course/blob/master/json2txt.ipynb\" target=\"_parent\"><img src=\"https://colab.research.google.com/assets/colab-badge.svg\" alt=\"Open In Colab\"/></a>"
      ]
    },
    {
      "cell_type": "code",
      "execution_count": null,
      "metadata": {
        "id": "YYqowHlHFvqf"
      },
      "outputs": [],
      "source": [
        "from time import monotonic#多分いらない\n",
        "#本体は以下から\n",
        "from google.colab import drive\n",
        "drive.mount('/content/drive')\n",
        "#driveのマウント\n",
        "\n",
        "import os\n",
        "import json\n",
        "import numpy as np\n",
        "\n",
        "# jsonファイルの入っているフォルダのパスを指定\n",
        "folder_path = '/content/drive/MyDrive/json-20240205T053811Z-001/json/4'\n",
        "\n",
        "\n",
        "\n",
        "# フォルダ内の全ファイルにアクセス\n",
        "for filename in os.listdir(folder_path):\n",
        "    file_path = os.path.join(folder_path, filename)\n",
        "\n",
        "    # ファイルかどうかを確認\n",
        "    if os.path.isfile(file_path):\n",
        "        # ここでファイルに対する処理を行います\n",
        "        print(f'ファイル名: {filename}, ファイルパス: {file_path}')\n",
        "\n",
        "\n",
        "        with open(file_path,'r') as json_open:\n",
        "\n",
        "            json_load = json.load(json_open)\n",
        "            height = json_load['imageHeight']\n",
        "            width = json_load['imageWidth']\n",
        "            wh = np.array([width,height]) #割るための分母配列\n",
        "            # テキストファイルを作成し、テキストを書き込む\n",
        "            txtfile_name = f'{filename[:-5]}.txt'   #拡張子(.json)を削除\n",
        "            txtfile_path = os.path.join('/content/drive/MyDrive/textfile_for_v8/4', txtfile_name)  # ファイルの名前と保存先のパスを指定\n",
        "\n",
        "            for i in range(3):#eyelid,irys,pupilの三回分\n",
        "                points = [i for sublist in json_load['shapes'][i]['points'] for i in sublist]\n",
        "                pointsnp = np.array(points)\n",
        "                res = pointsnp/wh\n",
        "                monores = [element for row in res for element in row]#次元下げ\n",
        "\n",
        "                line = ' '.join(map(str, monores))\n",
        "\n",
        "\n",
        "                text_to_write = f'{i} {line}\\n'  #書く内容\n",
        "                with open(txtfile_path, 'a') as file:\n",
        "\n",
        "                    file.write(text_to_write)\n",
        "\n",
        "\n",
        "\n",
        "                print(f'{file_path} ファイルを作成しました。{points} {wh}')#不要"
      ]
    }
  ]
}