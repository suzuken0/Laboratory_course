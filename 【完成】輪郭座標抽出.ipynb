{
  "nbformat": 4,
  "nbformat_minor": 0,
  "metadata": {
    "colab": {
      "provenance": [],
      "include_colab_link": true
    },
    "kernelspec": {
      "name": "python3",
      "display_name": "Python 3"
    },
    "language_info": {
      "name": "python"
    }
  },
  "cells": [
    {
      "cell_type": "markdown",
      "metadata": {
        "id": "view-in-github",
        "colab_type": "text"
      },
      "source": [
        "<a href=\"https://colab.research.google.com/github/suzuken0/Laboratory_course/blob/master/%E3%80%90%E5%AE%8C%E6%88%90%E3%80%91%E8%BC%AA%E9%83%AD%E5%BA%A7%E6%A8%99%E6%8A%BD%E5%87%BA.ipynb\" target=\"_parent\"><img src=\"https://colab.research.google.com/assets/colab-badge.svg\" alt=\"Open In Colab\"/></a>"
      ]
    },
    {
      "cell_type": "markdown",
      "source": [
        "#**YOLACT_Mobius_ocular_dataset**\n",
        "\n",
        "Create YOLACT instance segentation model for periocular area, trained using Mobius ocular dataset\n",
        "\n",
        "https://sclera.fri.uni-lj.si/datasets.html"
      ],
      "metadata": {
        "id": "m860Yfo9FdvR"
      }
    },
    {
      "cell_type": "code",
      "execution_count": 1,
      "metadata": {
        "id": "bnbilXazD4x8",
        "outputId": "a3484459-a2b2-4d15-8b44-a1ad2d0dd132",
        "colab": {
          "base_uri": "https://localhost:8080/"
        }
      },
      "outputs": [
        {
          "output_type": "stream",
          "name": "stdout",
          "text": [
            "Mounted at /content/drive\n"
          ]
        }
      ],
      "source": [
        "import cv2\n",
        "from matplotlib import pyplot as plt\n",
        "import numpy as np\n",
        "\n",
        "from google.colab import drive\n",
        "drive.mount('/content/drive')"
      ]
    },
    {
      "cell_type": "code",
      "source": [
        "import json\n",
        "import collections as cl\n",
        "\n",
        "import matplotlib.pyplot as plt\n",
        "from scipy import ndimage\n",
        "from skimage import measure\n",
        "from skimage.segmentation import clear_border\n",
        "from skimage.filters import threshold_otsu\n",
        "\n",
        "import glob\n",
        "import sys\n",
        "import os"
      ],
      "metadata": {
        "id": "Gglt6eGqFCt0"
      },
      "execution_count": 2,
      "outputs": []
    },
    {
      "cell_type": "code",
      "source": [
        "mask_path = \"/content/drive/MyDrive/AI_laboratory_course/SBVPI/SBVPI/1/1L_l_1_canthus.png\""
      ],
      "metadata": {
        "id": "k6sKMwOzG5yO"
      },
      "execution_count": 3,
      "outputs": []
    },
    {
      "cell_type": "code",
      "source": [
        "# 画像を読み込む\n",
        "image = cv2.imread(mask_path)\n",
        "\n",
        "# OpenCVでは画像はBGRフォーマットで読み込まれるので、RGBフォーマットに変換\n",
        "# image = cv2.cvtColor(image, cv2.COLOR_BGR2RGB)\n",
        "\n",
        "# 画像を表示\n",
        "plt.imshow(image)\n",
        "plt.axis('off') # 軸を非表示に\n",
        "plt.show()"
      ],
      "metadata": {
        "id": "h0M8yFi3HVyi",
        "outputId": "859c2029-cb41-434d-8dd8-d51759b365f5",
        "colab": {
          "base_uri": "https://localhost:8080/",
          "height": 318
        }
      },
      "execution_count": 5,
      "outputs": [
        {
          "output_type": "display_data",
          "data": {
            "text/plain": [
              "<Figure size 640x480 with 1 Axes>"
            ],
            "image/png": "[encoded data removed]"
          },
          "metadata": {}
        }
      ]
    },
    {
      "cell_type": "code",
      "source": [
        "def extract_contours(file_path):\n",
        "    img = cv2.imread(file_path, 0)\n",
        "    contours = measure.find_contours(img, 0.5)\n",
        "    points_list = []\n",
        "\n",
        "    for contour in contours:\n",
        "        contour_length = len(contour)\n",
        "        if contour_length > 24:\n",
        "            step = contour_length // 24\n",
        "            selected_points = [contour[i * step] for i in range(24)]\n",
        "        else:\n",
        "            selected_points = contour\n",
        "\n",
        "        points = [[float(point[1]), float(point[0])] for point in selected_points]\n",
        "        points_list.append(points)\n",
        "\n",
        "    return points_list\n",
        "\n",
        "def create_json_structure(points_list, json_name):\n",
        "    data = {\n",
        "        \"version\": \"5.4.1\",\n",
        "        \"flags\": {},\n",
        "        \"shapes\": []\n",
        "    }\n",
        "\n",
        "    for points in points_list:\n",
        "        shape = {\n",
        "            \"label\": \"canthus\",\n",
        "            \"points\": points,\n",
        "            \"group_id\": None,\n",
        "            \"description\": \"\",\n",
        "            \"shape_type\": \"polygon\",\n",
        "            \"flags\": {},\n",
        "            \"mask\": None\n",
        "        }\n",
        "        data[\"shapes\"].append(shape)\n",
        "\n",
        "    with open(json_name, 'w') as fw:\n",
        "        json.dump(data, fw, indent=2)\n",
        "\n",
        "def main(mask_file, json_name):\n",
        "    points_list = extract_contours(mask_file)\n",
        "    create_json_structure(points_list, json_name)\n",
        "\n",
        "mask_file = \"/content/drive/MyDrive/AI_laboratory_course/SBVPI/SBVPI/1/1L_l_1_canthus.png\"\n",
        "json_name = \"output.json\"\n",
        "\n",
        "if __name__ == '__main__':\n",
        "    main(mask_file, json_name)\n"
      ],
      "metadata": {
        "id": "B8yUvgSwSIgH"
      },
      "execution_count": 11,
      "outputs": []
    },
    {
      "cell_type": "code",
      "source": [
        "import json\n",
        "import matplotlib.pyplot as plt\n",
        "\n",
        "with open('/content/output.json') as f:\n",
        "    data = json.load(f)\n",
        "\n",
        "points = []\n",
        "for shape in data['shapes']:\n",
        "    points += shape['points']\n",
        "\n",
        "x = [point[0] for point in points]\n",
        "y = [point[1] for point in points]\n",
        "\n",
        "plt.scatter(x, y)\n",
        "\n",
        "# 縦横の縮尺を同じにする\n",
        "plt.axis('equal')\n",
        "\n",
        "plt.show()\n"
      ],
      "metadata": {
        "colab": {
          "base_uri": "https://localhost:8080/",
          "height": 430
        },
        "id": "41ULMToZUnAk",
        "outputId": "2dbef283-2b39-4e7f-e48a-97bba0e3eb92"
      },
      "execution_count": 12,
      "outputs": [
        {
          "output_type": "display_data",
          "data": {
            "text/plain": [
              "<Figure size 640x480 with 1 Axes>"
            ],
            "image/png": "[encoded data removed]"
          },
          "metadata": {}
        }
      ]
    },
    {
      "cell_type": "code",
      "source": [],
      "metadata": {
        "id": "a6asGlE0gXSQ"
      },
      "execution_count": null,
      "outputs": []
    }
  ]
}