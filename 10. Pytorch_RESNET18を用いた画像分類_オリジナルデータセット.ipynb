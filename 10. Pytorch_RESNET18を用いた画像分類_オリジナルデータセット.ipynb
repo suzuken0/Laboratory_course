{
  "nbformat": 4,
  "nbformat_minor": 0,
  "metadata": {
    "colab": {
      "name": "Pytorch_転移学習_test.ipynb",
      "provenance": [],
      "include_colab_link": true
    },
    "kernelspec": {
      "name": "python3",
      "display_name": "Python 3"
    },
    "gpuClass": "standard"
  },
  "cells": [
    {
      "cell_type": "markdown",
      "metadata": {
        "id": "view-in-github",
        "colab_type": "text"
      },
      "source": [
        "<a href=\"https://colab.research.google.com/github/ykitaguchi77/Laboratory_course/blob/master/10.%20Pytorch_RESNET18%E3%82%92%E7%94%A8%E3%81%84%E3%81%9F%E7%94%BB%E5%83%8F%E5%88%86%E9%A1%9E_%E3%82%AA%E3%83%AA%E3%82%B8%E3%83%8A%E3%83%AB%E3%83%87%E3%83%BC%E3%82%BF%E3%82%BB%E3%83%83%E3%83%88.ipynb\" target=\"_parent\"><img src=\"https://colab.research.google.com/assets/colab-badge.svg\" alt=\"Open In Colab\"/></a>"
      ]
    },
    {
      "cell_type": "markdown",
      "metadata": {
        "id": "U4HYzU9ckXbS"
      },
      "source": [
        "#PyTorch : RESNET18を用いた画像分類（自作データセットを用いた転移学習）\n",
        "\n",
        "http://torch.classcat.com/2018/04/29/pytorch-tutorial-transfer-learning/\n"
      ]
    },
    {
      "cell_type": "markdown",
      "metadata": {
        "id": "oyzcteflxK14"
      },
      "source": [
        "#自作データ、Early stopping"
      ]
    },
    {
      "cell_type": "markdown",
      "metadata": {
        "id": "5sZw9awMlMpC"
      },
      "source": [
        "#Google driveのデータをマウント\n",
        "データの位置\n",
        "/content/drive/My drive/Deep_learning/dataset"
      ]
    },
    {
      "cell_type": "code",
      "metadata": {
        "id": "F4oE6PwpkNUb"
      },
      "source": [
        "from __future__ import print_function, division\n",
        "\n",
        "import torch\n",
        "import torch.nn as nn\n",
        "import torch.optim as optim\n",
        "from torch.optim import lr_scheduler\n",
        "import torch.utils.data as data\n",
        "import numpy as np\n",
        "import torchvision\n",
        "from torchvision import datasets, models, transforms\n",
        "import matplotlib.pyplot as plt\n",
        "import time\n",
        "import os\n",
        "import copy\n",
        "\n",
        "#Advanced Pytorchから\n",
        "import glob\n",
        "import os.path as osp\n",
        "import random\n",
        "import json\n",
        "from PIL import Image\n",
        "from tqdm import tqdm\n",
        "%matplotlib inline\n",
        "\n",
        "\n",
        "plt.ion()   # interactive mode\n",
        "np.random.seed(1234)"
      ],
      "execution_count": 1,
      "outputs": []
    },
    {
      "cell_type": "code",
      "metadata": {
        "id": "T_Xvn-zaJSao",
        "outputId": "5302909a-a700-412c-faf9-1abab476f283",
        "colab": {
          "base_uri": "https://localhost:8080/"
        }
      },
      "source": [
        "from google.colab import drive\n",
        "drive.mount('/content/drive')\n",
        "\n",
        "#dataset.zipを解凍\n",
        "\n",
        "!date -R\n",
        "!unzip -qq drive/My\\ Drive/AI_laboratory_course/dataset.zip\n",
        "!date -R\n",
        "!ls"
      ],
      "execution_count": 2,
      "outputs": [
        {
          "output_type": "stream",
          "name": "stdout",
          "text": [
            "Mounted at /content/drive\n",
            "Tue, 07 Feb 2023 02:04:50 +0000\n",
            "Tue, 07 Feb 2023 02:04:54 +0000\n",
            "drive  sample_data  train  val\n"
          ]
        }
      ]
    },
    {
      "cell_type": "markdown",
      "source": [
        "#データセットをフォルダ分け"
      ],
      "metadata": {
        "id": "SUaOhze5hdWT"
      }
    },
    {
      "cell_type": "code",
      "source": [
        "\"\"\"\n",
        "このような形にしたい\n",
        "\n",
        "dog---dog1.jpg\n",
        "    |-dog2.jpg\n",
        "    |-dog3.jpg\n",
        "    |\n",
        "    |-dog300.jpg\n",
        "\n",
        "cat---cat1.jpg\n",
        "    |-cat2.jpg\n",
        "    |-cat3.jpg\n",
        "    |\n",
        "    |-cat300.jpg\n",
        "\n",
        "↓↓\n",
        "\n",
        "train---dog---dog1.jpg\n",
        "      |     |-dog2.jpg\n",
        "      |     |\n",
        "      |     |-dog299.jpg\n",
        "      |\n",
        "      |-cat---cat1.jpg\n",
        "            |-cat2.jpg\n",
        "            |\n",
        "            |-cat298.jpg\n",
        "\n",
        "val-----dog---dog3.jpg\n",
        "      |     |-dog4.jpg\n",
        "      |     |\n",
        "      |     |-dog300.jpg\n",
        "      |\n",
        "      |-cat---cat3.jpg\n",
        "            |-cat4.jpg\n",
        "            |\n",
        "            |-cat300.jpg\n",
        "\n",
        "\"\"\""
      ],
      "metadata": {
        "id": "uaAaVZAIhkco"
      },
      "execution_count": null,
      "outputs": []
    },
    {
      "cell_type": "code",
      "source": [
        "# location of the dataset\n",
        "orig_dir = '/content/train/appl'\n",
        "\n",
        "# get the list of all files in the folder\n",
        "all_files = glob.glob(\"/content/train/appl/*\")\n",
        "\n",
        "print(all_files)\n",
        "print(f\"len_all_files: {len(all_files)}\")"
      ],
      "metadata": {
        "id": "-OpOVr2NnzIt",
        "outputId": "4b4917f9-80a2-4a19-eda8-e9dba002382d",
        "colab": {
          "base_uri": "https://localhost:8080/"
        }
      },
      "execution_count": 5,
      "outputs": [
        {
          "output_type": "stream",
          "name": "stdout",
          "text": [
            "['/content/train/appl/guide000000201273_1.jpg', '/content/train/appl/fujiringo_main02.jpg', '/content/train/appl/doramori_apple_01_01.jpg', '/content/train/appl/marble-apple_05.jpg', '/content/train/appl/86524767_th.jpg', '/content/train/appl/d56IivNRX0mECKzTkqr7ZVY1.jpg', '/content/train/appl/https%3A%2F%2Fimgix-proxy.n8s.jp%2FDSXMZO4684965002072019CR8001-2.jpg', '/content/train/appl/MB-10.jpg', '/content/train/appl/00241215002001.jpg', '/content/train/appl/apple_takayama_main.jpg', '/content/train/appl/kibakoiriringo.jpg', '/content/train/appl/02196s.jpg', '/content/train/appl/article_art001688_2.jpg', '/content/train/appl/%E3%82%8A%E3%82%93%E3%81%94%E5%9C%92_MGS5192.jpg', '/content/train/appl/00129_2008_1016_IMG_0938.jpg', '/content/train/appl/e45bee030873b1540b1b3c957c420601.jpg', '/content/train/appl/fd400977-thumb-500x333-844.jpg', '/content/train/appl/92.jpg', '/content/train/appl/000000001282.jpg', '/content/train/appl/85a8294dqm0mZwpznQ0lAQHzMw1wo250LJyhWy89AJEuAwpkAmx.jpg', '/content/train/appl/00046_2007_1008_IMG_6203.jpg', '/content/train/appl/20191101-OYT1I50045-1.jpg', '/content/train/appl/img_78ed98544316a8f52aaf37664bf44d92182004.jpg', '/content/train/appl/0741_01.jpg', '/content/train/appl/D_CqKRWXoAADkyh.jpg', '/content/train/appl/7211_ext_02_0.jpg', '/content/train/appl/_1_pc_article.jpg', '/content/train/appl/1910_10_ringo_01.jpg', '/content/train/appl/%E3%83%97%E3%83%AC%E3%82%BC%E3%83%B3%E3%83%86%E3%83%BC%E3%82%B7%E3%83%A7%E3%83%B31.jpg', '/content/train/appl/IMG_0589.jpg', '/content/train/appl/41MumCz0ZzL.jpg', '/content/train/appl/main1_apple72_0_g_274_274.jpg', '/content/train/appl/1578578272_photo.jpg', '/content/train/appl/afr1910290038-p1.jpg', '/content/train/appl/001.jpg', '/content/train/appl/apple-1.jpg', '/content/train/appl/%E3%82%8A%E3%82%93%E3%81%94%E3%80%80%E8%A9%B0%E3%82%81%E6%94%BE%E9%A1%8C%E3%80%80%E3%82%A4%E3%83%99%E3%83%B3%E3%83%88-1.jpg', '/content/train/appl/05036_2012_0115_IMG_4671.jpg', '/content/train/appl/131_1.jpg', '/content/train/appl/main_00000000114.jpg', '/content/train/appl/04-10-770x510.jpg', '/content/train/appl/158403411.jpg', '/content/train/appl/2018-10-sm-kt01.jpg', '/content/train/appl/%E3%83%AA%E3%83%B3%E3%82%B4%E7%AE%B1.jpg', '/content/train/appl/03263_2006_1001_IMG_5863.jpg', '/content/train/appl/6939.jpg', '/content/train/appl/142079547.jpg', '/content/train/appl/bram_img01.jpg', '/content/train/appl/41636_13.jpg', '/content/train/appl/applex_title.jpg', '/content/train/appl/20191101-OYT1I50046-1.jpg', '/content/train/appl/28524cb3510079611_1.jpg', '/content/train/appl/apple_f_t_01_w10_c3.jpg', '/content/train/appl/IMG_2100.jpg', '/content/train/appl/img_d222f2d41755b8dbb56e59a462815c56156527.jpg', '/content/train/appl/10000168_top.jpg', '/content/train/appl/Komitsu003(6720x4480).jpg', '/content/train/appl/140727apple-w960.jpg', '/content/train/appl/apple_title.jpg', '/content/train/appl/6c1ec4244204d0cdf73b210d8412646e.jpg', '/content/train/appl/08311726_5b88fbcbc2285.jpg', '/content/train/appl/kkeyecatch_pc20t.jpg', '/content/train/appl/20170921_ringo_kurabe_p1.jpg', '/content/train/appl/41636_1.jpg', '/content/train/appl/IMG_1886.jpg', '/content/train/appl/%E3%82%8A%E3%82%93%E3%81%94%E3%80%80%E8%A9%B0%E3%82%81%E6%94%BE%E9%A1%8C-2.jpg', '/content/train/appl/apple05.jpg', '/content/train/appl/about_volume.jpg', '/content/train/appl/hatorazu_apple_syokai.jpg', '/content/train/appl/AS20170628001019_comm.jpg', '/content/train/appl/181001-kmt-01.jpg', '/content/train/appl/ht01659_22s.jpg', '/content/train/appl/1677258.jpg', '/content/train/appl/imgrc0069493909.jpg', '/content/train/appl/Komitsu008(6720x4480).jpg', '/content/train/appl/2016111411-300x180.jpg', '/content/train/appl/img_01.jpg', '/content/train/appl/img_53869_1.jpg', '/content/train/appl/056_01.jpg', '/content/train/appl/https%3A%2F%2Fimgix-proxy.n8s.jp%2FDSXMZO5061499004102019CR0002-1.jpg', '/content/train/appl/0529181226_5b0d197aeb08e.jpg', '/content/train/appl/01_%E3%83%AA%E3%83%B3%E3%82%B4_rs.jpg', '/content/train/appl/apple2.jpg', '/content/train/appl/20151205ringo.jpg', '/content/train/appl/kotoku4-.jpg', '/content/train/appl/article_art002152_4.jpg', '/content/train/appl/04081422_5caada8d00654.jpg', '/content/train/appl/1575448423.jpg', '/content/train/appl/content________7750_.jpg', '/content/train/appl/56S.jpg', '/content/train/appl/apple.jpg', '/content/train/appl/apple07.jpg', '/content/train/appl/2017121600021_2.jpg', '/content/train/appl/190925-13e.jpg', '/content/train/appl/brix13sun_5kr2.jpg', '/content/train/appl/2529.jpg', '/content/train/appl/IMG_7577.JPG', '/content/train/appl/category_desc15_image_vertical.jpg', '/content/train/appl/22262.jpg', '/content/train/appl/001-stolen-apples-indiana-orchard.jpg', '/content/train/appl/img_apple_995x560_001.jpg', '/content/train/appl/cd82450c9c4ffaca036cc030b15bd728.jpg', '/content/train/appl/img_e0702ac316ae5496dcf0f9e3f019cbc83139839.jpg', '/content/train/appl/fa118-m.jpg', '/content/train/appl/_137728-6.jpg', '/content/train/appl/8e435d80370cabb1b50b01f54b9582fd.jpg', '/content/train/appl/107148.jpg', '/content/train/appl/FT-1-010a.jpg', '/content/train/appl/103a.jpg', '/content/train/appl/581ed8904255f85dd89ea8666de5018d-995x560.jpg', '/content/train/appl/apple-images.jpg', '/content/train/appl/03333_2010_1018_IMG_1263.jpg', '/content/train/appl/img_da8006df98fb986bdf57ce21b1269f4632095.jpg', '/content/train/appl/head_whats_hatorazu.jpg', '/content/train/appl/img_800x531.jpg', '/content/train/appl/jona5kgy.jpg', '/content/train/appl/6EM.jpg', '/content/train/appl/1074019_615.jpg', '/content/train/appl/03221531_58d21a41ac79e.jpg', '/content/train/appl/img_2079ad1fb989e5deffac3722e350aa7d168658.jpg', '/content/train/appl/himekami_2.jpg', '/content/train/appl/img_item_apple03.jpg', '/content/train/appl/kosaka.JPG', '/content/train/appl/00105_2008_0923_IMG_0487.jpg', '/content/train/appl/013625_ch014_01.thumb.jpg', '/content/train/appl/55660311_01_web_s.jpg', '/content/train/appl/fdfr_apple-1.jpg', '/content/train/appl/1401205top.jpg', '/content/train/appl/apple50_0.jpg', '/content/train/appl/9.jpg', '/content/train/appl/5_1.jpg', '/content/train/appl/27681_main.jpg', '/content/train/appl/20191120-y-ringo-jyunsyu-sg-04.jpg', '/content/train/appl/01-michigan-apple-theft-super-169.jpg', '/content/train/appl/header_sp.jpg', '/content/train/appl/280px-Pommes_d_amour.jpg', '/content/train/appl/eyebg_center.jpg', '/content/train/appl/ENGyBNRVAAE8JTg.jpg', '/content/train/appl/apple-320x212.jpg', '/content/train/appl/5204_apple_eyecatch.jpg', '/content/train/appl/81306024002553.jpg', '/content/train/appl/20161115question_ringo02.jpg', '/content/train/appl/130_1.jpg', '/content/train/appl/10001175.jpg', '/content/train/appl/carousel_d20d7c0ddb7f468d477749d39cbdfb55.jpg', '/content/train/appl/img_91c9660c0d6b3ca4ea06f1e7a1a4ead2250070.jpg', '/content/train/appl/81306024002551.jpg', '/content/train/appl/imgrc0065732901.jpg', '/content/train/appl/apples07.jpg', '/content/train/appl/51GHTXFiklL.jpg', '/content/train/appl/middle_IP190830JAA010426000.jpg', '/content/train/appl/71211-01_1.jpg', '/content/train/appl/imgrc0073153966.jpg', '/content/train/appl/81306024002555.jpg', '/content/train/appl/11151453_5bed09bc389a9.jpg', '/content/train/appl/51lqtcjo%2BFL._AC_.jpg', '/content/train/appl/0204narita1k_shb.jpg', '/content/train/appl/img_640x426_001.jpg', '/content/train/appl/img_cc8194214c194a21ca74c28b4dda346a604634.jpg', '/content/train/appl/10000029_top.jpg', '/content/train/appl/article_art000193_2.jpg', '/content/train/appl/%E5%BD%A9%E3%83%AA%E3%83%B3%E3%82%B4%E7%8B%A9%E3%82%8A2.jpg', '/content/train/appl/1234935_615.jpg', '/content/train/appl/1210121712_5def0e3844c51.jpg', '/content/train/appl/aj_app20181002_001.jpg', '/content/train/appl/20190805-y-ringo-jyunsyu-02.jpg', '/content/train/appl/IP191230TAN000038000.jpg', '/content/train/appl/img_cache_r_10338_c_1522972339_jpg.jpg', '/content/train/appl/41348088.jpg', '/content/train/appl/19268__5Lit57aZ772X77yT.jpg', '/content/train/appl/81306024002554.jpg', '/content/train/appl/220px-Rosaceae_Malus_pumila_Malus_pumila_Var_domestica_Apples_Fuji.jpg', '/content/train/appl/82631201.jpg', '/content/train/appl/cd1264c4d104afbe1c5cb3e05469e6db.jpg', '/content/train/appl/apple_main-thumb-690xauto-12375.jpg', '/content/train/appl/013thumb_1.jpg', '/content/train/appl/afr1910230030-p1.jpg', '/content/train/appl/img_detail01_01.jpg', '/content/train/appl/0A3A7443.jpg', '/content/train/appl/1-1458971271_232.jpg', '/content/train/appl/cidre2019.jpg', '/content/train/appl/fuku_todo3k_r.jpg', '/content/train/appl/4d393c718cd307c.__320_0__w_.jpg', '/content/train/appl/10_1.jpg', '/content/train/appl/20191006ak0026_01_s.jpg', '/content/train/appl/14634_thumbnail.jpg', '/content/train/appl/be54e07facad955d38f2b4a98fbf90c6-1000x630.jpg', '/content/train/appl/2s1kzTtAtyh6qhNYtPjjREoTREAsujrGIbnaq661BRiG+GXcgog67nQTQmI3WkLupvo256teCs=.jpg', '/content/train/appl/imgrc0075364356.jpg', '/content/train/appl/2c0f2ab5345d483b618dcf63c1946cfe-670x867.jpg', '/content/train/appl/imgrc0070312807.jpg', '/content/train/appl/kougyoku37m.jpg', '/content/train/appl/2019118165045.JPG', '/content/train/appl/8.jpg', '/content/train/appl/img_a3576d32669578c665529af0da6ecde9191961.jpg', '/content/train/appl/282223-1.jpg', '/content/train/appl/1281329_615.jpg', '/content/train/appl/41636_27.jpg', '/content/train/appl/haruka--770x513.jpg', '/content/train/appl/https%3A%2F%2Fimgix-proxy.n8s.jp%2FDSXMZO5012726024092019QM8001-1.jpg', '/content/train/appl/71LZQQHuO9L._AC_SX679_.jpg', '/content/train/appl/08381_2014_0521_IMG_9713.jpg', '/content/train/appl/3872.jpg', '/content/train/appl/IMG_8482.JPG', '/content/train/appl/IMG_2096.jpg', '/content/train/appl/fuji_5_s.jpg', '/content/train/appl/IMG_1880.jpg', '/content/train/appl/1577344712_photo.jpg', '/content/train/appl/00200_180202_01-thumb-700x500-51027.jpg', '/content/train/appl/eyecatch_sp14.jpg', '/content/train/appl/imgrc0071120757.jpg', '/content/train/appl/img_2108d3b86266026b81d77f160e5cb640218168.jpg', '/content/train/appl/07c7f49731fa673a7d81db442d246007.jpg', '/content/train/appl/191119-wusl-06.jpg', '/content/train/appl/imgrc0073050518.jpg', '/content/train/appl/hokuto.jpg', '/content/train/appl/img1.jpg', '/content/train/appl/10000167_top.jpg', '/content/train/appl/kind_12_img_main.jpg', '/content/train/appl/201308261531168425.jpg', '/content/train/appl/FullSizeRender5-394x525-394x525.jpg', '/content/train/appl/main-2.jpg', '/content/train/appl/item4.jpg', '/content/train/appl/%E3%83%AA%E3%83%B3%E3%82%B4.jpg', '/content/train/appl/2.jpg', '/content/train/appl/04870_2012_1016_IMG_1654.jpg', '/content/train/appl/100F-009.jpg', '/content/train/appl/20160330-s-abeapple_soto.jpg', '/content/train/appl/cezanne11.jpg', '/content/train/appl/1e9a338c21a02da589ae6a48112ddb52_1.jpg', '/content/train/appl/00241215001801.jpg', '/content/train/appl/imgrc0071290556.jpg', '/content/train/appl/1234937_615.jpg', '/content/train/appl/ap001.jpg', '/content/train/appl/large.jpg', '/content/train/appl/03295_2008_0923_IMG_0499.jpg', '/content/train/appl/20181014_chiyo_eye.jpg', '/content/train/appl/36253145-%E9%9D%92%E3%83%AA%E3%83%B3%E3%82%B4%E3%81%A8-whitedental-%E3%81%AB%E5%88%86%E9%9B%A2%E3%81%95%E3%82%8C%E3%81%9F%E6%AD%AF%E7%A7%91%E7%94%A8%E3%83%84%E3%83%BC%E3%83%AB.jpg', '/content/train/appl/apple01.jpg', '/content/train/appl/main1_apple103_0_g_578_578.jpg', '/content/train/appl/9fb32c6dad8b41ed19cdaf5635372dbf.jpg', '/content/train/appl/4509-1.jpg', '/content/train/appl/03251508_5c987062df712.jpg', '/content/train/appl/20161128-200103-462.jpg', '/content/train/appl/2018ringo_main2.jpg', '/content/train/appl/000169072_640.jpg', '/content/train/appl/items_26_gelee.jpg', '/content/train/appl/11221243_5bf625e4758b8.jpg', '/content/train/appl/58980174_01_web_s.jpg', '/content/train/appl/0711183957_5d2703ed1901d.jpg', '/content/train/appl/05270851_5ceb266c63130.jpg', '/content/train/appl/img01.jpg']\n",
            "len_all_files: 252\n"
          ]
        }
      ]
    },
    {
      "cell_type": "code",
      "source": [
        "#trainとvalにランダムに分けるスクリプト\n",
        "\"\"\"\n",
        "dog---dog1.jpg\n",
        "    |-dog2.jpg\n",
        "    |-dog3.jpg\n",
        "    |\n",
        "    |-dog300.jpg\n",
        "\n",
        "↓↓\n",
        "\n",
        "train---dog---dog1.jpg\n",
        "            |-dog2.jpg\n",
        "            |\n",
        "            |-dog299.jpg\n",
        "\n",
        "\n",
        "val-----dog---dog3.jpg\n",
        "            |-dog4.jpg\n",
        "            |\n",
        "            |-dog300.jpg\n",
        "      \n",
        "\"\"\"\n",
        "\n",
        "import glob\n",
        "import os\n",
        "import random\n",
        "import shutil\n",
        "from sklearn.model_selection import train_test_split\n",
        "\n",
        "# location of the dataset\n",
        "orig_dir = '/content/dog'\n",
        "\n",
        "# get the list of all files in the folder\n",
        "all_files = glob.glob(f\"{orig_dir}/*\")\n",
        "\n",
        "print(f\"len_all_files: {len(all_files)}\")\n",
        "\n",
        "# split the list into train and validation sets\n",
        "train_files, val_files = train_test_split(all_files, test_size=0.2, random_state=0)\n",
        "\n",
        "# create the train and validation folders if they don't exist\n",
        "train_folder = '/content/train/dog'\n",
        "val_folder = '/content/val/cat'\n",
        "if os.path.exists(train_folder):\n",
        "    shutil.rmtree(train_folder)\n",
        "os.makedirs(train_folder)\n",
        "if os.path.exists(val_folder):\n",
        "    shutil.rmtree(val_folder)\n",
        "os.makedirs(val_folder)\n",
        "\n",
        "# copy the files from the dataset folder to the train and validation folders\n",
        "for file in train_files:\n",
        "    new_location = f\"{train_folder}/{os.path.basename(file)}\"\n",
        "    shutil.copy(file, new_location)\n",
        "\n",
        "for file in val_files:\n",
        "    new_location = os.path.join(val_folder, os.path.basename(file))\n",
        "    shutil.copy(file, new_location)"
      ],
      "metadata": {
        "id": "3rd3Vc1Eie0N",
        "outputId": "9ac6072f-e555-4210-cb34-4d97a474e017",
        "colab": {
          "base_uri": "https://localhost:8080/"
        }
      },
      "execution_count": 9,
      "outputs": [
        {
          "output_type": "stream",
          "name": "stdout",
          "text": [
            "len_all_files: 252\n"
          ]
        }
      ]
    },
    {
      "cell_type": "markdown",
      "metadata": {
        "id": "XGMZmsSGkjOC"
      },
      "source": [
        "#データをロードする\n",
        "データをロードするために torchvision と torch.utils.data パッケージを使用します。訓練用データセットと評価用データセットは4:1ぐらいにします。"
      ]
    },
    {
      "cell_type": "code",
      "metadata": {
        "id": "2Xcl55uJknDK"
      },
      "source": [
        "# 入力画像の前処理をするクラス\n",
        "# 訓練時と推論時で処理が異なる\n",
        "\n",
        "\"\"\"\n",
        "    画像の前処理クラス。訓練時、検証時で異なる動作をする。\n",
        "    画像のサイズをリサイズし、色を標準化する。\n",
        "    訓練時はRandomResizedCropとRandomHorizontalFlipでデータオーギュメンテーションする。\n",
        "\n",
        "\n",
        "    Attributes\n",
        "    ----------\n",
        "    resize : int\n",
        "        リサイズ先の画像の大きさ。\n",
        "    mean : (R, G, B)\n",
        "        各色チャネルの平均値。\n",
        "    std : (R, G, B)\n",
        "        各色チャネルの標準偏差。\n",
        "\"\"\"\n",
        "\n",
        "data_transforms = {\n",
        "    'train': transforms.Compose([\n",
        "        transforms.RandomResizedCrop(224, scale=(0.5,1.0)),\n",
        "        transforms.RandomHorizontalFlip(),\n",
        "        transforms.ToTensor(),\n",
        "        transforms.Normalize([0.485, 0.456, 0.406], [0.229, 0.224, 0.225])\n",
        "    ]),\n",
        "    'val': transforms.Compose([\n",
        "        transforms.Resize(256),\n",
        "        transforms.CenterCrop(224),\n",
        "        transforms.ToTensor(),\n",
        "        transforms.Normalize([0.485, 0.456, 0.406], [0.229, 0.224, 0.225])\n",
        "    ]),\n",
        "}\n",
        "\n",
        "\n",
        "data_dir = '/content'\n",
        "image_datasets = {x: datasets.ImageFolder(os.path.join(data_dir, x),\n",
        "                                          data_transforms[x])\n",
        "                  for x in ['train', 'val']}\n",
        "dataloaders = {x: torch.utils.data.DataLoader(image_datasets[x], batch_size=20,\n",
        "                                             shuffle=True, num_workers=4)\n",
        "              for x in ['train', 'val']}\n",
        "dataset_sizes = {x: len(image_datasets[x]) for x in ['train', 'val']}\n",
        "class_names = image_datasets['train'].classes\n",
        "\n",
        "device = torch.device(\"cuda:0\" if torch.cuda.is_available() else \"cpu\")\n",
        "\n",
        "\n",
        "\n",
        "print(class_names)\n",
        "k=0\n",
        "for i in class_names:\n",
        "    print(class_names[k]+\"_train:\"+str(len(os.listdir(path= data_dir + '/train/'+class_names[k]))))\n",
        "    k+=1\n",
        "k=0\n",
        "for i in class_names:\n",
        "    print(class_names[k]+\"_val:\"+str(len(os.listdir(path= data_dir + '/val/'+class_names[k]))))\n",
        "    k+=1\n",
        "\n",
        "print(\"training data set_total：\"+ str(len(image_datasets['train'])))\n",
        "print(\"validating data set_total：\"+str(len(image_datasets['val'])))"
      ],
      "execution_count": null,
      "outputs": []
    },
    {
      "cell_type": "markdown",
      "metadata": {
        "id": "cQowdDzHmTdT"
      },
      "source": [
        "#少数の画像を可視化する"
      ]
    },
    {
      "cell_type": "code",
      "metadata": {
        "id": "E1YMGAaimaLK"
      },
      "source": [
        "def imshow(inp, title=None):\n",
        "    \"\"\"Imshow for Tensor.\"\"\"\n",
        "    inp = inp.numpy().transpose((1, 2, 0))\n",
        "    mean = np.array([0.485, 0.456, 0.406])\n",
        "    std = np.array([0.229, 0.224, 0.225])\n",
        "    inp = std * inp + mean\n",
        "    inp = np.clip(inp, 0, 1)\n",
        "    plt.imshow(inp)\n",
        "    if title is not None:\n",
        "        plt.title(title)\n",
        "    plt.pause(0.001)  # pause a bit so that plots are updated\n",
        "\n",
        "\n",
        "# Get a batch of training data\n",
        "inputs, classes = next(iter(dataloaders['train']))\n",
        "\n",
        "# Make a grid from batch\n",
        "out = torchvision.utils.make_grid(inputs)\n",
        "\n",
        "imshow(out, title=[class_names[x] for x in classes])"
      ],
      "execution_count": null,
      "outputs": []
    },
    {
      "cell_type": "markdown",
      "metadata": {
        "id": "o9q7wSBWaQ_t"
      },
      "source": [
        "#Define the Early Stopping Class"
      ]
    },
    {
      "cell_type": "code",
      "metadata": {
        "id": "U78WhRfxaRH7"
      },
      "source": [
        "import numpy as np\n",
        "import torch\n",
        "\n",
        "class EarlyStopping:\n",
        "    \"\"\"Early stops the training if validation loss doesn't improve after a given patience.\"\"\"\n",
        "    def __init__(self, patience=7, verbose=False, delta=0):\n",
        "        \"\"\"\n",
        "        Args:\n",
        "            patience (int): How long to wait after last time validation loss improved.\n",
        "                            Default: 7\n",
        "            verbose (bool): If True, prints a message for each validation loss improvement. \n",
        "                            Default: False\n",
        "            delta (float): Minimum change in the monitored quantity to qualify as an improvement.\n",
        "                            Default: 0\n",
        "        \"\"\"\n",
        "        self.patience = patience\n",
        "        self.verbose = verbose\n",
        "        self.counter = 0\n",
        "        self.best_score = None\n",
        "        self.early_stop = False\n",
        "        self.val_loss_min = np.Inf\n",
        "        self.delta = delta\n",
        "\n",
        "    def __call__(self, val_loss, model):\n",
        "\n",
        "        score = -val_loss\n",
        "\n",
        "        if self.best_score is None:\n",
        "            self.best_score = score\n",
        "            self.save_checkpoint(val_loss, model)\n",
        "        elif score < self.best_score + self.delta:\n",
        "            self.counter += 1\n",
        "            print(f'EarlyStopping counter: {self.counter} out of {self.patience}')\n",
        "            if self.counter >= self.patience:\n",
        "                self.early_stop = True\n",
        "        else:\n",
        "            self.best_score = score\n",
        "            self.save_checkpoint(val_loss, model)\n",
        "            self.counter = 0\n",
        "\n",
        "    def save_checkpoint(self, val_loss, model):\n",
        "        '''Saves model when validation loss decrease.'''\n",
        "        if self.verbose:\n",
        "            print(f'Validation loss decreased ({self.val_loss_min:.6f} --> {val_loss:.6f}).  Saving model ...')\n",
        "        torch.save(model.state_dict(), 'checkpoint.pt')\n",
        "        self.val_loss_min = val_loss"
      ],
      "execution_count": null,
      "outputs": []
    },
    {
      "cell_type": "markdown",
      "metadata": {
        "id": "cSq-oHh4mobp"
      },
      "source": [
        "#モデルを訓練する\n",
        "さて、モデルを訓練するための一般的な関数を書きましょう。ここで、次を示します :\n",
        "\n",
        "学習率をスケジューリングする<br>\n",
        "ベスト・モデルをセーブする<br>"
      ]
    },
    {
      "cell_type": "code",
      "metadata": {
        "id": "VO7mosiCmrq6"
      },
      "source": [
        "def train_model(model, criterion, optimizer, scheduler, patience, num_epochs):\n",
        "    since = time.time()\n",
        "\n",
        "    best_model_wts = copy.deepcopy(model.state_dict())\n",
        "    best_acc = 0.0\n",
        "\n",
        "    # to track the training loss as the model trains\n",
        "    train_loss = []\n",
        "    # to track the validation loss as the model trains\n",
        "    valid_loss = []\n",
        "\n",
        "\n",
        "    # initialize the early_stopping object\n",
        "    early_stopping = EarlyStopping(patience=patience, verbose=True)\n",
        "\n",
        "    for epoch in range(num_epochs):\n",
        "        print('Epoch {}/{}'.format(epoch, num_epochs - 1))\n",
        "        print('-' * 10)\n",
        "\n",
        "        # Each epoch has a training and validation phase\n",
        "        for phase in ['train', 'val']:\n",
        "            if phase == 'train':\n",
        "                scheduler.step()\n",
        "                model.train()  # Set model to training mode\n",
        "            else:\n",
        "                model.eval()   # Set model to evaluate mode\n",
        "\n",
        "            running_loss = 0.0\n",
        "            running_corrects = 0\n",
        "\n",
        "            # Iterate over data.\n",
        "            for inputs, labels in dataloaders[phase]:\n",
        "                inputs = inputs.to(device)\n",
        "                labels = labels.to(device)\n",
        "\n",
        "                # zero the parameter gradients\n",
        "                optimizer.zero_grad()\n",
        "\n",
        "                # forward\n",
        "                # track history if only in train\n",
        "                with torch.set_grad_enabled(phase == 'train'):\n",
        "                    outputs = model(inputs)\n",
        "                    _, preds = torch.max(outputs, 1)\n",
        "                    loss = criterion(outputs, labels)\n",
        "\n",
        "                    # backward + optimize only if in training phase\n",
        "                    if phase == 'train':\n",
        "                        loss.backward()\n",
        "                        optimizer.step()\n",
        "\n",
        "                # statistics\n",
        "                running_loss += loss.item() * inputs.size(0)\n",
        "                running_corrects += torch.sum(preds == labels.data)\n",
        "\n",
        "            epoch_loss = running_loss / dataset_sizes[phase]\n",
        "            epoch_acc = running_corrects.double() / dataset_sizes[phase] \n",
        "            \n",
        "            # record train_loss and valid_loss\n",
        "            if phase == 'train':\n",
        "                train_loss.append(epoch_loss)\n",
        "            if phase == 'val':\n",
        "                valid_loss.append(epoch_loss)\n",
        "            #print(train_loss)\n",
        "            #print(valid_loss)\n",
        "\n",
        "            print('{} Loss: {:.4f} Acc: {:.4f}'.format(\n",
        "                phase, epoch_loss, epoch_acc))\n",
        "\n",
        "\n",
        "            # deep copy the model\n",
        "            if phase == 'val' and epoch_acc > best_acc:\n",
        "                best_acc = epoch_acc\n",
        "                best_model_wts = copy.deepcopy(model.state_dict())\n",
        "      \n",
        "      # early_stopping needs the validation loss to check if it has decresed, \n",
        "      # and if it has, it will make a checkpoint of the current model\n",
        "        if phase == 'val':    \n",
        "            early_stopping(epoch_loss, model)\n",
        "                \n",
        "            if early_stopping.early_stop:\n",
        "                print(\"Early stopping\")\n",
        "                break\n",
        "        print()\n",
        "\n",
        "\n",
        "    time_elapsed = time.time() - since\n",
        "    print('Training complete in {:.0f}m {:.0f}s'.format(\n",
        "        time_elapsed // 60, time_elapsed % 60))\n",
        "    print('Best val Acc: {:4f}'.format(best_acc))\n",
        "\n",
        "    # load best model weights\n",
        "    model.load_state_dict(best_model_wts)\n",
        "    return model, train_loss, valid_loss"
      ],
      "execution_count": null,
      "outputs": []
    },
    {
      "cell_type": "markdown",
      "metadata": {
        "id": "URMZLxsvmyZS"
      },
      "source": [
        "#モデル予測を可視化する\n",
        "少数の画像のための予測を表示するための一般的な関数。"
      ]
    },
    {
      "cell_type": "code",
      "metadata": {
        "id": "ga3kWm5Nm1Mj"
      },
      "source": [
        "def visualize_model(model, num_images=6):\n",
        "    was_training = model.training\n",
        "    model.eval()\n",
        "    images_so_far = 0\n",
        "    fig = plt.figure()\n",
        "\n",
        "    with torch.no_grad():\n",
        "        for i, (inputs, labels) in enumerate(dataloaders['val']):\n",
        "            inputs = inputs.to(device)\n",
        "            labels = labels.to(device)\n",
        "\n",
        "            outputs = model(inputs)\n",
        "            _, preds = torch.max(outputs, 1)\n",
        "\n",
        "            for j in range(inputs.size()[0]):\n",
        "                images_so_far += 1\n",
        "                ax = plt.subplot(num_images//2, 2, images_so_far)\n",
        "                ax.axis('off')\n",
        "                ax.set_title('predicted: {}'.format(class_names[preds[j]]))\n",
        "                imshow(inputs.cpu().data[j])\n",
        "\n",
        "                if images_so_far == num_images:\n",
        "                    model.train(mode=was_training)\n",
        "                    return\n",
        "        model.train(mode=was_training)"
      ],
      "execution_count": null,
      "outputs": []
    },
    {
      "cell_type": "markdown",
      "metadata": {
        "id": "BhvTS0Y8m3HD"
      },
      "source": [
        "#convnet を再調整する\n",
        "モデルをロードして最後の完全結合層をリセットします。<br>\n",
        "※pretrained = False　→事前訓練していない状態になります<br>\n",
        "※pretrained = True　→事前訓練しされた状態"
      ]
    },
    {
      "cell_type": "code",
      "metadata": {
        "id": "6s7odcUUm-hT",
        "colab": {
          "base_uri": "https://localhost:8080/"
        },
        "outputId": "817c81b0-2612-4513-9d82-b66039c358c8"
      },
      "source": [
        "model_ft = models.resnet18(pretrained=False)\n",
        "num_ftrs = model_ft.fc.in_features\n",
        "model_ft.fc = nn.Linear(num_ftrs, 2)\n",
        "\n",
        "#GPU使用\n",
        "model_ft = model_ft.to(device)\n",
        "\n",
        "#損失関数を定義\n",
        "criterion = nn.CrossEntropyLoss()\n",
        "\n",
        "# Observe that all parameters are being optimized\n",
        "optimizer_ft = optim.SGD(model_ft.parameters(), lr=0.001, momentum=0.9)\n",
        "\n",
        "# Decay LR by a factor of 0.1 every 7 epochs\n",
        "exp_lr_scheduler = lr_scheduler.StepLR(optimizer_ft, step_size=7, gamma=0.1)"
      ],
      "execution_count": null,
      "outputs": [
        {
          "output_type": "stream",
          "name": "stderr",
          "text": [
            "/usr/local/lib/python3.8/dist-packages/torchvision/models/_utils.py:208: UserWarning: The parameter 'pretrained' is deprecated since 0.13 and may be removed in the future, please use 'weights' instead.\n",
            "  warnings.warn(\n",
            "/usr/local/lib/python3.8/dist-packages/torchvision/models/_utils.py:223: UserWarning: Arguments other than a weight enum or `None` for 'weights' are deprecated since 0.13 and may be removed in the future. The current behavior is equivalent to passing `weights=None`.\n",
            "  warnings.warn(msg)\n"
          ]
        }
      ]
    },
    {
      "cell_type": "markdown",
      "metadata": {
        "id": "XaLCTzTLnBSL"
      },
      "source": [
        "#訓練と評価\n",
        "CPU 上でおよそ 15-25 分かかるはずです。けれども GPU 上なら、1 分もかかりません。"
      ]
    },
    {
      "cell_type": "code",
      "metadata": {
        "id": "8ijHctNfnD_i"
      },
      "source": [
        "model_ft, train_loss, valid_loss = train_model(model_ft, criterion, optimizer_ft, exp_lr_scheduler, patience=5, num_epochs=25)"
      ],
      "execution_count": null,
      "outputs": []
    },
    {
      "cell_type": "markdown",
      "metadata": {
        "id": "dFOb4iPzXpTx"
      },
      "source": [
        "#訓練結果のグラフ化"
      ]
    },
    {
      "cell_type": "code",
      "metadata": {
        "id": "WrWRhUFoGZYS"
      },
      "source": [
        "# visualize the loss as the network trained\n",
        "fig = plt.figure(figsize=(10,8))\n",
        "plt.plot(range(1,len(train_loss)+1),train_loss, label='Training Loss')\n",
        "plt.plot(range(1,len(valid_loss)+1),valid_loss,label='Validation Loss')\n",
        "\n",
        "# find position of lowest validation loss\n",
        "minposs = valid_loss.index(min(valid_loss))+1 \n",
        "plt.axvline(minposs, linestyle='--', color='r',label='Early Stopping Checkpoint')\n",
        "\n",
        "plt.xlabel('epochs')\n",
        "plt.ylabel('loss')\n",
        "plt.ylim(0, 0.5) # consistent scale\n",
        "plt.xlim(0, len(train_loss)+1) # consistent scale\n",
        "plt.grid(True)\n",
        "plt.legend()\n",
        "plt.tight_layout()\n",
        "plt.show()\n",
        "#fig.savefig('loss_plot.png', bbox_inches='tight')"
      ],
      "execution_count": null,
      "outputs": []
    },
    {
      "cell_type": "code",
      "metadata": {
        "id": "TzP0fvLCoWNS"
      },
      "source": [
        "visualize_model(model_ft)"
      ],
      "execution_count": null,
      "outputs": []
    },
    {
      "cell_type": "markdown",
      "metadata": {
        "id": "KbjpEmUCr7nb"
      },
      "source": [
        "#Test datasetにおける正解率を（改めて）計算"
      ]
    },
    {
      "cell_type": "code",
      "source": [
        "class_names"
      ],
      "metadata": {
        "id": "5gEWiBM86vSF",
        "outputId": "e89a562f-3f79-4d1f-d720-e753c0033274",
        "colab": {
          "base_uri": "https://localhost:8080/"
        }
      },
      "execution_count": null,
      "outputs": [
        {
          "output_type": "execute_result",
          "data": {
            "text/plain": [
              "['appl', 'stra']"
            ]
          },
          "metadata": {},
          "execution_count": 45
        }
      ]
    },
    {
      "cell_type": "code",
      "source": [
        "import torch\n",
        "from sklearn.metrics import confusion_matrix\n",
        "\n",
        "# 正解ラベルと予測結果を格納する変数を用意する\n",
        "y_true = []\n",
        "y_pred = []\n",
        "\n",
        "# モデルを評価するデータセットに対して、正解率を計算する\n",
        "with torch.no_grad():\n",
        "    for data, target in dataloaders[\"val\"]:\n",
        "        # dataをモデルに入力し、予測結果を出力する\n",
        "        data, target = data.to(device), target.to(device)\n",
        "        outputs = model_ft(data)\n",
        "\n",
        "        # 予測結果から最も確信度が高いクラスを選ぶ\n",
        "        _, predicted = torch.max(outputs.data, 1)\n",
        "\n",
        "        # 正解ラベルと予測結果を格納する\n",
        "        y_true.extend(target.tolist())\n",
        "        y_pred.extend(predicted.tolist())\n",
        "\n",
        "# 混同行列を計算する\n",
        "cm = confusion_matrix(y_true, y_pred)\n",
        "\n",
        "# 各クラスの正解率を計算する\n",
        "for i, class_name in enumerate(class_names):\n",
        "    class_accuracy = cm[i, i] / sum(cm[i, :])\n",
        "    print('Class {} Accuracy: {:.2f}%'.format(class_name, class_accuracy * 100))"
      ],
      "metadata": {
        "id": "SA39-0iF9WjX",
        "outputId": "56af1068-c275-41f4-a235-631801a129d9",
        "colab": {
          "base_uri": "https://localhost:8080/"
        }
      },
      "execution_count": null,
      "outputs": [
        {
          "output_type": "stream",
          "name": "stderr",
          "text": [
            "/usr/local/lib/python3.8/dist-packages/torch/utils/data/dataloader.py:554: UserWarning: This DataLoader will create 4 worker processes in total. Our suggested max number of worker in current system is 2, which is smaller than what this DataLoader is going to create. Please be aware that excessive worker creation might get DataLoader running slow or even freeze, lower the worker number to avoid potential slowness/freeze if necessary.\n",
            "  warnings.warn(_create_warning_msg(\n"
          ]
        },
        {
          "output_type": "stream",
          "name": "stdout",
          "text": [
            "Class appl Accuracy: 92.54%\n",
            "Class stra Accuracy: 91.67%\n"
          ]
        }
      ]
    },
    {
      "cell_type": "markdown",
      "metadata": {
        "id": "Xrx3dC_b4GrU"
      },
      "source": [
        "#ネットワークの保存"
      ]
    },
    {
      "cell_type": "code",
      "metadata": {
        "id": "ruFy-yWh4FT6"
      },
      "source": [
        "PATH = '/content/drive/My Drive/AI_laboratory_course/classification.pth'\n",
        "torch.save(model_ft.state_dict(), PATH)"
      ],
      "execution_count": null,
      "outputs": []
    },
    {
      "cell_type": "markdown",
      "metadata": {
        "id": "mxiGdz5dn-5c"
      },
      "source": [
        "#演習\n",
        "1. Pretrained model = Trueに変更して、転移学習をしてみましょう\n",
        "2. 自作のデータセットを用いて分類を行ってみましょう\n",
        "3. パラメータ（batch size、lr、Patienceなど）をいじってみて学習効率の変化を観察しましょう"
      ]
    }
  ]
}